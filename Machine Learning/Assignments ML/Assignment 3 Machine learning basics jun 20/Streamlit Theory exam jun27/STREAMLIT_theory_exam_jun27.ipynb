{
  "nbformat": 4,
  "nbformat_minor": 0,
  "metadata": {
    "colab": {
      "provenance": []
    },
    "kernelspec": {
      "name": "python3",
      "display_name": "Python 3"
    },
    "language_info": {
      "name": "python"
    }
  },
  "cells": [
    {
      "cell_type": "code",
      "execution_count": null,
      "metadata": {
        "id": "y0LfD9Sv5jJC"
      },
      "outputs": [],
      "source": [
        "#STREAMLIT THEORY EXAM JUN 25"
      ]
    },
    {
      "cell_type": "markdown",
      "source": [
        "# **STREAMLIT THEORY EXAM**\n",
        "\n",
        "---\n",
        "\n"
      ],
      "metadata": {
        "id": "xTGOvsrJG5mV"
      }
    },
    {
      "cell_type": "markdown",
      "source": [
        "# 1: What is Streamlit and what are its main features?"
      ],
      "metadata": {
        "id": "EnzHvvrv5kBd"
      }
    },
    {
      "cell_type": "markdown",
      "source": [
        "Streamlit is an open source library which is free .Used for creating and deploying web apps.\n",
        "Main Features:\n",
        "\n",
        "it can be used to create web apps faster\n",
        "easy deployment compared to flask and dash\n",
        "there is no need for the knowledge of web development for data scientist ie no need for Java script,css,HTML\n",
        "\n",
        "some operands include\n",
        "st.title()\n",
        "st.write()\n",
        "st.sidebar()"
      ],
      "metadata": {
        "id": "1K9St6gw5k--"
      }
    },
    {
      "cell_type": "code",
      "source": [],
      "metadata": {
        "id": "ZAicfL4o7Gfu"
      },
      "execution_count": null,
      "outputs": []
    },
    {
      "cell_type": "markdown",
      "source": [
        "# 2: 2.How does Streamlit differ from other web application frameworks like Flask or Django?"
      ],
      "metadata": {
        "id": "dYXiDsll6ctB"
      }
    },
    {
      "cell_type": "markdown",
      "source": [
        "For other webapps like Flask and Django knowledge of javascript and web development is important.ANd we need to know basics of CSS,HTML etc.By using streamlit we dont need all these things we can simply and fastly deploy models within a toime second.But Flask needs more time to execute also and codes are more complex too."
      ],
      "metadata": {
        "id": "nyqYTTw36hfF"
      }
    },
    {
      "cell_type": "code",
      "source": [],
      "metadata": {
        "id": "SCeaRJ7j7FO2"
      },
      "execution_count": null,
      "outputs": []
    },
    {
      "cell_type": "markdown",
      "source": [
        "# 3.What are some typical use cases for Streamlit?"
      ],
      "metadata": {
        "id": "EfGKvhbR7HsN"
      }
    },
    {
      "cell_type": "markdown",
      "source": [
        "Some typical use case of streamlit include creation of WEB APPS,\n",
        "\n",
        "*   can create additional pages in same page itself\n",
        "*   can create dashboards\n",
        "\n",
        "\n",
        "*   can use cache_data so that there is no need of execution of expensive functions again,so time and memory is saved.\n",
        "*   maping of a region eg california can be done\n",
        "\n",
        "\n",
        "*  can use plotly,seaborn,matplotlib for data visualisation\n",
        "*   can create and deploy models and can be rerunned\n",
        "*   can create demo graphs and maps\n",
        "\n",
        "\n",
        "\n",
        "\n",
        "\n"
      ],
      "metadata": {
        "id": "OljiInZn7Ml1"
      }
    },
    {
      "cell_type": "code",
      "source": [],
      "metadata": {
        "id": "3STOwEQ-7HO9"
      },
      "execution_count": null,
      "outputs": []
    },
    {
      "cell_type": "markdown",
      "source": [
        "# 4.How do you create a simple Streamlit app?"
      ],
      "metadata": {
        "id": "XrS7cIs88AVd"
      }
    },
    {
      "cell_type": "markdown",
      "source": [
        "A simple streamlit app can be created as follows\n",
        "\n",
        "\n",
        "\n",
        "1.   write the python code in VSCODE\n",
        "2.   import streamlit as st\n",
        "3.  write the title using st.title()\n",
        "4.  if we want to display image use st.image(\"File_name.jpg\", width = 500)\n",
        "5.  open the vs code editor the same file that is saved in the location with image eg: saved file name app.py\n",
        "6.  In terminal write pip install streamlit\n",
        "7.cd streamlit\n",
        "8.  type:  streamlit run app.py\n",
        "9.  A new window of straemlit will open where you can see the image\n",
        "\n"
      ],
      "metadata": {
        "id": "8ZvGVYI_8Hel"
      }
    },
    {
      "cell_type": "code",
      "source": [],
      "metadata": {
        "id": "LbVwppjN6ZgO"
      },
      "execution_count": null,
      "outputs": []
    },
    {
      "cell_type": "markdown",
      "source": [
        "# 5.Can you explain the basic structure of a Streamlit script?"
      ],
      "metadata": {
        "id": "uCtTO0GC9Hue"
      }
    },
    {
      "cell_type": "markdown",
      "source": [
        "basic structure include\n",
        "pip install streamlit\n",
        "cd streamlit\n",
        "streamlit run app.py"
      ],
      "metadata": {
        "id": "VdGlRpif9I6m"
      }
    },
    {
      "cell_type": "code",
      "source": [
        "import streamlit as st\n",
        "import pandas as pd\n",
        "import numpy as np\n",
        "\n",
        "st.title(\"Deployment of Image\")\n",
        "st.header(\"It is an Image\")\n",
        "st.write(\"This is the picture of Modi\")\n",
        "st.image(\"Modi.jpg\", width = 300)\n",
        "\n",
        "#If you want to include Dataframe\n",
        "data = st.dataframe(np.random.randn(10,20))\n",
        "st.columns = [\"a\", \"b\",\"c\"]\n"
      ],
      "metadata": {
        "id": "9KovuEzT9Ulh"
      },
      "execution_count": null,
      "outputs": []
    },
    {
      "cell_type": "markdown",
      "source": [
        "save file as app.py\n",
        "then run in terminal\n",
        "streamlit run app.py"
      ],
      "metadata": {
        "id": "B1ge3TDn9mwV"
      }
    },
    {
      "cell_type": "code",
      "source": [],
      "metadata": {
        "id": "X0Q-1GNq9sbJ"
      },
      "execution_count": null,
      "outputs": []
    },
    {
      "cell_type": "markdown",
      "source": [
        "# 6.How do you add widgets like sliders, buttons, and text inputs to a Streamlit app?"
      ],
      "metadata": {
        "id": "OH1QbQs89s7N"
      }
    },
    {
      "cell_type": "markdown",
      "source": [
        "Widgets in streamlit Include\n",
        "st.slider()\n",
        "\n",
        "1.   st.slider()\n",
        "2.   st.buttons()\n",
        "3.   st.sidebar()\n",
        "\n",
        "\n",
        "\n",
        "\n"
      ],
      "metadata": {
        "id": "DgMdSaQf9xde"
      }
    },
    {
      "cell_type": "code",
      "source": [
        "#For slider\n",
        "import streamlit as st\n",
        "\n",
        "st.title(\"Include slider\")\n",
        "st.sidebar(\"your name\": \"key\"= name)\n"
      ],
      "metadata": {
        "id": "Ue1BYbxp-Hq5"
      },
      "execution_count": null,
      "outputs": []
    },
    {
      "cell_type": "code",
      "source": [
        "#for buttons\n",
        "import streamlit as st\n",
        "\n",
        "st.slider.buttons(\"***\")"
      ],
      "metadata": {
        "id": "_gYrPqwi-dJU"
      },
      "execution_count": null,
      "outputs": []
    },
    {
      "cell_type": "code",
      "source": [
        "#for text_input\n",
        "st.text_input()"
      ],
      "metadata": {
        "id": "jEZ69_3T-oyk"
      },
      "execution_count": null,
      "outputs": []
    },
    {
      "cell_type": "code",
      "source": [
        "st.text(\"Enter your choice\")"
      ],
      "metadata": {
        "id": "qQmVev2K-tss"
      },
      "execution_count": null,
      "outputs": []
    },
    {
      "cell_type": "code",
      "source": [],
      "metadata": {
        "id": "_63rsjt3-3g-"
      },
      "execution_count": null,
      "outputs": []
    },
    {
      "cell_type": "markdown",
      "source": [
        "# 7.How does Streamlit handle user interaction and state management?"
      ],
      "metadata": {
        "id": "l5bbD5oJ-zAU"
      }
    },
    {
      "cell_type": "markdown",
      "source": [
        "Streamlit handles user interaction using difeerent widgets like st.buttons() ,st.slider(), st.text(),\n",
        "st.write(),st.title(),st.header() etc\n",
        "For data visualisation user cam interact using libraries like Matplotlib, seaborn,Altair,plotly etc.It has got other interactive features like creating line charts with st.line_charts(), creating histogram with st.histogram(),bar charts with st.bar_chart() etc\n",
        "\n",
        "For expensive operation and for large data set it uses static operators like cache_\n",
        "eg: @static_cache\n",
        "\n",
        "To reduce the loading of columns and if its time consuming it use st.progress()\n",
        "and tables and columns can be created with st.table(),st.columns(2),\n",
        "st.dataframe()etc\n",
        "\n",
        "The scripts can be re runned in the webpage app by clicking at re run so that it attomatically aves and runs if there is some additional features includede in main python code.\n",
        "\n",
        "It also uses counters to increament the state\n",
        "It also uses st.progress() to show if the data is large and if the execution time is longer.\n"
      ],
      "metadata": {
        "id": "MGjwaPAo-3Bt"
      }
    },
    {
      "cell_type": "code",
      "source": [],
      "metadata": {
        "id": "5c5HAy0IAIfd"
      },
      "execution_count": null,
      "outputs": []
    },
    {
      "cell_type": "markdown",
      "source": [
        "# 8.What are some best practices for organizing and structuring a Streamlit project?"
      ],
      "metadata": {
        "id": "VwZ0TU41AI5l"
      }
    },
    {
      "cell_type": "markdown",
      "source": [
        "The best practice for organising and structuring data in streamlet include\n",
        "\n",
        "\n",
        "1.   st.cache_load()\n",
        "2.   st.resource_load()\n",
        "\n",
        "st.cache_load() the data from the data base and it can be seen\n",
        "st.cache_resource() there data cant be seen from the container or data base(SQL)\n",
        "\n",
        "It allows efficient utilisation of memory and space when works with curent exequition or loading of data in webpage.\n",
        "\n",
        "It also uses st.expand() to hide and show data\n",
        "\n"
      ],
      "metadata": {
        "id": "ZXQn4wF8AYoV"
      }
    },
    {
      "cell_type": "code",
      "source": [],
      "metadata": {
        "id": "8VJNd_j5Bj51"
      },
      "execution_count": null,
      "outputs": []
    },
    {
      "cell_type": "markdown",
      "source": [
        "# 9.How would you deploy a Streamlit app locally?"
      ],
      "metadata": {
        "id": "KacMeFxXBkSN"
      }
    },
    {
      "cell_type": "markdown",
      "source": [
        "In the command prompt or powershell write pip install streamlit\n",
        "if type streamlit hello\n",
        "it will open streamlit browser\n",
        "\n",
        "or\n",
        "cd streamlit\n",
        "streamlit run app.py"
      ],
      "metadata": {
        "id": "WQbQL6H-BvJe"
      }
    },
    {
      "cell_type": "code",
      "source": [],
      "metadata": {
        "id": "2C2EELWUBpNu"
      },
      "execution_count": null,
      "outputs": []
    },
    {
      "cell_type": "markdown",
      "source": [
        "# 10.Can you describe the steps to deploy a Streamlit app?"
      ],
      "metadata": {
        "id": "Vf60E1gWCFKc"
      }
    },
    {
      "cell_type": "markdown",
      "source": [
        "write the python pgm in vs code\n",
        "save the file with .py extention eg first_app.py\n",
        "open the vs code editor and locate or open the first_app.py(the file you want to open)\n",
        "\n",
        "in the terminal or powershell type pip install streamlit so that streamlit gets installed\n",
        "\n",
        "type cd streamlit to come or activate the current directory\n",
        "\n",
        "Then run the file in the command\n",
        "ie streamlit run first_app.py\n",
        "\n",
        "Then a new webpage of first_app will open\n"
      ],
      "metadata": {
        "id": "A81UH2cHCGWu"
      }
    },
    {
      "cell_type": "code",
      "source": [
        "import streamlit as st\n",
        "st.title(\"My First app\")\n",
        "st.header(\"This is deployment of first_app\")\n",
        "st.write(\"Hello World\")\n"
      ],
      "metadata": {
        "id": "Qndt51m4Cwo-"
      },
      "execution_count": null,
      "outputs": []
    },
    {
      "cell_type": "markdown",
      "source": [
        "OPEN terminal run file using the command\n",
        "    streamlit run first_app.py\n",
        "A new web browser will open with title header etc"
      ],
      "metadata": {
        "id": "GgYYlDLPDEOH"
      }
    },
    {
      "cell_type": "code",
      "source": [],
      "metadata": {
        "id": "56f350ALDT5v"
      },
      "execution_count": null,
      "outputs": []
    },
    {
      "cell_type": "markdown",
      "source": [
        "# 11.What is the purpose of the requirements.txt file in the context of Streamlit deployment?"
      ],
      "metadata": {
        "id": "EVX0Tb73DUM9"
      }
    },
    {
      "cell_type": "markdown",
      "source": [
        "The purpose of the requirement of .txt file is that all the deployment services(streamlit cloud and other web services) reads the file in text format and all the dependencies and packages in python or others will be read in .txt format\n",
        "\n",
        "Its for\n",
        "\n",
        "Accurate or better deployment\n",
        "\n",
        "Automation\n",
        "\n",
        "Dependency related issues\n",
        "\n",
        "Reproduce accurate result"
      ],
      "metadata": {
        "id": "XxTE6dMvDzQE"
      }
    },
    {
      "cell_type": "code",
      "source": [],
      "metadata": {
        "id": "Nzzoy4v-DyuN"
      },
      "execution_count": null,
      "outputs": []
    }
  ]
}