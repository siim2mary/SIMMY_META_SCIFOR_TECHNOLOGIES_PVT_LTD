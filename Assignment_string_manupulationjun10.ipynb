{
  "nbformat": 4,
  "nbformat_minor": 0,
  "metadata": {
    "colab": {
      "provenance": []
    },
    "kernelspec": {
      "name": "python3",
      "display_name": "Python 3"
    },
    "language_info": {
      "name": "python"
    }
  },
  "cells": [
    {
      "cell_type": "markdown",
      "source": [
        "# **Write 5 programs on string manupulation using python**\n",
        "\n",
        "---\n",
        "\n"
      ],
      "metadata": {
        "id": "o74BtiUrz3JM"
      }
    },
    {
      "cell_type": "markdown",
      "source": [
        "# **1 Program to reverse a string**"
      ],
      "metadata": {
        "id": "NtIxHieiz-O8"
      }
    },
    {
      "cell_type": "code",
      "source": [
        "def rev(s):\n",
        "  return s[::-1]\n",
        "\n",
        "s=\"welcome to Italy\"\n",
        "print(rev(s))"
      ],
      "metadata": {
        "colab": {
          "base_uri": "https://localhost:8080/"
        },
        "id": "pfJ90MdYz7Q7",
        "outputId": "d4db1df9-1aeb-4ebb-e14d-ebb50cae3cec"
      },
      "execution_count": 1,
      "outputs": [
        {
          "output_type": "stream",
          "name": "stdout",
          "text": [
            "ylatI ot emoclew\n"
          ]
        }
      ]
    },
    {
      "cell_type": "markdown",
      "source": [
        "# **2 :Program to find string is palindrome or not**"
      ],
      "metadata": {
        "id": "WMzJP-tG0UwT"
      }
    },
    {
      "cell_type": "code",
      "source": [
        "def is_pal(s1):\n",
        "  s1 = s1.lower().replace(\" \",\"\")\n",
        "  return s1 == s1[::-1]\n",
        "\n",
        "s1 = \"racecar\"\n",
        "print(is_pal(s1))"
      ],
      "metadata": {
        "colab": {
          "base_uri": "https://localhost:8080/"
        },
        "id": "4DXl3FlF0UIL",
        "outputId": "947699ae-d404-46d5-f896-0f4b72e68c50"
      },
      "execution_count": 6,
      "outputs": [
        {
          "output_type": "stream",
          "name": "stdout",
          "text": [
            "True\n"
          ]
        }
      ]
    },
    {
      "cell_type": "code",
      "source": [
        "def is_pal(s1):\n",
        "  s1 = ''.join(filter(str.isalnum, s1)).lower()\n",
        "  return s1 == s1[::-1]\n",
        "\n",
        "print(is_pal(\"car\"))"
      ],
      "metadata": {
        "colab": {
          "base_uri": "https://localhost:8080/"
        },
        "id": "Ar_ifNiB127T",
        "outputId": "34b229a9-a150-4ea2-987b-b9a2930e193f"
      },
      "execution_count": 9,
      "outputs": [
        {
          "output_type": "stream",
          "name": "stdout",
          "text": [
            "False\n"
          ]
        }
      ]
    },
    {
      "cell_type": "markdown",
      "source": [
        "# **3: Program to find duplicates**"
      ],
      "metadata": {
        "id": "aiyxbhj132D8"
      }
    },
    {
      "cell_type": "code",
      "source": [
        "def dupli(s):\n",
        "  duplicates = []\n",
        "  for i in range(len(s)):\n",
        "    if s[i] in s[i+1:] and s[i] not in duplicates:\n",
        "      duplicates.append(s[i])\n",
        "  return duplicates\n",
        "\n",
        "print(dupli(\"programming\"))"
      ],
      "metadata": {
        "colab": {
          "base_uri": "https://localhost:8080/"
        },
        "id": "lTWwwqRM3HkT",
        "outputId": "5922d4bb-22e8-4dc0-a054-647e6b81a438"
      },
      "execution_count": 11,
      "outputs": [
        {
          "output_type": "stream",
          "name": "stdout",
          "text": [
            "['r', 'g', 'm']\n"
          ]
        }
      ]
    },
    {
      "cell_type": "code",
      "source": [
        "def dup(s):\n",
        "  return list(set([char for char in s if s.count(char)>1]))\n",
        "print(dup(\"programming\"))\n"
      ],
      "metadata": {
        "colab": {
          "base_uri": "https://localhost:8080/"
        },
        "id": "G5Pbl9qy4z3z",
        "outputId": "baa5bf10-3afd-4402-bb97-9a6c31113ff2"
      },
      "execution_count": 12,
      "outputs": [
        {
          "output_type": "stream",
          "name": "stdout",
          "text": [
            "['m', 'g', 'r']\n"
          ]
        }
      ]
    },
    {
      "cell_type": "markdown",
      "source": [
        "# **4: Programm to count vowels**"
      ],
      "metadata": {
        "id": "bwtYOqnb5ZoL"
      }
    },
    {
      "cell_type": "code",
      "source": [
        "def vow(v):\n",
        "  vowels = \"aeiouAEIOU\"\n",
        "  count = 0\n",
        "  for char in v:\n",
        "    if char in vowels:\n",
        "      count += 1\n",
        "\n",
        "  return count\n",
        "\n",
        "print(vow(\"apple\"))\n"
      ],
      "metadata": {
        "colab": {
          "base_uri": "https://localhost:8080/"
        },
        "id": "xwr4wK2S5dsl",
        "outputId": "581fe8ee-8fab-45e9-b3db-a64bd900f920"
      },
      "execution_count": 16,
      "outputs": [
        {
          "output_type": "stream",
          "name": "stdout",
          "text": [
            "2\n"
          ]
        }
      ]
    },
    {
      "cell_type": "code",
      "source": [
        "import re\n",
        "\n",
        "def count_vowels_regex(s):\n",
        "    return len(re.findall(r'[aeiouAEIOU]', s))\n",
        "\n",
        "# Example usage\n",
        "input_str = \"Hello, World!\"\n",
        "print(count_vowels_regex(input_str))  # Output: 3\n"
      ],
      "metadata": {
        "colab": {
          "base_uri": "https://localhost:8080/"
        },
        "id": "1IyM6r0_6rhz",
        "outputId": "adb964aa-7535-4b04-d7cc-16ebf95bddde"
      },
      "execution_count": 17,
      "outputs": [
        {
          "output_type": "stream",
          "name": "stdout",
          "text": [
            "3\n"
          ]
        }
      ]
    },
    {
      "cell_type": "markdown",
      "source": [
        "# **5: Program to find Anagram or not**"
      ],
      "metadata": {
        "id": "QKIUyfIl7L7C"
      }
    },
    {
      "cell_type": "code",
      "source": [
        "def ana(s1,s2):\n",
        "  return sorted(s1.replace(\" \",\"\").lower()) == sorted(s2.replace(\" \",\"\").lower())\n",
        "\n",
        "print(ana(\"race\",\"ecar\"))"
      ],
      "metadata": {
        "colab": {
          "base_uri": "https://localhost:8080/"
        },
        "id": "MT5MDpDM67dc",
        "outputId": "e999d674-c744-41cb-bd49-c6bd15c1e189"
      },
      "execution_count": 20,
      "outputs": [
        {
          "output_type": "stream",
          "name": "stdout",
          "text": [
            "True\n"
          ]
        }
      ]
    },
    {
      "cell_type": "markdown",
      "source": [
        "# **Count the Occurrences of Each Character**"
      ],
      "metadata": {
        "id": "Ekk3ZeMW7_Cz"
      }
    },
    {
      "cell_type": "code",
      "source": [
        "from collections import Counter\n",
        "\n",
        "def occ(s):\n",
        "  return dict(Counter(s))\n",
        "print(occ(\"Hello World\"))"
      ],
      "metadata": {
        "colab": {
          "base_uri": "https://localhost:8080/"
        },
        "id": "9QSFDICu7-tL",
        "outputId": "361e2582-a8b3-4996-b7c5-2476f24d88a6"
      },
      "execution_count": 21,
      "outputs": [
        {
          "output_type": "stream",
          "name": "stdout",
          "text": [
            "{'H': 1, 'e': 1, 'l': 3, 'o': 2, ' ': 1, 'W': 1, 'r': 1, 'd': 1}\n"
          ]
        }
      ]
    },
    {
      "cell_type": "markdown",
      "source": [
        "# **program finds the longest word in a given sentence.**"
      ],
      "metadata": {
        "id": "a98Vf4pj8sPd"
      }
    },
    {
      "cell_type": "code",
      "source": [
        "def lon(s):\n",
        "  word = s.split()\n",
        "  longest = max(word, key = len)\n",
        "  return longest\n",
        "\n",
        "print(lon(\"Find the longest word in sentences\"))"
      ],
      "metadata": {
        "colab": {
          "base_uri": "https://localhost:8080/"
        },
        "id": "KgCBn_yp8tkD",
        "outputId": "319b372f-3133-419d-d949-3279d46fb174"
      },
      "execution_count": 25,
      "outputs": [
        {
          "output_type": "stream",
          "name": "stdout",
          "text": [
            "sentences\n"
          ]
        }
      ]
    }
  ]
}