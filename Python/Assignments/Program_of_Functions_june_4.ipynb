{
  "cells": [
    {
      "cell_type": "markdown",
      "id": "afe40ca5",
      "metadata": {
        "id": "afe40ca5"
      },
      "source": [
        "# Write 3 program using functions"
      ]
    },
    {
      "cell_type": "markdown",
      "id": "600c962e",
      "metadata": {
        "id": "600c962e"
      },
      "source": [
        "# Write a program using functions to reverse an list"
      ]
    },
    {
      "cell_type": "code",
      "execution_count": null,
      "id": "8b8c1892",
      "metadata": {
        "id": "8b8c1892",
        "outputId": "93dc6c46-500d-4dd9-8b37-c3258e32a9e1"
      },
      "outputs": [
        {
          "name": "stdout",
          "output_type": "stream",
          "text": [
            "[87, 45, 23, 12]\n",
            "The reversed list of [12, 23, 45, 87] is [87, 45, 23, 12]\n"
          ]
        }
      ],
      "source": [
        "def reve(a):\n",
        "    n = a[::-1]\n",
        "    return n\n",
        "\n",
        "a = [12,23,45,87]\n",
        "result = reve(a)\n",
        "\n",
        "\n",
        "print(result)\n",
        "print(f\"The reversed list of {a} is {result}\")"
      ]
    },
    {
      "cell_type": "markdown",
      "id": "4408e1e4",
      "metadata": {
        "id": "4408e1e4"
      },
      "source": [
        "# Write a program to find the Factorial of a number"
      ]
    },
    {
      "cell_type": "code",
      "execution_count": null,
      "id": "ad40d249",
      "metadata": {
        "id": "ad40d249",
        "outputId": "3c2692fd-aba9-47a3-d139-65e4f1ea7c80"
      },
      "outputs": [
        {
          "name": "stdout",
          "output_type": "stream",
          "text": [
            "The factorial of given no is: 720\n"
          ]
        }
      ],
      "source": [
        "def fact(n):\n",
        "    if n==0:\n",
        "        return 1\n",
        "    return n*fact(n-1)\n",
        "\n",
        "factorial = fact(6)\n",
        "print(\"The factorial of given no is:\", factorial)"
      ]
    },
    {
      "cell_type": "markdown",
      "id": "9b692100",
      "metadata": {
        "id": "9b692100"
      },
      "source": [
        "# write program to find string as a palindrome or not"
      ]
    },
    {
      "cell_type": "code",
      "execution_count": null,
      "id": "b05aca70",
      "metadata": {
        "id": "b05aca70",
        "outputId": "50509f9e-fad4-4fca-df3c-0e14031fd0ba"
      },
      "outputs": [
        {
          "name": "stdout",
          "output_type": "stream",
          "text": [
            "The entered ('malayalam', 'Malayalam') is True\n"
          ]
        }
      ],
      "source": [
        "def is_pal(string1,string2):\n",
        "\n",
        "    s1 = string1.lower()\n",
        "    s2= string2.lower()\n",
        "\n",
        "    if s1 == s2:\n",
        "        return True\n",
        "    else:\n",
        "        return False\n",
        "\n",
        "s1 = \"malayalam\"\n",
        "s2 = \"Malayalam\"\n",
        "\n",
        "res = is_pal(s1,s2)\n",
        "print(f\"The entered {s1,s2} is {res}\")"
      ]
    },
    {
      "cell_type": "code",
      "execution_count": null,
      "id": "73926c52",
      "metadata": {
        "id": "73926c52"
      },
      "outputs": [],
      "source": []
    }
  ],
  "metadata": {
    "kernelspec": {
      "display_name": "Python 3 (ipykernel)",
      "language": "python",
      "name": "python3"
    },
    "language_info": {
      "codemirror_mode": {
        "name": "ipython",
        "version": 3
      },
      "file_extension": ".py",
      "mimetype": "text/x-python",
      "name": "python",
      "nbconvert_exporter": "python",
      "pygments_lexer": "ipython3",
      "version": "3.9.13"
    },
    "colab": {
      "provenance": []
    }
  },
  "nbformat": 4,
  "nbformat_minor": 5
}