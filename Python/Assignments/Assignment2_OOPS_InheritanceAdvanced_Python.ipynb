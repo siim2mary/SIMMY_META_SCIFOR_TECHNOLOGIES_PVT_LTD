{
  "nbformat": 4,
  "nbformat_minor": 0,
  "metadata": {
    "colab": {
      "provenance": []
    },
    "kernelspec": {
      "name": "python3",
      "display_name": "Python 3"
    },
    "language_info": {
      "name": "python"
    }
  },
  "cells": [
    {
      "cell_type": "code",
      "execution_count": null,
      "metadata": {
        "id": "P8fIEP6oAQo8"
      },
      "outputs": [],
      "source": [
        "#OOPS CONCEPT"
      ]
    },
    {
      "cell_type": "markdown",
      "source": [
        "# WAP to implement polymorphism,encapsulation,Inheritance and OOPs in a single piece of code\n",
        "\n",
        "---\n",
        "\n"
      ],
      "metadata": {
        "id": "xetIJqv2AVR_"
      }
    },
    {
      "cell_type": "code",
      "source": [
        "class Animal:  #create parent class\n",
        "  def make_sound(self,sound):\n",
        "    print(f\"The animal make sound\")\n",
        "\n",
        "  def __init__(self,name,age):   #create attributes name,age using constructor(__init__) and method(function) anim,self is the instance to call attributes\n",
        "    self.__name =  name  #created Encapsulation\n",
        "    self.age = age       #public attribute\n",
        "\n",
        "  def get_name(self): #created function get_name to display name that is hidden as private attribute(Encapsulation)\n",
        "    return self.__name\n",
        "\n",
        "  def get_age(self):\n",
        "    return self.age\n",
        "\n",
        "class Dog(Animal): #creates Sub class Dog from parent class Animal\n",
        "  def make_sound(self, sound):\n",
        "    print(f\"The dog {self.get_name()} of age {self.get_age()} make sound {sound}\")\n",
        "\n",
        "class Cat(Animal):\n",
        "  def make_sound(self,sound):\n",
        "    print(f\"The cat {self.get_name()} of age {self.get_age()} make sound {sound}\")\n",
        "\n",
        "#create polymorphism\n",
        "def speak(animal,sound):       #will throw error if simply given def speak(animal) and animal.make_sound(sound)\n",
        "  animal.make_sound(sound)\n",
        "\n",
        "#polymorphic behaviour  - Polymorphism is a core concept in object-oriented programming (OOP) where different\n",
        "#classes can be treated as instances of the same class(Animal) through a common interface.\n",
        "#It allows objects of different classes to be treated as objects of a common superclass.\n",
        "\n",
        "#create animal objects\n",
        "dog = Dog(\"Dash\", 12)   #what attributes we create in Animal(name,age) must be given here\n",
        "cat = Cat(\"kitty\", 4)\n",
        "\n",
        "#call using functions created by objects\n",
        "#dog.make_sound(\"woof\")\n",
        "#cat.make_sound(\"meow\")\n",
        "\n",
        "#call using polymorphism\n",
        "\n",
        "speak(dog,\"Woof\")   #must give the sound attribute we created in make_sound\n",
        "speak(cat,\"Meow\")\n",
        "\n",
        "\n",
        "\n"
      ],
      "metadata": {
        "colab": {
          "base_uri": "https://localhost:8080/"
        },
        "id": "tqF0TMnKAi32",
        "outputId": "4298d5f8-fff4-4e00-e540-40d6c4867392"
      },
      "execution_count": null,
      "outputs": [
        {
          "output_type": "stream",
          "name": "stdout",
          "text": [
            "The dog Dash of age 12 make sound Woof\n",
            "The cat kitty of age 4 make sound Meow\n"
          ]
        }
      ]
    },
    {
      "cell_type": "markdown",
      "source": [
        "# **POLYMORPHISM**\n",
        "\n",
        "---\n",
        "\n",
        "\n",
        "\n",
        "Polymorphism is a core concept in object-oriented programming (OOP) where different classes can be treated as instances of the same class through a common interface. It allows objects of different classes to be treated as objects of a common superclass. This means that a single interface can represent multiple underlying forms or types."
      ],
      "metadata": {
        "id": "rn8pceKoN3lQ"
      }
    },
    {
      "cell_type": "markdown",
      "source": [
        "Its the ability of the object to take different forms."
      ],
      "metadata": {
        "id": "Xp8P0sH5hfyX"
      }
    },
    {
      "cell_type": "markdown",
      "source": [
        "There are two main types of polymorphism:\n",
        "\n",
        "Compile-time polymorphism: This is achieved through method overloading and operator overloading. Method overloading allows a class to have multiple methods with the same name but different parameters, and the correct method is called based on the parameters provided at compile time. Operator overloading allows operators to be redefined for user-defined types.\n",
        "\n",
        "Runtime polymorphism: This is achieved through method overriding. Method overriding allows a subclass to provide a specific implementation of a method that is already defined in its superclass. The decision on which method to call is made at runtime, based on the actual type of object being referred to by a reference variable.\n",
        "\n",
        "Polymorphism is a powerful feature of OOP because it allows for code reusability, flexibility, and abstraction. It enables programmers to write more generic code that can work with objects of multiple types without needing to know the specific details of each type."
      ],
      "metadata": {
        "id": "_g5cTjRjOTC1"
      }
    },
    {
      "cell_type": "markdown",
      "source": [
        "# **Encapsulation**\n",
        "\n",
        "---\n",
        "\n",
        "\n",
        "\n",
        "Encapsulation is one of the four fundamental principles of object-oriented programming (OOP), along with inheritance, polymorphism, and abstraction. It refers to the bundling of data (attributes) and methods (functions) that operate on the data into a single unit, called a class. Encapsulation hides the internal state of an object from the outside world and only exposes the necessary functionalities to interact with the object.\n",
        "\n",
        "In encapsulation:\n",
        "\n",
        "Data hiding: The internal state of an object, i.e., its data, is hidden from the outside world. This means that the internal data cannot be directly accessed or modified by code outside the class. Instead, access to the data is controlled through methods, which are known as accessor and mutator methods (getters and setters). This ensures that the object's data is accessed and modified in a controlled manner, preventing accidental or unauthorized changes.\n",
        "\n",
        "Abstraction: Encapsulation also provides abstraction by exposing only the essential features of an object while hiding its complex implementation details. This allows users of the class to interact with the object using a simplified interface, without needing to understand how the object is implemented internally. Abstraction helps in reducing complexity and makes it easier to work with objects.\n",
        "\n",
        "Encapsulation helps in achieving modular design, improves code maintainability and reusability, enhances security by controlling access to data, and promotes code organization and readability. It is a key concept in OOP and is widely used in software development to build robust and scalable applications.\n",
        "\n",
        "\n",
        "\n",
        "\n",
        "\n",
        "\n"
      ],
      "metadata": {
        "id": "28LA6ikOOoD1"
      }
    },
    {
      "cell_type": "markdown",
      "source": [
        "# **class**\n",
        "\n",
        "---\n",
        "\n",
        "\n",
        "\n",
        "In object-oriented programming (OOP), a class is a blueprint or template for creating objects. It defines the properties (attributes) and behaviors (methods) that objects of the class will have.\n",
        "\n",
        "Here are some key points about classes:\n",
        "\n",
        "Blueprint: A class serves as a blueprint for creating objects. It defines the structure and behavior of objects that will be instantiated from it.\n",
        "\n",
        "Attributes: Attributes, also known as properties or member variables, represent the data associated with objects of the class. These can include variables to store data such as integers, strings, or custom types, as well as references to other objects.\n",
        "\n",
        "Methods: Methods are functions defined within a class that define the behaviors or actions that objects of the class can perform. These methods can manipulate the object's data, interact with other objects, or perform any other operations relevant to the class.\n",
        "\n",
        "Encapsulation: Classes encapsulate data and methods together. This means that the data and methods that operate on that data are bundled together within the class, providing a means of data hiding and abstraction.\n",
        "\n",
        "Instantiation: Objects are instances of classes. When you create an object of a class, you are instantiating that class, meaning you are creating a specific instance of the class with its own unique set of data.\n",
        "\n",
        "Inheritance: Classes can inherit attributes and methods from other classes through inheritance. This allows for code reuse and promotes a hierarchical organization of classes.\n",
        "\n",
        "Polymorphism: Classes can exhibit polymorphic behavior, meaning that objects of different classes can be treated as objects of a common superclass. This allows for flexibility and code reusability.\n",
        "\n",
        "Classes provide a powerful mechanism for organizing and modeling complex systems in software development. They promote modularity, code reuse, and maintainability, making them a fundamental concept in OOP."
      ],
      "metadata": {
        "id": "9hXS653nO7Su"
      }
    },
    {
      "cell_type": "markdown",
      "source": [
        "# **INHERITANCE**\n",
        "\n",
        "---\n",
        "\n",
        "\n",
        "\n",
        "Inheritance is a fundamental concept in object-oriented programming (OOP) that allows a class (called a subclass or derived class) to inherit properties and behaviors (attributes and methods) from another class (called a superclass or base class).\n",
        "\n",
        "Here are the key points about inheritance:\n",
        "\n",
        "Code Reusability: Inheritance enables code reuse by allowing subclasses to inherit attributes and methods from their superclass. This means that common functionality can be defined in a superclass and reused by multiple subclasses without the need for duplicating code.\n",
        "\n",
        "Hierarchical Organization: Inheritance promotes a hierarchical organization of classes, where subclasses inherit from superclasses, forming a tree-like structure. Each subclass inherits the properties and behaviors of its superclass and can also define additional attributes or methods specific to itself.\n",
        "\n",
        "Superclass-Subclass Relationship: The superclass is the class that is being inherited from, while the subclass is the class that inherits from the superclass. The subclass can access the public and protected members of the superclass, but it cannot access the private members directly.\n",
        "\n",
        "Overriding: Subclasses can override methods defined in their superclass to provide their own implementation. This allows subclasses to customize the behavior of inherited methods to suit their specific needs."
      ],
      "metadata": {
        "id": "hg8bM10FPALv"
      }
    },
    {
      "cell_type": "code",
      "source": [
        "| Concept        | Description                                                                           |\n",
        "|----------------|---------------------------------------------------------------------------------------|\n",
        "| OOP            | OOP stands for Object-Oriented Programming. It's a programming paradigm centered around the concept of \"objects\", which can contain data (attributes) and code (methods) to manipulate that data. OOP emphasizes concepts such as encapsulation, inheritance, and polymorphism.                        |\n",
        "| Inheritance    | Inheritance is a mechanism in OOP where a new class (subclass) can inherit properties and behaviors from an existing class (superclass). This allows for code reuse and the creation of hierarchical relationships between classes. Subclasses can extend and specialize the functionality of the superclass.                  |\n",
        "| Encapsulation  | Encapsulation is the bundling of data (attributes) and methods (functions) that operate on the data into a single unit, called a class. It hides the internal state of an object and only exposes the necessary functionalities to interact with it. Encapsulation promotes data hiding and abstraction, enhancing code maintainability and security. |\n",
        "| Polymorphism   | Polymorphism is the ability for objects of different classes to be treated as objects of a common superclass. It allows for a single interface to represent multiple underlying forms or types. Polymorphism can be achieved through method overloading and overriding, enabling flexibility and code reusability.                        |\n",
        "| Class          | A class is a blueprint or template for creating objects. It defines the properties (attributes) and behaviors (methods) that objects of the class will have. Classes encapsulate data and methods together, providing a means of code organization and abstraction.                                    |\n",
        "| Object         | An object is an instance of a class. It encapsulates data (attributes) and behaviors (methods). Objects represent real-world entities and are created based on the structure defined by the class. Each object has its own unique state, but shares the structure and behavior defined by its class.                                      |\n",
        "| Function       | A function is a block of reusable code that performs a specific task. It can take input parameters, perform operations, and return results. Functions enable code modularity and reusability, allowing developers to break down complex tasks into smaller, manageable units of code.                                                     |\n"
      ],
      "metadata": {
        "id": "e9cnpZeRRWhd"
      },
      "execution_count": null,
      "outputs": []
    }
  ]
}