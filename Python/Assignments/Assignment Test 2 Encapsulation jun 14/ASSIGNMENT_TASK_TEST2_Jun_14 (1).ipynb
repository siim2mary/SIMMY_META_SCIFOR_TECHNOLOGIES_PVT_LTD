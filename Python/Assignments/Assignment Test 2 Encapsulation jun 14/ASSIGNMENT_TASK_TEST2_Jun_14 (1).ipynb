{
  "nbformat": 4,
  "nbformat_minor": 0,
  "metadata": {
    "colab": {
      "provenance": []
    },
    "kernelspec": {
      "name": "python3",
      "display_name": "Python 3"
    },
    "language_info": {
      "name": "python"
    }
  },
  "cells": [
    {
      "cell_type": "markdown",
      "source": [
        "# **ASSIGNMENT TASK TEST 2 -JUNE 14**\n",
        "\n",
        "---\n",
        "\n"
      ],
      "metadata": {
        "id": "wMnOBmLUgonz"
      }
    },
    {
      "cell_type": "markdown",
      "source": [
        "# **1  : WRITE A DOCUMENTATION IN PYTHON WHICH HAVE ENCAPSULATION BASICS, REAL LIFE EXAMPLE AND IMPLEMENTATION .**\n",
        "\n",
        "---\n",
        "\n"
      ],
      "metadata": {
        "id": "tr6Cc1tngvsR"
      }
    },
    {
      "cell_type": "markdown",
      "source": [
        "# **ENCAPSULATION:**"
      ],
      "metadata": {
        "id": "z-2IrSejhCDY"
      }
    },
    {
      "cell_type": "markdown",
      "source": [
        "Encapsulation is the bundling of data and attributes or methods together into a single unit through class.\n",
        "It provides data hiding in case of real world problems so that the code is not misused or duplicated.It is one of the fundamental concept of OOPS(Object Oriented Programming).\n",
        "\n",
        "# Advantages:\n",
        "\n",
        "---\n",
        "\n",
        "\n",
        "\n",
        "1.   Data Hiding\n",
        "2.   Modularity and Code reusability\n",
        "3.   Flexibility\n",
        "\n"
      ],
      "metadata": {
        "id": "lYU8kEY-hGqo"
      }
    },
    {
      "cell_type": "markdown",
      "source": [
        "Here as a real world example of encapsulation I am making an Employee Management system where the salary of the employee is hidden from the real world ie using Encapsulation. So i made salary as private attribute and name and employee ID as public.I used get function to acess private attribute salary.\n",
        "I also implemented salary Hike and deduction from the current salary of employees Homi and Harry and printed the current salary and raised and deducted salary of Homi and Harry.\n",
        "An object is created 'my_obj' to acess attributes of the class 'employee'.\n"
      ],
      "metadata": {
        "id": "GgwGnREe5U1X"
      }
    },
    {
      "cell_type": "markdown",
      "source": [
        "# **Problem Statement 1: Employee Management System**\n",
        "\n",
        "---\n",
        "\n",
        "\n",
        "\n",
        "Problem\n",
        "\n",
        "Develop a class to manage employee details such as name, employee ID, and salary. Ensure that the salary can only be updated through a method that allows for a raise or deduction. Prevent direct modification of the salary from outside the class."
      ],
      "metadata": {
        "id": "qdR6OCXwijz5"
      }
    },
    {
      "cell_type": "code",
      "execution_count": 43,
      "metadata": {
        "colab": {
          "base_uri": "https://localhost:8080/"
        },
        "id": "cYxj9uKGgi0D",
        "outputId": "1f0bd1c3-cbe8-42ef-8bf0-e24f363d5ea9"
      },
      "outputs": [
        {
          "output_type": "stream",
          "name": "stdout",
          "text": [
            "The employee HOMI with ID HJ123 has got current salary of 124000\n",
            "Previous salary was 124000\n",
            "The employee HOMI with ID HJ123 received a salary hike 144000 of 20000, NEW SALARY:144000\n",
            "The salary without deduction was 144000\n",
            "The employee HOMI with ID HJ123 got  deducted some salary 139000 of 5000, NEW SALARY:139000\n",
            "*********************************************************************************************************************\n",
            "The employee HARRY with ID HC223 has got current salary of 150000\n",
            "Previous salary was 150000\n",
            "The employee HARRY with ID HC223 received a salary hike 151500 of 1500, NEW SALARY:151500\n",
            "The salary without deduction was 151500\n",
            "The employee HARRY with ID HC223 got  deducted some salary 146500 of 5000, NEW SALARY:146500\n"
          ]
        }
      ],
      "source": [
        "class employee:\n",
        "  def __init__(self, name, empID, salary):\n",
        "    self.name = name\n",
        "    self.empID = empID\n",
        "    self.__salary = salary  #Done Encapsulation\n",
        "\n",
        "  def get_name(self):\n",
        "    print(f'The name of the employee is {self.name}')\n",
        "\n",
        "  def get_empID(self):\n",
        "    print(f'The employee ID of employee{self.name} is {self.empID}')\n",
        "\n",
        "  def get_salary(self, salary): #Public method to access Private attribute\n",
        "    self.__salary = salary\n",
        "\n",
        "  def set_salary_raise(self,amount):  #setter to access salary by Updating new values\n",
        "    self.amount= amount\n",
        "\n",
        "  def get_salary_info(self, salary):  #Method to access current salary Information\n",
        "    print(f'The employee {self.name} with ID {self.empID} has got current salary of {self.__salary}')\n",
        "    return self.__salary\n",
        "\n",
        "  #Method to access salary hike\n",
        "  def get_salary_raise(self,amount):\n",
        "    print(f'Previous salary was {self.__salary}')\n",
        "    if amount > 0:\n",
        "      self.__salary = self.__salary+ amount\n",
        "      print(f'The employee {self.name} with ID {self.empID} received a salary hike {self.__salary} of {amount}, NEW SALARY:{self.__salary}')\n",
        "    else:\n",
        "      print(f\"Salary hike Not Received by the Employee of ID {self.empID} and name is {self.name}\")\n",
        "\n",
        "  def set_salary_deducted(self, amount): #Setter to reduce the salary by cetain amount\n",
        "    self.amount = amount\n",
        "\n",
        "  def get_salary_deducted(self,amount):  #Method to get Reduced salary\n",
        "    print(f'The salary without deduction was {self.__salary}')\n",
        "    if 0 < amount <= self.__salary:\n",
        "      self.__salary = self.__salary - amount\n",
        "      print(f'The employee {self.name} with ID {self.empID} got  deducted some salary {self.__salary} of {amount}, NEW SALARY:{self.__salary}')\n",
        "    else:\n",
        "      print(\"Invalid\")\n",
        "\n",
        "\n",
        "my_obj = employee(\"HOMI\", \"HJ123\",124000) #Creating object to call class\n",
        "my_obj.get_salary_info(124000)\n",
        "my_obj.get_salary_raise(20000)  #Initial salary hike\n",
        "my_obj.get_salary_deducted(5000)  #Initial deduced salary\n",
        "print(\"*********************************************************************************************************************\")\n",
        "\n",
        "#set updated salary -Trying to introduce more salary variation we use \"set\" command set_salary_raise and set_salary_deducted\n",
        "my_obj = employee(\"HARRY\", \"HC223\", 150000)   #updated salary of another employee Harry\n",
        "my_obj.get_salary_info(150000)  #current salary info of Harry\n",
        "my_obj.set_salary_raise(1500)  #set salary hike of 1500 ie 150000+1500\n",
        "my_obj.set_salary_deducted(5000) #set salary deduction of 5000 ie 151500-5000\n",
        "\n",
        "my_obj.get_salary_raise(1500) #150000+1500 = 151500\n",
        "my_obj.get_salary_deducted(5000) #151500-5000 =146500\n",
        "\n",
        "\n",
        "\n",
        "\n",
        "\n",
        ""
      ]
    }
  ]
}