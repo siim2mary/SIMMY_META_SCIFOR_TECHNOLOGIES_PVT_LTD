{
  "nbformat": 4,
  "nbformat_minor": 0,
  "metadata": {
    "colab": {
      "provenance": []
    },
    "kernelspec": {
      "name": "python3",
      "display_name": "Python 3"
    },
    "language_info": {
      "name": "python"
    }
  },
  "cells": [
    {
      "cell_type": "code",
      "execution_count": null,
      "metadata": {
        "colab": {
          "base_uri": "https://localhost:8080/"
        },
        "id": "T5-ebvvIlaYF",
        "outputId": "f8fb270d-88da-465b-cc64-c5c18d33981b"
      },
      "outputs": [
        {
          "output_type": "stream",
          "name": "stdout",
          "text": [
            "Tesla\n",
            "Model A\n",
            "The car brand is Model A in  accelarating !\n"
          ]
        }
      ],
      "source": [
        "class car:\n",
        "\n",
        "  def __init__(self,brand,model,year):\n",
        "    self.__brand = brand  #SET PRIVATE\n",
        "    self.model = model #SET AS PUBLIC\n",
        "    self.year = year\n",
        "\n",
        "  def get_brand(self):\n",
        "    return self.__brand\n",
        "\n",
        "  def accelaration(self):\n",
        "    print(f'The car brand is {self.model} in  accelarating !')\n",
        "\n",
        "#create object for car\n",
        "my_obj = car(\"Tesla\", \"Model A\", 2023)\n",
        "\n",
        "#Access data\n",
        "print(my_obj.get_brand())\n",
        "\n",
        "#Access model\n",
        "print(my_obj.model)\n",
        "\n",
        "#Access accelaration\n",
        "my_obj.accelaration()\n",
        "\n",
        "\n"
      ]
    }
  ]
}