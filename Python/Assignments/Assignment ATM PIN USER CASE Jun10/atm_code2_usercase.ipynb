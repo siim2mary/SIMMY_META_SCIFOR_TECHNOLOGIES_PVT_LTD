{
  "nbformat": 4,
  "nbformat_minor": 0,
  "metadata": {
    "colab": {
      "provenance": []
    },
    "kernelspec": {
      "name": "python3",
      "display_name": "Python 3"
    },
    "language_info": {
      "name": "python"
    }
  },
  "cells": [
    {
      "cell_type": "code",
      "execution_count": 1,
      "metadata": {
        "colab": {
          "base_uri": "https://localhost:8080/"
        },
        "id": "bDMyEggJWREa",
        "outputId": "7a411f7b-9418-4090-e7cb-2b1e884efe94"
      },
      "outputs": [
        {
          "output_type": "stream",
          "name": "stdout",
          "text": [
            "Enter the PIN: 1234\n",
            "ATM pin Verified\n",
            "Enter withdrawal amount: 1000\n",
            "Withdrawal successful. New balance is 9000.0\n",
            "Enter the PIN: 1234\n",
            "ATM pin Verified\n",
            "Enter deposit amount: 10000\n",
            "Deposit successful. New balance is 19000.0\n"
          ]
        }
      ],
      "source": [
        "class Bank:\n",
        "    def __init__(self, atm_pin, account_no, balance):\n",
        "        self.__atm_pin = atm_pin\n",
        "        self.account_no = account_no\n",
        "        self.balance = balance\n",
        "\n",
        "    def get_atm_pin(self):\n",
        "        return self.__atm_pin\n",
        "\n",
        "    def get_account_no(self):\n",
        "        return self.account_no\n",
        "\n",
        "    def get_balance(self):\n",
        "        return self.balance\n",
        "\n",
        "    def set_balance(self, new_balance):\n",
        "        self.balance = new_balance\n",
        "\n",
        "class Withdraw(Bank):\n",
        "    def withdraw_amount(self):\n",
        "        w = int(input(\"Enter the PIN: \"))\n",
        "        if w == self.get_atm_pin():\n",
        "            print(\"ATM pin Verified\")\n",
        "            with_a = float(input(\"Enter withdrawal amount: \"))\n",
        "            if with_a <= self.get_balance():\n",
        "                self.set_balance(self.get_balance() - with_a)\n",
        "                print(f\"Withdrawal successful. New balance is {self.get_balance()}\")\n",
        "            else:\n",
        "                print(\"Insufficient balance\")\n",
        "        else:\n",
        "            print(\"Wrong ATM PIN\")\n",
        "\n",
        "class Deposit(Bank):\n",
        "    def deposit_amount(self):\n",
        "        d = int(input(\"Enter the PIN: \"))\n",
        "        if d == self.get_atm_pin():\n",
        "            print(\"ATM pin Verified\")\n",
        "            dep_a = float(input(\"Enter deposit amount: \"))\n",
        "            self.set_balance(self.get_balance() + dep_a)\n",
        "            print(f\"Deposit successful. New balance is {self.get_balance()}\")\n",
        "        else:\n",
        "            print(\"Wrong ATM PIN\")\n",
        "\n",
        "w1 = Withdraw(1234, 22, 10000)\n",
        "d1 = Deposit(1234, 22, 9000)\n",
        "\n",
        "w1.withdraw_amount()\n",
        "d1.deposit_amount()\n"
      ]
    }
  ]
}