{
  "nbformat": 4,
  "nbformat_minor": 0,
  "metadata": {
    "colab": {
      "provenance": []
    },
    "kernelspec": {
      "name": "python3",
      "display_name": "Python 3"
    },
    "language_info": {
      "name": "python"
    }
  },
  "cells": [
    {
      "cell_type": "markdown",
      "source": [
        "# **Define all levels of inheritance with example**"
      ],
      "metadata": {
        "id": "hVPrWPkZGXsu"
      }
    },
    {
      "cell_type": "code",
      "execution_count": 38,
      "metadata": {
        "colab": {
          "base_uri": "https://localhost:8080/"
        },
        "id": "AJTddG3-GRU7",
        "outputId": "db527718-561a-436a-e09c-78f5ea910bba"
      },
      "outputs": [
        {
          "output_type": "stream",
          "name": "stdout",
          "text": [
            "The animal has name Name: PAT and age:2\n",
            "The color of animal is color:white\n",
            "The animal belongs to Group:A group\n",
            "The name of Cat Name: None , Age: 2, Color: None, Group: None\n",
            "The animal has name Name: PAT and age:2\n",
            "The color of animal is color:white\n",
            "The name of Animal Name:None , Age:2, Color:None\n",
            "The animal has name Name: Ron and age:4\n",
            "The color of animal is color:Grey\n",
            " The Animal has claws:Red claws\n",
            "The name of Animal Name: None , Age: 4, Color: None, Claws: flyingdog\n",
            "The animal has name Name: Ron and age:4\n",
            "The color of animal is color:Grey\n",
            "The animal belongs to Group:B group\n",
            "The name of Cat Name: None , Age: 4, Color: None, Group: None\n",
            "The animal has name Name: Ron and age:4\n",
            "The color of animal is color:Grey\n",
            "The name of Animal Name:None , Age:4, Color:None\n",
            "The puppy has hair colour:white\n",
            "The name of Puppy Hair: None , Length: 120 cm\n"
          ]
        }
      ],
      "source": [
        "#single inheritance\n",
        "class Animal:\n",
        "  def __init__(self, name ,age):\n",
        "    self.__name = name\n",
        "    self.age = age\n",
        "\n",
        "  def get_name(self):\n",
        "    print(f'The animal has name Name: {self.__name} and age:{self.age}')\n",
        "\n",
        "  def make_sound(self):\n",
        "    print(\"The Animal roars\")\n",
        "    return f\"Roar\"\n",
        "\n",
        "#Derived class\n",
        "class Dog(Animal):\n",
        "  def __init__(self, name, age, color):\n",
        "    super().__init__(name, age)\n",
        "    self.__color = color\n",
        "\n",
        "  def get_color(self):\n",
        "    print(f'The color of animal is color:{self.__color}')\n",
        "\n",
        "  def make_sound(self):\n",
        "    print(\"The dog barks\")\n",
        "    return f\"woof\"\n",
        "\n",
        "  def display_details(self):\n",
        "    print(f'The name of Animal Name:{self.get_name()} , Age:{self.age}, Color:{self.get_color()}')\n",
        "    return f\"display_details\"\n",
        "\n",
        "class Cat(Dog): #Mutilevel Inheritance\n",
        "  def __init__(self, name, age, color, group):\n",
        "    super().__init__(name, age, color)\n",
        "    self.__group = group\n",
        "\n",
        "  def get_group(self):\n",
        "    print(f'The animal belongs to Group:{self.__group}')\n",
        "\n",
        "  def make_sound(self):\n",
        "    print(\"The cat meows\")\n",
        "    return f'Meow'\n",
        "\n",
        "  def display_details(self):\n",
        "    print(f'The name of Cat Name: {self.get_name()} , Age: {self.age}, Color: {self.get_color()}, Group: {self.get_group()}')\n",
        "    super().display_details()\n",
        "\n",
        "class Puppy: #Creates another base class\n",
        "  def __init__(self, hair, length):\n",
        "    self.__hair = hair\n",
        "    self.length = length\n",
        "\n",
        "  def get_hair(self):\n",
        "    print(f'The puppy has hair colour:{self.__hair}')\n",
        "\n",
        "  def display_details(self):\n",
        "    print(f'The name of Puppy Hair: {self.get_hair()} , Length: {self.length}')\n",
        "    #super().display_details()\n",
        "\n",
        "class flyingcat(Cat,Puppy):  #Hybrid Inheritance\n",
        "  def __init__(self,name,age,color,group,hair,length,claws, teeth):\n",
        "    Cat.__init__(self,name, age, color, group)\n",
        "    Puppy.__init__(self, hair, length)\n",
        "    self.__claws = claws\n",
        "    self.__teeth = teeth\n",
        "\n",
        "  def get_claws(self):\n",
        "    print(f' The Animal has claws:{self.__claws}')\n",
        "    return \"flyingdog\"\n",
        "\n",
        "  def get_teeth(self):\n",
        "    print(f'The Animal has teeth:{self.__teeth}')\n",
        "    return \"self.__teeth\"\n",
        "\n",
        "  def make_sound(self):\n",
        "    print(f\"The animal make sound:{self.make_sound()}\")\n",
        "\n",
        "  def display_details(self):\n",
        "    print(f'The name of Animal Name: {self.get_name()} , Age: {self.age}, Color: {self.get_color()}, Claws: {self.get_claws()}')\n",
        "    super().display_details()\n",
        "\n",
        "class flyingdog(Animal, Puppy):\n",
        "  def __init__(self, name, age, hair, length, scream):\n",
        "    Animal.__init__(self, name,age)\n",
        "    Puppy.__init__(self, hair, length)\n",
        "    self.__scream = scream\n",
        "\n",
        "  def get_scream(self):\n",
        "    print(f\"The animal scream :{self.__scream}\")\n",
        "    return f\"self.__scream\"\n",
        "\n",
        "def display_details(self):\n",
        "    print(f'The name of Animal Name: {self.get_name()} , Age: {self.age}, Hair: {self.get_hair()}, Scream: {self.get_scream()}')\n",
        "    super().display_details()\n",
        "\n",
        "d = Dog(\"HAT\",3, \"Brown\")\n",
        "c = Cat(\"PAT\", 2, \"white\", \"A group\")\n",
        "fc = flyingcat(\"Ron\", 4, \"Grey\", \"B group\",\"Black\",\"110cm\", \"Red claws\", \"has teeth\")\n",
        "fd = flyingdog(\"Pluto\",3, \"white\",\"120 cm\", \"woof\")\n",
        "\n",
        "d.display_details\n",
        "c.display_details()\n",
        "fc.display_details()\n",
        "fd.display_details()\n",
        "\n",
        "\n",
        "\n",
        "\n"
      ]
    },
    {
      "cell_type": "markdown",
      "source": [
        "# 3: Write a code of Method Overriding"
      ],
      "metadata": {
        "id": "NFoxeJciOJkG"
      }
    },
    {
      "cell_type": "markdown",
      "source": [
        "In multiple inheritance when the method of sub class overrides the method of superclass or base class its called method overriding .It will have same function name."
      ],
      "metadata": {
        "id": "Qp5vQwLKOUb1"
      }
    },
    {
      "cell_type": "code",
      "source": [
        "class Animal:\n",
        "  def make_sound(self):\n",
        "    print(\"The animal Roars\")\n",
        "\n",
        "class Dog(Animal):\n",
        "  def make_sound(self):\n",
        "    print(\"The Dog barks\")\n",
        "\n",
        "class Cat(Animal):\n",
        "  def make_sound(self):\n",
        "    print(\"The cat cries\")\n",
        "\n",
        "#def speak(animal):\n",
        "#  animal.speak()\n",
        "\n",
        "dog = Dog()\n",
        "cat = Cat()\n",
        "\n",
        "dog.make_sound()\n",
        "cat.make_sound()\n"
      ],
      "metadata": {
        "colab": {
          "base_uri": "https://localhost:8080/"
        },
        "id": "4Ws2uHhjORDm",
        "outputId": "ed68e99b-3735-48da-bb72-ba44fb7859ed"
      },
      "execution_count": 11,
      "outputs": [
        {
          "output_type": "stream",
          "name": "stdout",
          "text": [
            "The Dog barks\n",
            "The cat cries\n"
          ]
        }
      ]
    },
    {
      "cell_type": "markdown",
      "source": [
        "Here we have same function name make_sound.Its used as function for 3 different classes.SO which function it will display Animal or Dog or Cat .\n",
        "Here Animal is the Base class and DOg and Cat are derived classes and their method will overide the Method of Animal."
      ],
      "metadata": {
        "id": "J66LtiNqP3vO"
      }
    },
    {
      "cell_type": "markdown",
      "source": [
        "#2. What is Method over loading\n",
        "\n"
      ],
      "metadata": {
        "id": "8GApsFaxQgBE"
      }
    },
    {
      "cell_type": "markdown",
      "source": [
        "Two or more methods have the same name but different numbers of parameters or different types of parameters, or both. These methods are called overloaded methods and this is called method overloading."
      ],
      "metadata": {
        "id": "OQpaeGJoS7yl"
      }
    },
    {
      "cell_type": "code",
      "source": [
        "\n",
        "def product(a,b):\n",
        "  res = a*b\n",
        "  print(res)\n",
        "\n",
        "def product(a,b,c):\n",
        "  res = a*b*c\n",
        "  print(res)\n",
        "\n",
        "#print(product(2,2))\n",
        "print(product(2,3,4))\n",
        "\n"
      ],
      "metadata": {
        "colab": {
          "base_uri": "https://localhost:8080/"
        },
        "id": "tZ9s6mf-S0JR",
        "outputId": "4370e4c8-98e4-4072-e706-ca529b8776c6"
      },
      "execution_count": 19,
      "outputs": [
        {
          "output_type": "stream",
          "name": "stdout",
          "text": [
            "24\n",
            "None\n"
          ]
        }
      ]
    },
    {
      "cell_type": "markdown",
      "source": [
        "In the above code, we have defined two product methods we can only use the second product method, as python does not support method overloading. We may define many methods of the same name and different arguments, but we can only use the latest defined method. Calling the other method will produce an error. Like here calling product(2,2) will produce an error as the latest defined product method takes three arguments.\n",
        "\n",
        "Thus, to overcome the above problem we can use different ways to achieve the method overloading."
      ],
      "metadata": {
        "id": "2QaUD62vUgNg"
      }
    },
    {
      "cell_type": "code",
      "source": [
        "# code\n",
        "def add(a=None, b=None):\n",
        "\t# Checks if both parameters are available\n",
        "\t# if statement will be executed if only one parameter is available\n",
        "\tif a != None and b == None:\n",
        "\t\tprint(a)\n",
        "\t# else will be executed if both are available and returns addition of two\n",
        "\telse:\n",
        "\t\tprint(a+b)\n",
        "\n",
        "\n",
        "# two arguments are passed, returns addition of two\n",
        "add(2, 3)\n",
        "# only one argument is passed, returns a\n",
        "add(2)\n"
      ],
      "metadata": {
        "colab": {
          "base_uri": "https://localhost:8080/"
        },
        "id": "BSKs6PlfQbZP",
        "outputId": "17ad8367-adf1-43a1-8d83-8dc72758a90f"
      },
      "execution_count": 32,
      "outputs": [
        {
          "output_type": "stream",
          "name": "stdout",
          "text": [
            "5\n",
            "2\n"
          ]
        }
      ]
    },
    {
      "cell_type": "markdown",
      "source": [
        "To simulate method overloading, we can use a workaround by defining default value to method arguments as None, so that it can be used with one, two or three arguments."
      ],
      "metadata": {
        "id": "PTP0FovZYM33"
      }
    },
    {
      "cell_type": "code",
      "source": [
        "class example:\n",
        "   def add(self, a = None, b = None, c = None):\n",
        "      x=0\n",
        "      if a !=None and b != None and c != None:\n",
        "         x = a+b+c\n",
        "      elif a !=None and b != None and c == None:\n",
        "         x = a+b\n",
        "      return x\n",
        "\n",
        "obj = example()\n",
        "\n",
        "print (obj.add(10,20,30))\n",
        "print (obj.add(10,20))"
      ],
      "metadata": {
        "colab": {
          "base_uri": "https://localhost:8080/"
        },
        "id": "q5am4mjjYSXW",
        "outputId": "5e6f5dad-41ee-4ea9-818a-62c357aa2310"
      },
      "execution_count": 33,
      "outputs": [
        {
          "output_type": "stream",
          "name": "stdout",
          "text": [
            "60\n",
            "30\n"
          ]
        }
      ]
    },
    {
      "cell_type": "markdown",
      "source": [
        "we can use a dispatch function from a third-party module named MultipleDispatch for Method overloading"
      ],
      "metadata": {
        "id": "SWCedz9tYbBH"
      }
    }
  ]
}