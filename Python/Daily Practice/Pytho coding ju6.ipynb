{
 "cells": [
  {
   "cell_type": "markdown",
   "id": "ad06548b",
   "metadata": {},
   "source": [
    "# write pgm using fn to find palindrome"
   ]
  },
  {
   "cell_type": "code",
   "execution_count": 4,
   "id": "d3a6a650",
   "metadata": {},
   "outputs": [
    {
     "name": "stdout",
     "output_type": "stream",
     "text": [
      "True\n",
      "False\n"
     ]
    }
   ],
   "source": [
    "def is_pal(s1):\n",
    "    nor_str = ''.join(char.lower() for char in s1 if char.isalnum())\n",
    "    return nor_str == nor_str[::-1]\n",
    "print(is_pal(\"racecar\"))\n",
    "print(is_pal(\"mal\"))"
   ]
  },
  {
   "cell_type": "code",
   "execution_count": 53,
   "id": "3c48e20e",
   "metadata": {},
   "outputs": [
    {
     "name": "stdout",
     "output_type": "stream",
     "text": [
      "True\n",
      "False\n"
     ]
    }
   ],
   "source": [
    "def is_palindrome(s):\n",
    "    s = ''.join(filter(str.isalnum, s)).lower()\n",
    "    return s == s[::-1]\n",
    "\n",
    "# Test\n",
    "print(is_palindrome(\"A man, a plan, a canal, Panama\"))  # Output: True\n",
    "print(is_palindrome(\"hello\"))  # Output: False\n"
   ]
  },
  {
   "cell_type": "markdown",
   "id": "a70baa09",
   "metadata": {},
   "source": [
    "#Count vowels"
   ]
  },
  {
   "cell_type": "code",
   "execution_count": 7,
   "id": "ae258a9f",
   "metadata": {},
   "outputs": [
    {
     "name": "stdout",
     "output_type": "stream",
     "text": [
      "4\n"
     ]
    }
   ],
   "source": [
    "def is_vow(s):\n",
    "    vowels = 'aeiouAEIOU'\n",
    "    return sum(1 for char in s if char in vowels)\n",
    "print(is_vow(\"hai sona\"))"
   ]
  },
  {
   "cell_type": "markdown",
   "id": "c9035d1e",
   "metadata": {},
   "source": [
    "#binary search"
   ]
  },
  {
   "cell_type": "code",
   "execution_count": 21,
   "id": "e25ed406",
   "metadata": {},
   "outputs": [
    {
     "name": "stdout",
     "output_type": "stream",
     "text": [
      "2\n"
     ]
    }
   ],
   "source": [
    "def bina_sear(lst, target):\n",
    "    lef,rig = 0, len(lst)-1\n",
    "    while lef<=rig:\n",
    "        mid = (lef+rig)//2\n",
    "        if lst[mid] == target:\n",
    "            return mid\n",
    "        elif lst[mid]<=target:\n",
    "            lef = mid+1\n",
    "        else:\n",
    "            rig = mid-1\n",
    "    return -1\n",
    "lst = [1,22,33,3]\n",
    "print(bina_sear(lst, 33))"
   ]
  },
  {
   "cell_type": "markdown",
   "id": "5786e8e1",
   "metadata": {},
   "source": [
    "# Binary search other way"
   ]
  },
  {
   "cell_type": "code",
   "execution_count": 27,
   "id": "b179531a",
   "metadata": {},
   "outputs": [
    {
     "name": "stdout",
     "output_type": "stream",
     "text": [
      "2\n",
      "1\n"
     ]
    }
   ],
   "source": [
    "def bin_sea(lst, target):\n",
    "    pos = lst.index(target)\n",
    "    return pos\n",
    "l = [1,22,33,3]\n",
    "pos = bin_sea(l,33)\n",
    "print(pos)\n",
    "\n",
    "pos = bin_sea(l,22)\n",
    "print(pos)"
   ]
  },
  {
   "cell_type": "code",
   "execution_count": 18,
   "id": "1290043f",
   "metadata": {},
   "outputs": [
    {
     "name": "stdout",
     "output_type": "stream",
     "text": [
      "Element 5 is at index: 4\n",
      "Element 11 is at index: -1\n"
     ]
    }
   ],
   "source": [
    "def binary_search(arr, target):\n",
    "    # Initialize the starting and ending indices\n",
    "    left, right = 0, len(arr) - 1\n",
    "\n",
    "    # Continue the search while the left index is less than or equal to the right index\n",
    "    while left <= right:\n",
    "        # Find the middle index\n",
    "        mid = (left + right) // 2\n",
    "\n",
    "        # Check if the middle element is the target\n",
    "        if arr[mid] == target:\n",
    "            return mid\n",
    "        # If the target is greater, ignore the left half\n",
    "        elif arr[mid] < target:\n",
    "            left = mid + 1\n",
    "        # If the target is smaller, ignore the right half\n",
    "        else:\n",
    "            right = mid - 1\n",
    "\n",
    "    # If we reach here, the element was not present\n",
    "    return -1\n",
    "\n",
    "# Test cases\n",
    "arr = [1, 2, 3, 4, 5, 6, 7, 8, 9, 10]\n",
    "target = 5\n",
    "result = binary_search(arr, target)\n",
    "\n",
    "print(f\"Element {target} is at index: {result}\")  # Output: Element 5 is at index: 4\n",
    "\n",
    "target = 11\n",
    "result = binary_search(arr, target)\n",
    "\n",
    "print(f\"Element {target} is at index: {result}\")  # Output: Element 11 is at index: -1\n"
   ]
  },
  {
   "cell_type": "markdown",
   "id": "6a1486cd",
   "metadata": {},
   "source": [
    "# Merge 2 sorted list"
   ]
  },
  {
   "cell_type": "code",
   "execution_count": 28,
   "id": "3ac57871",
   "metadata": {},
   "outputs": [
    {
     "name": "stdout",
     "output_type": "stream",
     "text": [
      "[2, 3, 4, 5, 6, 7, 8, 9]\n"
     ]
    }
   ],
   "source": [
    "def merged_lst(l1,l2):\n",
    "    return sorted(l1+l2)\n",
    "l1 =[2,3,4,5]\n",
    "l2 = [6,7,8,9]\n",
    "\n",
    "res = merged_lst(l1,l2)\n",
    "print(res)"
   ]
  },
  {
   "cell_type": "code",
   "execution_count": 32,
   "id": "0fb69cf9",
   "metadata": {},
   "outputs": [
    {
     "name": "stdout",
     "output_type": "stream",
     "text": [
      "[2, 3, 4, 5, 6, 7, 8, 9]\n"
     ]
    }
   ],
   "source": [
    "import heapq\n",
    "\n",
    "def merged_lst(l1,l2):\n",
    "    return list(heapq.merge(l1,l2))  #if y dont give list here o/p will be a generator\n",
    "l1 = [2,3,4,5]\n",
    "l2 = [6,7,8,9]\n",
    "res = merged_lst(l1,l2)\n",
    "print(res)"
   ]
  },
  {
   "cell_type": "markdown",
   "id": "c63592aa",
   "metadata": {},
   "source": [
    "# Anagram check"
   ]
  },
  {
   "cell_type": "code",
   "execution_count": 34,
   "id": "a7640f4e",
   "metadata": {},
   "outputs": [
    {
     "name": "stdout",
     "output_type": "stream",
     "text": [
      "True\n",
      "False\n"
     ]
    }
   ],
   "source": [
    "def ana(s1,s2):\n",
    "    return sorted(s1) == sorted(s2)\n",
    "\n",
    "print(ana(\"listen\",\"silent\"))\n",
    "print(ana(\"hai\",\"hello\"))"
   ]
  },
  {
   "cell_type": "markdown",
   "id": "3c2fb11e",
   "metadata": {},
   "source": [
    "# Find Duplicates in a List\n",
    "Question: Write a function to find duplicates in a list."
   ]
  },
  {
   "cell_type": "code",
   "execution_count": 35,
   "id": "a4171073",
   "metadata": {},
   "outputs": [
    {
     "name": "stdout",
     "output_type": "stream",
     "text": [
      "[3, 2, 11, 4]\n"
     ]
    }
   ],
   "source": [
    "def dup(l):\n",
    "    return list(set(l))\n",
    "l = [11,2,3,4,3]\n",
    "\n",
    "print(dup(l))"
   ]
  },
  {
   "cell_type": "code",
   "execution_count": 39,
   "id": "fad7c892",
   "metadata": {},
   "outputs": [
    {
     "name": "stdout",
     "output_type": "stream",
     "text": [
      "[2, 3]\n"
     ]
    }
   ],
   "source": [
    "def find_duplicates_list_comp(lst):\n",
    "    return list(set([item for item in lst if lst.count(item) > 1]))\n",
    "\n",
    "# Example\n",
    "lst = [1, 2, 3, 4, 5, 3, 2, 6, 7]\n",
    "print(find_duplicates_list_comp(lst))  # Output: [2, 3]\n"
   ]
  },
  {
   "cell_type": "code",
   "execution_count": 40,
   "id": "f34bf48b",
   "metadata": {},
   "outputs": [
    {
     "name": "stdout",
     "output_type": "stream",
     "text": [
      "[2, 3]\n"
     ]
    }
   ],
   "source": [
    "def f(lst):\n",
    "    return list(set([item for item in lst if lst.count(item) > 1]))\n",
    "\n",
    "# Example\n",
    "lst = [1, 2, 3, 4, 5, 3, 2, 6, 7]\n",
    "print(f(lst))  # Output: [2, 3]\n"
   ]
  },
  {
   "cell_type": "code",
   "execution_count": 42,
   "id": "b1c3ef55",
   "metadata": {},
   "outputs": [
    {
     "name": "stdout",
     "output_type": "stream",
     "text": [
      "[3]\n"
     ]
    }
   ],
   "source": [
    "def dup(l):\n",
    "    return list(set([item for item in l if l.count(item) >1]))\n",
    "l =[11,2,3,4,3]\n",
    "print(dup(l))"
   ]
  },
  {
   "cell_type": "code",
   "execution_count": 38,
   "id": "718ff8a7",
   "metadata": {},
   "outputs": [
    {
     "name": "stdout",
     "output_type": "stream",
     "text": [
      "[2, 3]\n"
     ]
    }
   ],
   "source": [
    "from collections import Counter\n",
    "\n",
    "def find_duplicates_counter(lst):\n",
    "    counts = Counter(lst)\n",
    "    return [item for item, count in counts.items() if count > 1]\n",
    "\n",
    "# Example\n",
    "lst = [1, 2, 3, 4, 5, 3, 2, 6, 7]\n",
    "print(find_duplicates_counter(lst))  # Output: [2, 3]\n"
   ]
  },
  {
   "cell_type": "code",
   "execution_count": 43,
   "id": "f74571e3",
   "metadata": {},
   "outputs": [
    {
     "name": "stdout",
     "output_type": "stream",
     "text": [
      "[2, 3]\n"
     ]
    }
   ],
   "source": [
    "def find_duplicates_dict(lst):\n",
    "    counts = {}\n",
    "    duplicates = []\n",
    "    for item in lst:\n",
    "        if item in counts:\n",
    "            counts[item] += 1\n",
    "        else:\n",
    "            counts[item] = 1\n",
    "    for item, count in counts.items():\n",
    "        if count > 1:\n",
    "            duplicates.append(item)\n",
    "    return duplicates\n",
    "\n",
    "# Example\n",
    "lst = [1, 2, 3, 4, 5, 3, 2, 6, 7]\n",
    "print(find_duplicates_dict(lst))  # Output: [2, 3]\n"
   ]
  },
  {
   "cell_type": "markdown",
   "id": "03ad1adf",
   "metadata": {},
   "source": [
    "# 4. Fibonacci Sequence\n",
    "Question: Write a function to generate the nth Fibonacci number."
   ]
  },
  {
   "cell_type": "code",
   "execution_count": 48,
   "id": "0297dbf9",
   "metadata": {},
   "outputs": [
    {
     "name": "stdout",
     "output_type": "stream",
     "text": [
      "55\n"
     ]
    }
   ],
   "source": [
    "def fib(n):\n",
    "    if n<=0:\n",
    "        return 0\n",
    "    elif n==1:\n",
    "        return 1\n",
    "    else:\n",
    "        a,b = 0,1\n",
    "        for _ in range(n-1):\n",
    "            a,b=b,a+b\n",
    "        return b\n",
    "print(fib(10))\n",
    "        "
   ]
  },
  {
   "cell_type": "code",
   "execution_count": 49,
   "id": "43718255",
   "metadata": {},
   "outputs": [
    {
     "name": "stdout",
     "output_type": "stream",
     "text": [
      "[0, 1, 1, 2, 3, 5, 8, 13, 21, 34]\n"
     ]
    }
   ],
   "source": [
    "def fibonacci_iterative(n):\n",
    "    if n <= 0:\n",
    "        return []\n",
    "    elif n == 1:\n",
    "        return [0]\n",
    "    elif n == 2:\n",
    "        return [0, 1]\n",
    "    \n",
    "    fib_seq = [0, 1]\n",
    "    for i in range(2, n):\n",
    "        fib_seq.append(fib_seq[-1] + fib_seq[-2])\n",
    "    return fib_seq\n",
    "\n",
    "# Example\n",
    "print(fibonacci_iterative(10))  # Output: [0, 1, 1, 2, 3, 5, 8, 13, 21, 34]\n"
   ]
  },
  {
   "cell_type": "markdown",
   "id": "a55a5508",
   "metadata": {},
   "source": [
    "# 3. Find the Maximum Element in a List\n",
    "Question: Write a function to find the maximum element in a list without using the built-in max() function."
   ]
  },
  {
   "cell_type": "code",
   "execution_count": 52,
   "id": "e18e19ea",
   "metadata": {},
   "outputs": [
    {
     "name": "stdout",
     "output_type": "stream",
     "text": [
      "77\n"
     ]
    }
   ],
   "source": [
    "def max_valu(lst):\n",
    "    max_val = lst[0]\n",
    "    for num in lst:\n",
    "        if num >= max_val:\n",
    "            max_val = num\n",
    "    return num\n",
    "lst = [22,44,55,66,77]\n",
    "\n",
    "print(max_valu(lst))\n"
   ]
  },
  {
   "cell_type": "code",
   "execution_count": 72,
   "id": "313da50c",
   "metadata": {},
   "outputs": [
    {
     "name": "stdout",
     "output_type": "stream",
     "text": [
      "Maximum value: 9\n"
     ]
    }
   ],
   "source": [
    "def find_max(lst):\n",
    "    if not lst:\n",
    "        return None  # Return None for an empty list\n",
    "    return max(lst)\n",
    "\n",
    "# Example list\n",
    "lst = [1, 3, 7, 5, 9, 2]\n",
    "\n",
    "# Find the maximum value in the list\n",
    "max_value = find_max(lst)\n",
    "print(\"Maximum value:\", max_value)  # Output: Maximum value: 9\n"
   ]
  },
  {
   "cell_type": "markdown",
   "id": "d56fc2b4",
   "metadata": {},
   "source": [
    "# Reverse string"
   ]
  },
  {
   "cell_type": "code",
   "execution_count": 54,
   "id": "6bec4dac",
   "metadata": {},
   "outputs": [
    {
     "name": "stdout",
     "output_type": "stream",
     "text": [
      "olleh\n"
     ]
    }
   ],
   "source": [
    "def reverse_string(s):\n",
    "    return s[::-1]\n",
    "\n",
    "# Test\n",
    "print(reverse_string(\"hello\"))  # Output: \"olleh\"\n"
   ]
  },
  {
   "cell_type": "markdown",
   "id": "8d57fa09",
   "metadata": {},
   "source": [
    "# PRIME OR NOT"
   ]
  },
  {
   "cell_type": "code",
   "execution_count": 55,
   "id": "803c630d",
   "metadata": {},
   "outputs": [
    {
     "name": "stdout",
     "output_type": "stream",
     "text": [
      "Prime numbers between 900 and 1000 are:\n",
      "907\n",
      "911\n",
      "919\n",
      "929\n",
      "937\n",
      "941\n",
      "947\n",
      "953\n",
      "967\n",
      "971\n",
      "977\n",
      "983\n",
      "991\n",
      "997\n"
     ]
    }
   ],
   "source": [
    "# Python program to display all the prime numbers within an interval\n",
    "\n",
    "lower = 900\n",
    "upper = 1000\n",
    "\n",
    "print(\"Prime numbers between\", lower, \"and\", upper, \"are:\")\n",
    "\n",
    "for num in range(lower, upper + 1):\n",
    "   # all prime numbers are greater than 1\n",
    "   if num > 1:\n",
    "       for i in range(2, num):\n",
    "           if (num % i) == 0:\n",
    "               break\n",
    "       else:\n",
    "           print(num)"
   ]
  },
  {
   "cell_type": "code",
   "execution_count": 71,
   "id": "0300a03d",
   "metadata": {},
   "outputs": [
    {
     "name": "stdout",
     "output_type": "stream",
     "text": [
      "prime\n",
      "not prime\n",
      "prime\n",
      "prime\n",
      "prime\n",
      "not prime\n",
      "prime\n",
      "prime\n",
      "prime\n",
      "prime\n",
      "prime\n",
      "not prime\n",
      "prime\n",
      "not prime\n",
      "not prime\n",
      "10\n"
     ]
    }
   ],
   "source": [
    "#from collections import counter\n",
    "def prime(n):\n",
    "    count = 0\n",
    "    for n in range(0,n+1):\n",
    "        if n>1:\n",
    "            for i in range(2,n):\n",
    "                if n%i == 0:\n",
    "                    print(\"not prime\")\n",
    "                    break\n",
    "                else:\n",
    "                    print(\"prime\")\n",
    "                \n",
    "    return (n)\n",
    "\n",
    "n=10\n",
    "\n",
    "print(prime(n))"
   ]
  },
  {
   "cell_type": "code",
   "execution_count": 13,
   "id": "e94f75b2",
   "metadata": {},
   "outputs": [
    {
     "name": "stdout",
     "output_type": "stream",
     "text": [
      "4 not a prime no\n",
      "5 a prime\n",
      "6 not a prime no\n",
      "7 a prime\n",
      "8 not a prime no\n",
      "9 a prime\n",
      "9 not a prime no\n",
      "10 not a prime no\n",
      "11 a prime\n",
      "11 a prime\n",
      "12 not a prime no\n",
      "13 a prime\n",
      "13 a prime\n",
      "14 not a prime no\n",
      "15 a prime\n",
      "15 not a prime no\n",
      "16 not a prime no\n",
      "17 a prime\n",
      "17 a prime\n",
      "17 a prime\n",
      "18 not a prime no\n",
      "19 a prime\n",
      "19 a prime\n",
      "19 a prime\n",
      "20 not a prime no\n",
      "21 a prime\n",
      "21 not a prime no\n",
      "22 not a prime no\n",
      "23 a prime\n",
      "23 a prime\n",
      "23 a prime\n",
      "24 not a prime no\n",
      "25 a prime\n",
      "25 a prime\n",
      "25 a prime\n",
      "25 not a prime no\n",
      "26 not a prime no\n",
      "27 a prime\n",
      "27 not a prime no\n",
      "28 not a prime no\n",
      "29 a prime\n",
      "29 a prime\n",
      "29 a prime\n",
      "29 a prime\n",
      "30 not a prime no\n",
      "31 a prime\n",
      "31 a prime\n",
      "31 a prime\n",
      "31 a prime\n",
      "32 not a prime no\n",
      "33 a prime\n",
      "33 not a prime no\n",
      "34 not a prime no\n",
      "35 a prime\n",
      "35 a prime\n",
      "35 a prime\n",
      "35 not a prime no\n",
      "36 not a prime no\n",
      "37 a prime\n",
      "37 a prime\n",
      "37 a prime\n",
      "37 a prime\n",
      "37 a prime\n",
      "38 not a prime no\n",
      "39 a prime\n",
      "39 not a prime no\n",
      "40 not a prime no\n",
      "41 a prime\n",
      "41 a prime\n",
      "41 a prime\n",
      "41 a prime\n",
      "41 a prime\n",
      "42 not a prime no\n",
      "43 a prime\n",
      "43 a prime\n",
      "43 a prime\n",
      "43 a prime\n",
      "43 a prime\n",
      "44 not a prime no\n",
      "45 a prime\n",
      "45 not a prime no\n",
      "46 not a prime no\n",
      "47 a prime\n",
      "47 a prime\n",
      "47 a prime\n",
      "47 a prime\n",
      "47 a prime\n",
      "48 not a prime no\n",
      "49 a prime\n",
      "49 a prime\n",
      "49 a prime\n",
      "49 a prime\n",
      "49 a prime\n",
      "49 not a prime no\n",
      "50 not a prime no\n",
      "51 a prime\n",
      "51 not a prime no\n",
      "52 not a prime no\n",
      "53 a prime\n",
      "53 a prime\n",
      "53 a prime\n",
      "53 a prime\n",
      "53 a prime\n",
      "53 a prime\n",
      "54 not a prime no\n",
      "55 a prime\n",
      "55 a prime\n",
      "55 a prime\n",
      "55 not a prime no\n",
      "56 not a prime no\n",
      "57 a prime\n",
      "57 not a prime no\n",
      "58 not a prime no\n",
      "59 a prime\n",
      "59 a prime\n",
      "59 a prime\n",
      "59 a prime\n",
      "59 a prime\n",
      "59 a prime\n",
      "60 not a prime no\n",
      "61 a prime\n",
      "61 a prime\n",
      "61 a prime\n",
      "61 a prime\n",
      "61 a prime\n",
      "61 a prime\n",
      "62 not a prime no\n",
      "63 a prime\n",
      "63 not a prime no\n",
      "64 not a prime no\n",
      "65 a prime\n",
      "65 a prime\n",
      "65 a prime\n",
      "65 not a prime no\n",
      "66 not a prime no\n",
      "67 a prime\n",
      "67 a prime\n",
      "67 a prime\n",
      "67 a prime\n",
      "67 a prime\n",
      "67 a prime\n",
      "67 a prime\n",
      "68 not a prime no\n",
      "69 a prime\n",
      "69 not a prime no\n",
      "70 not a prime no\n",
      "71 a prime\n",
      "71 a prime\n",
      "71 a prime\n",
      "71 a prime\n",
      "71 a prime\n",
      "71 a prime\n",
      "71 a prime\n",
      "72 not a prime no\n",
      "73 a prime\n",
      "73 a prime\n",
      "73 a prime\n",
      "73 a prime\n",
      "73 a prime\n",
      "73 a prime\n",
      "73 a prime\n",
      "74 not a prime no\n",
      "75 a prime\n",
      "75 not a prime no\n",
      "76 not a prime no\n",
      "77 a prime\n",
      "77 a prime\n",
      "77 a prime\n",
      "77 a prime\n",
      "77 a prime\n",
      "77 not a prime no\n",
      "78 not a prime no\n",
      "79 a prime\n",
      "79 a prime\n",
      "79 a prime\n",
      "79 a prime\n",
      "79 a prime\n",
      "79 a prime\n",
      "79 a prime\n",
      "80 not a prime no\n",
      "81 a prime\n",
      "81 not a prime no\n",
      "82 not a prime no\n",
      "83 a prime\n",
      "83 a prime\n",
      "83 a prime\n",
      "83 a prime\n",
      "83 a prime\n",
      "83 a prime\n",
      "83 a prime\n",
      "83 a prime\n",
      "84 not a prime no\n",
      "85 a prime\n",
      "85 a prime\n",
      "85 a prime\n",
      "85 not a prime no\n",
      "86 not a prime no\n",
      "87 a prime\n",
      "87 not a prime no\n",
      "88 not a prime no\n",
      "89 a prime\n",
      "89 a prime\n",
      "89 a prime\n",
      "89 a prime\n",
      "89 a prime\n",
      "89 a prime\n",
      "89 a prime\n",
      "89 a prime\n",
      "90 not a prime no\n",
      "91 a prime\n",
      "91 a prime\n",
      "91 a prime\n",
      "91 a prime\n",
      "91 a prime\n",
      "91 not a prime no\n",
      "92 not a prime no\n",
      "93 a prime\n",
      "93 not a prime no\n",
      "94 not a prime no\n",
      "95 a prime\n",
      "95 a prime\n",
      "95 a prime\n",
      "95 not a prime no\n",
      "96 not a prime no\n",
      "97 a prime\n",
      "97 a prime\n",
      "97 a prime\n",
      "97 a prime\n",
      "97 a prime\n",
      "97 a prime\n",
      "97 a prime\n",
      "97 a prime\n",
      "98 not a prime no\n",
      "99 a prime\n",
      "99 not a prime no\n",
      "100 not a prime no\n",
      "Number of primes up to 100 : 25\n"
     ]
    }
   ],
   "source": [
    "def is_prime(n):\n",
    "    if n<=1:\n",
    "        return False\n",
    "    for i in range(2,int(n**0.5)+1):\n",
    "        if n%i == 0:\n",
    "            print(f'{n} not a prime no')\n",
    "            return False\n",
    "        print(f'{n} a prime')\n",
    "            \n",
    "    return True\n",
    "        \n",
    "def prime_count(n):\n",
    "    count = 0\n",
    "    for num in range(2,n+1):\n",
    "        if is_prime(num):\n",
    "            count+=1\n",
    "    return count\n",
    "\n",
    "# Example\n",
    "limit = 100\n",
    "\n",
    "print(\"Number of primes up to\", limit, \":\", prime_count(limit))  # Output: Number of primes up to 100 : 25"
   ]
  },
  {
   "cell_type": "code",
   "execution_count": 2,
   "id": "ad5d0730",
   "metadata": {},
   "outputs": [
    {
     "name": "stdout",
     "output_type": "stream",
     "text": [
      "Number of primes up to 100 : 25\n"
     ]
    }
   ],
   "source": [
    "from sympy import primerange\n",
    "\n",
    "def count_primes_sympy(n):\n",
    "    return len(list(primerange(2, n + 1)))\n",
    "\n",
    "# Example\n",
    "limit = 100\n",
    "print(\"Number of primes up to\", limit, \":\", count_primes_sympy(limit))  # Output: Number of primes up to 100 : 25\n"
   ]
  },
  {
   "cell_type": "code",
   "execution_count": null,
   "id": "e45a4b5d",
   "metadata": {},
   "outputs": [],
   "source": []
  }
 ],
 "metadata": {
  "kernelspec": {
   "display_name": "Python 3 (ipykernel)",
   "language": "python",
   "name": "python3"
  },
  "language_info": {
   "codemirror_mode": {
    "name": "ipython",
    "version": 3
   },
   "file_extension": ".py",
   "mimetype": "text/x-python",
   "name": "python",
   "nbconvert_exporter": "python",
   "pygments_lexer": "ipython3",
   "version": "3.9.13"
  }
 },
 "nbformat": 4,
 "nbformat_minor": 5
}
