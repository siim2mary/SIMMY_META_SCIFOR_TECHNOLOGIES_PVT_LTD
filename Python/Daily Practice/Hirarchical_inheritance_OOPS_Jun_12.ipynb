{
  "nbformat": 4,
  "nbformat_minor": 0,
  "metadata": {
    "colab": {
      "provenance": []
    },
    "kernelspec": {
      "name": "python3",
      "display_name": "Python 3"
    },
    "language_info": {
      "name": "python"
    }
  },
  "cells": [
    {
      "cell_type": "markdown",
      "source": [
        "# **Hirarchical inheritance** :- Combination of\n",
        "\n",
        "---\n",
        "\n",
        "\n",
        "Hierarchical Inheritance is a specific form of inheritance in Python that involves a single base class with multiple derived classes."
      ],
      "metadata": {
        "id": "S4HQWCIk4AeB"
      }
    },
    {
      "cell_type": "code",
      "execution_count": 14,
      "metadata": {
        "colab": {
          "base_uri": "https://localhost:8080/"
        },
        "id": "raxO2Ktn3uXV",
        "outputId": "2863d79c-282c-48a5-cfe1-f626c6e9e953"
      },
      "outputs": [
        {
          "output_type": "stream",
          "name": "stdout",
          "text": [
            "Hira says woof!\n",
            "Cathy of age 4 says Meow!\n"
          ]
        }
      ],
      "source": [
        "class Animal:\n",
        "  def __init__(self,name,age):\n",
        "    self.name = name\n",
        "    self.age = age\n",
        "\n",
        "  def get_name(self):\n",
        "    print(f'The name is {self.get_name()}')\n",
        "    return f\"{self.get_name()}\"\n",
        "\n",
        "  def get_age(self):\n",
        "    print(f'The age of animal is {self.get_age}')\n",
        "\n",
        "  def speak(self):\n",
        "    pass\n",
        "\n",
        "#Derived class 1 base class Animal\n",
        "class Dog(Animal):\n",
        "  def speak(self):\n",
        "    return f\"{self.name} says woof!\"\n",
        "\n",
        "#Derived class 2 base class Animal\n",
        "class Cat(Animal):\n",
        "  def speak(self):\n",
        "    return f\"{self.name} of age {self.age} says Meow!\"\n",
        "\n",
        "# Create instances of Dog and Cat\n",
        "dog= Dog(\"Hira\",3)\n",
        "cat = Cat(\"Cathy\", 4)\n",
        "\n",
        "print(dog.speak()) # Inherited method calls\n",
        "print(cat.speak()) #"
      ]
    },
    {
      "cell_type": "code",
      "source": [
        "class Animal:\n",
        "  def speak(self,name):\n",
        "    self.name = name\n",
        "\n",
        "    return f\"The animal roars {self.name} says ROOO\"\n",
        "\n",
        "class Dog(Animal):\n",
        "  def bark(self):\n",
        "    return f\"The animal barks {self.name} says WOOOOF\"\n",
        "\n",
        "class Cat(Animal):\n",
        "  def meow(self):\n",
        "    return f\"The animal meows {self.name} says MEOOWWW\"\n",
        "\n",
        "dog = Dog()\n",
        "cat = Cat()\n",
        "\n",
        "dog.speak(\"ROMIO\")\n",
        "dog.bark()\n",
        "\n",
        "cat.speak(\"KATHY\")\n",
        "cat.meow()"
      ],
      "metadata": {
        "colab": {
          "base_uri": "https://localhost:8080/",
          "height": 36
        },
        "id": "wZBOVZJU91cX",
        "outputId": "4a500054-7781-4088-810f-e3d1a63c45a7"
      },
      "execution_count": 22,
      "outputs": [
        {
          "output_type": "execute_result",
          "data": {
            "text/plain": [
              "'The animal meows KATHY says MEOOWWW'"
            ],
            "application/vnd.google.colaboratory.intrinsic+json": {
              "type": "string"
            }
          },
          "metadata": {},
          "execution_count": 22
        }
      ]
    },
    {
      "cell_type": "code",
      "source": [
        "class Animal:\n",
        "  def speak(self,name):\n",
        "    self.name = name\n",
        "    print(f'The animal roars {self.name} says roar!')\n",
        "\n",
        "\n",
        "class Dog(Animal):\n",
        "  def bark(self):\n",
        "    print(f'The animal barks {self.name} says WOOF!')\n",
        "    return f\"{self.name} says woooof\"\n",
        "\n",
        "class Cat(Animal):\n",
        "  def meow(self):\n",
        "    print(f'The animal meow {self.name} says MEOOW!')\n",
        "    return f\"{self.name} says meoooow\"\n",
        "\n",
        "dog = Dog()\n",
        "cat = Cat()\n",
        "\n",
        "dog.speak(\"ROMIO\")\n",
        "dog.bark()\n",
        "print(\"***************************************\\n\")\n",
        "\n",
        "cat.speak(\"KATHY\")\n",
        "cat.meow()"
      ],
      "metadata": {
        "colab": {
          "base_uri": "https://localhost:8080/",
          "height": 140
        },
        "id": "C_9q9WzCAjHZ",
        "outputId": "01a0a1dd-fad5-43ed-8861-bfe0731aa703"
      },
      "execution_count": 31,
      "outputs": [
        {
          "output_type": "stream",
          "name": "stdout",
          "text": [
            "The animal roars ROMIO says roar!\n",
            "The animal barks ROMIO says WOOF!\n",
            "***************************************\n",
            "\n",
            "The animal roars KATHY says roar!\n",
            "The animal meow KATHY says MEOOW!\n"
          ]
        },
        {
          "output_type": "execute_result",
          "data": {
            "text/plain": [
              "'KATHY says meoooow'"
            ],
            "application/vnd.google.colaboratory.intrinsic+json": {
              "type": "string"
            }
          },
          "metadata": {},
          "execution_count": 31
        }
      ]
    },
    {
      "cell_type": "markdown",
      "source": [
        "Why the return Value is Not Printed\n",
        "In your code, the Dog and Cat classes both have methods (bark and meow) that contain return statements. However, these return values of dog (dog,bark) are not printed because they are not explicitly passed to the print function."
      ],
      "metadata": {
        "id": "XgaNrPrCEadA"
      }
    },
    {
      "cell_type": "markdown",
      "source": [
        "# **DIFFERENCE BETWEEN PRINT AND RETURN**\n",
        "\n",
        "---\n",
        "\n"
      ],
      "metadata": {
        "id": "ECFp4M-7EwEA"
      }
    },
    {
      "cell_type": "markdown",
      "source": [
        "The difference between print and return statements in the code lies in what they do and how their results are utilized.\n",
        "\n",
        "print Statement\n",
        "The print function outputs the specified message to the console.\n",
        "It is used for displaying messages to the user.\n",
        "It does not affect the flow of the program or return any value that can be further used in the code.\n",
        "return Statement\n",
        "The return statement exits a function and optionally passes back an expression or value to the caller.\n",
        "It is used to send a result back to the part of the program that called the function, which can then be stored in a variable or used in further operations.\n",
        "The return value is not automatically printed to the console."
      ],
      "metadata": {
        "id": "T1ftFLkTEspo"
      }
    },
    {
      "cell_type": "code",
      "source": [
        "class Animal:\n",
        "    def speak(self, name):\n",
        "        self.name = name\n",
        "        print(f'The animal roars {self.name} says roar!')\n",
        "\n",
        "class Dog(Animal):\n",
        "    def bark(self):\n",
        "        print(f'The animal barks {self.name} says WOOF!')\n",
        "        return f\"{self.name} says woooof\"\n",
        "\n",
        "class Cat(Animal):\n",
        "    def meow(self):\n",
        "        print(f'The animal meow {self.name} says MEOOW!')\n",
        "        return f\"{self.name} says meoooow\"\n",
        "\n",
        "dog = Dog()\n",
        "cat = Cat()\n",
        "\n",
        "dog.speak(\"ROMIO\")\n",
        "bark_message = dog.bark()\n",
        "print(bark_message)  # This will print the return value of dog.bark()\n",
        "print(\"***************************************\\n\")\n",
        "\n",
        "cat.speak(\"KATHY\")\n",
        "meow_message = cat.meow()\n",
        "print(meow_message)  # This will print the return value of cat.meow()\n"
      ],
      "metadata": {
        "colab": {
          "base_uri": "https://localhost:8080/"
        },
        "id": "-kJ9d2HFDsFh",
        "outputId": "3b3c29f6-04f4-4505-a02b-d8bf267091bd"
      },
      "execution_count": 32,
      "outputs": [
        {
          "output_type": "stream",
          "name": "stdout",
          "text": [
            "The animal roars ROMIO says roar!\n",
            "The animal barks ROMIO says WOOF!\n",
            "ROMIO says woooof\n",
            "***************************************\n",
            "\n",
            "The animal roars KATHY says roar!\n",
            "The animal meow KATHY says MEOOW!\n",
            "KATHY says meoooow\n"
          ]
        }
      ]
    },
    {
      "cell_type": "markdown",
      "source": [
        "To see the returned values from the methods bark and meow, you need to capture these return values in a variable and then print them explicitly."
      ],
      "metadata": {
        "id": "DRTZupiPD0bH"
      }
    },
    {
      "cell_type": "markdown",
      "source": [
        "dog.speak(\"ROMIO\")\n"
      ],
      "metadata": {
        "id": "bPdqDBQ2D-pY"
      }
    },
    {
      "cell_type": "markdown",
      "source": [
        "This calls the speak method of the Dog class, setting self.name to \"ROMIO\" and printing \"The animal roars ROMIO says roar!\"."
      ],
      "metadata": {
        "id": "8C2-A7huD9Nf"
      }
    },
    {
      "cell_type": "markdown",
      "source": [
        "dog.bark()\n",
        "This calls the bark method of the Dog class, printing \"The animal barks ROMIO says WOOF!\" and returning \"ROMIO says woooof\", but this return value is not used or printed.\n",
        "\n",
        "cat.speak(\"KATHY\")\n",
        "This calls the speak method of the Cat class, setting self.name to \"KATHY\" and printing \"The animal roars KATHY says roar!\".\n",
        "\n",
        "\n",
        "cat.meow()\n",
        "This calls the meow method of the Cat class, printing \"The animal meow KATHY says MEOOW!\" and returning \"KATHY says meoooow\", but again, this return value is not used or printed directly.\n",
        "To see the returned values from the methods bark and meow, you need to capture these return values in a variable and then print them explicitly."
      ],
      "metadata": {
        "id": "ZplrUHtwEBfX"
      }
    },
    {
      "cell_type": "markdown",
      "source": [
        "# **DIFFERENCE BETWEEN self.get_name() and self.name()**\n",
        "\n",
        "---\n",
        "\n"
      ],
      "metadata": {
        "id": "dqGdjkZ6FMWm"
      }
    },
    {
      "cell_type": "markdown",
      "source": [
        "# In object-oriented programming, particularly in Python, **self.get_name() and self.name serve different purposes and are used in different contexts**.\n",
        "\n",
        "self.get_name()\n",
        "Method Call: This represents a method call. self.get_name() is calling a method named get_name defined in the class.\n",
        "\n",
        "Purpose: Methods can contain logic, computations, or additional functionality beyond simply returning a value.\n"
      ],
      "metadata": {
        "id": "dh1kkGSvFTmo"
      }
    },
    {
      "cell_type": "code",
      "source": [
        "class Animal:\n",
        "    def __init__(self, name):\n",
        "        self._name = name\n",
        "\n",
        "    def get_name(self):\n",
        "        # Additional logic can be here\n",
        "        return self._name\n",
        "\n",
        "animal = Animal(\"ROMIO\")\n",
        "print(animal.get_name())  # Calls the method get_name()\n"
      ],
      "metadata": {
        "colab": {
          "base_uri": "https://localhost:8080/"
        },
        "id": "PRh8qXxsFZtR",
        "outputId": "9598c681-a5f7-4db6-e87f-df6e8404fa16"
      },
      "execution_count": 33,
      "outputs": [
        {
          "output_type": "stream",
          "name": "stdout",
          "text": [
            "ROMIO\n"
          ]
        }
      ]
    },
    {
      "cell_type": "markdown",
      "source": [
        "# **self.name**\n",
        "\n",
        "---\n",
        "\n",
        "\n",
        "Attribute Access: This accesses an attribute (or property) of the instance. self.name refers to an attribute named name that is part of the instance.\n",
        "Purpose: Direct attribute access is typically used for simple data storage and retrieval without additional logic."
      ],
      "metadata": {
        "id": "KPkivh7wFvgY"
      }
    },
    {
      "cell_type": "code",
      "source": [
        "class Animal:\n",
        "    def __init__(self, name):\n",
        "        self.name = name\n",
        "\n",
        "animal = Animal(\"ROMIO\")\n",
        "print(animal.name)  # Directly accesses the attribute name\n"
      ],
      "metadata": {
        "colab": {
          "base_uri": "https://localhost:8080/"
        },
        "id": "SNU3csuEF0dt",
        "outputId": "9fe180b2-2137-4150-febe-475651ed7144"
      },
      "execution_count": 34,
      "outputs": [
        {
          "output_type": "stream",
          "name": "stdout",
          "text": [
            "ROMIO\n"
          ]
        }
      ]
    },
    {
      "cell_type": "markdown",
      "source": [
        "# **When to Use Each**\n",
        "\n",
        "---\n",
        "\n",
        "\n",
        "# **Use self.get_name() (Method)** When:\n",
        "\n",
        "You need to perform additional logic or validation when accessing the value.\n",
        "You want to encapsulate the internal representation and provide a consistent interface for accessing data.\n",
        "You anticipate the need to extend or modify the behavior in the future without changing the interface."
      ],
      "metadata": {
        "id": "gF55wSBkF6gp"
      }
    },
    {
      "cell_type": "code",
      "source": [
        "class Animal:\n",
        "    def __init__(self, name):\n",
        "        self._name = name\n",
        "\n",
        "    def get_name(self):\n",
        "        # Imagine adding additional logic here later\n",
        "        return self._name\n"
      ],
      "metadata": {
        "id": "ux-2NazUGAqh"
      },
      "execution_count": 35,
      "outputs": []
    },
    {
      "cell_type": "markdown",
      "source": [
        "# **Use self.name (Attribute) When:**\n",
        "\n",
        "---\n",
        "\n",
        "\n",
        "\n",
        "You only need to store and retrieve a value without any additional processing.\n",
        "The attribute is simple, and there is no need for encapsulation or extra logic."
      ],
      "metadata": {
        "id": "V50SkNeRGHPu"
      }
    },
    {
      "cell_type": "code",
      "source": [
        "class Animal:\n",
        "    def __init__(self, name):\n",
        "        self.name = name\n"
      ],
      "metadata": {
        "id": "sCBNSJlXGPEh"
      },
      "execution_count": 36,
      "outputs": []
    },
    {
      "cell_type": "markdown",
      "source": [
        "# **Combined Approach: Using Properties**\n",
        "\n",
        "---\n",
        "\n",
        "\n",
        "\n",
        "Python provides a feature called properties that allows you to use attribute-style access with the ability to add getter, setter, and deleter methods."
      ],
      "metadata": {
        "id": "G77_sE_KGSl5"
      }
    },
    {
      "cell_type": "code",
      "source": [
        "class Animal:\n",
        "    def __init__(self, name):\n",
        "        self._name = name\n",
        "\n",
        "    @property\n",
        "    def name(self):\n",
        "        # Getter method\n",
        "        return self._name\n",
        "\n",
        "    @name.setter\n",
        "    def name(self, name):\n",
        "        # Setter method with validation\n",
        "        if isinstance(name, str) and name.isalpha():\n",
        "            self._name = name\n",
        "        else:\n",
        "            raise ValueError(\"Name must be a valid string\")\n"
      ],
      "metadata": {
        "id": "OJT_7sSyGYTR"
      },
      "execution_count": 37,
      "outputs": []
    },
    {
      "cell_type": "markdown",
      "source": [
        "With this approach, you can use animal.name to both get and set the value, while still having the ability to add logic in the getter and setter methods."
      ],
      "metadata": {
        "id": "M_O1RQhsGd9Q"
      }
    },
    {
      "cell_type": "markdown",
      "source": [
        "# Example of Combined **Approach**\\\n",
        "\n",
        "---\n",
        "\n"
      ],
      "metadata": {
        "id": "6Psunp3bGe8o"
      }
    },
    {
      "cell_type": "code",
      "source": [
        "animal = Animal(\"ROMIO\")\n",
        "print(animal.name)  # Uses the property getter\n",
        "\n",
        "animal.name = \"KATHY\"  # Uses the property setter\n",
        "print(animal.name)\n",
        "\n",
        "try:\n",
        "    animal.name = \"1234\"  # This will raise a ValueError due to the validation logic\n",
        "except ValueError as e:\n",
        "    print(e)\n"
      ],
      "metadata": {
        "colab": {
          "base_uri": "https://localhost:8080/"
        },
        "id": "8zTvuFUzGkhx",
        "outputId": "afec9fc7-7a30-4f8c-ebfd-1d624df540ea"
      },
      "execution_count": 38,
      "outputs": [
        {
          "output_type": "stream",
          "name": "stdout",
          "text": [
            "ROMIO\n",
            "KATHY\n",
            "Name must be a valid string\n"
          ]
        }
      ]
    },
    {
      "cell_type": "markdown",
      "source": [
        "# **Summary**\n",
        "\n",
        "---\n",
        "\n",
        "\n",
        "## self.get_name(): Use this when you need a method to ***encapsulate*** logic or perform additional actions when getting a value.\n",
        "\n",
        "self.name: Use this for simple attribute access.\n",
        "Properties: Combine the benefits of both methods and attributes by using properties to manage access and add logic as needed."
      ],
      "metadata": {
        "id": "Pl7Pt0woGq3w"
      }
    },
    {
      "cell_type": "code",
      "source": [],
      "metadata": {
        "id": "4Ax6mPz3GqUJ"
      },
      "execution_count": null,
      "outputs": []
    }
  ]
}