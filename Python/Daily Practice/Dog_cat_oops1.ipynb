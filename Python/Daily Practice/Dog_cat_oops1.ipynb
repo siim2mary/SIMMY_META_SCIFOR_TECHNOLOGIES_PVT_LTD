{
  "nbformat": 4,
  "nbformat_minor": 0,
  "metadata": {
    "colab": {
      "provenance": []
    },
    "kernelspec": {
      "name": "python3",
      "display_name": "Python 3"
    },
    "language_info": {
      "name": "python"
    }
  },
  "cells": [
    {
      "cell_type": "code",
      "execution_count": null,
      "metadata": {
        "colab": {
          "base_uri": "https://localhost:8080/"
        },
        "id": "MB6WssllKQ5Y",
        "outputId": "0ed79c9b-3a07-4fd2-fbfd-87d9137ee7d3"
      },
      "outputs": [
        {
          "output_type": "stream",
          "name": "stdout",
          "text": [
            "The dog Dash of age 12 makes sound woof\n",
            "The cat Kitty of age 4 makes sound meow\n"
          ]
        }
      ],
      "source": [
        "class Animal:\n",
        "    def make_sound(self, sound):\n",
        "        print(\"The animal makes a sound\")\n",
        "\n",
        "    def __init__(self, name, age):\n",
        "        self.__name = name\n",
        "        self.__age = age\n",
        "\n",
        "    def get_name(self):\n",
        "        return self.__name\n",
        "\n",
        "    def get_age(self):\n",
        "        return self.__age\n",
        "\n",
        "\n",
        "class Dog(Animal):\n",
        "    def make_sound(self, sound):\n",
        "        print(f\"The dog {self.get_name()} of age {self.get_age()} makes sound {sound}\")\n",
        "\n",
        "\n",
        "class Cat(Animal):\n",
        "    def make_sound(self, sound):\n",
        "        print(f\"The cat {self.get_name()} of age {self.get_age()} makes sound {sound}\")\n",
        "\n",
        "\n",
        "def speak(animal, sound):\n",
        "    animal.make_sound(sound)\n",
        "\n",
        "\n",
        "dog = Dog(\"Dash\", 12)\n",
        "cat = Cat(\"Kitty\", 4)\n",
        "\n",
        "# Call using functions created by objects\n",
        "dog.make_sound(\"woof\")\n",
        "cat.make_sound(\"meow\")\n",
        "\n",
        "# Call\n"
      ]
    },
    {
      "cell_type": "code",
      "source": [
        "class Animal:\n",
        "    def make_sound(self, sound):\n",
        "        pass\n",
        "\n",
        "    def __init__(self, name, age):\n",
        "        self.__name = name\n",
        "        self.age = age\n",
        "\n",
        "    def get_name(self):\n",
        "        return self.__name\n",
        "\n",
        "    def get_age(self):\n",
        "        return self.age\n",
        "\n",
        "\n",
        "class Dog(Animal):\n",
        "    def make_sound(self):\n",
        "        return \"woof\"\n",
        "\n",
        "\n",
        "class Cat(Animal):\n",
        "    def make_sound(self):\n",
        "        return \"meow\"\n",
        "\n",
        "\n",
        "def speak(animal):\n",
        "    print(f\"The {animal.__class__.__name__.lower()} {animal.get_name()} of age {animal.get_age()} makes sound {animal.make_sound()}\")\n",
        "\n",
        "\n",
        "# Create animal objects\n",
        "dog = Dog(\"Dash\", 12)\n",
        "cat = Cat(\"Kitty\", 4)\n",
        "\n",
        "# Call using polymorphism\n",
        "speak(dog)\n",
        "speak(cat)\n"
      ],
      "metadata": {
        "colab": {
          "base_uri": "https://localhost:8080/"
        },
        "id": "OhbjiPgnKmR1",
        "outputId": "18bfb8d2-8afa-4a13-d745-49044e10fbe2"
      },
      "execution_count": null,
      "outputs": [
        {
          "output_type": "stream",
          "name": "stdout",
          "text": [
            "The dog Dash of age 12 makes sound woof\n",
            "The cat Kitty of age 4 makes sound meow\n"
          ]
        }
      ]
    },
    {
      "cell_type": "code",
      "source": [
        "class Animal:\n",
        "    def make_sound(self):\n",
        "        pass\n",
        "\n",
        "    def __init__(self, name, age):\n",
        "        self.__name = name\n",
        "        self.age = age\n",
        "\n",
        "    def get_name(self):\n",
        "        return self.__name\n",
        "\n",
        "    def get_age(self):\n",
        "        return self.age\n",
        "\n",
        "\n",
        "class Dog(Animal):\n",
        "    sound = \"woof\"\n",
        "\n",
        "    def make_sound(self):\n",
        "        return self.sound\n",
        "\n",
        "\n",
        "class Cat(Animal):\n",
        "    sound = \"meow\"\n",
        "\n",
        "    def make_sound(self):\n",
        "        return self.sound\n",
        "\n",
        "\n",
        "def speak(animal):\n",
        "    print(f\"The {animal.__class__.__name__.lower()} {animal.get_name()} of age {animal.get_age()} makes sound {animal.make_sound()}\")\n",
        "\n",
        "\n",
        "# Create animal objects\n",
        "dog = Dog(\"Dash\", 12)\n",
        "cat = Cat(\"Kitty\", 4)\n",
        "\n",
        "# Call using polymorphism\n",
        "speak(dog)\n",
        "speak(cat)\n"
      ],
      "metadata": {
        "colab": {
          "base_uri": "https://localhost:8080/"
        },
        "id": "sau6hXLwKyZM",
        "outputId": "86d81615-e4e3-4fe5-ca93-7ed67ab78df7"
      },
      "execution_count": null,
      "outputs": [
        {
          "output_type": "stream",
          "name": "stdout",
          "text": [
            "The dog Dash of age 12 makes sound woof\n",
            "The cat Kitty of age 4 makes sound meow\n"
          ]
        }
      ]
    },
    {
      "cell_type": "code",
      "source": [
        "class Animal:\n",
        "    def make_sound(self):\n",
        "        pass\n",
        "\n",
        "class Dog(Animal):\n",
        "    def make_sound(self):\n",
        "        return \"woof\"\n",
        "\n",
        "class Cat(Animal):\n",
        "    def make_sound(self):\n",
        "        return \"meow\"\n",
        "\n",
        "def speak(animal):\n",
        "    print(f\"The {animal.__class__.__name__.lower()} makes sound {animal.make_sound()}\")\n",
        "\n",
        "# Create animal objects\n",
        "dog = Dog()\n",
        "cat = Cat()\n",
        "\n",
        "# Call using polymorphism\n",
        "speak(dog)\n",
        "speak(cat)\n"
      ],
      "metadata": {
        "colab": {
          "base_uri": "https://localhost:8080/"
        },
        "id": "Oywq5MI2LTOJ",
        "outputId": "6e2332b5-75df-43f4-945a-64fbe3543653"
      },
      "execution_count": null,
      "outputs": [
        {
          "output_type": "stream",
          "name": "stdout",
          "text": [
            "The dog makes sound woof\n",
            "The cat makes sound meow\n"
          ]
        }
      ]
    },
    {
      "cell_type": "code",
      "source": [
        "class Animal:\n",
        "  def make_sound(self):\n",
        "    print(\"Generic animal sound\")\n",
        "\n",
        "class Dog(Animal):\n",
        "  def make_sound(self):\n",
        "    print(\"Woof\")\n",
        "\n",
        "class Cat(Animal):\n",
        "  def make_sound(self):\n",
        "    print(\"Meow\")\n",
        "\n",
        "def speak(animal):  #speak- method responsible for polymorphism  , animal- object\n",
        "  animal.make_sound() #call function or method make_sound using object animal created using speak(another function)\n",
        "\n",
        "#create Animal object\n",
        "dog = Dog()\n",
        "cat = Cat()\n",
        "\n",
        "#call Animal using speak(another function)\n",
        "speak(dog)\n",
        "speak(cat)\n",
        "\n",
        "\n"
      ],
      "metadata": {
        "colab": {
          "base_uri": "https://localhost:8080/"
        },
        "id": "h8OXUmZKLZnN",
        "outputId": "5a04ae17-6281-43be-ecbc-10f699b33587"
      },
      "execution_count": null,
      "outputs": [
        {
          "output_type": "stream",
          "name": "stdout",
          "text": [
            "Woof\n",
            "Meow\n"
          ]
        }
      ]
    }
  ]
}