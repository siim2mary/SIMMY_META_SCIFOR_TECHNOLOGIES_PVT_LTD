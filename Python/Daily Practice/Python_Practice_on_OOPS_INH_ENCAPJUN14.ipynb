{
  "nbformat": 4,
  "nbformat_minor": 0,
  "metadata": {
    "colab": {
      "provenance": []
    },
    "kernelspec": {
      "name": "python3",
      "display_name": "Python 3"
    },
    "language_info": {
      "name": "python"
    }
  },
  "cells": [
    {
      "cell_type": "markdown",
      "source": [
        "# **1 :ENCAPSULATION **\n",
        "\n",
        "---\n",
        "\n",
        "\n",
        "Bundling ofb Data and attributes or functions to a single unit called class."
      ],
      "metadata": {
        "id": "j99eiUWABvds"
      }
    },
    {
      "cell_type": "markdown",
      "source": [
        "Problem Statement\n",
        "### Create a class Rectangle that has private attributes length and width. Provide methods to ***set and get*** the values of these attributes, and a method to calculate the area of the rectangle."
      ],
      "metadata": {
        "id": "Bw12A5n-BtEV"
      }
    },
    {
      "cell_type": "code",
      "execution_count": null,
      "metadata": {
        "colab": {
          "base_uri": "https://localhost:8080/"
        },
        "id": "uIJ5OvXX_yHE",
        "outputId": "5159bb66-7466-489b-d4a6-f94a7ec28d2a"
      },
      "outputs": [
        {
          "output_type": "stream",
          "name": "stdout",
          "text": [
            "The length of Rectangle is 5\n",
            "5\n",
            "The width of Rectangle is 10\n",
            "10\n",
            "The Area of Rectangle is:50\n",
            "50\n",
            "**********************************************\n",
            "None\n",
            "None\n",
            "The length of Rectangle is 3\n",
            "3\n",
            "The width of Rectangle is 2\n",
            "2\n",
            "The Area of Rectangle is:6\n",
            "6\n"
          ]
        }
      ],
      "source": [
        "class Rect:\n",
        "  def __init__(self, length, width):\n",
        "    self.__length = length\n",
        "    self.__width = width\n",
        "\n",
        "  def set_len(self,length): #   # Setter for length\n",
        "    self.__length = length\n",
        "\n",
        "     # Public method to access private attribute\n",
        "  def get_len(self):             # getter for length\n",
        "    print(f'The length of Rectangle is {self.__length}')\n",
        "    return self.__length\n",
        "\n",
        "  def set_wid(self,width):\n",
        "    self.__width = width\n",
        "\n",
        "  def get_wid(self):\n",
        "    print(f'The width of Rectangle is {self.__width}')\n",
        "    return self.__width\n",
        "\n",
        "#Method to calculate area\n",
        "  def Area(self):\n",
        "    print(f'The Area of Rectangle is:{self.__length * self.__width}')\n",
        "    return self.__length *self.__width\n",
        "\n",
        "\n",
        "my_obj = Rect(5,10)\n",
        "\n",
        "print(my_obj.get_len())  # Initial length\n",
        "print(my_obj.get_wid())  # Initial width\n",
        "print(my_obj.Area())     # Initial Area\n",
        "\n",
        "print(\"**********************************************\")\n",
        "#To get Updated value of length and width and area we use set_len,set_wid\n",
        "print(my_obj.set_len(3))        #  set Updated length\n",
        "print(my_obj.set_wid(2))        # set Updated Width\n",
        "\n",
        "#my_obj = Rect(3,2)\n",
        "\n",
        "print(my_obj.get_len())     #Get the result of Updated Length\n",
        "print(my_obj.get_wid())     #Get the result of Updated width\n",
        "print(my_obj.Area())        #Get the result of updated Area\n"
      ]
    },
    {
      "cell_type": "code",
      "source": [
        "class Rectangle:\n",
        "    def __init__(self, length, width):\n",
        "        self.__length = length\n",
        "        self.__width = width\n",
        "\n",
        "    # Setter for length\n",
        "    def set_length(self, length):\n",
        "        self.__length = length\n",
        "\n",
        "    # Getter for length\n",
        "    def get_length(self):\n",
        "        return self.__length\n",
        "\n",
        "    # Setter for width\n",
        "    def set_width(self, width):\n",
        "        self.__width = width\n",
        "\n",
        "    # Getter for width\n",
        "    def get_width(self):\n",
        "        return self.__width\n",
        "\n",
        "    # Method to calculate area\n",
        "    def calculate_area(self):\n",
        "        return self.__length * self.__width\n",
        "\n",
        "# Usage\n",
        "rectangle = Rectangle(10, 5)\n",
        "print(\"Initial Length:\", rectangle.get_length())\n",
        "print(\"Initial Width:\", rectangle.get_width())\n",
        "print(\"Initial Area:\", rectangle.calculate_area())\n",
        "\n",
        "rectangle.set_length(20)\n",
        "rectangle.set_width(10)\n",
        "print(\"Updated Length:\", rectangle.get_length())\n",
        "print(\"Updated Width:\", rectangle.get_width())\n",
        "print(\"Updated Area:\", rectangle.calculate_area())\n"
      ],
      "metadata": {
        "colab": {
          "base_uri": "https://localhost:8080/"
        },
        "id": "Hc9MW1CxG0IK",
        "outputId": "e84fdc20-6fbe-441d-c1a4-1bf762650930"
      },
      "execution_count": null,
      "outputs": [
        {
          "output_type": "stream",
          "name": "stdout",
          "text": [
            "Initial Length: 10\n",
            "Initial Width: 5\n",
            "Initial Area: 50\n",
            "Updated Length: 20\n",
            "Updated Width: 10\n",
            "Updated Area: 200\n"
          ]
        }
      ]
    },
    {
      "cell_type": "code",
      "source": [
        "class Rect:\n",
        "    def __init__(self, length, width):\n",
        "        self.__length = length\n",
        "        self.__width = width\n",
        "\n",
        "    # Setter for length\n",
        "    def set_len(self, length):\n",
        "        self.__length = length\n",
        "\n",
        "    # Getter for length\n",
        "    def get_len(self):\n",
        "        print(f'The length of Rectangle is {self.__length}')\n",
        "        return self.__length\n",
        "\n",
        "    # Setter for width\n",
        "    def set_wid(self, width):\n",
        "        self.__width = width\n",
        "\n",
        "    # Getter for width\n",
        "    def get_wid(self):\n",
        "        print(f'The width of Rectangle is {self.__width}')\n",
        "        return self.__width\n",
        "\n",
        "    # Method to calculate area\n",
        "    def Area(self):\n",
        "        print(f'The Area of Rectangle is {self.__length * self.__width}')\n",
        "        return self.__length * self.__width\n",
        "\n",
        "# Usage\n",
        "my_obj = Rect(5, 10)\n",
        "print(my_obj.get_len())  # Initial length\n",
        "print(my_obj.get_wid())  # Initial width\n",
        "print(my_obj.Area())     # Initial area\n",
        "\n",
        "# Update length and width using setters\n",
        "my_obj.set_len(3)\n",
        "my_obj.set_wid(2)\n",
        "\n",
        "# Display updated values and area\n",
        "print(my_obj.get_len())  # Updated length\n",
        "print(my_obj.get_wid())  # Updated width\n",
        "print(my_obj.Area())     # Updated area\n"
      ],
      "metadata": {
        "colab": {
          "base_uri": "https://localhost:8080/"
        },
        "id": "5xfc8SO2I5k7",
        "outputId": "bc66226a-a994-4fa8-a5ca-ec86032e508a"
      },
      "execution_count": null,
      "outputs": [
        {
          "output_type": "stream",
          "name": "stdout",
          "text": [
            "The length of Rectangle is 5\n",
            "5\n",
            "The width of Rectangle is 10\n",
            "10\n",
            "The Area of Rectangle is 50\n",
            "50\n",
            "The length of Rectangle is 3\n",
            "3\n",
            "The width of Rectangle is 2\n",
            "2\n",
            "The Area of Rectangle is 6\n",
            "6\n"
          ]
        }
      ]
    },
    {
      "cell_type": "markdown",
      "source": [
        "# **##Polymorphism**\n",
        "\n",
        "---\n",
        "\n",
        "\n",
        "\n",
        "\n",
        "\n",
        "# Its the imp concept in OOPS.Its is the ability of an object to take more than one forms in different classes using the same function call."
      ],
      "metadata": {
        "id": "o49KTYkcTMGI"
      }
    },
    {
      "cell_type": "markdown",
      "source": [
        "Problem 1: Basic Polymorphism with Functions\n",
        "Problem Statement\n",
        "Create a function add that takes two arguments and returns their sum. Demonstrate polymorphism by using this function to add integers, floats, and strings.\n"
      ],
      "metadata": {
        "id": "egiqeG5ITKYp"
      }
    },
    {
      "cell_type": "code",
      "source": [
        "class addition:\n",
        "  def add(self,a,b):\n",
        "    A = a+b\n",
        "    print(f'The addition of 2 strings {a} and {b} is {A}')\n",
        "    return A\n",
        "\n",
        "\n",
        "class intad(addition):\n",
        "  def add(self, a,b):\n",
        "    IA =a+b\n",
        "    print(f'The addition of integers {a} and {b} is {IA}')\n",
        "    return f'self.{IA}'\n",
        "\n",
        "\n",
        "class fload(addition):\n",
        "  def add(self,a,b):\n",
        "    FA= a+b\n",
        "    print(f'The addition of float {a} and {b} is {FA}')\n",
        "    return f'{FA}'\n",
        "\n",
        "def result(Addi,a,b):\n",
        "  Addi.add(a,b)       # Polymorphic behavior\n",
        "\n",
        "a = addition()\n",
        "i= intad()\n",
        "f = fload()\n",
        "\n",
        "result(a, \"hai\", \"helo\")\n",
        "result(i, 2, 2)\n",
        "result(f,3.2, 4.4)\n"
      ],
      "metadata": {
        "colab": {
          "base_uri": "https://localhost:8080/"
        },
        "id": "SyHpfTInNM6i",
        "outputId": "34f0d9d8-b81c-4d27-dcc5-a479f6fc6eeb"
      },
      "execution_count": null,
      "outputs": [
        {
          "output_type": "stream",
          "name": "stdout",
          "text": [
            "The addition of 2 strings hai and helo is haihelo\n",
            "The addition of integers 2 and 2 is 4\n",
            "The addition of float 3.2 and 4.4 is 7.6000000000000005\n"
          ]
        }
      ]
    },
    {
      "cell_type": "code",
      "source": [
        "class Addition:\n",
        "    def add(self, a, b):\n",
        "        result = a + b\n",
        "        print(f\"The addition of {a} and {b} is: {result}\")\n",
        "        return result\n",
        "\n",
        "class IntAdd(Addition):\n",
        "    def add(self, a, b):\n",
        "        if isinstance(a, int) and isinstance(b, int):\n",
        "            result = a + b\n",
        "            print(f\"The addition of integers {a} and {b} is: {result}\")\n",
        "            return result\n",
        "        else:\n",
        "            print(\"Error: Both arguments must be integers.\")\n",
        "            return None\n",
        "\n",
        "class FloatAdd(Addition):\n",
        "    def add(self, a, b):\n",
        "        if isinstance(a, float) and isinstance(b, float):\n",
        "            result = a + b\n",
        "            print(f\"The addition of floats {a} and {b} is: {result}\")\n",
        "            return result\n",
        "        else:\n",
        "            print(\"Error: Both arguments must be floats.\")\n",
        "            return None\n",
        "\n",
        "def result(addition_instance, a, b):\n",
        "    addition_instance.add(a, b)  # Polymorphic behavior\n",
        "\n",
        "# Usage\n",
        "a = Addition()\n",
        "i = IntAdd()\n",
        "f = FloatAdd()\n",
        "\n",
        "result(a, 1, 2)          # General addition\n",
        "result(i, 1, 2)          # Addition of integers\n",
        "result(f, 1.5, 2.5)      # Addition of floats\n",
        "\n",
        "# Test with invalid types\n",
        "result(i, 1, 2.5)        # Error: Both arguments must be integers\n",
        "result(f, 1, 2.5)        # Error: Both arguments must be floats\n"
      ],
      "metadata": {
        "colab": {
          "base_uri": "https://localhost:8080/"
        },
        "id": "oVoqmA6ZXkGg",
        "outputId": "6cdf18ab-bd79-4c81-b758-16a829824232"
      },
      "execution_count": null,
      "outputs": [
        {
          "output_type": "stream",
          "name": "stdout",
          "text": [
            "The addition of 1 and 2 is: 3\n",
            "The addition of integers 1 and 2 is: 3\n",
            "The addition of floats 1.5 and 2.5 is: 4.0\n",
            "Error: Both arguments must be integers.\n",
            "Error: Both arguments must be floats.\n"
          ]
        }
      ]
    },
    {
      "cell_type": "code",
      "source": [
        "def add(a, b):\n",
        "    return a + b\n",
        "\n",
        "# Usage\n",
        "print(add(2, 3))          # Adding integers\n",
        "print(add(2.5, 3.5))      # Adding floats\n",
        "print(add(\"Hello, \", \"World!\"))  # Adding strings\n"
      ],
      "metadata": {
        "colab": {
          "base_uri": "https://localhost:8080/"
        },
        "id": "M42I8A12XbYy",
        "outputId": "a8a6e4c3-046c-4e67-8480-03fb7e1d29f6"
      },
      "execution_count": null,
      "outputs": [
        {
          "output_type": "stream",
          "name": "stdout",
          "text": [
            "5\n",
            "6.0\n",
            "Hello, World!\n"
          ]
        }
      ]
    },
    {
      "cell_type": "markdown",
      "source": [
        "# **Problem Statement**\n",
        "\n",
        "Create a base class Animal with a method speak. Create two derived classes Dog and Cat that override the speak method. Demonstrate polymorphism by calling the speak method on instances of Dog and Cat."
      ],
      "metadata": {
        "id": "j-_0NUBKdkHS"
      }
    },
    {
      "cell_type": "code",
      "source": [
        "class Animal:\n",
        "  def make_speak(self):\n",
        "    print(\"The animal make the sound ROAR!\")\n",
        "    #return f'{ROAR}'\n",
        "\n",
        "class Dog(Animal):\n",
        "  def make_speak(self):\n",
        "    print(\"The dog make sound WOOF\")\n",
        "    #return \"WOOF!\"\n",
        "\n",
        "class Cat(Animal):\n",
        "  def make_speak(self):\n",
        "    print(\"The cat make sound MEOW\")\n",
        "    #return \"MEOW!\"\n",
        "\n",
        "def speak(animal):\n",
        "  animal.make_speak()\n",
        "\n",
        "d = Dog()\n",
        "c= Cat()\n",
        "\n",
        "speak(d)\n",
        "speak(c)\n",
        "\n"
      ],
      "metadata": {
        "colab": {
          "base_uri": "https://localhost:8080/"
        },
        "id": "r9JkpWytdrys",
        "outputId": "d9854174-5d50-43d0-96a4-284e755e91cf"
      },
      "execution_count": null,
      "outputs": [
        {
          "output_type": "stream",
          "name": "stdout",
          "text": [
            "The dog make sound WOOF\n",
            "The cat make sound MEOW\n"
          ]
        }
      ]
    },
    {
      "cell_type": "markdown",
      "source": [
        "# **MULTI LEVEL INHRITANCE**\n",
        "\n",
        "---\n",
        "\n"
      ],
      "metadata": {
        "id": "NVPRiGWWhRxg"
      }
    },
    {
      "cell_type": "markdown",
      "source": [
        "# **Problem 3: Polymorphism with Inheritance and Method Overriding**\n",
        "\n",
        "---\n",
        "\n",
        "\n",
        "\n",
        "\n",
        "Problem Statement\n",
        "Create a base class Shape with a method area. Create two derived classes Rectangle and Circle that override the area method to calculate the area of a rectangle and a circle respectively. Demonstrate polymorphism by creating a list of shapes and calculating their areas."
      ],
      "metadata": {
        "id": "KDhPKpxehO16"
      }
    },
    {
      "cell_type": "code",
      "source": [
        "class Shape:           #Base class\n",
        "  def area(self):\n",
        "    print(f'The area of rectangle and circle is length*breath and 3.14*radius*radius')\n",
        "\n",
        "#Sub class Derived class1\n",
        "class Rectangle(Shape):   #Inheritance\n",
        "  def area(self, length,breadth):\n",
        "    self.length = length\n",
        "    self.breath = breadth\n",
        "    print(f'The area of rectangle of {length} and {breadth} is {self.length*self.breath}')\n",
        "\n",
        "#Sub class Derived class2\n",
        "class Circle(Shape):\n",
        "  def area(self,radius):\n",
        "    self.radius = radius\n",
        "    print(f'The area of circle with {radius} is {3.14*self.radius*self.radius}')\n",
        "\n",
        "\n",
        "# Creating instances of Rectangle and Circle\n",
        "rec= Rectangle()\n",
        "cir = Circle()\n",
        "\n",
        "# Demonstrating method overriding with polymorphism\n",
        "rec.area(3,4)\n",
        "cir.area(1)\n",
        "\n",
        "\n",
        "\n"
      ],
      "metadata": {
        "colab": {
          "base_uri": "https://localhost:8080/"
        },
        "id": "1Y7z2-aehocL",
        "outputId": "d6db2c4e-15c3-472c-be86-9f8dfab86b4c"
      },
      "execution_count": null,
      "outputs": [
        {
          "output_type": "stream",
          "name": "stdout",
          "text": [
            "The area of rectangle of 3 and 4 is 12\n",
            "The area of circle with 1 is 3.14\n"
          ]
        }
      ]
    },
    {
      "cell_type": "markdown",
      "source": [
        "Base Class Shape: The area method is a placeholder, indicating that it should be overridden by subclasses. This method doesn't perform any operations because its purpose is to be overridden.\n",
        "Class Rectangle: The area method takes length and breadth as parameters and calculates the area of the rectangle.\n",
        "Class Circle: The area method takes radius as a parameter and calculates the area of the circle.\n",
        "Instance Creation and Polymorphism: Instances of Rectangle and Circle are created, and their respective area methods are called. This demonstrates method overriding and polymorphism."
      ],
      "metadata": {
        "id": "3JGm-fLSlfhw"
      }
    },
    {
      "cell_type": "code",
      "source": [
        "import math\n",
        "\n",
        "class Shape:\n",
        "    def area(self):\n",
        "        raise NotImplementedError(\"Subclass must implement abstract method\")\n",
        "\n",
        "class Rectangle(Shape):\n",
        "    def __init__(self, length, width):\n",
        "        self.length = length\n",
        "        self.width = width\n",
        "\n",
        "    def area(self):\n",
        "        return self.length * self.width\n",
        "\n",
        "class Circle(Shape):\n",
        "    def __init__(self, radius):\n",
        "        self.radius = radius\n",
        "\n",
        "    def area(self):\n",
        "        return math.pi * (self.radius ** 2)\n",
        "\n",
        "# Usage\n",
        "shapes = [Rectangle(10, 5), Circle(7)]\n",
        "\n",
        "for shape in shapes:\n",
        "    print(f'The area of the shape is {shape.area()}')\n"
      ],
      "metadata": {
        "colab": {
          "base_uri": "https://localhost:8080/"
        },
        "id": "Vb8kZ5twkSLY",
        "outputId": "b8f42d20-eccd-45ef-bd39-1514db06ff22"
      },
      "execution_count": null,
      "outputs": [
        {
          "output_type": "stream",
          "name": "stdout",
          "text": [
            "The area of the shape is 50\n",
            "The area of the shape is 153.93804002589985\n"
          ]
        }
      ]
    },
    {
      "cell_type": "markdown",
      "source": [
        "# **Problem 5: Polymorphism with Abstract Base Classes**\n",
        "\n",
        "---\n",
        "\n",
        "\n",
        "\n",
        "Problem Statement\n",
        "Create an abstract base class Employee with an abstract method calculate_salary. Create two derived classes FullTimeEmployee and PartTimeEmployee that implement the calculate_salary method. Demonstrate polymorphism by creating instances of these classes and calling the calculate_salary method on each instance."
      ],
      "metadata": {
        "id": "Mw5RnpZimXWk"
      }
    },
    {
      "cell_type": "code",
      "source": [
        "from abc import ABC, abstractmethod\n",
        "\n",
        "class Employee(ABC):\n",
        "    @abstractmethod\n",
        "    def calculate_salary(self):\n",
        "        pass\n",
        "\n",
        "class FullTimeEmployee(Employee):\n",
        "    def __init__(self, monthly_salary):\n",
        "        self.monthly_salary = monthly_salary\n",
        "\n",
        "    def calculate_salary(self):\n",
        "        return self.monthly_salary\n",
        "\n",
        "class PartTimeEmployee(Employee):\n",
        "    def __init__(self, hourly_rate, hours_worked):\n",
        "        self.hourly_rate = hourly_rate\n",
        "        self.hours_worked = hours_worked\n",
        "\n",
        "    def calculate_salary(self):\n",
        "        return self.hourly_rate * self.hours_worked\n",
        "\n",
        "# Usage\n",
        "employees = [FullTimeEmployee(3000), PartTimeEmployee(20, 80)]\n",
        "\n",
        "for employee in employees:\n",
        "    print(f'The salary is {employee.calculate_salary()}')\n"
      ],
      "metadata": {
        "colab": {
          "base_uri": "https://localhost:8080/"
        },
        "id": "tCr0x7TamCjZ",
        "outputId": "3e1beca3-91ce-4ab5-bfb2-afb08d5f7a1a"
      },
      "execution_count": null,
      "outputs": [
        {
          "output_type": "stream",
          "name": "stdout",
          "text": [
            "The salary is 3000\n",
            "The salary is 1600\n"
          ]
        }
      ]
    },
    {
      "cell_type": "markdown",
      "source": [
        "# **what is the difference between list,tuple ,set and dictionary?**"
      ],
      "metadata": {
        "id": "GUWAArp57Ur4"
      }
    },
    {
      "cell_type": "markdown",
      "source": [
        "List: Ordered, mutable, allows duplicates.\n",
        "\n",
        "# Tuple: Ordered, immutable, allows duplicates.\n",
        "\n",
        "Set: Unordered, mutable, unique elements only.\n",
        "## Dictionary: Ordered (Python 3.7+), mutable, keys must be unique."
      ],
      "metadata": {
        "id": "97y11FT67Zch"
      }
    },
    {
      "cell_type": "code",
      "source": [
        "my_tuple = (1, 2, 3, 4, 4)\n"
      ],
      "metadata": {
        "id": "H3YkzOf_7ZA4"
      },
      "execution_count": 1,
      "outputs": []
    },
    {
      "cell_type": "code",
      "source": [
        "my_set = {1, 2, 3, 4}\n"
      ],
      "metadata": {
        "id": "Lm9OZG0d71DJ"
      },
      "execution_count": 2,
      "outputs": []
    },
    {
      "cell_type": "markdown",
      "source": [
        "# **Sets are used when you need a mutable collection of unique elements that you might want to modify (add or remove elements) during the program execution.**\n",
        "\n",
        "Frozensets are used when you need an immutable collection of unique elements, typically to be used as keys in dictionaries or elements in another set."
      ],
      "metadata": {
        "id": "nmEV1PEK8A14"
      }
    },
    {
      "cell_type": "markdown",
      "source": [
        "Set: Mutable collection of unique elements, defined using {} or set().\n",
        "\n",
        "Frozenset: Immutable collection of unique elements, defined using frozenset()."
      ],
      "metadata": {
        "id": "J5tzCr0B8IbJ"
      }
    },
    {
      "cell_type": "code",
      "source": [
        "my_frozenset = frozenset({1, 2, 3})\n",
        "# Attempting to modify a frozenset will result in an error:\n",
        "# my_frozenset.add(4)  # This will raise an AttributeError\n"
      ],
      "metadata": {
        "id": "d5PBzEAn7_oZ"
      },
      "execution_count": 3,
      "outputs": []
    },
    {
      "cell_type": "markdown",
      "source": [
        "# *Function*\n",
        "\n",
        "a function is a named block of code that performs a specific task. Functions are fundamental to organizing and reusing code efficiently. Here are some advantages of using functions:"
      ],
      "metadata": {
        "id": "cQ20Yddw8Rlg"
      }
    },
    {
      "cell_type": "markdown",
      "source": [
        "Functions are reusable block of code tht can be called when needed.\n"
      ],
      "metadata": {
        "id": "Y62EOa2H8UuA"
      }
    },
    {
      "cell_type": "markdown",
      "source": [
        "\n",
        "In programming, a function is a named block of code that performs a specific task. Functions are fundamental to organizing and reusing code efficiently. Here are some advantages of using functions:\n",
        "\n",
        "Advantages of Functions:\n",
        "Modularity and Reusability:"
      ],
      "metadata": {
        "id": "T9RRm9MT8dFh"
      }
    },
    {
      "cell_type": "markdown",
      "source": [
        "Abstraction:\n",
        "\n",
        "Functions hide the implementation details of a specific task behind a well-defined interface (the function name and parameters).\n",
        "This abstraction makes the code easier to understand and use, especially for complex operations."
      ],
      "metadata": {
        "id": "aJd3Uox98h8h"
      }
    },
    {
      "cell_type": "code",
      "source": [
        "def calculate_average(numbers):\n",
        "    total = sum(numbers)\n",
        "    return total / len(numbers)\n",
        "\n",
        "scores = [85, 90, 92, 88, 95]\n",
        "avg_score = calculate_average(scores)\n",
        "print(f\"Average score: {avg_score}\")  # Output: Average score: 90.0\n"
      ],
      "metadata": {
        "colab": {
          "base_uri": "https://localhost:8080/"
        },
        "id": "8OsvsHYV8kP5",
        "outputId": "1a02d711-c7e6-4712-b427-23b2c6c31a10"
      },
      "execution_count": 4,
      "outputs": [
        {
          "output_type": "stream",
          "name": "stdout",
          "text": [
            "Average score: 90.0\n"
          ]
        }
      ]
    },
    {
      "cell_type": "markdown",
      "source": [
        "Functions are essential in programming as they promote code reuse, improve code organization, facilitate testing and debugging, and enhance overall code readability and maintainability. T"
      ],
      "metadata": {
        "id": "F3S9r4Vc8sBP"
      }
    },
    {
      "cell_type": "markdown",
      "source": [
        "# **what is lambda function give advant and eg?**\n",
        "\n",
        "# **A lambda function in Python is a small anonymous function defined with the lambda keyword. It can take any number of arguments, but can only have one expression.**"
      ],
      "metadata": {
        "id": "2PxjYP3D8xnn"
      }
    },
    {
      "cell_type": "code",
      "source": [
        "# Example 1: Simple lambda function\n",
        "add = lambda x, y: x + y\n",
        "result = add(3, 5)\n",
        "print(result)  # Output: 8\n",
        "\n",
        "# Example 2: Using lambda with higher-order functions (map function)\n",
        "numbers = [1, 2, 3, 4, 5]\n",
        "squared = list(map(lambda x: x**2, numbers))\n",
        "print(squared)  # Output: [1, 4, 9, 16, 25]\n",
        "\n",
        "# Example 3: Sorting a list of tuples based on the second element using lambda\n",
        "pairs = [(1, 'one'), (2, 'two'), (3, 'three'), (4, 'four')]\n",
        "pairs.sort(key=lambda pair: pair[1])\n",
        "print(pairs)  # Output: [(4, 'four'), (1, 'one'), (3, 'three'), (2, 'two')]\n"
      ],
      "metadata": {
        "colab": {
          "base_uri": "https://localhost:8080/"
        },
        "id": "gNDqwiN-8td_",
        "outputId": "01fb71dd-537b-4584-ac31-791c8544c124"
      },
      "execution_count": 5,
      "outputs": [
        {
          "output_type": "stream",
          "name": "stdout",
          "text": [
            "8\n",
            "[1, 4, 9, 16, 25]\n",
            "[(4, 'four'), (1, 'one'), (3, 'three'), (2, 'two')]\n"
          ]
        }
      ]
    },
    {
      "cell_type": "code",
      "source": [
        "for i in range(1,100):\n",
        "  sq = list(map(lambda x: x**2,i))\n",
        "  print(sq)"
      ],
      "metadata": {
        "colab": {
          "base_uri": "https://localhost:8080/",
          "height": 176
        },
        "id": "bXpql2r58_qS",
        "outputId": "b15e41df-8879-4a89-cdfd-6c3bd91f4422"
      },
      "execution_count": 13,
      "outputs": [
        {
          "output_type": "error",
          "ename": "TypeError",
          "evalue": "'int' object is not iterable",
          "traceback": [
            "\u001b[0;31m---------------------------------------------------------------------------\u001b[0m",
            "\u001b[0;31mTypeError\u001b[0m                                 Traceback (most recent call last)",
            "\u001b[0;32m<ipython-input-13-2367259e08ff>\u001b[0m in \u001b[0;36m<cell line: 1>\u001b[0;34m()\u001b[0m\n\u001b[1;32m      1\u001b[0m \u001b[0;32mfor\u001b[0m \u001b[0mi\u001b[0m \u001b[0;32min\u001b[0m \u001b[0mrange\u001b[0m\u001b[0;34m(\u001b[0m\u001b[0;36m1\u001b[0m\u001b[0;34m,\u001b[0m\u001b[0;36m100\u001b[0m\u001b[0;34m)\u001b[0m\u001b[0;34m:\u001b[0m\u001b[0;34m\u001b[0m\u001b[0;34m\u001b[0m\u001b[0m\n\u001b[0;32m----> 2\u001b[0;31m   \u001b[0msq\u001b[0m \u001b[0;34m=\u001b[0m \u001b[0mlist\u001b[0m\u001b[0;34m(\u001b[0m\u001b[0mmap\u001b[0m\u001b[0;34m(\u001b[0m\u001b[0;32mlambda\u001b[0m \u001b[0mx\u001b[0m\u001b[0;34m:\u001b[0m \u001b[0mx\u001b[0m\u001b[0;34m**\u001b[0m\u001b[0;36m2\u001b[0m\u001b[0;34m,\u001b[0m\u001b[0mi\u001b[0m\u001b[0;34m)\u001b[0m\u001b[0;34m)\u001b[0m\u001b[0;34m\u001b[0m\u001b[0;34m\u001b[0m\u001b[0m\n\u001b[0m\u001b[1;32m      3\u001b[0m   \u001b[0mprint\u001b[0m\u001b[0;34m(\u001b[0m\u001b[0msq\u001b[0m\u001b[0;34m)\u001b[0m\u001b[0;34m\u001b[0m\u001b[0;34m\u001b[0m\u001b[0m\n",
            "\u001b[0;31mTypeError\u001b[0m: 'int' object is not iterable"
          ]
        }
      ]
    },
    {
      "cell_type": "code",
      "source": [
        "squares = list(map(lambda x: x**2, range(1, 100)))\n",
        "print(squares)\n"
      ],
      "metadata": {
        "colab": {
          "base_uri": "https://localhost:8080/"
        },
        "id": "immgvqpU98jK",
        "outputId": "66367cb8-aad1-49d3-89ad-c848bcdd9903"
      },
      "execution_count": 14,
      "outputs": [
        {
          "output_type": "stream",
          "name": "stdout",
          "text": [
            "[1, 4, 9, 16, 25, 36, 49, 64, 81, 100, 121, 144, 169, 196, 225, 256, 289, 324, 361, 400, 441, 484, 529, 576, 625, 676, 729, 784, 841, 900, 961, 1024, 1089, 1156, 1225, 1296, 1369, 1444, 1521, 1600, 1681, 1764, 1849, 1936, 2025, 2116, 2209, 2304, 2401, 2500, 2601, 2704, 2809, 2916, 3025, 3136, 3249, 3364, 3481, 3600, 3721, 3844, 3969, 4096, 4225, 4356, 4489, 4624, 4761, 4900, 5041, 5184, 5329, 5476, 5625, 5776, 5929, 6084, 6241, 6400, 6561, 6724, 6889, 7056, 7225, 7396, 7569, 7744, 7921, 8100, 8281, 8464, 8649, 8836, 9025, 9216, 9409, 9604, 9801]\n"
          ]
        }
      ]
    },
    {
      "cell_type": "code",
      "source": [
        "squares = []\n",
        "for i in range(1, 100):\n",
        "    sq = (lambda x: x**2)(i)\n",
        "    squares.append(sq)\n",
        "\n",
        "print(squares)\n"
      ],
      "metadata": {
        "colab": {
          "base_uri": "https://localhost:8080/"
        },
        "id": "fdn6FCxr-Ewx",
        "outputId": "8bfc9304-81d3-4873-ee2e-9dc54dfecd4c"
      },
      "execution_count": 15,
      "outputs": [
        {
          "output_type": "stream",
          "name": "stdout",
          "text": [
            "[1, 4, 9, 16, 25, 36, 49, 64, 81, 100, 121, 144, 169, 196, 225, 256, 289, 324, 361, 400, 441, 484, 529, 576, 625, 676, 729, 784, 841, 900, 961, 1024, 1089, 1156, 1225, 1296, 1369, 1444, 1521, 1600, 1681, 1764, 1849, 1936, 2025, 2116, 2209, 2304, 2401, 2500, 2601, 2704, 2809, 2916, 3025, 3136, 3249, 3364, 3481, 3600, 3721, 3844, 3969, 4096, 4225, 4356, 4489, 4624, 4761, 4900, 5041, 5184, 5329, 5476, 5625, 5776, 5929, 6084, 6241, 6400, 6561, 6724, 6889, 7056, 7225, 7396, 7569, 7744, 7921, 8100, 8281, 8464, 8649, 8836, 9025, 9216, 9409, 9604, 9801]\n"
          ]
        }
      ]
    },
    {
      "cell_type": "code",
      "source": [
        "# Using map and lambda within a for loop\n",
        "squares = []\n",
        "for i in range(1, 100):\n",
        "    sq = list(map(lambda x: x**2, [i]))[0]\n",
        "    squares.append(sq)\n",
        "\n",
        "print(squares)\n"
      ],
      "metadata": {
        "colab": {
          "base_uri": "https://localhost:8080/"
        },
        "id": "ITdt4mbA-a4y",
        "outputId": "1e44145a-56d9-4dfa-cc6b-9a21f10445d3"
      },
      "execution_count": 29,
      "outputs": [
        {
          "output_type": "stream",
          "name": "stdout",
          "text": [
            "[1, 4, 9, 16, 25, 36, 49, 64, 81, 100, 121, 144, 169, 196, 225, 256, 289, 324, 361, 400, 441, 484, 529, 576, 625, 676, 729, 784, 841, 900, 961, 1024, 1089, 1156, 1225, 1296, 1369, 1444, 1521, 1600, 1681, 1764, 1849, 1936, 2025, 2116, 2209, 2304, 2401, 2500, 2601, 2704, 2809, 2916, 3025, 3136, 3249, 3364, 3481, 3600, 3721, 3844, 3969, 4096, 4225, 4356, 4489, 4624, 4761, 4900, 5041, 5184, 5329, 5476, 5625, 5776, 5929, 6084, 6241, 6400, 6561, 6724, 6889, 7056, 7225, 7396, 7569, 7744, 7921, 8100, 8281, 8464, 8649, 8836, 9025, 9216, 9409, 9604, 9801]\n"
          ]
        }
      ]
    },
    {
      "cell_type": "markdown",
      "source": [
        "for loop: Iterates over each integer i in the range from 1 to 99.\n",
        "\n",
        "map and lambda:\n",
        "\n",
        "lambda x: x**2 defines a lambda function that squares its argument x.\n",
        "\n",
        "map(lambda x: x**2, [i]) applies the lambda function to a list [i], where i is the current integer from the loop.\n",
        "\n",
        "[i] is necessary because map expects an iterable, so we provide a list with a single element i.\n",
        "\n",
        "list(...)[0]:\n",
        "\n",
        "map returns an iterator. By converting it to a list and accessing the first element [0], we extract the squared value of i.\n",
        "squares.append(sq): Adds the squared value sq to the squares list.\n",
        "\n"
      ],
      "metadata": {
        "id": "CUPBIO5D-mTN"
      }
    },
    {
      "cell_type": "code",
      "source": [
        "for i in range(1, 100):\n",
        "    sq = (lambda x: x**2)(i)\n",
        "    print(sq)\n"
      ],
      "metadata": {
        "colab": {
          "base_uri": "https://localhost:8080/"
        },
        "id": "sNpJY7ZN-KYK",
        "outputId": "d42bd1eb-befe-4069-f81f-27e28b90c520"
      },
      "execution_count": 16,
      "outputs": [
        {
          "output_type": "stream",
          "name": "stdout",
          "text": [
            "1\n",
            "4\n",
            "9\n",
            "16\n",
            "25\n",
            "36\n",
            "49\n",
            "64\n",
            "81\n",
            "100\n",
            "121\n",
            "144\n",
            "169\n",
            "196\n",
            "225\n",
            "256\n",
            "289\n",
            "324\n",
            "361\n",
            "400\n",
            "441\n",
            "484\n",
            "529\n",
            "576\n",
            "625\n",
            "676\n",
            "729\n",
            "784\n",
            "841\n",
            "900\n",
            "961\n",
            "1024\n",
            "1089\n",
            "1156\n",
            "1225\n",
            "1296\n",
            "1369\n",
            "1444\n",
            "1521\n",
            "1600\n",
            "1681\n",
            "1764\n",
            "1849\n",
            "1936\n",
            "2025\n",
            "2116\n",
            "2209\n",
            "2304\n",
            "2401\n",
            "2500\n",
            "2601\n",
            "2704\n",
            "2809\n",
            "2916\n",
            "3025\n",
            "3136\n",
            "3249\n",
            "3364\n",
            "3481\n",
            "3600\n",
            "3721\n",
            "3844\n",
            "3969\n",
            "4096\n",
            "4225\n",
            "4356\n",
            "4489\n",
            "4624\n",
            "4761\n",
            "4900\n",
            "5041\n",
            "5184\n",
            "5329\n",
            "5476\n",
            "5625\n",
            "5776\n",
            "5929\n",
            "6084\n",
            "6241\n",
            "6400\n",
            "6561\n",
            "6724\n",
            "6889\n",
            "7056\n",
            "7225\n",
            "7396\n",
            "7569\n",
            "7744\n",
            "7921\n",
            "8100\n",
            "8281\n",
            "8464\n",
            "8649\n",
            "8836\n",
            "9025\n",
            "9216\n",
            "9409\n",
            "9604\n",
            "9801\n"
          ]
        }
      ]
    },
    {
      "cell_type": "code",
      "source": [
        "square1 = []\n",
        "for i in range(1, 100):\n",
        "    sq =list(map(lambda x: x**2, [i]))[0]\n",
        "    square1.append(sq)\n",
        "print(square1)\n"
      ],
      "metadata": {
        "colab": {
          "base_uri": "https://localhost:8080/"
        },
        "id": "pAEZDxyr-yaC",
        "outputId": "1a2978e0-2276-41ed-d69c-4f8cacda0a85"
      },
      "execution_count": 32,
      "outputs": [
        {
          "output_type": "stream",
          "name": "stdout",
          "text": [
            "[1, 4, 9, 16, 25, 36, 49, 64, 81, 100, 121, 144, 169, 196, 225, 256, 289, 324, 361, 400, 441, 484, 529, 576, 625, 676, 729, 784, 841, 900, 961, 1024, 1089, 1156, 1225, 1296, 1369, 1444, 1521, 1600, 1681, 1764, 1849, 1936, 2025, 2116, 2209, 2304, 2401, 2500, 2601, 2704, 2809, 2916, 3025, 3136, 3249, 3364, 3481, 3600, 3721, 3844, 3969, 4096, 4225, 4356, 4489, 4624, 4761, 4900, 5041, 5184, 5329, 5476, 5625, 5776, 5929, 6084, 6241, 6400, 6561, 6724, 6889, 7056, 7225, 7396, 7569, 7744, 7921, 8100, 8281, 8464, 8649, 8836, 9025, 9216, 9409, 9604, 9801]\n"
          ]
        }
      ]
    },
    {
      "cell_type": "code",
      "source": [
        "sq = list(map(lambda x: x**2, range(1,100)))\n",
        "print(sq)"
      ],
      "metadata": {
        "colab": {
          "base_uri": "https://localhost:8080/"
        },
        "id": "S2vTFOgSAIUV",
        "outputId": "fcfe4ed7-f15d-4c4f-a0b4-d1bdf2e4194e"
      },
      "execution_count": 31,
      "outputs": [
        {
          "output_type": "stream",
          "name": "stdout",
          "text": [
            "[1, 4, 9, 16, 25, 36, 49, 64, 81, 100, 121, 144, 169, 196, 225, 256, 289, 324, 361, 400, 441, 484, 529, 576, 625, 676, 729, 784, 841, 900, 961, 1024, 1089, 1156, 1225, 1296, 1369, 1444, 1521, 1600, 1681, 1764, 1849, 1936, 2025, 2116, 2209, 2304, 2401, 2500, 2601, 2704, 2809, 2916, 3025, 3136, 3249, 3364, 3481, 3600, 3721, 3844, 3969, 4096, 4225, 4356, 4489, 4624, 4761, 4900, 5041, 5184, 5329, 5476, 5625, 5776, 5929, 6084, 6241, 6400, 6561, 6724, 6889, 7056, 7225, 7396, 7569, 7744, 7921, 8100, 8281, 8464, 8649, 8836, 9025, 9216, 9409, 9604, 9801]\n"
          ]
        }
      ]
    },
    {
      "cell_type": "markdown",
      "source": [
        "# **Method overridding**\n",
        "\n",
        "IN oops where there is inheritance when a sub class overides the method in superclass its called method overridding.\n",
        "it has same function name.\n",
        "\n",
        "Method overriding is a concept in object-oriented programming (OOP) where a subclass provides a specific implementation of a method that is already defined in its superclass. When a method in the subclass has the same name, same parameters, and same return type as a method in its superclass, it is said to override the method of the superclass."
      ],
      "metadata": {
        "id": "usdsqzveAksM"
      }
    },
    {
      "cell_type": "markdown",
      "source": [
        "Key Points about Method Overriding:\n",
        "\n",
        "---\n",
        "\n",
        "\n",
        "Inheritance Requirement: Method overriding is possible only in a subclass that inherits from a superclass. It allows the subclass to provide a specialized implementation of a method defined in its superclass.\n",
        "\n",
        "Same Signature: The method in the subclass must have the exact same method signature (name, parameters, and return type) as the method in the superclass. If any of these differ, it would be method overloading rather than overriding.\n",
        "\n",
        "Polymorphism: Method overriding is a form of polymorphism, where the same method name behaves differently based on the object instance calling it. This allows for more flexibility and customization in how methods are implemented across different classes in an inheritance hierarchy."
      ],
      "metadata": {
        "id": "BB_WAnr6A-RA"
      }
    },
    {
      "cell_type": "markdown",
      "source": [
        "Purpose and Benefits:\n",
        "\n",
        "---\n",
        "\n",
        "\n",
        "**Customization**: Method overriding allows subclasses to provide specialized behavior while still maintaining a common interface defined by the superclass.\n",
        "\n",
        "# Flexibility: It supports polymorphism, where different objects can respond to the same method call in different ways, based on their specific implementations.\n",
        "\n",
        "**Code Reusability**: By leveraging inheritance and method overriding, developers can reuse code from a superclass and tailor it to specific needs in subclasses, promoting efficient and maintainable code."
      ],
      "metadata": {
        "id": "i6fWMzrpBKfq"
      }
    },
    {
      "cell_type": "markdown",
      "source": [
        "# **What is MRO in inheritance?**\n",
        "\n",
        "---\n",
        "MRO stands for Method Resolution Order. It refers to the order in which methods are resolved or searched for in the context of inheritance in object-oriented programming, particularly in languages like Python which support multiple inheritance.\n",
        "\n",
        "Understanding MRO:\n",
        "\n",
        "How MRO Works in Python:\n",
        "\n",
        "# **Depth-First, Left-to-Right (DPLR) Order:**\n",
        "\n",
        "Python uses a variation of the C3 linearization algorithm to calculate the MRO of classes. The MRO is typically computed in a depth-first, left-to-right manner.\n",
        "This means that in a class hierarchy with multiple inheritance, Python will first search for methods in the current class, then in its parent classes from left to right, depth-first.\n",
        "# **Super() Function and MRO:**\n",
        "# **C3 Linearization:**\n",
        "\n"
      ],
      "metadata": {
        "id": "VcegmqEfBc4B"
      }
    },
    {
      "cell_type": "markdown",
      "source": [
        "# ADVANTAGES\n",
        "\n",
        "---\n",
        "\n",
        "Consistency:\n",
        "Flexibility\n",
        "Maintainability"
      ],
      "metadata": {
        "id": "e66vmBzICDGZ"
      }
    },
    {
      "cell_type": "markdown",
      "source": [
        "# **what is time and space complexity**\n",
        "\n",
        "---\n",
        "Time Complexity (find_max function): O(n) - Linear time complexity, as it iterates through each element of the array once.\n",
        "\n",
        "Space Complexity (create_array function): O(n) - Linear space complexity, as it creates an array of size n.\n"
      ],
      "metadata": {
        "id": "eVe_75RVCMBK"
      }
    },
    {
      "cell_type": "code",
      "source": [
        "def find_max(arr):\n",
        "    max_elem = arr[0]  # Assume the first element is the maximum\n",
        "    for elem in arr[1:]:\n",
        "        if elem > max_elem:\n",
        "            max_elem = elem\n",
        "    return max_elem\n",
        "\n",
        "# Example usage\n",
        "my_array = [3, 7, 2, 9, 1, 5]\n",
        "print(find_max(my_array))  # Output: 9\n"
      ],
      "metadata": {
        "colab": {
          "base_uri": "https://localhost:8080/"
        },
        "id": "_d0QKP_ZCo56",
        "outputId": "c765a956-468b-450c-936b-7676b203005b"
      },
      "execution_count": 33,
      "outputs": [
        {
          "output_type": "stream",
          "name": "stdout",
          "text": [
            "9\n"
          ]
        }
      ]
    },
    {
      "cell_type": "code",
      "source": [
        "def create_array(n):\n",
        "    arr = []\n",
        "    for i in range(n):\n",
        "        arr.append(i * 2)\n",
        "    return arr\n",
        "\n",
        "# Example usage\n",
        "my_array = create_array(5)\n",
        "print(my_array)  # Output: [0, 2, 4, 6, 8]\n"
      ],
      "metadata": {
        "colab": {
          "base_uri": "https://localhost:8080/"
        },
        "id": "dJ1MdwOWCuwx",
        "outputId": "932ddcd8-0a38-4628-ce59-481718ec4ca0"
      },
      "execution_count": 34,
      "outputs": [
        {
          "output_type": "stream",
          "name": "stdout",
          "text": [
            "[0, 2, 4, 6, 8]\n"
          ]
        }
      ]
    },
    {
      "cell_type": "markdown",
      "source": [
        "# Time Complexity:\n",
        "\n",
        "Time complexity is a measure of the amount of time an algorithm takes to run as a function of the length of its input. It quantifies the number of operations an algorithm performs relative to the size of the input. The time complexity is typically expressed using Big O notation, which provides an upper bound on the growth rate of the function.\n",
        "\n",
        "Example: An algorithm with a time complexity of O(n) means that the number of operations increases linearly with the size of the input n.\n",
        "Common time complexities:\n",
        "\n",
        "O(1): Constant time - the algorithm takes a constant amount of time regardless of the size of the input.\n",
        "\n",
        "O(log n): Logarithmic time - the algorithm's runtime grows logarithmically with the size of the input.\n",
        "\n",
        "O(n): Linear time - the algorithm's runtime grows linearly with the size of the input.\n",
        "\n",
        "O(n log n): Log-linear time - the algorithm's runtime grows in proportion to n times the logarithm of n.\n",
        "O(n^2): Quadratic time - the algorithm's runtime grows quadratically with the size of the input.\n",
        "O(2^n): Exponential time - the algorithm's runtime doubles with each addition to the input data set.\n",
        "\n",
        "Space Complexity:\n",
        "\n",
        "Space complexity is a measure of the amount of memory (space) an algorithm uses relative to the size of the input. It includes both auxiliary space (space used by the algorithm itself) and space required for input.\n",
        "\n",
        "Example: An algorithm with a space complexity of O(1) means that the amount of memory used remains constant regardless of the size of the input.\n",
        "Common space complexities:\n",
        "\n",
        "O(1): Constant space - the algorithm uses a fixed amount of memory regardless of input size.\n",
        "O(n): Linear space - the algorithm's memory usage scales linearly with the size of the input.\n",
        "O(n^2): Quadratic space - the algorithm's memory usage scales quadratically with the size of the input.\n",
        "O(log n): Logarithmic space - the algorithm's memory usage grows logarithmically with the size of the input.\n",
        "Importance:\n",
        "Understanding time and space complexity is crucial for:\n",
        "\n",
        "Algorithm Design: Helps in designing efficient algorithms that can handle large inputs within acceptable time and space limits.\n",
        "Performance Optimization: Allows developers to optimize code to improve runtime performance and reduce memory usage.\n",
        "Comparative Analysis: Facilitates comparing different algorithms to determine which one is more suitable for a specific problem based on time and space constraints.\n",
        "In summary, time complexity and space complexity are fundamental concepts in algorithm analysis that help quantify and predict how algorithms will perform as input sizes grow, guiding efficient algorithm design and implementation.\n",
        "\n",
        "\n",
        "\n"
      ],
      "metadata": {
        "id": "7HDCiu5zC_zg"
      }
    },
    {
      "cell_type": "markdown",
      "source": [
        "Encapsulation is one of the fundamental principles of object-oriented programming (OOP). It refers to the bundling of data (attributes) and methods (functions that operate on the data) that manipulate the data into a single unit called a class. In encapsulation, the internal state of an object is hidden from the outside world, and access to it is restricted to methods of the class."
      ],
      "metadata": {
        "id": "e3dOCzHiDnTx"
      }
    },
    {
      "cell_type": "code",
      "source": [],
      "metadata": {
        "id": "imzaqmj6D0tB"
      },
      "execution_count": null,
      "outputs": []
    },
    {
      "cell_type": "markdown",
      "source": [
        "# **PPOLYMORPHISM**\n",
        "\n",
        "---\n",
        "\n"
      ],
      "metadata": {
        "id": "mNU7tP3HD3Lx"
      }
    },
    {
      "cell_type": "markdown",
      "source": [
        "Polymorphism is a fundamental concept in object-oriented programming (OOP) that allows objects of different classes to be treated as objects of a common superclass. It provides a way to perform a single action in different ways. The word \"polymorphism\" comes from Greek, where \"poly\" means many and \"morph\" means form, implying \"many forms.\"\n",
        "\n",
        "\n",
        "\n",
        "Key Concepts of Polymorphism:\n",
        "\n",
        "**# Method Overloading**: Polymorphism can be achieved through method overloading, where different methods have the same name but different parameters or signatures. This allows the same method name to behave differently based on the parameters passed to it.\n",
        "\n",
        "\n",
        "\n",
        "Method Overriding: Polymorphism also involves method overriding, where a subclass provides a specific implementation of a method that is already defined in its superclass. This allows a subclass to provide its own implementation while maintaining a common interface defined by its superclass.\n",
        "\n",
        "Compile-Time Polymorphism (Static Binding): This occurs when the decision about which method to call is made at compile-time. Method overloading in Java and C++ is an example of compile-time polymorphism.\n",
        "\n",
        "Run-Time Polymorphism (Dynamic Binding): This occurs when the decision about which method to call is made at runtime based on the object's actual type. Method overriding in Java and C++ is an example of run-time polymorphism."
      ],
      "metadata": {
        "id": "leNmWrYdD1RR"
      }
    },
    {
      "cell_type": "code",
      "source": [],
      "metadata": {
        "id": "_wZyCvt8DVrC"
      },
      "execution_count": null,
      "outputs": []
    }
  ]
}