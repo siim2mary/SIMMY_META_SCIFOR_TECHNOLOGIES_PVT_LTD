{
  "nbformat": 4,
  "nbformat_minor": 0,
  "metadata": {
    "colab": {
      "provenance": []
    },
    "kernelspec": {
      "name": "python3",
      "display_name": "Python 3"
    },
    "language_info": {
      "name": "python"
    }
  },
  "cells": [
    {
      "cell_type": "code",
      "execution_count": null,
      "metadata": {
        "id": "12hCRiSPNQXe"
      },
      "outputs": [],
      "source": [
        "#oops practice coding"
      ]
    },
    {
      "cell_type": "markdown",
      "source": [
        "# Incoperate oops,encapsulation,inheritance and polymorphism in a **program**"
      ],
      "metadata": {
        "id": "U794ztS_NRfT"
      }
    },
    {
      "cell_type": "code",
      "source": [
        "class student:\n",
        "\n",
        "  def make_grade(self):\n",
        "    print(\"The student details\")\n",
        "\n",
        "  def __init__(self, name, mark,grade):\n",
        "    self.__name = name\n",
        "    self.__mark = mark\n",
        "    self.grade= grade\n",
        "\n",
        "  def get_name(self):\n",
        "    return self.__name\n",
        "\n",
        "  def get_mark(self):\n",
        "    return self.__mark\n",
        "\n",
        "  def get_grade(self):\n",
        "    return self.grade\n",
        "\n",
        "    #def stud_detl(self):\n",
        "      #print(f'The student {self.get_name()} has got marks {self.get_mark() enrolled in  grade{self.grade}}')\n",
        "\n",
        "class teacher(student):\n",
        "  def make_grade(self):\n",
        "      print(f\"The student {self.get_name()} has got marks {self.get_mark()} enrolled in grade {self.get_grade()}\")\n",
        "\n",
        "class school(student):\n",
        "  def make_grade(self):\n",
        "    print(f'The class teacher of student {self.get_name()}  who has got marks {self.get_mark()} is in grade{self.grade} is on leave!')\n",
        "\n",
        "#create polymorphism\n",
        "\n",
        "def takedet(Student,self):\n",
        "  Student.make_grade()\n",
        "\n",
        "#create object for teacher and gives all arguments defined in parent class student and function def make_grade\n",
        "tea = teacher(\"hani\", 49,1)\n",
        "sc = school(\"roy\",44,2)\n",
        "\n",
        "#call using polymorphism\n",
        "takedet(tea,\"details of student\")\n",
        "takedet(sc,\"details of teacher\")\n",
        "\n",
        "#tea.make_grade()\n",
        "#sc.make_grade()\n",
        "\n",
        "\n",
        "\n"
      ],
      "metadata": {
        "id": "Hp2MEaGmNiH3",
        "colab": {
          "base_uri": "https://localhost:8080/"
        },
        "outputId": "dc7aa6b2-fc60-45c9-edf6-2e23e4d982c0"
      },
      "execution_count": null,
      "outputs": [
        {
          "output_type": "stream",
          "name": "stdout",
          "text": [
            "The student hani has got marks 49 enrolled in grade 1\n",
            "The class teacher of student roy  who has got marks 44 is in grade2 is on leave!\n"
          ]
        }
      ]
    },
    {
      "cell_type": "markdown",
      "source": [
        "# **wap to do math opertaion create class add,sub and make polym with class operations**\n",
        "\n",
        "---\n",
        "\n"
      ],
      "metadata": {
        "id": "2R3o6bfGsyxI"
      }
    },
    {
      "cell_type": "code",
      "source": [
        "class maths:\n",
        "  def math_oper(self,name,a,b):\n",
        "    print(\"The math operations\")\n",
        "\n",
        "  def __init__(self,name,a,b):\n",
        "    self.__name = name\n",
        "    self.a = a\n",
        "    self.b = b\n",
        "\n",
        "  def get_name(self):\n",
        "    return self.__name\n",
        "\n",
        "  def get_a(self):\n",
        "    return self.a\n",
        "\n",
        "  def get_b(self):\n",
        "    return self.b\n",
        "\n",
        "class add(maths):\n",
        "  def math_oper(self):\n",
        "    result = self.get_a() + self.get_b()\n",
        "    #return a+b\n",
        "    print(f'The addition of {self.get_a()} and {self.get_b()} is {self.get_name()} is {result}')\n",
        "\n",
        "class sub(maths):\n",
        "  def math_oper(self):\n",
        "    result = self.get_a() - self.get_b()\n",
        "    #return a-b\n",
        "    print(f'The subtraction of {self.get_a()} and {self.get_b()} is {self.get_name()} is {result}')\n",
        "\n",
        "\n",
        "\n",
        "def operation(Maths):\n",
        "  Maths.math_oper()\n",
        "\n",
        "addi = add(\"add\",2,3)\n",
        "subi = sub(\"subb\",5,1)\n",
        "\n",
        "operation(addi)\n",
        "operation(subi)\n",
        "\n",
        "\n"
      ],
      "metadata": {
        "colab": {
          "base_uri": "https://localhost:8080/"
        },
        "id": "-mk4_O34uMni",
        "outputId": "6cfaf0f6-0935-4f09-e7a4-3d920d93207a"
      },
      "execution_count": 4,
      "outputs": [
        {
          "output_type": "stream",
          "name": "stdout",
          "text": [
            "The addition of 2 and 3 is add is 5\n",
            "The subtraction of 5 and 1 is subb is 4\n"
          ]
        }
      ]
    },
    {
      "cell_type": "code",
      "source": [
        "class Maths:\n",
        "    def __init__(self, name, a, b):\n",
        "        self.__name = name\n",
        "        self.a = a\n",
        "        self.b = b\n",
        "\n",
        "    def get_name(self):\n",
        "        return self.__name\n",
        "\n",
        "    def get_a(self):\n",
        "        return self.a\n",
        "\n",
        "    def get_b(self):\n",
        "        return self.b\n",
        "\n",
        "    def math_oper(self):\n",
        "        raise NotImplementedError(\"Subclasses should implement this!\")\n",
        "\n",
        "class Add(Maths):\n",
        "    def math_oper(self):\n",
        "        result = self.get_a() + self.get_b()\n",
        "        print(f'The addition of {self.get_a()} and {self.get_b()} is {result}')\n",
        "\n",
        "class Sub(Maths):\n",
        "    def math_oper(self):\n",
        "        result = self.get_a() - self.get_b()\n",
        "        print(f'The subtraction of {self.get_a()} and {self.get_b()} is {result}')\n",
        "\n",
        "def operation(math_instance):\n",
        "    math_instance.math_oper()\n",
        "\n",
        "addi = Add(\"add\", 2, 3)\n",
        "subi = Sub(\"sub\", 5, 1)\n",
        "\n",
        "operation(addi)\n",
        "operation(subi)\n"
      ],
      "metadata": {
        "colab": {
          "base_uri": "https://localhost:8080/"
        },
        "id": "MqG2ibHIvlZP",
        "outputId": "51231552-410a-47f5-c8bd-7bb8da320766"
      },
      "execution_count": 1,
      "outputs": [
        {
          "output_type": "stream",
          "name": "stdout",
          "text": [
            "The addition of 2 and 3 is 5\n",
            "The subtraction of 5 and 1 is 4\n"
          ]
        }
      ]
    }
  ]
}