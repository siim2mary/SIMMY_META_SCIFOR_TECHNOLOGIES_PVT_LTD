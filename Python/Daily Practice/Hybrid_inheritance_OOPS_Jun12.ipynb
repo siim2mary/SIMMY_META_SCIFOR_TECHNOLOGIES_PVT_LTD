{
  "nbformat": 4,
  "nbformat_minor": 0,
  "metadata": {
    "colab": {
      "provenance": []
    },
    "kernelspec": {
      "name": "python3",
      "display_name": "Python 3"
    },
    "language_info": {
      "name": "python"
    }
  },
  "cells": [
    {
      "cell_type": "code",
      "execution_count": 1,
      "metadata": {
        "id": "-K7j80vyHfkW"
      },
      "outputs": [],
      "source": [
        "#Daily practice oops concepts in python jun12"
      ]
    },
    {
      "cell_type": "markdown",
      "source": [
        "# **Hybrid Inheritance**\n",
        "\n",
        "---\n",
        "\n"
      ],
      "metadata": {
        "id": "SuXMApzmHyKu"
      }
    },
    {
      "cell_type": "markdown",
      "source": [
        "#Hybrid **Inheritance** = combination multiple inheritance + multi-level **inheritance**"
      ],
      "metadata": {
        "id": "W-43xwVjH1eu"
      }
    },
    {
      "cell_type": "code",
      "source": [
        "class Animal:\n",
        "  def __init__(self,name):\n",
        "    self.name = name  #To access value of name\n",
        "\n",
        "  def speak(self):\n",
        "    print(f'The animal {self.name} makes sound ROOOR')  # here if we want to use {self.name()} use encapsulation and use def get_name(self) otherwise simply use self.name to get name\n",
        "    #return f\"{self.name} rooor!\"  #optional to see the result we use print rturn just walks out of function it doesnt print value\n",
        "\n",
        "\n",
        "#SINGLE INHERITANCE\n",
        "class Dog(Animal):\n",
        "  def speak(self):\n",
        "    print(f'The animal Dog {self.name} says WOOF!')\n",
        "\n",
        "\n",
        "#MUTILEVEL INHERITANCE\n",
        "class Puppy(Dog):\n",
        "  def speak(self):\n",
        "    print(f'The animal Puppy {self.name} says YIP!')\n",
        "\n",
        "\n",
        "#ANOTHER BASE CLASS(Parent Class)\n",
        "class Bird:\n",
        "  def __init__(self,name):\n",
        "    self.name = name\n",
        "\n",
        "  def fly(self):\n",
        "    print(f'The Bird {self.name} fly in the AIR!')\n",
        "\n",
        "\n",
        "# Multiple inheritance\n",
        "#FLYING DOG - BASE CLASS OR PARENT = INHERITED FROM DOG AND BIRD\n",
        "class FlyingDog(Dog,Bird):\n",
        "  def __init__(self,name):  #Here __init__is used since its mutiple inheritance from a mutilevel or derived class Dog and a Base class Bird and its having its own properties\n",
        "    Dog.__init__(self,name)\n",
        "    Bird.__init__(self,name)\n",
        "\n",
        "  def speak(self):\n",
        "    Dog.speak(self)\n",
        "    Bird.fly(self)\n",
        "\n",
        "\n",
        "# Hybrid inheritance\n",
        "class FlyingPuppy(Puppy,Bird):\n",
        "  def __init__(self,name):\n",
        "    Puppy.__init__(self,name)\n",
        "    Bird.__init__(self,name)\n",
        "\n",
        "  def speak(self):\n",
        "    Puppy.speak(self)\n",
        "    Bird.fly(self)\n",
        "\n",
        "#Create Instances\n",
        "dog = Dog(\"BUDDY\")\n",
        "puppy = Puppy(\"FLUFFY\")\n",
        "flying_dog = FlyingDog(\"SKY\")\n",
        "flying_puppy =FlyingPuppy(\"WINGS\")\n",
        "\n",
        "#Test cases\n",
        "dog.speak()\n",
        "puppy.speak()\n",
        "flying_dog.speak()\n",
        "flying_puppy.speak()\n",
        "\n",
        "\n",
        "\n"
      ],
      "metadata": {
        "colab": {
          "base_uri": "https://localhost:8080/"
        },
        "id": "s7PQmL9zH1Ae",
        "outputId": "bdc06ec9-cfc4-4449-d1ea-b7112b941311"
      },
      "execution_count": 4,
      "outputs": [
        {
          "output_type": "stream",
          "name": "stdout",
          "text": [
            "The animal Dog BUDDY says WOOF!\n",
            "The animal Puppy FLUFFY says YIP!\n",
            "The animal Dog SKY says WOOF!\n",
            "The Bird SKY fly in the AIR!\n",
            "The animal Puppy WINGS says YIP!\n",
            "The Bird WINGS fly in the AIR!\n"
          ]
        }
      ]
    }
  ]
}