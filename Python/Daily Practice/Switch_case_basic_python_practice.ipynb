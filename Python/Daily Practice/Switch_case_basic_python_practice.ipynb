{
  "nbformat": 4,
  "nbformat_minor": 0,
  "metadata": {
    "colab": {
      "provenance": []
    },
    "kernelspec": {
      "name": "python3",
      "display_name": "Python 3"
    },
    "language_info": {
      "name": "python"
    }
  },
  "cells": [
    {
      "cell_type": "code",
      "execution_count": 2,
      "metadata": {
        "colab": {
          "base_uri": "https://localhost:8080/"
        },
        "id": "E2UtbcWP3YS2",
        "outputId": "f5222b0c-df2c-4042-c222-4ff7d13f1bc8"
      },
      "outputs": [
        {
          "output_type": "stream",
          "name": "stdout",
          "text": [
            "two\n"
          ]
        }
      ],
      "source": [
        "#SWITCH CASE\n",
        "\n",
        "def number(a):\n",
        "  match a :\n",
        "    case 0 :\n",
        "      return \"zero\"\n",
        "    case 1:\n",
        "      return \"one\"\n",
        "    case 2:\n",
        "      return \"two\"\n",
        "    case default :\n",
        "      return \"defaultstatement\"\n",
        "\n",
        "head = number(2)\n",
        "print(head)\n"
      ]
    },
    {
      "cell_type": "code",
      "source": [
        "# python match case with if condition\n",
        "def runMatch():\n",
        "    num = int(input(\"Enter a number: \"))\n",
        "\n",
        "    # match case\n",
        "    match num:\n",
        "        # pattern 1\n",
        "        case num if num > 0:\n",
        "            print(\"Positive\")\n",
        "        # pattern 2\n",
        "        case num if num < 0:\n",
        "            print(\"Negative\")\n",
        "        # default pattern\n",
        "        case _:\n",
        "            print(\"Zero\")\n",
        "\n",
        "runMatch()"
      ],
      "metadata": {
        "colab": {
          "base_uri": "https://localhost:8080/"
        },
        "id": "9Z9fgzyQ34CY",
        "outputId": "02fec9b8-7763-410e-e467-21cb307e74ce"
      },
      "execution_count": 5,
      "outputs": [
        {
          "output_type": "stream",
          "name": "stdout",
          "text": [
            "Enter a number: -4\n",
            "Negative\n"
          ]
        }
      ]
    },
    {
      "cell_type": "markdown",
      "source": [
        "# **wap to print positive or negative or 0**\n",
        "\n",
        "---\n",
        "\n"
      ],
      "metadata": {
        "id": "dV54lFaX5jcB"
      }
    },
    {
      "cell_type": "code",
      "source": [
        "def checknum(num):\n",
        "  match num:\n",
        "    case num if num >0:\n",
        "      print(\"Positive\")\n",
        "    case num if num <0:\n",
        "      print(\"Negative\")\n",
        "    case 0:\n",
        "      print(\"Zero\")\n",
        "\n",
        "checknum(6)\n",
        "\n",
        "\n",
        ""
      ],
      "metadata": {
        "colab": {
          "base_uri": "https://localhost:8080/"
        },
        "id": "-x2IrI6S4blQ",
        "outputId": "09e2f1ed-fab2-49d4-b03e-19d2248183cd"
      },
      "execution_count": 8,
      "outputs": [
        {
          "output_type": "stream",
          "name": "stdout",
          "text": [
            "Positive\n"
          ]
        }
      ]
    },
    {
      "cell_type": "code",
      "source": [
        "def gradecheck(grade):\n",
        "  match grade:\n",
        "    case grade if grade >=90:\n",
        "      print(\"A\")\n",
        "\n",
        "    case grade if grade >=80:\n",
        "      print(\"B\")\n",
        "\n",
        "    case grade if grade >=70:\n",
        "      print(\"C\")\n",
        "\n",
        "    case grade if grade >=60:\n",
        "      print(\"D\")\n",
        "\n",
        "    case _:\n",
        "      print(\"F\")\n",
        "\n",
        "gradecheck(90)"
      ],
      "metadata": {
        "colab": {
          "base_uri": "https://localhost:8080/"
        },
        "id": "CxNnT4K95uL6",
        "outputId": "58696708-cc0d-46a1-8f3a-fd54cee6804f"
      },
      "execution_count": 11,
      "outputs": [
        {
          "output_type": "stream",
          "name": "stdout",
          "text": [
            "A\n"
          ]
        }
      ]
    }
  ]
}