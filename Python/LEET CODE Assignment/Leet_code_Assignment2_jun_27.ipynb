{
  "nbformat": 4,
  "nbformat_minor": 0,
  "metadata": {
    "colab": {
      "provenance": []
    },
    "kernelspec": {
      "name": "python3",
      "display_name": "Python 3"
    },
    "language_info": {
      "name": "python"
    }
  },
  "cells": [
    {
      "cell_type": "markdown",
      "source": [
        "LEET CODE ASSIGNMENT2\n",
        "\n",
        "---\n",
        "\n"
      ],
      "metadata": {
        "id": "DDwJ0migEGKp"
      }
    },
    {
      "cell_type": "markdown",
      "source": [
        "# **LENGTH OF LAST WORDS**\n",
        "\n",
        "---\n",
        "\n",
        "# Given a string s consisting of words and spaces, return the length of the last word in the string.\n",
        "\n",
        "A word is a maximal\n",
        "substring\n",
        " consisting of non-space characters only.\n",
        "\n",
        ""
      ],
      "metadata": {
        "id": "20JjUI6RD5KC"
      }
    },
    {
      "cell_type": "code",
      "execution_count": 1,
      "metadata": {
        "colab": {
          "base_uri": "https://localhost:8080/"
        },
        "id": "Nl6N8SeZB25x",
        "outputId": "e5387317-e255-43b4-a374-425463ba4e5a"
      },
      "outputs": [
        {
          "output_type": "stream",
          "name": "stdout",
          "text": [
            "5\n"
          ]
        }
      ],
      "source": [
        "class Solution:\n",
        "  def lengthOfLastWord(self, s: str):\n",
        "    self.s = s\n",
        "    word = self.s.strip().split()\n",
        "\n",
        "    return len(word[-1])\n",
        "sol = Solution()\n",
        "res = sol.lengthOfLastWord(\"Hello world\")\n",
        "print(res)\n"
      ]
    },
    {
      "cell_type": "markdown",
      "source": [
        "# **TO LOWERCASE**\n",
        "\n",
        "---\n",
        "# Given a string s, return the string after replacing every uppercase letter with the same lowercase letter.\n",
        "\n",
        "\n"
      ],
      "metadata": {
        "id": "G54xPSSuDyyz"
      }
    },
    {
      "cell_type": "code",
      "source": [
        "class Solution:\n",
        "    def toLowerCase(self, s: str) -> str:\n",
        "        self.s = s\n",
        "        word = self.s.lower()\n",
        "        return word\n",
        "sol = Solution()\n",
        "res = sol.toLowerCase(\"HELLO\")\n",
        "print(res)"
      ],
      "metadata": {
        "colab": {
          "base_uri": "https://localhost:8080/"
        },
        "id": "OPpMai36DRaR",
        "outputId": "a86852ad-ff08-48a1-c8ca-5b5fe8d37cf6"
      },
      "execution_count": 3,
      "outputs": [
        {
          "output_type": "stream",
          "name": "stdout",
          "text": [
            "hello\n"
          ]
        }
      ]
    }
  ]
}