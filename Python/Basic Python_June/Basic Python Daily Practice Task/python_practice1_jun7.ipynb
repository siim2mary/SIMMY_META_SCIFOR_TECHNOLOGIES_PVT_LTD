{
  "nbformat": 4,
  "nbformat_minor": 0,
  "metadata": {
    "colab": {
      "provenance": []
    },
    "kernelspec": {
      "name": "python3",
      "display_name": "Python 3"
    },
    "language_info": {
      "name": "python"
    }
  },
  "cells": [
    {
      "cell_type": "markdown",
      "source": [
        "GENERATE python list of all nos between 4 and 30"
      ],
      "metadata": {
        "id": "Wu2agmmk1PUp"
      }
    },
    {
      "cell_type": "code",
      "source": [
        "print(list(range(4,30,2)))"
      ],
      "metadata": {
        "colab": {
          "base_uri": "https://localhost:8080/"
        },
        "id": "P7bROXA_1UYf",
        "outputId": "dc2a7a21-a171-413b-bb40-96bd2bb479ac"
      },
      "execution_count": null,
      "outputs": [
        {
          "output_type": "stream",
          "name": "stdout",
          "text": [
            "[4, 6, 8, 10, 12, 14, 16, 18, 20, 22, 24, 26, 28]\n"
          ]
        }
      ]
    },
    {
      "cell_type": "markdown",
      "source": [
        "Find the largest item from a given list\n",
        "\n",
        "---\n",
        "\n"
      ],
      "metadata": {
        "id": "9lZ9fOn81lLf"
      }
    },
    {
      "cell_type": "code",
      "source": [
        "def ls(lst):\n",
        "  lis = max(lst)\n",
        "  return lis\n",
        "lst =[4,6,8,24,12]\n",
        "print(ls(lst))"
      ],
      "metadata": {
        "colab": {
          "base_uri": "https://localhost:8080/"
        },
        "id": "U7gBeEBb1eqw",
        "outputId": "1b9c8936-8a52-45b0-970b-bfa8c84ed811"
      },
      "execution_count": null,
      "outputs": [
        {
          "output_type": "stream",
          "name": "stdout",
          "text": [
            "24\n"
          ]
        }
      ]
    },
    {
      "cell_type": "code",
      "source": [
        "x = [4, 6, 8, 24, 12, 2]\n",
        "print(max(x))"
      ],
      "metadata": {
        "id": "iGJWVvV_1-Ng",
        "colab": {
          "base_uri": "https://localhost:8080/"
        },
        "outputId": "5e1edb64-9d23-4f33-c895-52013a8e0b9d"
      },
      "execution_count": null,
      "outputs": [
        {
          "output_type": "stream",
          "name": "stdout",
          "text": [
            "24\n"
          ]
        }
      ]
    },
    {
      "cell_type": "markdown",
      "source": [
        "Print the sum of the current number and the previous number"
      ],
      "metadata": {
        "id": "ckbSqCoz2ll-"
      }
    },
    {
      "cell_type": "code",
      "source": [
        "print(\"Printing current and previous number and their sum in a range(10)\")\n",
        "previous_num = 0\n",
        "\n",
        "# loop from 1 to 10\n",
        "for i in range(1, 11):\n",
        "    x_sum = previous_num + i\n",
        "    print(\"Current Number\", i, \"Previous Number \", previous_num, \" Sum: \", x_sum)\n",
        "    # modify previous number\n",
        "    # set it to the current number\n",
        "    previous_num = i"
      ],
      "metadata": {
        "id": "ctJB1ngt2CUO",
        "colab": {
          "base_uri": "https://localhost:8080/"
        },
        "outputId": "f01182f5-cd41-4197-e1a5-6f1c5bcb3d16"
      },
      "execution_count": null,
      "outputs": [
        {
          "output_type": "stream",
          "name": "stdout",
          "text": [
            "Printing current and previous number and their sum in a range(10)\n",
            "Current Number 1 Previous Number  0  Sum:  1\n",
            "Current Number 2 Previous Number  1  Sum:  3\n",
            "Current Number 3 Previous Number  2  Sum:  5\n",
            "Current Number 4 Previous Number  3  Sum:  7\n",
            "Current Number 5 Previous Number  4  Sum:  9\n",
            "Current Number 6 Previous Number  5  Sum:  11\n",
            "Current Number 7 Previous Number  6  Sum:  13\n",
            "Current Number 8 Previous Number  7  Sum:  15\n",
            "Current Number 9 Previous Number  8  Sum:  17\n",
            "Current Number 10 Previous Number  9  Sum:  19\n"
          ]
        }
      ]
    },
    {
      "cell_type": "markdown",
      "source": [
        "# Print characters from a string that are present at an even index number"
      ],
      "metadata": {
        "id": "cbN_jcEf3dPV"
      }
    },
    {
      "cell_type": "markdown",
      "source": [],
      "metadata": {
        "id": "-lt1zt6I3dOA"
      }
    },
    {
      "cell_type": "code",
      "source": [
        "# accept input string from a user\n",
        "word = input('Enter word ')\n",
        "print(\"Original String:\", word)\n",
        "\n",
        "# get the length of a string\n",
        "size = len(word)\n",
        "\n",
        "# iterate a each character of a string\n",
        "# start: 0 to start with first character\n",
        "# stop: size-1 because index starts with 0\n",
        "# step: 2 to get the characters present at even index like 0, 2, 4\n",
        "print(\"Printing only even index chars\")\n",
        "for i in range(0, size - 1, 2):\n",
        "    print(\"index[\", i, \"]\", word[i])"
      ],
      "metadata": {
        "colab": {
          "base_uri": "https://localhost:8080/"
        },
        "id": "umyi45t_3C2P",
        "outputId": "45871809-d56d-429d-c022-eaf25f712621"
      },
      "execution_count": null,
      "outputs": [
        {
          "output_type": "stream",
          "name": "stdout",
          "text": [
            "Enter word hello\n",
            "Original String: hello\n",
            "Printing only even index chars\n",
            "index[ 0 ] h\n",
            "index[ 2 ] l\n"
          ]
        }
      ]
    },
    {
      "cell_type": "code",
      "source": [
        "# accept input string from a user\n",
        "word = input('Enter word ')\n",
        "print(\"Original String:\", word)\n",
        "\n",
        "# using list slicing\n",
        "# convert string to list\n",
        "# pick only even index chars\n",
        "x = list(word)\n",
        "for i in x[0::2]: #list slicing\n",
        "    print(i)\n"
      ],
      "metadata": {
        "colab": {
          "base_uri": "https://localhost:8080/"
        },
        "id": "bKhGwNOK3HW2",
        "outputId": "21d93c3a-7212-454e-ca18-d5031e5dd9b6"
      },
      "execution_count": null,
      "outputs": [
        {
          "output_type": "stream",
          "name": "stdout",
          "text": [
            "Enter word hai\n",
            "Original String: hai\n",
            "h\n",
            "i\n"
          ]
        }
      ]
    },
    {
      "cell_type": "markdown",
      "source": [
        "# Remove first n characters from a string\n",
        "Write a program to remove characters from a string starting from zero up to n and return a new string.\n",
        "\n",
        "For example:\n",
        "\n",
        "remove_chars(\"pynative\", 4) so output must be tive. Here, we need to remove the first four characters from a string.\n",
        "remove_chars(\"pynative\", 2) so output must be native. Here, we need to remove the first two characters from a string."
      ],
      "metadata": {
        "id": "bsTAI4GK368W"
      }
    },
    {
      "cell_type": "code",
      "source": [
        "def remove_chars(word, n):\n",
        "    print('Original string:', word)\n",
        "    x = word[n:]\n",
        "    return x\n",
        "\n",
        "print(\"Removing characters from a string\")\n",
        "print(remove_chars(\"pynative\", 4))\n",
        "print(remove_chars(\"pynative\", 2))\n"
      ],
      "metadata": {
        "colab": {
          "base_uri": "https://localhost:8080/"
        },
        "id": "L_tN7N0U3oR7",
        "outputId": "a015df8a-ae1b-4370-b50d-a8fb23ae83f7"
      },
      "execution_count": null,
      "outputs": [
        {
          "output_type": "stream",
          "name": "stdout",
          "text": [
            "Removing characters from a string\n",
            "Original string: pynative\n",
            "tive\n",
            "Original string: pynative\n",
            "native\n"
          ]
        }
      ]
    },
    {
      "cell_type": "markdown",
      "source": [
        "# **check if the first and last number of a list is the same**\n",
        "Write a function to return True if the first and last number of a given list is same. If numbers are different then return False."
      ],
      "metadata": {
        "id": "gFfBrBxb4ZBv"
      }
    },
    {
      "cell_type": "code",
      "source": [
        "def first_last_same(numberList):\n",
        "    print(\"Given list:\", numberList)\n",
        "\n",
        "    first_num = numberList[0]\n",
        "    last_num = numberList[-1]\n",
        "\n",
        "    if first_num == last_num:\n",
        "        return True\n",
        "    else:\n",
        "        return False\n",
        "\n",
        "numbers_x = [10, 20, 30, 40, 10]\n",
        "print(\"result is\", first_last_same(numbers_x))\n",
        "\n",
        "numbers_y = [75, 65, 35, 75, 30]\n",
        "print(\"result is\", first_last_same(numbers_y))\n"
      ],
      "metadata": {
        "colab": {
          "base_uri": "https://localhost:8080/"
        },
        "id": "ct-QnCFC4U0e",
        "outputId": "b63a4f87-6b1e-4fde-f5b8-d5e1f8f218be"
      },
      "execution_count": null,
      "outputs": [
        {
          "output_type": "stream",
          "name": "stdout",
          "text": [
            "Given list: [10, 20, 30, 40, 10]\n",
            "result is True\n",
            "Given list: [75, 65, 35, 75, 30]\n",
            "result is False\n"
          ]
        }
      ]
    },
    {
      "cell_type": "markdown",
      "source": [
        "# **NO divisible by 5**"
      ],
      "metadata": {
        "id": "eCJxe7vI5F_J"
      }
    },
    {
      "cell_type": "code",
      "source": [
        "num_list = [10, 20, 33, 46, 55]\n",
        "print(\"Given list:\", num_list)\n",
        "print('Divisible by 5:')\n",
        "for num in num_list:\n",
        "    if num % 5 == 0:\n",
        "        print(num)\n"
      ],
      "metadata": {
        "colab": {
          "base_uri": "https://localhost:8080/"
        },
        "id": "v_YvGTDd5EAv",
        "outputId": "a71a7f52-e4dd-4525-cdf7-e4306d0ce5f1"
      },
      "execution_count": null,
      "outputs": [
        {
          "output_type": "stream",
          "name": "stdout",
          "text": [
            "Given list: [10, 20, 33, 46, 55]\n",
            "Divisible by 5:\n",
            "10\n",
            "20\n",
            "55\n"
          ]
        }
      ]
    },
    {
      "cell_type": "markdown",
      "source": [
        "# **Exercise 7: Return the count of a given substring from a string**"
      ],
      "metadata": {
        "id": "LI_q6SJM5h3Q"
      }
    },
    {
      "cell_type": "code",
      "source": [
        "#Write a program to find how many times substring “Emma” appears in the given string."
      ],
      "metadata": {
        "id": "W-VNSyuw5D_n"
      },
      "execution_count": null,
      "outputs": []
    },
    {
      "cell_type": "code",
      "source": [
        "str_x = \"Emma is good developer. Emma is a writer\"\n",
        "# use count method of a str class\n",
        "cnt = str_x.count(\"Emma\")\n",
        "print(cnt)"
      ],
      "metadata": {
        "colab": {
          "base_uri": "https://localhost:8080/"
        },
        "id": "2NKgGTNj4iwn",
        "outputId": "789267cd-70cd-4db1-b0f9-505b0330f0c6"
      },
      "execution_count": null,
      "outputs": [
        {
          "output_type": "stream",
          "name": "stdout",
          "text": [
            "2\n"
          ]
        }
      ]
    },
    {
      "cell_type": "code",
      "source": [
        "def count_emma(statement):\n",
        "    print(\"Given String: \", statement)\n",
        "    count = 0\n",
        "    for i in range(len(statement) - 1):\n",
        "        count += statement[i: i + 4] == 'Emma'\n",
        "    return count\n",
        "\n",
        "count = count_emma(\"Emma is good developer. Emma is a writer\")\n",
        "print(\"Emma appeared \", count, \"times\")"
      ],
      "metadata": {
        "colab": {
          "base_uri": "https://localhost:8080/"
        },
        "id": "thbyJGQm5WPf",
        "outputId": "8a0f64fd-9bd9-4b9d-f4b5-8d289ca623b8"
      },
      "execution_count": null,
      "outputs": [
        {
          "output_type": "stream",
          "name": "stdout",
          "text": [
            "Given String:  Emma is good developer. Emma is a writer\n",
            "Emma appeared  2 times\n"
          ]
        }
      ]
    },
    {
      "cell_type": "markdown",
      "source": [
        "# Print pattern"
      ],
      "metadata": {
        "id": "YguauEkE557w"
      }
    },
    {
      "cell_type": "code",
      "source": [
        "for num in range(10):\n",
        "    for i in range(num):\n",
        "        print (num, end=\" \") #print number\n",
        "    # new line after each row to display pattern correctly\n",
        "    print(\"\\n\")"
      ],
      "metadata": {
        "colab": {
          "base_uri": "https://localhost:8080/"
        },
        "id": "Y9eJvILo51v3",
        "outputId": "9d516a6e-7782-4d19-c6ce-675df722eb12"
      },
      "execution_count": null,
      "outputs": [
        {
          "output_type": "stream",
          "name": "stdout",
          "text": [
            "\n",
            "\n",
            "1 \n",
            "\n",
            "2 2 \n",
            "\n",
            "3 3 3 \n",
            "\n",
            "4 4 4 4 \n",
            "\n",
            "5 5 5 5 5 \n",
            "\n",
            "6 6 6 6 6 6 \n",
            "\n",
            "7 7 7 7 7 7 7 \n",
            "\n",
            "8 8 8 8 8 8 8 8 \n",
            "\n",
            "9 9 9 9 9 9 9 9 9 \n",
            "\n"
          ]
        }
      ]
    },
    {
      "cell_type": "markdown",
      "source": [
        "# **Exercise 9: Check Palindrome Number**\n",
        "Write a program to check if the given number is a palindrome number.\n",
        "\n",
        "A palindrome number is a number that is the same after reverse. For example, 545, is the palindrome numbers"
      ],
      "metadata": {
        "id": "a0BZJCGH6DBX"
      }
    },
    {
      "cell_type": "code",
      "source": [
        "def palindrome(number):\n",
        "    print(\"original number\", number)\n",
        "    original_num = number\n",
        "\n",
        "    # reverse the given number\n",
        "    reverse_num = 0\n",
        "    while number > 0:\n",
        "        reminder = number % 10\n",
        "        reverse_num = (reverse_num * 10) + reminder\n",
        "        number = number // 10\n",
        "\n",
        "    # check numbers\n",
        "    if original_num == reverse_num:\n",
        "        print(\"Given number palindrome\")\n",
        "    else:\n",
        "        print(\"Given number is not palindrome\")\n",
        "\n",
        "palindrome(121)\n",
        "palindrome(125)\n"
      ],
      "metadata": {
        "colab": {
          "base_uri": "https://localhost:8080/"
        },
        "id": "nJ4IK4C66FKn",
        "outputId": "913b4435-798a-433c-8362-c6cd88bb9695"
      },
      "execution_count": null,
      "outputs": [
        {
          "output_type": "stream",
          "name": "stdout",
          "text": [
            "original number 121\n",
            "Given number palindrome\n",
            "original number 125\n",
            "Given number is not palindrome\n"
          ]
        }
      ]
    },
    {
      "cell_type": "markdown",
      "source": [
        "Exercise 10: Create a new list from two list using the following condition\n",
        "# Create a new list from two list using the following condition *\n",
        "\n",
        "Given two list of numbers, write a program to create a new list such that the new list should contain odd numbers from the first list and even numbers from the second list."
      ],
      "metadata": {
        "id": "2duLKiWc629v"
      }
    },
    {
      "cell_type": "code",
      "source": [
        "def merge_list(list1, list2):\n",
        "    result_list = []\n",
        "\n",
        "    # iterate first list\n",
        "    for num in list1:\n",
        "        # check if current number is odd\n",
        "        if num % 2 != 0:\n",
        "            # add odd number to result list\n",
        "            result_list.append(num)\n",
        "\n",
        "    # iterate second list\n",
        "    for num in list2:\n",
        "        # check if current number is even\n",
        "        if num % 2 == 0:\n",
        "            # add even number to result list\n",
        "            result_list.append(num)\n",
        "    return result_list\n",
        "\n",
        "list1 = [10, 20, 25, 30, 35]\n",
        "list2 = [40, 45, 60, 75, 90]\n",
        "print(\"result list:\", merge_list(list1, list2))\n"
      ],
      "metadata": {
        "colab": {
          "base_uri": "https://localhost:8080/"
        },
        "id": "dAmyO6126xK3",
        "outputId": "9a49c488-7162-4329-f68b-2a6e19f9aee8"
      },
      "execution_count": null,
      "outputs": [
        {
          "output_type": "stream",
          "name": "stdout",
          "text": [
            "result list: [25, 35, 40, 60, 90]\n"
          ]
        }
      ]
    },
    {
      "cell_type": "markdown",
      "source": [
        "# **Write a Program to extract each digit from an integer in the reverse order.**\n",
        "For example, If the given int is 7536, the output shall be “6 3 5 7“, with a space separating the digits."
      ],
      "metadata": {
        "id": "iVCjdhRp7U4_"
      }
    },
    {
      "cell_type": "code",
      "source": [
        "number = 7536\n",
        "print(\"Given number\", number)\n",
        "while number > 0:\n",
        "    # get the last digit\n",
        "    digit = number % 10\n",
        "    # remove the last digit and repeat the loop\n",
        "    number = number // 10\n",
        "    print(digit, end=\" \")\n"
      ],
      "metadata": {
        "colab": {
          "base_uri": "https://localhost:8080/"
        },
        "id": "S262DdjN7KlI",
        "outputId": "b92129e5-65bc-4162-cfad-79b5ee88d4fa"
      },
      "execution_count": null,
      "outputs": [
        {
          "output_type": "stream",
          "name": "stdout",
          "text": [
            "Given number 7536\n",
            "6 3 5 7 "
          ]
        }
      ]
    },
    {
      "cell_type": "markdown",
      "source": [
        "\n",
        "To decide and control the flow of a program, we have branching and looping techniques in Python. A good understanding of loops and if-else statements is necessary to write efficient programs in Python.\n",
        "\n",
        "Control flow statements: Use the if-else statements in Python for conditional decision-making\n",
        "\n",
        "for loop: To iterate over a sequence of elements such as list, string.\n",
        "\n",
        "range() function: Using a for loop with range(), we can repeat an action a specific number of times\n",
        "\n",
        "while loop: To repeat a block of code repeatedly, as long as the condition is true.\n",
        "\n",
        "Break and Continue: To alter the loop’s execution in a certain manner.\n",
        "Nested loop: loop inside a loop is known as a nested loop\n",
        "\n",
        "Exercise 1: Print First 10 natural numbers using while loop\n"
      ],
      "metadata": {
        "id": "lQq8OCw59CF0"
      }
    },
    {
      "cell_type": "code",
      "source": [
        "# program 1: Print first 10 natural numbers\n",
        "i = 1\n",
        "while i <= 10:\n",
        "    print(i)\n",
        "    i += 1\n"
      ],
      "metadata": {
        "colab": {
          "base_uri": "https://localhost:8080/"
        },
        "id": "BifrLdQX89o8",
        "outputId": "868334cf-d1fd-4049-d593-c751994b4c01"
      },
      "execution_count": null,
      "outputs": [
        {
          "output_type": "stream",
          "name": "stdout",
          "text": [
            "1\n",
            "2\n",
            "3\n",
            "4\n",
            "5\n",
            "6\n",
            "7\n",
            "8\n",
            "9\n",
            "10\n"
          ]
        }
      ]
    },
    {
      "cell_type": "markdown",
      "source": [
        "# **Calculate the sum of all numbers from 1 to a given number**"
      ],
      "metadata": {
        "id": "cKdMG6P4-pJW"
      }
    },
    {
      "cell_type": "code",
      "source": [
        "# s: store sum of all numbers\n",
        "s = 0\n",
        "n = int(input(\"Enter number \"))\n",
        "# run loop n times\n",
        "# stop: n+1 (because range never include stop number in result)\n",
        "for i in range(1, n + 1, 1):\n",
        "    # add current number to sum variable\n",
        "    s += i\n",
        "print(\"\\n\")\n",
        "print(\"Sum is: \", s)\n"
      ],
      "metadata": {
        "colab": {
          "base_uri": "https://localhost:8080/"
        },
        "id": "yiprkonZ9b7x",
        "outputId": "eacc5e9e-dab9-4165-b47c-29a7f04977b5"
      },
      "execution_count": null,
      "outputs": [
        {
          "output_type": "stream",
          "name": "stdout",
          "text": [
            "Enter number 123\n",
            "\n",
            "\n",
            "Sum is:  7626\n"
          ]
        }
      ]
    },
    {
      "cell_type": "code",
      "source": [
        "n = int(input(\"Enter number \"))\n",
        "# pass range of numbers to sum() function\n",
        "x = sum(range(1, n + 1))\n",
        "print('Sum is:', x)"
      ],
      "metadata": {
        "colab": {
          "base_uri": "https://localhost:8080/"
        },
        "id": "nIWr0UeP-qwv",
        "outputId": "b4eee3bb-62fb-4768-ead1-cf201e83780e"
      },
      "execution_count": null,
      "outputs": [
        {
          "output_type": "stream",
          "name": "stdout",
          "text": [
            "Enter number 12\n",
            "Sum is: 78\n"
          ]
        }
      ]
    },
    {
      "cell_type": "markdown",
      "source": [
        "# **4: Write a program to print multiplication table of a given number**"
      ],
      "metadata": {
        "id": "iPEZe1kO_A1B"
      }
    },
    {
      "cell_type": "code",
      "source": [
        "n = 2\n",
        "# stop: 11 (because range never include stop number in result)\n",
        "# run loop 10 times\n",
        "for i in range(1, 11, 1):\n",
        "    # 2 *i (current number)\n",
        "    product = n * i\n",
        "    print(product)\n"
      ],
      "metadata": {
        "colab": {
          "base_uri": "https://localhost:8080/"
        },
        "id": "ZflcCFO6-6hp",
        "outputId": "0f528cc9-0fb4-4e6d-e1ae-cb5e1b0aa215"
      },
      "execution_count": null,
      "outputs": [
        {
          "output_type": "stream",
          "name": "stdout",
          "text": [
            "2\n",
            "4\n",
            "6\n",
            "8\n",
            "10\n",
            "12\n",
            "14\n",
            "16\n",
            "18\n",
            "20\n"
          ]
        }
      ]
    },
    {
      "cell_type": "markdown",
      "source": [
        "# **Display numbers from a list using loop**\n",
        "\n",
        "Write a program to display only those numbers from a list that satisfy the following conditions\n",
        "\n",
        "The number must be divisible by five\n",
        "If the number is greater than 150, then skip it and move to the next number\n",
        "If the number is greater than 500, then stop the loop"
      ],
      "metadata": {
        "id": "TBYvUf0f_UuC"
      }
    },
    {
      "cell_type": "code",
      "source": [
        "numbers = [12, 75, 150, 180, 145, 525, 50]\n",
        "# iterate each item of a list\n",
        "for item in numbers:\n",
        "    if item > 500:\n",
        "        break\n",
        "    elif item > 150:\n",
        "        continue\n",
        "    # check if number is divisible by 5\n",
        "    elif item % 5 == 0:\n",
        "        print(item)\n"
      ],
      "metadata": {
        "colab": {
          "base_uri": "https://localhost:8080/"
        },
        "id": "p4m7c_Nq_DqH",
        "outputId": "5ee31b26-edcf-4c25-efe9-cce30d58fd45"
      },
      "execution_count": null,
      "outputs": [
        {
          "output_type": "stream",
          "name": "stdout",
          "text": [
            "75\n",
            "150\n",
            "145\n"
          ]
        }
      ]
    },
    {
      "cell_type": "markdown",
      "source": [
        "# **Exercise 6: Count the total number of digits in a number**"
      ],
      "metadata": {
        "id": "q4GtRHTg_w4A"
      }
    },
    {
      "cell_type": "markdown",
      "source": [
        "Set counter = 0\n",
        "Run while loop till number != 0\n",
        "In each iteration of loop\n",
        "Reduce the last digit from the number using floor division ( number = number // 10)\n",
        "Increment counter by 1\n",
        "print counter"
      ],
      "metadata": {
        "id": "NvSFgynS_tFI"
      }
    },
    {
      "cell_type": "code",
      "source": [
        "num = 75869\n",
        "count = 0\n",
        "while num != 0:\n",
        "    # floor division\n",
        "    # to reduce the last digit from number\n",
        "    num = num // 10\n",
        "\n",
        "    # increment counter by 1\n",
        "    count = count + 1\n",
        "print(\"Total digits are:\", count)"
      ],
      "metadata": {
        "colab": {
          "base_uri": "https://localhost:8080/"
        },
        "id": "ryJxjae2_kgk",
        "outputId": "cd969b24-40de-4885-93da-bfde684e9a8a"
      },
      "execution_count": null,
      "outputs": [
        {
          "output_type": "stream",
          "name": "stdout",
          "text": [
            "Total digits are: 5\n"
          ]
        }
      ]
    },
    {
      "cell_type": "markdown",
      "source": [
        "Print the following pattern\n",
        "# **Write a program to use for loop to print the following reverse number pattern**"
      ],
      "metadata": {
        "id": "rse8xQaP_7g3"
      }
    },
    {
      "cell_type": "markdown",
      "source": [
        "create an outer loop to iterate numbers from 1 to 5 using for loop and range() function\n",
        "Create an inner loop inside the outer loop in such a way that in each iteration of the outer loop, the inner loop iteration will be reduced by i. i is the current number of an outer loop\n",
        "In each iteration of the inner loop, print the iterator variable of the inner loop (j)\n",
        "Note:\n",
        "\n",
        "In the first iteration of the outer loop inner loop execute five times.\n",
        "In the second iteration of the outer loop inner loop execute four times.\n",
        "In the last iteration of the outer loop, the inner loop will execute only once"
      ],
      "metadata": {
        "id": "Ha3ZKK3V_6go"
      }
    },
    {
      "cell_type": "code",
      "source": [
        "n = 5\n",
        "k = 5\n",
        "for i in range(0,n+1):\n",
        "    for j in range(k-i,0,-1):\n",
        "        print(j,end=' ')\n",
        "    print()"
      ],
      "metadata": {
        "colab": {
          "base_uri": "https://localhost:8080/"
        },
        "id": "Fp8IQirP__5R",
        "outputId": "9058db30-3e4f-403d-d895-56f1ab77d745"
      },
      "execution_count": null,
      "outputs": [
        {
          "output_type": "stream",
          "name": "stdout",
          "text": [
            "5 4 3 2 1 \n",
            "4 3 2 1 \n",
            "3 2 1 \n",
            "2 1 \n",
            "1 \n",
            "\n"
          ]
        }
      ]
    },
    {
      "cell_type": "markdown",
      "source": [
        "# Exercise 8: Print list in reverse order using a **loop**"
      ],
      "metadata": {
        "id": "yfoVDpFPAQeH"
      }
    },
    {
      "cell_type": "markdown",
      "source": [
        "Approach 1: Use the built-in function reversed() to reverse the list\n",
        "\n",
        "Approach 2: Use for loop and the len() function\n",
        "\n",
        "Get the size of a list using the len(list1) function\n",
        "Use for loop and reverse range() to iterate index number in reverse order starting from length-1 to 0. In each iteration, i will be reduced by 1\n",
        "In each iteration, print list item using list1[i]. i is the current value if the index"
      ],
      "metadata": {
        "id": "HTTAwwItAPoB"
      }
    },
    {
      "cell_type": "code",
      "source": [
        "list1 = [10, 20, 30, 40, 50]\n",
        "# reverse list\n",
        "new_list = reversed(list1)\n",
        "# iterate reversed list\n",
        "for item in new_list:\n",
        "    print(item)\n"
      ],
      "metadata": {
        "colab": {
          "base_uri": "https://localhost:8080/"
        },
        "id": "HYRL9gtdAI6n",
        "outputId": "2cd8e930-44ab-45bd-a787-c418f44846c2"
      },
      "execution_count": null,
      "outputs": [
        {
          "output_type": "stream",
          "name": "stdout",
          "text": [
            "50\n",
            "40\n",
            "30\n",
            "20\n",
            "10\n"
          ]
        }
      ]
    },
    {
      "cell_type": "code",
      "source": [
        "list1 = [10, 20, 30, 40, 50]\n",
        "# get list size\n",
        "# len(list1) -1: because index start with 0\n",
        "# iterate list in reverse order\n",
        "# star from last item to first\n",
        "size = len(list1) - 1\n",
        "for i in range(size, -1, -1):\n",
        "    print(list1[i])\n"
      ],
      "metadata": {
        "colab": {
          "base_uri": "https://localhost:8080/"
        },
        "id": "QxM1Ks69AirE",
        "outputId": "b354dc10-9e45-4af5-f9dd-1be7d01b708e"
      },
      "execution_count": null,
      "outputs": [
        {
          "output_type": "stream",
          "name": "stdout",
          "text": [
            "50\n",
            "40\n",
            "30\n",
            "20\n",
            "10\n"
          ]
        }
      ]
    },
    {
      "cell_type": "code",
      "source": [
        "for num in range(-10, 0, 1):\n",
        "    print(num)"
      ],
      "metadata": {
        "colab": {
          "base_uri": "https://localhost:8080/"
        },
        "id": "EqWKdxsaAipY",
        "outputId": "521133d2-a0d7-47ff-afa1-fc6caf2e868e"
      },
      "execution_count": null,
      "outputs": [
        {
          "output_type": "stream",
          "name": "stdout",
          "text": [
            "-10\n",
            "-9\n",
            "-8\n",
            "-7\n",
            "-6\n",
            "-5\n",
            "-4\n",
            "-3\n",
            "-2\n",
            "-1\n"
          ]
        }
      ]
    },
    {
      "cell_type": "markdown",
      "source": [
        "# **11: Write a program to display all prime numbers within a range**\n",
        "Note: A Prime Number is a number that cannot be made by multiplying other whole numbers. A prime number is a natural number greater than 1 that is not a product of two smaller natural numbers\n",
        "\n",
        "Examples:\n",
        "\n",
        "6 is not a prime mumber because it can be made by 2×3 = 6\n",
        "37 is a prime number because no other whole numbers multiply together to make it."
      ],
      "metadata": {
        "id": "NTZiEqZnBbs6"
      }
    },
    {
      "cell_type": "code",
      "source": [
        "start = 25\n",
        "end = 50\n",
        "print(\"Prime numbers between\", start, \"and\", end, \"are:\")\n",
        "\n",
        "for num in range(start, end + 1):\n",
        "    # all prime numbers are greater than 1\n",
        "    # if number is less than or equal to 1, it is not prime\n",
        "    if num > 1:\n",
        "        for i in range(2, num):\n",
        "            # check for factors\n",
        "            if (num % i) == 0:\n",
        "                # not a prime number so break inner loop and\n",
        "                # look for next number\n",
        "                break\n",
        "        else:\n",
        "            print(num)"
      ],
      "metadata": {
        "colab": {
          "base_uri": "https://localhost:8080/"
        },
        "id": "Q07Fgd2xBCoY",
        "outputId": "4cc1de09-2639-4ecb-cce7-f257d49a0ed5"
      },
      "execution_count": null,
      "outputs": [
        {
          "output_type": "stream",
          "name": "stdout",
          "text": [
            "Prime numbers between 25 and 50 are:\n",
            "29\n",
            "31\n",
            "37\n",
            "41\n",
            "43\n",
            "47\n"
          ]
        }
      ]
    },
    {
      "cell_type": "markdown",
      "source": [
        "# **Exercise 12: Display Fibonacci series up to 10 terms**\n",
        "The Fibonacci Sequence is a series of numbers. The next number is found by adding up the two numbers before it. The first two numbers are 0 and 1.\n",
        "\n",
        "For example, 0, 1, 1, 2, 3, 5, 8, 13, 21. The next number in this series above is 13+21 = 34."
      ],
      "metadata": {
        "id": "wvxIaflQBmww"
      }
    },
    {
      "cell_type": "code",
      "source": [
        "# first two numbers\n",
        "num1, num2 = 0, 1\n",
        "\n",
        "print(\"Fibonacci sequence:\")\n",
        "# run loop 10 times\n",
        "for i in range(10):\n",
        "    # print next number of a series\n",
        "    print(num1, end=\"  \")\n",
        "    # add last two numbers to get next number\n",
        "    res = num1 + num2\n",
        "\n",
        "    # update values\n",
        "    num1 = num2\n",
        "    num2 = res\n"
      ],
      "metadata": {
        "colab": {
          "base_uri": "https://localhost:8080/"
        },
        "id": "4U1yi2XvBuNA",
        "outputId": "bc621d01-ddcd-442a-c347-8e482b1dae93"
      },
      "execution_count": null,
      "outputs": [
        {
          "output_type": "stream",
          "name": "stdout",
          "text": [
            "Fibonacci sequence:\n",
            "0  1  1  2  3  5  8  13  21  34  "
          ]
        }
      ]
    },
    {
      "cell_type": "code",
      "source": [
        "def fibonacci_iterative(n):\n",
        "    if n <= 0:\n",
        "        return []\n",
        "    elif n == 1:\n",
        "        return [0]\n",
        "    elif n == 2:\n",
        "        return [0, 1]\n",
        "\n",
        "    fib_seq = [0, 1]\n",
        "    for i in range(2, n):\n",
        "        fib_seq.append(fib_seq[-1] + fib_seq[-2])\n",
        "    return fib_seq\n",
        "\n",
        "# Example\n",
        "print(fibonacci_iterative(10))  # Output: [0, 1, 1, 2, 3, 5, 8, 13, 21, 34]\n"
      ],
      "metadata": {
        "colab": {
          "base_uri": "https://localhost:8080/"
        },
        "id": "imQ8pSiZCjfB",
        "outputId": "3f8467ff-830a-4fb2-dc5b-8403e0ded75c"
      },
      "execution_count": null,
      "outputs": [
        {
          "output_type": "stream",
          "name": "stdout",
          "text": [
            "[0, 1, 1, 2, 3, 5, 8, 13, 21, 34]\n"
          ]
        }
      ]
    },
    {
      "cell_type": "markdown",
      "source": [
        "# **Exercise 13: Find the factorial of a given number**\n",
        "Write a program to use the loop to find the factorial of a given number.\n",
        "\n",
        "The factorial (symbol: !) means to multiply all whole numbers from the chosen number down to 1."
      ],
      "metadata": {
        "id": "Qu1MMcBVDY3b"
      }
    },
    {
      "cell_type": "code",
      "source": [
        "num = 5\n",
        "factorial = 1\n",
        "if num < 0:\n",
        "    print(\"Factorial does not exist for negative numbers\")\n",
        "elif num == 0:\n",
        "    print(\"The factorial of 0 is 1\")\n",
        "else:\n",
        "    # run loop 5 times\n",
        "    for i in range(1, num + 1):\n",
        "        # multiply factorial by current number\n",
        "        factorial = factorial * i\n",
        "    print(\"The factorial of\", num, \"is\", factorial)\n"
      ],
      "metadata": {
        "colab": {
          "base_uri": "https://localhost:8080/"
        },
        "id": "2fkp2aVMDe1h",
        "outputId": "fe3e8dfd-ff3d-4bad-c646-f8fca5cf5fe4"
      },
      "execution_count": null,
      "outputs": [
        {
          "output_type": "stream",
          "name": "stdout",
          "text": [
            "The factorial of 5 is 120\n"
          ]
        }
      ]
    },
    {
      "cell_type": "code",
      "source": [
        "def fact(n):\n",
        "  if n==0:\n",
        "    return 1\n",
        "  else:\n",
        "    return n*fact(n-1)\n",
        "print(f'Print fact of {n} is', fact(5))\n"
      ],
      "metadata": {
        "colab": {
          "base_uri": "https://localhost:8080/"
        },
        "id": "WlHeJETgDgZi",
        "outputId": "70f86df7-a90b-43e0-a7c6-68badf97d2b8"
      },
      "execution_count": null,
      "outputs": [
        {
          "output_type": "stream",
          "name": "stdout",
          "text": [
            "Print fact of 5 is 120\n"
          ]
        }
      ]
    },
    {
      "cell_type": "markdown",
      "source": [
        "# **Reverse an integer number**"
      ],
      "metadata": {
        "id": "xHl7R5W9ENi0"
      }
    },
    {
      "cell_type": "code",
      "source": [
        "num = 76542\n",
        "reverse_number = 0\n",
        "print(\"Given Number \", num)\n",
        "while num > 0:\n",
        "    reminder = num % 10\n",
        "    reverse_number = (reverse_number * 10) + reminder\n",
        "    num = num // 10\n",
        "print(\"Revere Number \", reverse_number)"
      ],
      "metadata": {
        "colab": {
          "base_uri": "https://localhost:8080/"
        },
        "id": "mKwkY7rqERQZ",
        "outputId": "f70201a5-6857-4762-b265-d3a4c09d72ee"
      },
      "execution_count": null,
      "outputs": [
        {
          "output_type": "stream",
          "name": "stdout",
          "text": [
            "Given Number  76542\n",
            "Revere Number  24567\n"
          ]
        }
      ]
    },
    {
      "cell_type": "code",
      "source": [
        "num = 1234\n",
        "reversed_num = 0\n",
        "\n",
        "while num != 0:\n",
        "    digit = num % 10\n",
        "    reversed_num = reversed_num * 10 + digit\n",
        "    num //= 10\n",
        "\n",
        "print(\"Reversed Number: \" + str(reversed_num))"
      ],
      "metadata": {
        "colab": {
          "base_uri": "https://localhost:8080/"
        },
        "id": "6mv6mYftGP_h",
        "outputId": "0d83ec16-13d7-4586-ba89-fb35c069df95"
      },
      "execution_count": null,
      "outputs": [
        {
          "output_type": "stream",
          "name": "stdout",
          "text": [
            "Reversed Number: 4321\n"
          ]
        }
      ]
    },
    {
      "cell_type": "markdown",
      "source": [
        "# **Using string slicing**"
      ],
      "metadata": {
        "id": "Pq2ebHIyGcAU"
      }
    },
    {
      "cell_type": "code",
      "source": [
        "num = 123456\n",
        "print(str(num)[::-1])"
      ],
      "metadata": {
        "colab": {
          "base_uri": "https://localhost:8080/"
        },
        "id": "2YQjUnjRGbMR",
        "outputId": "f5bfd429-ac96-4b97-b3c1-c24fd37cd48b"
      },
      "execution_count": null,
      "outputs": [
        {
          "output_type": "stream",
          "name": "stdout",
          "text": [
            "654321\n"
          ]
        }
      ]
    },
    {
      "cell_type": "code",
      "source": [
        "def rev(num = 123456):\n",
        "  res = str(num)[::-1]\n",
        "  return res\n",
        "print(rev(num))"
      ],
      "metadata": {
        "colab": {
          "base_uri": "https://localhost:8080/"
        },
        "id": "OHUXGFiiGoRC",
        "outputId": "7417bdc1-811d-49ba-d974-d9a4fbecd306"
      },
      "execution_count": null,
      "outputs": [
        {
          "output_type": "stream",
          "name": "stdout",
          "text": [
            "654321\n"
          ]
        }
      ]
    },
    {
      "cell_type": "code",
      "source": [
        "def rev(a = [1234]):\n",
        "  a=str(a)\n",
        "  res = reversed(a)\n",
        "  r1 = (res)\n",
        "  return r1\n",
        "\n",
        "\n",
        "print(rev(int(76542))) #cant use this method for integer since it (reversed()) returns a string\n"
      ],
      "metadata": {
        "colab": {
          "base_uri": "https://localhost:8080/"
        },
        "id": "RhLoc-YeETCR",
        "outputId": "34a2b27d-2648-4b95-ca42-69501b368d06"
      },
      "execution_count": null,
      "outputs": [
        {
          "output_type": "stream",
          "name": "stdout",
          "text": [
            "<reversed object at 0x7a07d95715a0>\n"
          ]
        }
      ]
    },
    {
      "cell_type": "markdown",
      "source": [
        "The reversed() function takes a single argument.\n",
        "\n",
        "iterable - an iterable such as list, tuple, string, dictionary, etc.eversed() Return Value\n",
        "The reversed() method returns an iterator object.\n",
        "\n",
        "Note: Iterator objects can be easily converted into sequences such as lists and tuples. They can also be directly iterated over using a loop."
      ],
      "metadata": {
        "id": "Kfo8OAB0KAzk"
      }
    },
    {
      "cell_type": "code",
      "source": [
        "text = 'cad'\n",
        "\n",
        "# access items of the string in reversed order\n",
        "for char in reversed(text):\n",
        "    print(char)"
      ],
      "metadata": {
        "colab": {
          "base_uri": "https://localhost:8080/"
        },
        "id": "-X2_n3GJKJGA",
        "outputId": "4ad18a99-dab6-4d35-ceab-528753838ea8"
      },
      "execution_count": null,
      "outputs": [
        {
          "output_type": "stream",
          "name": "stdout",
          "text": [
            "d\n",
            "a\n",
            "c\n"
          ]
        }
      ]
    },
    {
      "cell_type": "code",
      "source": [
        "country_capitals = {\n",
        "  'England': 'London',\n",
        "  'Canada': 'Ottawa',\n",
        "  'Germany': 'Berlin'\n",
        "}\n",
        "\n",
        "# access keys in reversed order\n",
        "# and convert it to a tuple\n",
        "country = tuple(reversed(country_capitals))\n",
        "print(country)"
      ],
      "metadata": {
        "colab": {
          "base_uri": "https://localhost:8080/"
        },
        "id": "TdKBaN2wKM7Z",
        "outputId": "867061a7-f623-4265-9aac-05ae841c608c"
      },
      "execution_count": null,
      "outputs": [
        {
          "output_type": "stream",
          "name": "stdout",
          "text": [
            "('Germany', 'Canada', 'England')\n"
          ]
        }
      ]
    },
    {
      "cell_type": "code",
      "source": [
        "# create a list of prime numbers\n",
        "prime_numbers = [2, 3, 5, 7]\n",
        "\n",
        "# reverse the order of list elements\n",
        "prime_numbers.reverse()\n",
        "\n",
        "print('Reversed List:', prime_numbers)\n",
        "\n",
        "# Output: Reversed List: [7, 5, 3, 2]"
      ],
      "metadata": {
        "colab": {
          "base_uri": "https://localhost:8080/"
        },
        "id": "DhCyxovCKXZK",
        "outputId": "d9e4b9bd-adc0-475c-afbb-3a1b2fc2a7a9"
      },
      "execution_count": null,
      "outputs": [
        {
          "output_type": "stream",
          "name": "stdout",
          "text": [
            "Reversed List: [7, 5, 3, 2]\n"
          ]
        }
      ]
    },
    {
      "cell_type": "code",
      "source": [
        "a =[1234]\n",
        "r = a.reverse()\n",
        "print(r) #this cant be done sinc eit return list"
      ],
      "metadata": {
        "colab": {
          "base_uri": "https://localhost:8080/"
        },
        "id": "2AHFLKNiK3aL",
        "outputId": "8c0cf45b-9dd1-4246-b75c-f2f5ec9d71a6"
      },
      "execution_count": null,
      "outputs": [
        {
          "output_type": "stream",
          "name": "stdout",
          "text": [
            "None\n"
          ]
        }
      ]
    },
    {
      "cell_type": "code",
      "source": [
        "string = 'Python'\n",
        "\n",
        "result = reversed(string)\n",
        "\n",
        "# convert the iterator to list and print it\n",
        "print(list(result))\n",
        "\n",
        "# Output: ['n', 'o', 'h', 't', 'y', 'P']\n"
      ],
      "metadata": {
        "colab": {
          "base_uri": "https://localhost:8080/"
        },
        "id": "2oesu5FgJzFB",
        "outputId": "52e3fe91-7356-4184-ea67-1838c6144f75"
      },
      "execution_count": null,
      "outputs": [
        {
          "output_type": "stream",
          "name": "stdout",
          "text": [
            "['n', 'o', 'h', 't', 'y', 'P']\n"
          ]
        }
      ]
    },
    {
      "cell_type": "code",
      "source": [
        "def reverse_integer(n):\n",
        "    \"\"\"\n",
        "    Reverses an integer number.\n",
        "\n",
        "    Args:\n",
        "    n (int): The integer to reverse.\n",
        "\n",
        "    Returns:\n",
        "    int: The reversed integer.\n",
        "    \"\"\"\n",
        "    # Handle negative numbers by temporarily converting to positive\n",
        "    is_negative = n < 0\n",
        "    n = abs(n)\n",
        "\n",
        "    # Reverse the integer using string manipulation\n",
        "    reversed_n = int(str(n)[::-1])\n",
        "\n",
        "    # Restore the negative sign if necessary\n",
        "    if is_negative:\n",
        "        reversed_n = -reversed_n\n",
        "\n",
        "    return reversed_n\n",
        "\n",
        "# Example usage:\n",
        "number = 12345\n",
        "reversed_number = reverse_integer(number)\n",
        "print(f\"The reverse of {number} is {reversed_number}\")\n",
        "\n",
        "number = -9876\n",
        "reversed_number = reverse_integer(number)\n",
        "print(f\"The reverse of {number} is {reversed_number}\")\n"
      ],
      "metadata": {
        "colab": {
          "base_uri": "https://localhost:8080/"
        },
        "id": "N-m6gaCnI0GJ",
        "outputId": "ddae963c-2348-4129-b1f8-694e61af0d23"
      },
      "execution_count": null,
      "outputs": [
        {
          "output_type": "stream",
          "name": "stdout",
          "text": [
            "The reverse of 12345 is 54321\n",
            "The reverse of -9876 is -6789\n"
          ]
        }
      ]
    },
    {
      "cell_type": "markdown",
      "source": [
        "# **Use a loop to display elements from a given list present at odd index positions**"
      ],
      "metadata": {
        "id": "baGSASXnISYJ"
      }
    },
    {
      "cell_type": "code",
      "source": [
        "a =[1,2,3,4,5,6,78,9,100]\n",
        "\n",
        "for i in a[1::2]:\n",
        "  print(i)"
      ],
      "metadata": {
        "colab": {
          "base_uri": "https://localhost:8080/"
        },
        "id": "iwgPiB69IT-h",
        "outputId": "92efd13b-5aa4-47df-e024-6f83b0caaac9"
      },
      "execution_count": null,
      "outputs": [
        {
          "output_type": "stream",
          "name": "stdout",
          "text": [
            "2\n",
            "4\n",
            "6\n",
            "9\n"
          ]
        }
      ]
    },
    {
      "cell_type": "code",
      "source": [
        "my_list = [10, 20, 30, 40, 50, 60, 70, 80, 90, 100]\n",
        "# stat from index 1 with step 2( means 1, 3, 5, an so on)\n",
        "for i in my_list[1::2]:\n",
        "    print(i, end=\" \")"
      ],
      "metadata": {
        "colab": {
          "base_uri": "https://localhost:8080/"
        },
        "id": "HdtTMmV9IsOZ",
        "outputId": "741820f4-5788-4859-a938-72873402ae04"
      },
      "execution_count": null,
      "outputs": [
        {
          "output_type": "stream",
          "name": "stdout",
          "text": [
            "20 40 60 80 100 "
          ]
        }
      ]
    },
    {
      "cell_type": "markdown",
      "source": [
        "**SORT**"
      ],
      "metadata": {
        "id": "smPS9ZRILZ6S"
      }
    },
    {
      "cell_type": "code",
      "source": [
        "prime_numbers = [11, 3, 7, 5, 2]\n",
        "\n",
        "# sort the list in ascending order\n",
        "prime_numbers.sort()\n",
        "\n",
        "print(prime_numbers)\n",
        "\n",
        "# Output: [2, 3, 5, 7, 11]"
      ],
      "metadata": {
        "colab": {
          "base_uri": "https://localhost:8080/"
        },
        "id": "UMGX1HgiLZdC",
        "outputId": "fb809016-23a1-4cd8-89f4-a45ea2cbcb0e"
      },
      "execution_count": null,
      "outputs": [
        {
          "output_type": "stream",
          "name": "stdout",
          "text": [
            "[2, 3, 5, 7, 11]\n"
          ]
        }
      ]
    },
    {
      "cell_type": "code",
      "source": [
        "numbers = [7, 3, 11, 2, 5]\n",
        "\n",
        "# reverse is set to True\n",
        "numbers.sort(reverse = True)\n",
        "\n",
        "print(numbers)"
      ],
      "metadata": {
        "colab": {
          "base_uri": "https://localhost:8080/"
        },
        "id": "iR1LfN4gLiQZ",
        "outputId": "592c1e7b-df1b-451b-c1e7-3f1d94bf2649"
      },
      "execution_count": null,
      "outputs": [
        {
          "output_type": "stream",
          "name": "stdout",
          "text": [
            "[11, 7, 5, 3, 2]\n"
          ]
        }
      ]
    },
    {
      "cell_type": "code",
      "source": [
        "cities = [\"Tokyo\", \"London\", \"Washington D.C\"]\n",
        "\n",
        "# sort in dictionary order\n",
        "cities.sort()\n",
        "print(f\"Dictionary order: {cities}\")\n",
        "\n",
        "# sort in reverse dictionary order\n",
        "cities.sort(reverse = True)\n",
        "print(f\"Reverse dictionary order: {cities}\")"
      ],
      "metadata": {
        "colab": {
          "base_uri": "https://localhost:8080/"
        },
        "id": "Rjg2wMsmLoex",
        "outputId": "dfc779ae-0fb7-41b3-8414-0a22090e3f60"
      },
      "execution_count": null,
      "outputs": [
        {
          "output_type": "stream",
          "name": "stdout",
          "text": [
            "Dictionary order: ['London', 'Tokyo', 'Washington D.C']\n",
            "Reverse dictionary order: ['Washington D.C', 'Tokyo', 'London']\n"
          ]
        }
      ]
    },
    {
      "cell_type": "code",
      "source": [
        "text = [\"abc\", \"wxyz\", \"gh\", \"a\"]\n",
        "\n",
        "# stort strings based on their length\n",
        "text.sort(key = len)\n",
        "print(text)\n"
      ],
      "metadata": {
        "colab": {
          "base_uri": "https://localhost:8080/"
        },
        "id": "SnCEV3hgLyJb",
        "outputId": "5d611184-8ccb-4fda-cb7a-d9098dc8085a"
      },
      "execution_count": null,
      "outputs": [
        {
          "output_type": "stream",
          "name": "stdout",
          "text": [
            "['a', 'gh', 'abc', 'wxyz']\n"
          ]
        }
      ]
    },
    {
      "cell_type": "markdown",
      "source": [
        "# **INSERT**"
      ],
      "metadata": {
        "id": "ZtXSP9IaMDyx"
      }
    },
    {
      "cell_type": "markdown",
      "source": [
        "# INSERT The insert() method inserts an element to the list at the specified index.\n"
      ],
      "metadata": {
        "id": "XqSJCyX8L8pp"
      }
    },
    {
      "cell_type": "markdown",
      "source": [
        "The syntax of the insert() method is\n",
        "\n",
        "list.insert(i, elem)\n",
        "Here, elem is inserted to the list at the ith index. All the elements after elem are shifted to the right.\n",
        "\n"
      ],
      "metadata": {
        "id": "m50KU4cbMT0h"
      }
    },
    {
      "cell_type": "code",
      "source": [
        "# create a list of vowels\n",
        "vowel = ['a', 'e', 'i', 'u']\n",
        "\n",
        "# 'o' is inserted at index 3 (4th position)\n",
        "vowel.insert(3, 'o')\n",
        "\n",
        "print('List:', vowel)\n",
        "\n",
        "# Output: List: ['a', 'e', 'i', 'o', 'u']"
      ],
      "metadata": {
        "colab": {
          "base_uri": "https://localhost:8080/"
        },
        "id": "pmgPCXeDMDX5",
        "outputId": "815f2225-76b2-48b8-965c-bd0422cc3ca6"
      },
      "execution_count": null,
      "outputs": [
        {
          "output_type": "stream",
          "name": "stdout",
          "text": [
            "List: ['a', 'e', 'i', 'o', 'u']\n"
          ]
        }
      ]
    },
    {
      "cell_type": "code",
      "source": [
        "# create a list of prime numbers\n",
        "prime_numbers = [2, 3, 5, 7]\n",
        "\n",
        "# insert 11 at index 4\n",
        "prime_numbers.insert(4, 11)\n",
        "\n",
        "print('List:', prime_numbers)"
      ],
      "metadata": {
        "colab": {
          "base_uri": "https://localhost:8080/"
        },
        "id": "PYfepZ5YMO4a",
        "outputId": "78f6b360-6df4-4e73-9e56-e12942d25c11"
      },
      "execution_count": null,
      "outputs": [
        {
          "output_type": "stream",
          "name": "stdout",
          "text": [
            "List: [2, 3, 5, 7, 11]\n"
          ]
        }
      ]
    },
    {
      "cell_type": "code",
      "source": [
        "mixed_list = [{1, 2}, [5, 6, 7]]\n",
        "\n",
        "# number tuple\n",
        "number_tuple = (3, 4)\n",
        "\n",
        "# inserting a tuple to the list\n",
        "mixed_list.insert(1, number_tuple)\n",
        "\n",
        "print('Updated List:', mixed_list)"
      ],
      "metadata": {
        "colab": {
          "base_uri": "https://localhost:8080/"
        },
        "id": "42qQpw3VMg7h",
        "outputId": "f872feda-e7a8-4275-e567-9bdd29989a68"
      },
      "execution_count": null,
      "outputs": [
        {
          "output_type": "stream",
          "name": "stdout",
          "text": [
            "Updated List: [{1, 2}, (3, 4), [5, 6, 7]]\n"
          ]
        }
      ]
    },
    {
      "cell_type": "markdown",
      "source": [
        "# **APPEND**\n",
        "The append() method adds an item to the end of the list.\n",
        "\n",
        "list.append(item)  \n",
        "The method doesn't return any value (returns None)."
      ],
      "metadata": {
        "id": "eu0fhq6dMsip"
      }
    },
    {
      "cell_type": "code",
      "source": [
        "currencies = ['Dollar', 'Euro', 'Pound']\n",
        "\n",
        "# append 'Yen' to the list\n",
        "currencies.append('Yen')\n",
        "\n",
        "print(currencies)\n",
        "\n",
        "# Output: ['Dollar', 'Euro', 'Pound', 'Yen']"
      ],
      "metadata": {
        "colab": {
          "base_uri": "https://localhost:8080/"
        },
        "id": "5sYLJ_llMvfZ",
        "outputId": "822f315e-c9fd-4513-f0fa-7d34d4b4614e"
      },
      "execution_count": null,
      "outputs": [
        {
          "output_type": "stream",
          "name": "stdout",
          "text": [
            "['Dollar', 'Euro', 'Pound', 'Yen']\n"
          ]
        }
      ]
    },
    {
      "cell_type": "code",
      "source": [
        "# animals list\n",
        "animals = ['cat', 'dog', 'rabbit']\n",
        "\n",
        "# Add 'guinea pig' to the list\n",
        "animals.append('guinea pig')\n",
        "\n",
        "print('Updated animals list: ', animals)"
      ],
      "metadata": {
        "colab": {
          "base_uri": "https://localhost:8080/"
        },
        "id": "Zhijz727M1lq",
        "outputId": "5c234bc4-992d-4a24-e8d5-ab754588e576"
      },
      "execution_count": null,
      "outputs": [
        {
          "output_type": "stream",
          "name": "stdout",
          "text": [
            "Updated animals list:  ['cat', 'dog', 'rabbit', 'guinea pig']\n"
          ]
        }
      ]
    },
    {
      "cell_type": "code",
      "source": [
        "# animals list\n",
        "animals = ['cat', 'dog', 'rabbit']\n",
        "\n",
        "# list of wild animals\n",
        "wild_animals = ['tiger', 'fox']\n",
        "\n",
        "# appending wild_animals list to animals\n",
        "animals.append(wild_animals)\n",
        "\n",
        "print('Updated animals list: ', animals)"
      ],
      "metadata": {
        "colab": {
          "base_uri": "https://localhost:8080/"
        },
        "id": "M_XiqRpiNIYb",
        "outputId": "6931ed55-5ef4-47fe-8ffe-8ab6b69bbb3e"
      },
      "execution_count": null,
      "outputs": [
        {
          "output_type": "stream",
          "name": "stdout",
          "text": [
            "Updated animals list:  ['cat', 'dog', 'rabbit', ['tiger', 'fox']]\n"
          ]
        }
      ]
    },
    {
      "cell_type": "markdown",
      "source": [
        "# **EXTEND**\n",
        "The extend() method adds all the items of the specified iterable, such as list, tuple, dictionary, or string , to the end of a list."
      ],
      "metadata": {
        "id": "9RkgNtogNQv7"
      }
    },
    {
      "cell_type": "markdown",
      "source": [
        "list1.extend(iterable)"
      ],
      "metadata": {
        "id": "UGKguuYUNeew"
      }
    },
    {
      "cell_type": "code",
      "source": [
        "numbers1 = [3, 4, 5]\n",
        "\n",
        "numbers2 = [10, 20]\n",
        "\n",
        "# add the items of numbers1 to the number2 list\n",
        "numbers2.extend(numbers1)\n",
        "\n",
        "print(f\"numbers1 = {numbers1}\")\n",
        "print(f\"numbers2 = {numbers2}\")"
      ],
      "metadata": {
        "colab": {
          "base_uri": "https://localhost:8080/"
        },
        "id": "3Cpa9EtaNX_h",
        "outputId": "94bb6c0d-efeb-4ef8-c161-0b11740f88f7"
      },
      "execution_count": null,
      "outputs": [
        {
          "output_type": "stream",
          "name": "stdout",
          "text": [
            "numbers1 = [3, 4, 5]\n",
            "numbers2 = [10, 20, 3, 4, 5]\n"
          ]
        }
      ]
    },
    {
      "cell_type": "code",
      "source": [
        "languages = ['French']\n",
        "\n",
        "languages_tuple = ('Spanish', 'Portuguese')\n",
        "\n",
        "# add items of the tuple to the languages list\n",
        "languages.extend(languages_tuple)\n",
        "print( languages)\n",
        "\n",
        "languages_set = {'Chinese', 'Japanese'}\n",
        "\n",
        "# add items of the set to the languages list\n",
        "languages.extend(languages_set)\n",
        "print(languages)"
      ],
      "metadata": {
        "colab": {
          "base_uri": "https://localhost:8080/"
        },
        "id": "TzvLKyS9NldR",
        "outputId": "d787542b-e502-4a53-cbb9-7e5d2a2031a1"
      },
      "execution_count": null,
      "outputs": [
        {
          "output_type": "stream",
          "name": "stdout",
          "text": [
            "['French', 'Spanish', 'Portuguese']\n",
            "['French', 'Spanish', 'Portuguese', 'Chinese', 'Japanese']\n"
          ]
        }
      ]
    },
    {
      "cell_type": "code",
      "source": [
        "a = [1, 2]\n",
        "b = [3, 4]\n",
        "\n",
        "a = a + b\n",
        "\n",
        "print( a) # [1, 2, 3, 4]"
      ],
      "metadata": {
        "colab": {
          "base_uri": "https://localhost:8080/"
        },
        "id": "fx8qjzPLNrj5",
        "outputId": "3044c586-0b6b-483f-e145-ca91ac816b68"
      },
      "execution_count": null,
      "outputs": [
        {
          "output_type": "stream",
          "name": "stdout",
          "text": [
            "[1, 2, 3, 4]\n"
          ]
        }
      ]
    },
    {
      "cell_type": "markdown",
      "source": [
        "Python extend() Vs append()\n",
        "\n",
        "If you need to add the item itself (rather than its elements), use the append() method."
      ],
      "metadata": {
        "id": "JWJg_7ZLNwJC"
      }
    },
    {
      "cell_type": "code",
      "source": [
        "a1 = [1, 2]\n",
        "a2 = [1, 2]\n",
        "b = (3, 4)\n",
        "\n",
        "# add items of b to the a1 list\n",
        "a1.extend(b) #  [1, 2, 3, 4]\n",
        "print(a1)\n",
        "\n",
        "# add b itself to the a1 list\n",
        "a2.append(b)\n",
        "print(a2)"
      ],
      "metadata": {
        "colab": {
          "base_uri": "https://localhost:8080/"
        },
        "id": "saEbJWSjNw0R",
        "outputId": "c97c4cc7-781c-4a45-caf3-83194db4d7ef"
      },
      "execution_count": null,
      "outputs": [
        {
          "output_type": "stream",
          "name": "stdout",
          "text": [
            "[1, 2, 3, 4]\n",
            "[1, 2, (3, 4)]\n"
          ]
        }
      ]
    },
    {
      "cell_type": "code",
      "source": [
        "list_1 = [1, 'a']\n",
        "list_2 = range(2, 4)\n",
        "\n",
        "list_joined = [*list_1, *list_2]\n",
        "print(list_joined)"
      ],
      "metadata": {
        "colab": {
          "base_uri": "https://localhost:8080/"
        },
        "id": "tyjTRZQ7OaoR",
        "outputId": "1e5d6e46-1175-4cf2-8c83-8c57aa45da90"
      },
      "execution_count": null,
      "outputs": [
        {
          "output_type": "stream",
          "name": "stdout",
          "text": [
            "[1, 'a', 2, 3]\n"
          ]
        }
      ]
    },
    {
      "cell_type": "markdown",
      "source": [
        "# **POP**\n",
        "The list pop() method removes the item at the specified index. The method also returns the removed item.\n",
        "list.pop(index)"
      ],
      "metadata": {
        "id": "kgSLZMRuO3ai"
      }
    },
    {
      "cell_type": "code",
      "source": [
        "\n",
        "prime_numbers = [2, 3, 5, 7]\n",
        "\n",
        "# remove the element at index 2\n",
        "removed_element = prime_numbers.pop(2)\n",
        "\n",
        "print('Removed Element:', removed_element)\n",
        "print('Updated List:', prime_numbers)\n",
        "\n",
        "# Output:\n",
        "# Removed Element: 5\n",
        "# Updated List: [2, 3, 7]"
      ],
      "metadata": {
        "colab": {
          "base_uri": "https://localhost:8080/"
        },
        "id": "-5d-jWJYO6Rq",
        "outputId": "2c873114-8d86-4fe9-89e7-e066492d4111"
      },
      "execution_count": null,
      "outputs": [
        {
          "output_type": "stream",
          "name": "stdout",
          "text": [
            "Removed Element: 5\n",
            "Updated List: [2, 3, 7]\n"
          ]
        }
      ]
    },
    {
      "cell_type": "code",
      "source": [
        "# programming languages list\n",
        "languages = ['Python', 'Java', 'C++', 'Ruby', 'C']\n",
        "\n",
        "# remove and return the last item\n",
        "print('When index is not passed:')\n",
        "print('Return Value:', languages.pop())\n",
        "\n",
        "print('Updated List:', languages)\n",
        "\n",
        "# remove and return the last item\n",
        "print('\\nWhen -1 is passed:')\n",
        "print('Return Value:', languages.pop(-1))\n",
        "\n",
        "print('Updated List:', languages)\n",
        "\n",
        "# remove and return the third last item\n",
        "print('\\nWhen -3 is passed:')\n",
        "print('Return Value:', languages.pop(-3))\n",
        "\n",
        "print('Updated List:', languages)"
      ],
      "metadata": {
        "colab": {
          "base_uri": "https://localhost:8080/"
        },
        "id": "0D8d2jWyPLyF",
        "outputId": "488f02a0-7ec2-4eb6-df1f-734824980e09"
      },
      "execution_count": null,
      "outputs": [
        {
          "output_type": "stream",
          "name": "stdout",
          "text": [
            "When index is not passed:\n",
            "Return Value: C\n",
            "Updated List: ['Python', 'Java', 'C++', 'Ruby']\n",
            "\n",
            "When -1 is passed:\n",
            "Return Value: Ruby\n",
            "Updated List: ['Python', 'Java', 'C++']\n",
            "\n",
            "When -3 is passed:\n",
            "Return Value: Python\n",
            "Updated List: ['Java', 'C++']\n"
          ]
        }
      ]
    },
    {
      "cell_type": "markdown",
      "source": [
        "# **REMOVE**\n",
        "The remove() method removes the first matching element (which is passed as an argument) from the list."
      ],
      "metadata": {
        "id": "IhlI8FRYPdVa"
      }
    },
    {
      "cell_type": "markdown",
      "source": [
        "list.remove(element)"
      ],
      "metadata": {
        "id": "4zRWNv1MPrH7"
      }
    },
    {
      "cell_type": "code",
      "source": [
        "# create a list\n",
        "prime_numbers = [2, 3, 5, 7, 9, 11]\n",
        "\n",
        "# remove 9 from the list\n",
        "prime_numbers.remove(9)\n",
        "\n",
        "# Updated prime_numbers List\n",
        "print('Updated List: ', prime_numbers)\n",
        "\n",
        "# Output: Updated List:  [2, 3, 5, 7, 11]"
      ],
      "metadata": {
        "colab": {
          "base_uri": "https://localhost:8080/"
        },
        "id": "rRNxEzOEPcux",
        "outputId": "db895422-8535-4b55-a3ee-e04276b4908c"
      },
      "execution_count": null,
      "outputs": [
        {
          "output_type": "stream",
          "name": "stdout",
          "text": [
            "Updated List:  [2, 3, 5, 7, 11]\n"
          ]
        }
      ]
    },
    {
      "cell_type": "markdown",
      "source": [
        "REMOVE DUPLICATE ELEMENTS"
      ],
      "metadata": {
        "id": "G0qtBxZIPyYr"
      }
    },
    {
      "cell_type": "markdown",
      "source": [
        "If a list contains duplicate elements, the remove() **method only removes the first matching element.**\n",
        "\n",
        "---\n",
        "\n"
      ],
      "metadata": {
        "id": "2UT0jC5pP7wd"
      }
    },
    {
      "cell_type": "code",
      "source": [
        "# animals list\n",
        "animals = ['cat', 'dog', 'dog', 'guinea pig', 'dog']\n",
        "\n",
        "# 'dog' is removed\n",
        "animals.remove('dog')\n",
        "\n",
        "# Updated animals list\n",
        "print('Updated animals list: ', animals)"
      ],
      "metadata": {
        "colab": {
          "base_uri": "https://localhost:8080/"
        },
        "id": "U0vIgH25P0rV",
        "outputId": "1057e43e-b873-4203-c56d-bf9a04f2c2fa"
      },
      "execution_count": null,
      "outputs": [
        {
          "output_type": "stream",
          "name": "stdout",
          "text": [
            "Updated animals list:  ['cat', 'dog', 'guinea pig', 'dog']\n"
          ]
        }
      ]
    },
    {
      "cell_type": "code",
      "source": [
        "# animals list\n",
        "animals = ['cat', 'dog', 'rabbit', 'guinea pig']\n",
        "\n",
        "# Deleting 'fish' element\n",
        "animals.remove('fish')\n",
        "\n",
        "# Updated animals List\n",
        "print('Updated animals list: ', animals)"
      ],
      "metadata": {
        "colab": {
          "base_uri": "https://localhost:8080/",
          "height": 211
        },
        "id": "t1UTJNC7QC4D",
        "outputId": "086d32ee-560a-4796-bd1d-92c5d820b9f2"
      },
      "execution_count": null,
      "outputs": [
        {
          "output_type": "error",
          "ename": "ValueError",
          "evalue": "list.remove(x): x not in list",
          "traceback": [
            "\u001b[0;31m---------------------------------------------------------------------------\u001b[0m",
            "\u001b[0;31mValueError\u001b[0m                                Traceback (most recent call last)",
            "\u001b[0;32m<ipython-input-204-08f3d0cd40f9>\u001b[0m in \u001b[0;36m<cell line: 5>\u001b[0;34m()\u001b[0m\n\u001b[1;32m      3\u001b[0m \u001b[0;34m\u001b[0m\u001b[0m\n\u001b[1;32m      4\u001b[0m \u001b[0;31m# Deleting 'fish' element\u001b[0m\u001b[0;34m\u001b[0m\u001b[0;34m\u001b[0m\u001b[0m\n\u001b[0;32m----> 5\u001b[0;31m \u001b[0manimals\u001b[0m\u001b[0;34m.\u001b[0m\u001b[0mremove\u001b[0m\u001b[0;34m(\u001b[0m\u001b[0;34m'fish'\u001b[0m\u001b[0;34m)\u001b[0m\u001b[0;34m\u001b[0m\u001b[0;34m\u001b[0m\u001b[0m\n\u001b[0m\u001b[1;32m      6\u001b[0m \u001b[0;34m\u001b[0m\u001b[0m\n\u001b[1;32m      7\u001b[0m \u001b[0;31m# Updated animals List\u001b[0m\u001b[0;34m\u001b[0m\u001b[0;34m\u001b[0m\u001b[0m\n",
            "\u001b[0;31mValueError\u001b[0m: list.remove(x): x not in list"
          ]
        }
      ]
    },
    {
      "cell_type": "markdown",
      "source": [
        "DELETE"
      ],
      "metadata": {
        "id": "jFWMfhsFQKWq"
      }
    },
    {
      "cell_type": "markdown",
      "source": [
        "The Python del keyword is used to delete objects. Its syntax is:# delete obj_name\n",
        "del obj_name"
      ],
      "metadata": {
        "id": "5yt-uivHQLp5"
      }
    },
    {
      "cell_type": "markdown",
      "source": [
        "Note: You can't delete items of tuples and strings in Python. It's because tuples and strings are immutables; objects that can't be changed after their creation."
      ],
      "metadata": {
        "id": "5I-WaiboRCVb"
      }
    },
    {
      "cell_type": "code",
      "source": [
        "\n",
        "class MyClass:\n",
        "    a = 10\n",
        "    def func(self):\n",
        "        print('Hello')\n",
        "\n",
        "# Output:\n",
        "print(MyClass)\n",
        "\n",
        "# deleting MyClass\n",
        "del MyClass\n",
        "\n",
        "# Error: MyClass is not defined\n",
        "print(MyClass)\n"
      ],
      "metadata": {
        "colab": {
          "base_uri": "https://localhost:8080/",
          "height": 193
        },
        "id": "pMtVuRyHQMjK",
        "outputId": "3a82f2fc-f002-47af-b3ba-7d638d411b54"
      },
      "execution_count": null,
      "outputs": [
        {
          "output_type": "stream",
          "name": "stdout",
          "text": [
            "<class '__main__.MyClass'>\n"
          ]
        },
        {
          "output_type": "error",
          "ename": "NameError",
          "evalue": "name 'MyClass' is not defined",
          "traceback": [
            "\u001b[0;31m---------------------------------------------------------------------------\u001b[0m",
            "\u001b[0;31mNameError\u001b[0m                                 Traceback (most recent call last)",
            "\u001b[0;32m<ipython-input-205-b2b5648e4d2e>\u001b[0m in \u001b[0;36m<cell line: 13>\u001b[0;34m()\u001b[0m\n\u001b[1;32m     11\u001b[0m \u001b[0;34m\u001b[0m\u001b[0m\n\u001b[1;32m     12\u001b[0m \u001b[0;31m# Error: MyClass is not defined\u001b[0m\u001b[0;34m\u001b[0m\u001b[0;34m\u001b[0m\u001b[0m\n\u001b[0;32m---> 13\u001b[0;31m \u001b[0mprint\u001b[0m\u001b[0;34m(\u001b[0m\u001b[0mMyClass\u001b[0m\u001b[0;34m)\u001b[0m\u001b[0;34m\u001b[0m\u001b[0;34m\u001b[0m\u001b[0m\n\u001b[0m",
            "\u001b[0;31mNameError\u001b[0m: name 'MyClass' is not defined"
          ]
        }
      ]
    },
    {
      "cell_type": "code",
      "source": [
        "\n",
        "my_var = 5\n",
        "my_tuple = ('Sam', 25)\n",
        "my_dict = {'name': 'Sam', 'age': 25}\n",
        "\n",
        "del my_var\n",
        "del my_tuple\n",
        "del my_dict\n",
        "\n",
        "# Error: my_var is not defined\n",
        "print(my_var)\n",
        "\n",
        "# Error: my_tuple is not defined\n",
        "print(my_tuple)\n",
        "\n",
        "# Error: my_dict is not defined\n",
        "print(my_dict)\n"
      ],
      "metadata": {
        "colab": {
          "base_uri": "https://localhost:8080/",
          "height": 211
        },
        "id": "8zwAz3bGQdPq",
        "outputId": "34c4f5cf-66ac-4d46-9985-8da6cfbfd9ab"
      },
      "execution_count": null,
      "outputs": [
        {
          "output_type": "error",
          "ename": "NameError",
          "evalue": "name 'my_var' is not defined",
          "traceback": [
            "\u001b[0;31m---------------------------------------------------------------------------\u001b[0m",
            "\u001b[0;31mNameError\u001b[0m                                 Traceback (most recent call last)",
            "\u001b[0;32m<ipython-input-206-4d8f2a0df151>\u001b[0m in \u001b[0;36m<cell line: 10>\u001b[0;34m()\u001b[0m\n\u001b[1;32m      8\u001b[0m \u001b[0;34m\u001b[0m\u001b[0m\n\u001b[1;32m      9\u001b[0m \u001b[0;31m# Error: my_var is not defined\u001b[0m\u001b[0;34m\u001b[0m\u001b[0;34m\u001b[0m\u001b[0m\n\u001b[0;32m---> 10\u001b[0;31m \u001b[0mprint\u001b[0m\u001b[0;34m(\u001b[0m\u001b[0mmy_var\u001b[0m\u001b[0;34m)\u001b[0m\u001b[0;34m\u001b[0m\u001b[0;34m\u001b[0m\u001b[0m\n\u001b[0m\u001b[1;32m     11\u001b[0m \u001b[0;34m\u001b[0m\u001b[0m\n\u001b[1;32m     12\u001b[0m \u001b[0;31m# Error: my_tuple is not defined\u001b[0m\u001b[0;34m\u001b[0m\u001b[0;34m\u001b[0m\u001b[0m\n",
            "\u001b[0;31mNameError\u001b[0m: name 'my_var' is not defined"
          ]
        }
      ]
    },
    {
      "cell_type": "markdown",
      "source": [
        "The del statement can be used to delete an item at a given index. It can also be used to remove slices from a list"
      ],
      "metadata": {
        "id": "gggmoM2HQk8T"
      }
    },
    {
      "cell_type": "code",
      "source": [
        "my_list = [1, 2, 3, 4, 5, 6, 7, 8, 9]\n",
        "\n",
        "# deleting the third item\n",
        "del my_list[2]\n",
        "\n",
        "# Output: [1, 2, 4, 5, 6, 7, 8, 9]\n",
        "print(my_list)\n",
        "\n",
        "# deleting items from 2nd to 4th\n",
        "del my_list[1:4]\n",
        "\n",
        "# Output: [1, 6, 7, 8, 9]\n",
        "print(my_list)\n",
        "\n",
        "# deleting all elements\n",
        "del my_list[:]\n",
        "\n",
        "# Output: []\n",
        "print(my_list)\n"
      ],
      "metadata": {
        "colab": {
          "base_uri": "https://localhost:8080/"
        },
        "id": "Rt2Fc4RlQn2K",
        "outputId": "a0626c88-490c-4e3a-8719-8ea93f6d2ba5"
      },
      "execution_count": null,
      "outputs": [
        {
          "output_type": "stream",
          "name": "stdout",
          "text": [
            "[1, 2, 4, 5, 6, 7, 8, 9]\n",
            "[1, 6, 7, 8, 9]\n",
            "[]\n"
          ]
        }
      ]
    },
    {
      "cell_type": "code",
      "source": [
        "person = { 'name': 'Sam',\n",
        "  'age': 25,\n",
        "  'profession': 'Programmer'\n",
        "}\n",
        "\n",
        "del person['profession']\n",
        "\n",
        "# Output: {'name': 'Sam', 'age': 25}\n",
        "print(person)\n"
      ],
      "metadata": {
        "colab": {
          "base_uri": "https://localhost:8080/"
        },
        "id": "_-8tosYZQ28K",
        "outputId": "d48fc209-aa3b-4378-a401-ae940f1010e8"
      },
      "execution_count": null,
      "outputs": [
        {
          "output_type": "stream",
          "name": "stdout",
          "text": [
            "{'name': 'Sam', 'age': 25}\n"
          ]
        }
      ]
    },
    {
      "cell_type": "markdown",
      "source": [
        "# **INDEX**\n",
        "\n",
        "The index() method returns the index of the specified element in the list.\n",
        "\n",
        "list.index(element, start, end)"
      ],
      "metadata": {
        "id": "o8SUH_LeRPdi"
      }
    },
    {
      "cell_type": "code",
      "source": [
        "animals = ['cat', 'dog', 'rabbit', 'horse']\n",
        "\n",
        "# get the index of 'dog'\n",
        "index = animals.index('dog')\n",
        "\n",
        "print(index)\n",
        "\n",
        "# Output: 1"
      ],
      "metadata": {
        "colab": {
          "base_uri": "https://localhost:8080/"
        },
        "id": "bSPFO2puRV1h",
        "outputId": "455f4a70-7808-4d4c-b69a-64805bc38ea0"
      },
      "execution_count": null,
      "outputs": [
        {
          "output_type": "stream",
          "name": "stdout",
          "text": [
            "1\n"
          ]
        }
      ]
    },
    {
      "cell_type": "code",
      "source": [
        "# vowels list\n",
        "vowels = ['a', 'e', 'i', 'o', 'i', 'u']\n",
        "\n",
        "# index of 'e' in vowels\n",
        "index = vowels.index('e')\n",
        "print('The index of e:', index)\n",
        "\n",
        "# element 'i' is searched\n",
        "# index of the first 'i' is returned\n",
        "index = vowels.index('i')\n",
        "\n",
        "print('The index of i:', index)"
      ],
      "metadata": {
        "id": "9nn7fGReRg-a"
      },
      "execution_count": null,
      "outputs": []
    },
    {
      "cell_type": "code",
      "source": [
        "# vowels list\n",
        "vowels = ['a', 'e', 'i', 'o', 'u']\n",
        "\n",
        "# index of 'p' is vowels\n",
        "index = vowels.index('p')\n",
        "print('The index of p:', index)"
      ],
      "metadata": {
        "id": "vJgHo8BORoMa"
      },
      "execution_count": null,
      "outputs": []
    },
    {
      "cell_type": "code",
      "source": [
        "# alphabets list\n",
        "alphabets = ['a', 'e', 'i', 'o', 'g', 'l', 'i', 'u']\n",
        "\n",
        "# index of 'i' in alphabets\n",
        "index = alphabets.index('e')   # 1\n",
        "print('The index of e:', index)\n",
        "\n",
        "# 'i' after the 4th index is searched\n",
        "index = alphabets.index('i', 4)   # 6\n",
        "print('The index of i:', index)\n",
        "\n",
        "# 'i' between 3rd and 5th index is searched\n",
        "index = alphabets.index('i', 3, 5)   # Error!\n",
        "print('The index of i:', index)"
      ],
      "metadata": {
        "id": "5ymMyxlGRsaT"
      },
      "execution_count": null,
      "outputs": []
    },
    {
      "cell_type": "markdown",
      "source": [
        "# Write a function to find the index of a given element in a list."
      ],
      "metadata": {
        "id": "xAvAVtBTR--n"
      }
    },
    {
      "cell_type": "code",
      "source": [
        "def ind(lst):\n",
        "  res = lst.index(3)\n",
        "  return res\n",
        "lst = [1,2,3,4,5]\n",
        "print(ind(lst))"
      ],
      "metadata": {
        "id": "sSJj1PRwSCPL"
      },
      "execution_count": null,
      "outputs": []
    },
    {
      "cell_type": "code",
      "source": [
        "# Python program to check if year is a leap year or not\n",
        "\n",
        "year = 2000\n",
        "\n",
        "# To get year (integer input) from the user\n",
        "# year = int(input(\"Enter a year: \"))\n",
        "\n",
        "# divided by 100 means century year (ending with 00)\n",
        "# century year divided by 400 is leap year\n",
        "if (year % 400 == 0) and (year % 100 == 0):\n",
        "    print(\"{0} is a leap year\".format(year))\n",
        "\n",
        "# not divided by 100 means not a century year\n",
        "# year divided by 4 is a leap year\n",
        "elif (year % 4 ==0) and (year % 100 != 0):\n",
        "    print(\"{0} is a leap year\".format(year))\n",
        "\n",
        "# if not divided by both 400 (century year) and 4 (not century year)\n",
        "# year is not leap year\n",
        "else:\n",
        "    print(\"{0} is not a leap year\".format(year))"
      ],
      "metadata": {
        "id": "kJUVi3NaSjOy"
      },
      "execution_count": null,
      "outputs": []
    },
    {
      "cell_type": "code",
      "source": [
        "def is_leap_year(year):\n",
        "    \"\"\"\n",
        "    Checks if a given year is a leap year.\n",
        "\n",
        "    Args:\n",
        "    year (int): The year to check.\n",
        "\n",
        "    Returns:\n",
        "    bool: True if the year is a leap year, False otherwise.\n",
        "    \"\"\"\n",
        "    return year % 4 == 0 and (year % 100 != 0 or year % 400 == 0)\n",
        "\n",
        "def count_leap_years(start_year, end_year):\n",
        "    \"\"\"\n",
        "    Counts the number of leap years between two given years.\n",
        "\n",
        "    Args:\n",
        "    start_year (int): The starting year.\n",
        "    end_year (int): The ending year.\n",
        "\n",
        "    Returns:\n",
        "    int: The number of leap years between start_year and end_year.\n",
        "    \"\"\"\n",
        "    count = 0\n",
        "    for year in range(start_year, end_year + 1):\n",
        "        if is_leap_year(year):\n",
        "            count += 1\n",
        "    return count\n",
        "\n",
        "# Example usage\n",
        "start_year = 2000\n",
        "end_year = 2020\n",
        "print(f\"Number of leap years between {start_year} and {end_year}: {count_leap_years(start_year, end_year)}\")\n"
      ],
      "metadata": {
        "id": "bmLJjeRgS2Zi"
      },
      "execution_count": null,
      "outputs": []
    },
    {
      "cell_type": "code",
      "source": [
        "import math\n",
        "\n",
        "# sqrt computes the square root\n",
        "square_root = math.sqrt(4)\n",
        "\n",
        "print(\"Square Root of 4 is\",square_root)\n",
        "\n",
        "# pow() comptes the power\n",
        "power = pow(2, 3)\n",
        "\n",
        "print(\"2 to the power 3 is\",power)"
      ],
      "metadata": {
        "id": "7j5yAUG1TaGK"
      },
      "execution_count": null,
      "outputs": []
    },
    {
      "cell_type": "markdown",
      "source": [
        "ODD OR EVEN\n"
      ],
      "metadata": {
        "id": "YI34nOfcVDQb"
      }
    },
    {
      "cell_type": "code",
      "source": [
        "# Python program to check if the input number is odd or even.\n",
        "# A number is even if division by 2 gives a remainder of 0.\n",
        "# If the remainder is 1, it is an odd number.\n",
        "\n",
        "num = int(input(\"Enter a number: \"))\n",
        "if (num % 2) == 0:\n",
        "   print(\"{0} is Even\".format(num))\n",
        "else:\n",
        "   print(\"{0} is Odd\".format(num))"
      ],
      "metadata": {
        "colab": {
          "base_uri": "https://localhost:8080/"
        },
        "id": "-jWHIT0sVE08",
        "outputId": "c48f32d4-979b-4853-e7e5-688df8ededcd"
      },
      "execution_count": null,
      "outputs": [
        {
          "output_type": "stream",
          "name": "stdout",
          "text": [
            "Enter a number: 23\n",
            "23 is Odd\n"
          ]
        }
      ]
    },
    {
      "cell_type": "markdown",
      "source": [
        "LARGEST AMONG THREE NOS"
      ],
      "metadata": {
        "id": "cLARHLrcVRU1"
      }
    },
    {
      "cell_type": "code",
      "source": [
        "# Python program to find the largest number among the three input numbers\n",
        "\n",
        "# change the values of num1, num2 and num3\n",
        "# for a different result\n",
        "num1 = 10\n",
        "num2 = 14\n",
        "num3 = 12\n",
        "\n",
        "# uncomment following lines to take three numbers from user\n",
        "#num1 = float(input(\"Enter first number: \"))\n",
        "#num2 = float(input(\"Enter second number: \"))\n",
        "#num3 = float(input(\"Enter third number: \"))\n",
        "\n",
        "if (num1 >= num2) and (num1 >= num3):\n",
        "   largest = num1\n",
        "elif (num2 >= num1) and (num2 >= num3):\n",
        "   largest = num2\n",
        "else:\n",
        "   largest = num3\n",
        "\n",
        "print(\"The largest number is\", largest)\n"
      ],
      "metadata": {
        "colab": {
          "base_uri": "https://localhost:8080/"
        },
        "id": "H4dDSN9bVTIL",
        "outputId": "4ccfab47-fda2-4a91-9594-1819ee3ba7bf"
      },
      "execution_count": null,
      "outputs": [
        {
          "metadata": {
            "tags": null
          },
          "name": "stdout",
          "output_type": "stream",
          "text": [
            "The largest number is 14\n"
          ]
        }
      ]
    },
    {
      "cell_type": "code",
      "source": [
        "# This function adds two numbers\n",
        "def add(x, y):\n",
        "    return x + y\n",
        "\n",
        "# This function subtracts two numbers\n",
        "def subtract(x, y):\n",
        "    return x - y\n",
        "\n",
        "# This function multiplies two numbers\n",
        "def multiply(x, y):\n",
        "    return x * y\n",
        "\n",
        "# This function divides two numbers\n",
        "def divide(x, y):\n",
        "    return x / y\n",
        "\n",
        "\n",
        "print(\"Select operation.\")\n",
        "print(\"1.Add\")\n",
        "print(\"2.Subtract\")\n",
        "print(\"3.Multiply\")\n",
        "print(\"4.Divide\")\n",
        "\n",
        "while True:\n",
        "    # take input from the user\n",
        "    choice = input(\"Enter choice(1/2/3/4): \")\n",
        "\n",
        "    # check if choice is one of the four options\n",
        "    if choice in ('1', '2', '3', '4'):\n",
        "        try:\n",
        "            num1 = float(input(\"Enter first number: \"))\n",
        "            num2 = float(input(\"Enter second number: \"))\n",
        "        except ValueError:\n",
        "            print(\"Invalid input. Please enter a number.\")\n",
        "            continue\n",
        "\n",
        "        if choice == '1':\n",
        "            print(num1, \"+\", num2, \"=\", add(num1, num2))\n",
        "\n",
        "        elif choice == '2':\n",
        "            print(num1, \"-\", num2, \"=\", subtract(num1, num2))\n",
        "\n",
        "        elif choice == '3':\n",
        "            print(num1, \"*\", num2, \"=\", multiply(num1, num2))\n",
        "\n",
        "        elif choice == '4':\n",
        "            print(num1, \"/\", num2, \"=\", divide(num1, num2))\n",
        "\n",
        "        # check if user wants another calculation\n",
        "        # break the while loop if answer is no\n",
        "        next_calculation = input(\"Let's do next calculation? (yes/no): \")\n",
        "        if next_calculation == \"no\":\n",
        "          break\n",
        "    else:\n",
        "        print(\"Invalid Input\")"
      ],
      "metadata": {
        "id": "LvbX-FIdVnPd"
      },
      "execution_count": null,
      "outputs": []
    },
    {
      "cell_type": "code",
      "source": [],
      "metadata": {
        "id": "rmEGCzV7pJnd"
      },
      "execution_count": null,
      "outputs": []
    },
    {
      "cell_type": "markdown",
      "source": [
        "# **METHOD OVERRIDING**\n",
        "\n",
        "---\n",
        "\n"
      ],
      "metadata": {
        "id": "q1irya1PpF4t"
      }
    },
    {
      "cell_type": "markdown",
      "source": [
        "Method overriding is a feature in object-oriented programming where a subclass provides a specific implementation for a method that is already defined in its superclass. The overriding method in the subclass has the same name, return type, and parameters as the method in the superclass.\n",
        "\n",
        "The purpose of method overriding is to allow a subclass to provide a specific implementation of a method that is different from the implementation provided in its superclass. This is useful for defining behavior that is specific to the subclass while maintaining a consistent interface."
      ],
      "metadata": {
        "id": "67RMHOzCpIvW"
      }
    },
    {
      "cell_type": "markdown",
      "source": [
        "IN INHERITANCE THE object of the subclass can access the method of the superclass.\n",
        "\n",
        "However, what if the same method is present in both the superclass and subclass?\n",
        "\n",
        "In this case, the method in the subclass overrides the method in the superclass. This concept is known as method overriding in Python."
      ],
      "metadata": {
        "id": "90iOcysFphLV"
      }
    },
    {
      "cell_type": "markdown",
      "source": [
        "Benefits of Method Overriding:\n",
        "Flexibility: Allows a subclass to define specific behavior while maintaining the same interface as the superclass.\n",
        "Code Reusability: Promotes code reuse by allowing subclasses to use methods from the superclass and only override them when necessary.\n",
        "Runtime Polymorphism"
      ],
      "metadata": {
        "id": "6L_s3Ko2st_V"
      }
    },
    {
      "cell_type": "code",
      "source": [
        "class Animal:\n",
        "  def make_sound(self):\n",
        "    print(\"Make generic sound\")\n",
        "    return \"roar\"\n",
        "\n",
        "class Dog(Animal):\n",
        "  def make_sound(self):\n",
        "    print(\"The dog make sound woof\")\n",
        "    return \"woof\"\n",
        "\n",
        "class Cat(Animal):\n",
        "  def make_sound(self):\n",
        "    print(\"The cat make sound Meow\")\n",
        "    return \"Meow\"\n",
        "\n",
        "dog = Dog()\n",
        "cat = Cat()\n",
        "\n",
        "print(dog.make_sound())  #must use print here otherwise onlly meow printed\n",
        "print(cat.make_sound())\n",
        "\n"
      ],
      "metadata": {
        "id": "rec7n6tOp7lF",
        "colab": {
          "base_uri": "https://localhost:8080/"
        },
        "outputId": "9a3785cf-89c3-407f-a4c0-23db7f8aab9e"
      },
      "execution_count": null,
      "outputs": [
        {
          "output_type": "stream",
          "name": "stdout",
          "text": [
            "The dog make sound woof\n",
            "woof\n",
            "The cat make sound Meow\n",
            "Meow\n"
          ]
        }
      ]
    },
    {
      "cell_type": "markdown",
      "source": [
        "# **Inheritance**\n",
        "\n",
        "---\n",
        "\n"
      ],
      "metadata": {
        "id": "9PHfVG8lrr6d"
      }
    },
    {
      "cell_type": "markdown",
      "source": [
        "Python supports class inheritance. It allows us to create a new class from an existing one.\n",
        "\n",
        "The newly created class is known as the subclass (child or derived class).\n",
        "The existing class from which the child class inherits is known as the superclass (parent or base class)."
      ],
      "metadata": {
        "id": "RuD762VvruUN"
      }
    },
    {
      "cell_type": "markdown",
      "source": [
        "There are 5 different types of inheritance in Python. They are:\n",
        "\n",
        "# **Single Inheritance: a child class inherits from only one parent class.**\n",
        "**Multiple Inheritance:** a child class inherits from multiple parent classes\n",
        "\n",
        "**Multilevel Inheritance**: a child class inherits from its parent class, which is inheriting from its parent class.\n",
        "\n",
        "**Hierarchical Inheritance:** more than one child class are created from a single parent class.\n",
        "\n",
        "# Hybrid Inheritance: combines more than one form of inheritance."
      ],
      "metadata": {
        "id": "sBnZ0H6mt6kF"
      }
    },
    {
      "cell_type": "markdown",
      "source": [
        "# **SINGLE LEVEL INHERITANCE**\n",
        "\n",
        "---\n",
        "\n"
      ],
      "metadata": {
        "id": "Pwxu9p9AsBC1"
      }
    },
    {
      "cell_type": "code",
      "source": [
        "#SINGLE LEVEL INHERITANCE - one base class/ one dervied class"
      ],
      "metadata": {
        "id": "C42ww5ZIrri1"
      },
      "execution_count": null,
      "outputs": []
    },
    {
      "cell_type": "code",
      "source": [
        "class Animal: #Superclass\n",
        "  def make_sound(self):\n",
        "    print(\"roar\")\n",
        "\n",
        "class Dog(Animal):  #baseclass\n",
        "  def bark(self):\n",
        "    print(\"woof\")\n",
        "\n",
        "dog= Dog() #object of subclass\n",
        "\n",
        "dog.make_sound() #since inherited from animal display its output\n",
        "dog.bark() #output of base class Dog"
      ],
      "metadata": {
        "id": "PPtTBA2bs1qI"
      },
      "execution_count": null,
      "outputs": []
    },
    {
      "cell_type": "markdown",
      "source": [
        "# **Multiple inheritance**\n",
        "\n",
        "---\n",
        "\n"
      ],
      "metadata": {
        "id": "huKkAU2guP-h"
      }
    },
    {
      "cell_type": "markdown",
      "source": [
        "Multiple Inheritance: a child class inherits from multiple parent classes."
      ],
      "metadata": {
        "id": "zQ90hebHuStd"
      }
    },
    {
      "cell_type": "code",
      "source": [
        "#Here child inherits from multiple parents classes (Father and Mother) A class can be derived from more than one superclass in Python. This is called multiple inheritance."
      ],
      "metadata": {
        "id": "EgR8pCIdwoKw"
      },
      "execution_count": null,
      "outputs": []
    },
    {
      "cell_type": "code",
      "source": [
        "#Base class1\n",
        "\n",
        "class Father:   #super class\n",
        "  def skills(self):\n",
        "    print(\"Fathers skill-He is a very good surgon\")\n",
        "\n",
        "#Base class2\n",
        "class Mother:\n",
        "  def skills(self):\n",
        "    print(\"Mothers skill-she is a very good Artist\")\n",
        "\n",
        "#Dervived class\n",
        "class Child(Father, Mother): #multiple level inheritance going on here!\n",
        "  def skills(self):\n",
        "    super().skills()  # Calls the first class in the MRO (Method Resolution Order)\n",
        "    print(\"Childs skill-can Dance, can sing\")\n",
        "\n",
        "child = Child()\n",
        "mother = Mother()\n",
        "\n",
        "child.skills()  # This will call Child's skills method\n"
      ],
      "metadata": {
        "id": "jxuiG-d9xwft"
      },
      "execution_count": null,
      "outputs": []
    },
    {
      "cell_type": "markdown",
      "source": [
        " MRO in Python determines t***he order in which methods are resolved in a class hierarchy, especially when multiple inheritance is involved***. It ensures a predictable and consistent order, which helps in avoiding common pitfalls associated with multiple inheritance."
      ],
      "metadata": {
        "id": "pVPI2-1U1U0O"
      }
    },
    {
      "cell_type": "markdown",
      "source": [
        "Method Resolution Order (MRO) is the order in which Python looks for a method in a hierarchy of classes. This order defines the sequence in which base classes(Parent class) are searched when executing a method. MRO plays a crucial role in multiple inheritance, ensuring that each method is called in a consistent and predictable manner.\n",
        "\n",
        "In Python, the MRO is determined using the C3 linearization algorithm (also known as C3 superclass linearization or C3 linearization). The MRO ensures that:\n",
        "\n",
        "A child class is checked before its parent classes.\n",
        "If a class inherits from multiple classes, they are checked in the order they are inherited from.\n",
        "The MRO follows a depth-first, left-to-right search strategy, ensuring that each class is only visited once."
      ],
      "metadata": {
        "id": "9LQJA_sB0pkc"
      }
    },
    {
      "cell_type": "code",
      "source": [
        "#multiple level\n",
        "\n",
        "# Base class 1\n",
        "class Father:\n",
        "    def skills(self):\n",
        "        print(\"Father's skills\")\n",
        "\n",
        "# Base class 2\n",
        "class Mother:\n",
        "    def skills(self):\n",
        "        print(\"Mother's skills\")\n",
        "\n",
        "# Derived class\n",
        "class Child(Father, Mother): #multiple level inheritance going on here!\n",
        "    def skills(self):\n",
        "        super().skills()  # Calls the first class in the MRO (Method Resolution Order)\n",
        "        print(\"Child's skills\")\n",
        "\n",
        "# Create an instance of Child\n",
        "child = Child()\n",
        "mother = Mother()\n",
        "child.skills()  # This will call Child's skills method\n",
        "\n"
      ],
      "metadata": {
        "id": "abUWgpDxrtHb"
      },
      "execution_count": null,
      "outputs": []
    },
    {
      "cell_type": "markdown",
      "source": [
        "# **Multi level inheritance**\n",
        "\n",
        "---\n",
        "\n"
      ],
      "metadata": {
        "id": "t4otNmSOwAAy"
      }
    },
    {
      "cell_type": "markdown",
      "source": [
        "Multilevel Inheritance: a child class inherits from its parent class, which is inheriting from its parent class."
      ],
      "metadata": {
        "id": "KWPup9itxRJs"
      }
    },
    {
      "cell_type": "code",
      "source": [
        "class Animal:       #superclass or parent\n",
        "  def speak(self):  #instance of superclass\n",
        "    print(\"hello\")\n",
        "\n",
        "class Dog(Animal):  #inherited class from superclass Animal\n",
        "  def bark(self):\n",
        "    print(\"woof\")\n",
        "\n",
        "class Puppy(Dog):  #inherits from Dog\n",
        "  def cry(self):\n",
        "    print(\"puppy cries\")\n",
        "\n",
        "puppy = Puppy()   # Create an instance of Puppy\n",
        "\n",
        "puppy.speak() #inherited from Animal\n",
        "puppy.bark()  #inherited from Dog\n",
        "puppy.cry()  #Method of puppy class"
      ],
      "metadata": {
        "id": "V48wgSzev-Ll"
      },
      "execution_count": null,
      "outputs": []
    },
    {
      "cell_type": "markdown",
      "source": [
        "# **HYbrid**"
      ],
      "metadata": {
        "id": "YF9prOYE2J_e"
      }
    },
    {
      "cell_type": "markdown",
      "source": [
        "Hybrid inheritance is a type of inheritance in object-oriented programming where a class structure combines more than one type of inheritance. Specifically, it can include combinations of single, multiple, hierarchical, and multilevel inheritance."
      ],
      "metadata": {
        "id": "vr_R4k4-2Mkt"
      }
    },
    {
      "cell_type": "code",
      "source": [
        "#hybrid\n",
        "\n",
        "# Base class\n",
        "class Animal:\n",
        "    def speak(self):\n",
        "        print(\"Animal speaks\")\n",
        "\n",
        "# Derived class 1\n",
        "class Dog(Animal):\n",
        "    def bark(self):\n",
        "        print(\"Dog barks\")\n",
        "\n",
        "# Derived class 2\n",
        "class Cat(Animal):\n",
        "    def meow(self):\n",
        "        print(\"Cat meows\")\n",
        "\n",
        "# Multiple Inheritance\n",
        "class Pet(Dog, Cat):\n",
        "    def play(self):\n",
        "        print(\"Pet plays\")\n",
        "\n",
        "# Create an instance of Pet\n",
        "pet = Pet()\n",
        "pet.speak()  # Inherited from Animal\n",
        "pet.bark()   # Inherited from Dog\n",
        "pet.meow()   # Inherited from Cat\n",
        "pet.play()   # Method of Pet class\n"
      ],
      "metadata": {
        "colab": {
          "base_uri": "https://localhost:8080/"
        },
        "id": "dOAL8ldJ2S2h",
        "outputId": "fb3654dc-9bf5-4160-b045-db6c80a524b5"
      },
      "execution_count": null,
      "outputs": [
        {
          "output_type": "stream",
          "name": "stdout",
          "text": [
            "Animal speaks\n",
            "Dog barks\n",
            "Cat meows\n",
            "Pet plays\n"
          ]
        }
      ]
    },
    {
      "cell_type": "markdown",
      "source": [
        "# **Hirarchical**"
      ],
      "metadata": {
        "id": "f2ECO0rS3CUV"
      }
    },
    {
      "cell_type": "markdown",
      "source": [
        "Hierarchical inheritance is a type of inheritance in object-oriented programming where multiple subclasses inherit from a single base class. This allows for shared functionality in the base class while enabling each subclass to implement or override methods as needed"
      ],
      "metadata": {
        "id": "EDu6N5be3Eo2"
      }
    },
    {
      "cell_type": "code",
      "source": [
        "#hierarichail\n",
        "\n",
        "# Base class\n",
        "class Animal:\n",
        "    def speak(self):\n",
        "        print(\"Animal speaks\")\n",
        "\n",
        "# Derived class 1\n",
        "class Dog(Animal):\n",
        "    def bark(self):\n",
        "        print(\"Dog barks\")\n",
        "\n",
        "# Derived class 2\n",
        "class Cat(Animal):\n",
        "    def meow(self):\n",
        "        print(\"Cat meows\")\n",
        "\n",
        "# Create instances of Dog and Cat\n",
        "dog = Dog()\n",
        "cat = Cat()\n",
        "\n",
        "dog.speak()  # Inherited method\n",
        "dog.bark()   # Method of Dog class\n",
        "\n",
        "cat.speak()  # Inherited method\n",
        "cat.meow()   # Method of Cat class\n"
      ],
      "metadata": {
        "colab": {
          "base_uri": "https://localhost:8080/"
        },
        "id": "n9CNLBuo3GZW",
        "outputId": "18cdd51b-b1a0-4167-dff3-6a261a39a911"
      },
      "execution_count": null,
      "outputs": [
        {
          "output_type": "stream",
          "name": "stdout",
          "text": [
            "Animal speaks\n",
            "Dog barks\n",
            "Animal speaks\n",
            "Cat meows\n"
          ]
        }
      ]
    },
    {
      "cell_type": "markdown",
      "source": [
        "# **Polymorphism**"
      ],
      "metadata": {
        "id": "FDOehpzn5FNf"
      }
    },
    {
      "cell_type": "markdown",
      "source": [
        "its the ability of object of different classes to take many forms to the same method(function) call."
      ],
      "metadata": {
        "id": "pNVX_0Bt5HQk"
      }
    },
    {
      "cell_type": "code",
      "source": [
        "def addi(a,b):\n",
        "  return a+b\n",
        "print(addi(2,3))\n",
        "print(addi(\"hello\",\"world\"))"
      ],
      "metadata": {
        "colab": {
          "base_uri": "https://localhost:8080/"
        },
        "id": "RMnrtgFYzO7K",
        "outputId": "1c847f58-9f7c-4e3f-a88a-e7e088c30c1e"
      },
      "execution_count": null,
      "outputs": [
        {
          "output_type": "stream",
          "name": "stdout",
          "text": [
            "5\n",
            "helloworld\n"
          ]
        }
      ]
    },
    {
      "cell_type": "code",
      "source": [
        "#POLYMORPHISM\n",
        "\n",
        "class Animal: #parent class\n",
        "    def make_sound(self):\n",
        "        print(\"Generic animal sound\")\n",
        "\n",
        "class Dog(Animal): #subclass \"dog\" inheriting from Animal  #subclasss - dog inherting from \"Animal\" class\n",
        "    def make_sound(self):\n",
        "        print(\"Woof!\")\n",
        "\n",
        "\n",
        "class Cat(Animal): #subclass \"cat\" inheriting from parent class \"Animal\"\n",
        "    def make_sound(self):\n",
        "        print(\"Meow!\")\n",
        "\n",
        "\n",
        "def speak(animal): #speak - method responsible for polymorphism, animal : object\n",
        "    animal.make_sound()  # Polymorphic behavior\n",
        "\n",
        "# Create Animal objects\n",
        "dog = Dog()\n",
        "cat = Cat()\n",
        "\n",
        "speak(dog)  # Output: Woof!\n",
        "speak(cat)  # Output: Meow!"
      ],
      "metadata": {
        "colab": {
          "base_uri": "https://localhost:8080/"
        },
        "id": "g7b6ZQ6z57Qd",
        "outputId": "9b4db7d6-dd61-414e-829b-a1f1a4cd4ada"
      },
      "execution_count": null,
      "outputs": [
        {
          "output_type": "stream",
          "name": "stdout",
          "text": [
            "Woof!\n",
            "Meow!\n"
          ]
        }
      ]
    },
    {
      "cell_type": "code",
      "source": [
        "class Animal:\n",
        "  def make_sound(self):\n",
        "    print(\"generic sound\")\n",
        "\n",
        "  def __init__(self, name,age):\n",
        "    self.__name = name\n",
        "    self.age = age\n",
        "\n",
        "  def get_name(self):\n",
        "    return self.__name\n",
        "\n",
        "  def get_age(self):\n",
        "    return self.age\n",
        "\n",
        "class Dog(Animal):\n",
        "  def make_sound(self):\n",
        "    print(f'The dog of {self.get_name()} and age{self.get_age()} makes sound')\n",
        "\n",
        "class Cat(Animal):\n",
        "  def make_sound(self):\n",
        "    print(f'ThE cat of {self.get_name()} and age{self.get_age()} makes sound()')\n",
        "\n",
        "def speak(animal):\n",
        "  animal.make_sound()\n",
        "\n",
        "\n",
        "dog = Dog(\"dash\",2)\n",
        "cat = Cat(\"kit\",1)\n",
        "\n",
        "speak(dog)\n",
        "speak(cat)\n",
        "\n"
      ],
      "metadata": {
        "colab": {
          "base_uri": "https://localhost:8080/"
        },
        "id": "1rv1gCPv5jlN",
        "outputId": "5c9b81b0-edaa-4530-f8d4-411e691f06f7"
      },
      "execution_count": null,
      "outputs": [
        {
          "output_type": "stream",
          "name": "stdout",
          "text": [
            "The dog of dash and age2 makes sound\n",
            "ThE cat of kit and age1 makes sound()\n"
          ]
        }
      ]
    }
  ]
}