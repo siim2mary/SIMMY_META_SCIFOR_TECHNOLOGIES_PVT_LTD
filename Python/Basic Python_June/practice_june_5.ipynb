{
  "nbformat": 4,
  "nbformat_minor": 0,
  "metadata": {
    "colab": {
      "provenance": []
    },
    "kernelspec": {
      "name": "python3",
      "display_name": "Python 3"
    },
    "language_info": {
      "name": "python"
    }
  },
  "cells": [
    {
      "cell_type": "code",
      "execution_count": null,
      "metadata": {
        "colab": {
          "base_uri": "https://localhost:8080/"
        },
        "id": "NnvC1Ic8p_Rp",
        "outputId": "1d034eee-7e5d-4acf-c895-58f2572f84eb"
      },
      "outputs": [
        {
          "output_type": "stream",
          "name": "stdout",
          "text": [
            "Its pink\n",
            "2\n",
            "its yellow\n",
            "2\n"
          ]
        }
      ],
      "source": [
        "class Flower:\n",
        "  def colour(self):\n",
        "    print(\"colour\")\n",
        "\n",
        "  def size(self):\n",
        "      print(2)\n",
        "class Rose(Flower):\n",
        "  def colour(self):\n",
        "    print(\"Its pink\")\n",
        "\n",
        "class Sunflower(Flower):\n",
        "  def colour(self):\n",
        "    print(\"its yellow\")\n",
        "\n",
        "#POLYMORPHISM\n",
        "\n",
        "def petals(flower):\n",
        "  flower.colour()\n",
        "  flower.size()\n",
        "\n",
        "#CREATE FLOWER OBJECTS\n",
        "\n",
        "rose = Rose()\n",
        "sun = Sunflower()\n",
        "\n",
        "petals(rose)\n",
        "petals(sun)\n"
      ]
    },
    {
      "cell_type": "markdown",
      "source": [
        "ENCAPSULATION"
      ],
      "metadata": {
        "id": "gIKj6a_GtVRv"
      }
    },
    {
      "cell_type": "code",
      "source": [
        "class shape:\n",
        "  def make_shape(self):\n",
        "    print(\"The shapes are good\")\n",
        "\n",
        "  def __init__(self,name, size):\n",
        "    self.__name = name  #hidden\n",
        "    self.size = size\n",
        "\n",
        "  def get_name(self): #call hidden values\n",
        "    return self.__name\n",
        "\n",
        "  def get_size(self):\n",
        "    return self.size\n",
        "\n",
        "class sq(shape):\n",
        "  def make_shape(self):\n",
        "    print(f'The  {self.get_name()} has sides')\n",
        "\n",
        "class rec(shape):\n",
        "  def make_shape(self):\n",
        "    print(f'The {self.get_name()} has length')\n",
        "\n",
        "def ang(Shape):\n",
        "  Shape.make_shape()\n",
        "\n",
        "square = sq(\"red\", 3)\n",
        "rectangle = rec(\"blue\", 6)\n",
        "\n",
        "ang(square)\n",
        "ang(rectangle)"
      ],
      "metadata": {
        "colab": {
          "base_uri": "https://localhost:8080/"
        },
        "id": "xo-Gdu5btXQG",
        "outputId": "303e190f-b23c-470b-b002-90f3315c6451"
      },
      "execution_count": null,
      "outputs": [
        {
          "output_type": "stream",
          "name": "stdout",
          "text": [
            "The  red has sides\n",
            "The blue has length\n"
          ]
        }
      ]
    },
    {
      "cell_type": "markdown",
      "source": [
        "# Factorial of 25"
      ],
      "metadata": {
        "id": "iQ9NPY5zw6_Y"
      }
    },
    {
      "cell_type": "code",
      "source": [
        "def fact(n):\n",
        "  if n==0:\n",
        "    return 1\n",
        "  else:\n",
        "    return n*fact(n-1)\n",
        "\n",
        "fact(5)"
      ],
      "metadata": {
        "colab": {
          "base_uri": "https://localhost:8080/"
        },
        "id": "lGtdKJv7w9_n",
        "outputId": "91450c57-9458-4696-c05d-383bdc284f7b"
      },
      "execution_count": null,
      "outputs": [
        {
          "output_type": "execute_result",
          "data": {
            "text/plain": [
              "120"
            ]
          },
          "metadata": {},
          "execution_count": 16
        }
      ]
    },
    {
      "cell_type": "markdown",
      "source": [
        "Reverse list\n",
        "\n",
        "---\n",
        "\n"
      ],
      "metadata": {
        "id": "ZfZNu22jy7r_"
      }
    },
    {
      "cell_type": "code",
      "source": [
        "def rev(a):\n",
        "  n = a[::-1]\n",
        "  return n\n",
        "\n",
        "res = rev([2,3,4,5])\n",
        "print(res)"
      ],
      "metadata": {
        "colab": {
          "base_uri": "https://localhost:8080/"
        },
        "id": "nMGuoss_y6__",
        "outputId": "517cf6a3-13f3-4894-d59f-d98866587dcd"
      },
      "execution_count": null,
      "outputs": [
        {
          "output_type": "stream",
          "name": "stdout",
          "text": [
            "[5, 4, 3, 2]\n"
          ]
        }
      ]
    },
    {
      "cell_type": "markdown",
      "source": [
        "**calculator**\n",
        "\n",
        "---\n",
        "\n"
      ],
      "metadata": {
        "id": "Y-kWfCkW028-"
      }
    },
    {
      "cell_type": "code",
      "source": [
        "# This function adds two numbers\n",
        "def add(x, y):\n",
        "    return x + y\n",
        "\n",
        "# This function subtracts two numbers\n",
        "def subtract(x, y):\n",
        "    return x - y\n",
        "\n",
        "# This function multiplies two numbers\n",
        "def multiply(x, y):\n",
        "    return x * y\n",
        "\n",
        "# This function divides two numbers\n",
        "def divide(x, y):\n",
        "    return x / y\n",
        "\n",
        "\n",
        "print(\"Select operation.\")\n",
        "print(\"1.Add\")\n",
        "print(\"2.Subtract\")\n",
        "print(\"3.Multiply\")\n",
        "print(\"4.Divide\")\n",
        "\n",
        "while True:\n",
        "    # take input from the user\n",
        "    choice = input(\"Enter choice(1/2/3/4): \")\n",
        "\n",
        "    # check if choice is one of the four options\n",
        "    if choice in ('1', '2', '3', '4'):\n",
        "        try:\n",
        "            num1 = float(input(\"Enter first number: \"))\n",
        "            num2 = float(input(\"Enter second number: \"))\n",
        "        except ValueError:\n",
        "            print(\"Invalid input. Please enter a number.\")\n",
        "            continue\n",
        "\n",
        "        if choice == '1':\n",
        "            print(num1, \"+\", num2, \"=\", add(num1, num2))\n",
        "\n",
        "        elif choice == '2':\n",
        "            print(num1, \"-\", num2, \"=\", subtract(num1, num2))\n",
        "\n",
        "        elif choice == '3':\n",
        "            print(num1, \"*\", num2, \"=\", multiply(num1, num2))\n",
        "\n",
        "        elif choice == '4':\n",
        "            print(num1, \"/\", num2, \"=\", divide(num1, num2))\n",
        "\n",
        "        # check if user wants another calculation\n",
        "        # break the while loop if answer is no\n",
        "        next_calculation = input(\"Let's do next calculation? (yes/no): \")\n",
        "        if next_calculation == \"no\":\n",
        "          break\n",
        "    else:\n",
        "        print(\"Invalid Input\")2"
      ],
      "metadata": {
        "colab": {
          "base_uri": "https://localhost:8080/"
        },
        "id": "ixQdFXv60dHw",
        "outputId": "ff3cfdec-38e9-438f-c630-75f9944daf2e"
      },
      "execution_count": null,
      "outputs": [
        {
          "name": "stdout",
          "output_type": "stream",
          "text": [
            "Select operation.\n",
            "1.Add\n",
            "2.Subtract\n",
            "3.Multiply\n",
            "4.Divide\n",
            "Enter choice(1/2/3/4): 2\n",
            "Enter first number: 6\n",
            "Enter second number: 2\n",
            "6.0 - 2.0 = 4.0\n",
            "Let's do next calculation? (yes/no): n\n",
            "Enter choice(1/2/3/4): 1\n",
            "Enter first number: 1\n",
            "Enter second number: \n",
            "Invalid input. Please enter a number.\n",
            "Enter choice(1/2/3/4): 1\n",
            "Enter first number: 2\n",
            "Enter second number: 4\n",
            "2.0 + 4.0 = 6.0\n",
            "Let's do next calculation? (yes/no): no\n"
          ]
        }
      ]
    },
    {
      "cell_type": "code",
      "source": [
        "l = [2,3,4,5]\n",
        "print(l.index(3))"
      ],
      "metadata": {
        "colab": {
          "base_uri": "https://localhost:8080/"
        },
        "id": "TkR7aQ1k2WSu",
        "outputId": "2d99dc25-9589-47d1-d841-1c59798ca99a"
      },
      "execution_count": null,
      "outputs": [
        {
          "output_type": "stream",
          "name": "stdout",
          "text": [
            "1\n"
          ]
        }
      ]
    },
    {
      "cell_type": "code",
      "source": [
        "print(l.pop(2))"
      ],
      "metadata": {
        "colab": {
          "base_uri": "https://localhost:8080/"
        },
        "id": "-Y7TdPDt4Rr9",
        "outputId": "fb0a5114-b7cd-499a-fab1-02ead8692e2d"
      },
      "execution_count": null,
      "outputs": [
        {
          "output_type": "stream",
          "name": "stdout",
          "text": [
            "4\n"
          ]
        }
      ]
    },
    {
      "cell_type": "code",
      "source": [
        "def find_position(list, value):\n",
        "  try:\n",
        "    position = list.index(value)\n",
        "    return position\n",
        "  except ValueError:\n",
        "    return \"not in list\"\n",
        "\n",
        "l=[2,3,4,5]\n",
        "position = find_position(l,3)\n",
        "print(position)\n",
        "\n"
      ],
      "metadata": {
        "colab": {
          "base_uri": "https://localhost:8080/"
        },
        "id": "G_yWWdvG280t",
        "outputId": "5d79b0c5-086b-436c-884b-144e0c39e889"
      },
      "execution_count": null,
      "outputs": [
        {
          "output_type": "stream",
          "name": "stdout",
          "text": [
            "1\n"
          ]
        }
      ]
    },
    {
      "cell_type": "code",
      "source": [
        "def find_position(list, value):\n",
        "\n",
        "  position = list.index(value)\n",
        "  return position\n",
        "\n",
        "\n",
        "l=[2,3,4,5]\n",
        "pos = find_position(l,3)\n",
        "print(pos)\n",
        "\n"
      ],
      "metadata": {
        "colab": {
          "base_uri": "https://localhost:8080/"
        },
        "id": "ZLArUTbo4DBe",
        "outputId": "24819be5-36a0-4ed7-9ccf-ba7a6cc16ee2"
      },
      "execution_count": null,
      "outputs": [
        {
          "output_type": "stream",
          "name": "stdout",
          "text": [
            "1\n"
          ]
        }
      ]
    },
    {
      "cell_type": "code",
      "source": [
        "def find_position(lst, value):\n",
        "    try:\n",
        "        # Find the index of the value in the list\n",
        "        position = lst.index(value)\n",
        "        return position\n",
        "    except ValueError:\n",
        "        # If the value is not found, return a message\n",
        "        return f\"{value} is not in the list\"\n",
        "\n",
        "# Example list\n",
        "l = [2, 3, 4, 5]\n",
        "\n",
        "# Finding the position of 3 in the list\n",
        "position = find_position(l, 3)\n",
        "\n",
        "# Printing the result\n",
        "print(f\"The position of 3 in the list is: {position}\")\n"
      ],
      "metadata": {
        "id": "M-x8A1Ei3XZu",
        "colab": {
          "base_uri": "https://localhost:8080/"
        },
        "outputId": "b42ba1b4-ef7f-4946-8d17-40e65f63e878"
      },
      "execution_count": null,
      "outputs": [
        {
          "output_type": "stream",
          "name": "stdout",
          "text": [
            "The position of 3 in the list is: 1\n"
          ]
        }
      ]
    }
  ]
}