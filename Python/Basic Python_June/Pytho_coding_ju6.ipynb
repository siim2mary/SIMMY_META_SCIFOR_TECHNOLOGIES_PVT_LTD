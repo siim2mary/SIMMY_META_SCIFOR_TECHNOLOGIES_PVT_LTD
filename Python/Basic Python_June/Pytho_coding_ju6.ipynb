{
  "cells": [
    {
      "cell_type": "markdown",
      "id": "9230f552",
      "metadata": {
        "id": "9230f552"
      },
      "source": [
        "#write pgm using fn to find palindrome"
      ]
    },
    {
      "cell_type": "code",
      "execution_count": null,
      "id": "2aaeb2bf",
      "metadata": {
        "id": "2aaeb2bf",
        "outputId": "39f5c888-9cc6-4cbc-e2c1-c358501425cc"
      },
      "outputs": [
        {
          "name": "stdout",
          "output_type": "stream",
          "text": [
            "True\n",
            "False\n"
          ]
        }
      ],
      "source": [
        "def is_pal(s1):\n",
        "    nor_str = ''.join(char.lower() for char in s1 if char.isalnum())\n",
        "    return nor_str == nor_str[::-1]\n",
        "print(is_pal(\"racecar\"))\n",
        "print(is_pal(\"mal\"))"
      ]
    },
    {
      "cell_type": "markdown",
      "id": "9d1143dc",
      "metadata": {
        "id": "9d1143dc"
      },
      "source": [
        "#Count vowels"
      ]
    },
    {
      "cell_type": "code",
      "execution_count": null,
      "id": "df0894cc",
      "metadata": {
        "id": "df0894cc",
        "outputId": "82ca1ce2-f158-47c7-ea86-7dbad58fe1da"
      },
      "outputs": [
        {
          "name": "stdout",
          "output_type": "stream",
          "text": [
            "4\n"
          ]
        }
      ],
      "source": [
        "def is_vow(s):\n",
        "    vowels = 'aeiouAEIOU'\n",
        "    return sum(1 for char in s if char in vowels)\n",
        "print(is_vow(\"hai sona\"))"
      ]
    },
    {
      "cell_type": "markdown",
      "id": "cbed51ee",
      "metadata": {
        "id": "cbed51ee"
      },
      "source": [
        "#binary search"
      ]
    },
    {
      "cell_type": "code",
      "execution_count": null,
      "id": "0e7c966a",
      "metadata": {
        "id": "0e7c966a",
        "outputId": "9d5ccc72-4a15-43dd-f61b-1abfa5d4c1ef"
      },
      "outputs": [
        {
          "name": "stdout",
          "output_type": "stream",
          "text": [
            "2\n"
          ]
        }
      ],
      "source": [
        "def bina_sear(lst, target):\n",
        "    lef,rig = 0, len(lst)-1\n",
        "    while lef<=rig:\n",
        "        mid = (lef+rig)//2\n",
        "        if lst[mid] == target:\n",
        "            return mid\n",
        "        elif lst[mid]<=target:\n",
        "            lef = mid+1\n",
        "        else:\n",
        "            rig = mid-1\n",
        "    return -1\n",
        "lst = [1,22,33,3]\n",
        "print(bina_sear(lst, 33))"
      ]
    },
    {
      "cell_type": "markdown",
      "id": "0790583c",
      "metadata": {
        "id": "0790583c"
      },
      "source": [
        "# Binary search other way"
      ]
    },
    {
      "cell_type": "code",
      "execution_count": null,
      "id": "0a502cff",
      "metadata": {
        "id": "0a502cff",
        "outputId": "ac7a7be6-2b13-437b-88b3-53f9668cc85e"
      },
      "outputs": [
        {
          "name": "stdout",
          "output_type": "stream",
          "text": [
            "2\n",
            "1\n"
          ]
        }
      ],
      "source": [
        "def bin_sea(lst, target):\n",
        "    pos = lst.index(target)\n",
        "    return pos\n",
        "l = [1,22,33,3]\n",
        "pos = bin_sea(l,33)\n",
        "print(pos)\n",
        "\n",
        "pos = bin_sea(l,22)\n",
        "print(pos)"
      ]
    },
    {
      "cell_type": "code",
      "execution_count": null,
      "id": "6ddf5610",
      "metadata": {
        "id": "6ddf5610",
        "outputId": "04a87279-2d0f-45c3-8358-9375b64d6464"
      },
      "outputs": [
        {
          "name": "stdout",
          "output_type": "stream",
          "text": [
            "Element 5 is at index: 4\n",
            "Element 11 is at index: -1\n"
          ]
        }
      ],
      "source": [
        "def binary_search(arr, target):\n",
        "    # Initialize the starting and ending indices\n",
        "    left, right = 0, len(arr) - 1\n",
        "\n",
        "    # Continue the search while the left index is less than or equal to the right index\n",
        "    while left <= right:\n",
        "        # Find the middle index\n",
        "        mid = (left + right) // 2\n",
        "\n",
        "        # Check if the middle element is the target\n",
        "        if arr[mid] == target:\n",
        "            return mid\n",
        "        # If the target is greater, ignore the left half\n",
        "        elif arr[mid] < target:\n",
        "            left = mid + 1\n",
        "        # If the target is smaller, ignore the right half\n",
        "        else:\n",
        "            right = mid - 1\n",
        "\n",
        "    # If we reach here, the element was not present\n",
        "    return -1\n",
        "\n",
        "# Test cases\n",
        "arr = [1, 2, 3, 4, 5, 6, 7, 8, 9, 10]\n",
        "target = 5\n",
        "result = binary_search(arr, target)\n",
        "\n",
        "print(f\"Element {target} is at index: {result}\")  # Output: Element 5 is at index: 4\n",
        "\n",
        "target = 11\n",
        "result = binary_search(arr, target)\n",
        "\n",
        "print(f\"Element {target} is at index: {result}\")  # Output: Element 11 is at index: -1\n"
      ]
    },
    {
      "cell_type": "markdown",
      "id": "c2b81066",
      "metadata": {
        "id": "c2b81066"
      },
      "source": [
        "# Merge 2 sorted list"
      ]
    },
    {
      "cell_type": "code",
      "execution_count": null,
      "id": "2da5b39e",
      "metadata": {
        "id": "2da5b39e",
        "outputId": "45307c98-30f9-43d9-e3c5-430afb063729"
      },
      "outputs": [
        {
          "name": "stdout",
          "output_type": "stream",
          "text": [
            "[2, 3, 4, 5, 6, 7, 8, 9]\n"
          ]
        }
      ],
      "source": [
        "def merged_lst(l1,l2):\n",
        "    return sorted(l1+l2)\n",
        "l1 =[2,3,4,5]\n",
        "l2 = [6,7,8,9]\n",
        "\n",
        "res = merged_lst(l1,l2)\n",
        "print(res)"
      ]
    },
    {
      "cell_type": "code",
      "execution_count": null,
      "id": "1a700769",
      "metadata": {
        "id": "1a700769",
        "outputId": "9fad4f4f-c227-45d8-86af-038ba137246e"
      },
      "outputs": [
        {
          "name": "stdout",
          "output_type": "stream",
          "text": [
            "[2, 3, 4, 5, 6, 7, 8, 9]\n"
          ]
        }
      ],
      "source": [
        "import heapq\n",
        "\n",
        "def merged_lst(l1,l2):\n",
        "    return list(heapq.merge(l1,l2))  #if y dont give list here o/p will be a generator\n",
        "l1 = [2,3,4,5]\n",
        "l2 = [6,7,8,9]\n",
        "res = merged_lst(l1,l2)\n",
        "print(res)"
      ]
    },
    {
      "cell_type": "markdown",
      "id": "b1e2c300",
      "metadata": {
        "id": "b1e2c300"
      },
      "source": [
        "# Anagram check"
      ]
    },
    {
      "cell_type": "code",
      "execution_count": null,
      "id": "7a24cf65",
      "metadata": {
        "id": "7a24cf65",
        "outputId": "fc4b40ee-fb1d-464a-beca-a8979733eba1"
      },
      "outputs": [
        {
          "name": "stdout",
          "output_type": "stream",
          "text": [
            "True\n",
            "False\n"
          ]
        }
      ],
      "source": [
        "def ana(s1,s2):\n",
        "    return sorted(s1) == sorted(s2)\n",
        "\n",
        "print(ana(\"listen\",\"silent\"))\n",
        "print(ana(\"hai\",\"hello\"))"
      ]
    },
    {
      "cell_type": "markdown",
      "id": "3bc75dd6",
      "metadata": {
        "id": "3bc75dd6"
      },
      "source": [
        "# Find Duplicates in a List\n",
        "Question: Write a function to find duplicates in a list."
      ]
    },
    {
      "cell_type": "code",
      "execution_count": null,
      "id": "e14e5382",
      "metadata": {
        "id": "e14e5382",
        "outputId": "b76f85c2-642d-44d9-a440-8ba59ccdc8ad"
      },
      "outputs": [
        {
          "name": "stdout",
          "output_type": "stream",
          "text": [
            "[3, 2, 11, 4]\n"
          ]
        }
      ],
      "source": [
        "def dup(l):\n",
        "    return list(set(l))\n",
        "l = [11,2,3,4,3]\n",
        "\n",
        "print(dup(l))"
      ]
    },
    {
      "cell_type": "code",
      "execution_count": null,
      "id": "3555920f",
      "metadata": {
        "id": "3555920f",
        "outputId": "dcd055b3-6535-4b0e-8d75-09e53546a52d"
      },
      "outputs": [
        {
          "name": "stdout",
          "output_type": "stream",
          "text": [
            "[2, 3]\n"
          ]
        }
      ],
      "source": [
        "def find_duplicates_list_comp(lst):\n",
        "    return list(set([item for item in lst if lst.count(item) > 1]))\n",
        "\n",
        "# Example\n",
        "lst = [1, 2, 3, 4, 5, 3, 2, 6, 7]\n",
        "print(find_duplicates_list_comp(lst))  # Output: [2, 3]\n"
      ]
    },
    {
      "cell_type": "code",
      "execution_count": null,
      "id": "47867643",
      "metadata": {
        "id": "47867643",
        "outputId": "49ff738b-eb84-4cd4-abe6-f78ca11d59c5"
      },
      "outputs": [
        {
          "name": "stdout",
          "output_type": "stream",
          "text": [
            "[2, 3]\n"
          ]
        }
      ],
      "source": [
        "def f(lst):\n",
        "    return list(set([item for item in lst if lst.count(item) > 1]))\n",
        "\n",
        "# Example\n",
        "lst = [1, 2, 3, 4, 5, 3, 2, 6, 7]\n",
        "print(f(lst))  # Output: [2, 3]\n"
      ]
    },
    {
      "cell_type": "code",
      "execution_count": null,
      "id": "e8570d0b",
      "metadata": {
        "id": "e8570d0b",
        "outputId": "afee22f7-4ab6-478b-b3f2-4718efe9deb1"
      },
      "outputs": [
        {
          "name": "stdout",
          "output_type": "stream",
          "text": [
            "[3]\n"
          ]
        }
      ],
      "source": [
        "def dup(l):\n",
        "    return list(set([item for item in l if l.count(item) >1]))\n",
        "l =[11,2,3,4,3]\n",
        "print(dup(l))"
      ]
    },
    {
      "cell_type": "code",
      "execution_count": null,
      "id": "df66ae01",
      "metadata": {
        "id": "df66ae01",
        "outputId": "958fb133-e907-46f4-d09d-7b6ebdcd4ffe"
      },
      "outputs": [
        {
          "name": "stdout",
          "output_type": "stream",
          "text": [
            "[2, 3]\n"
          ]
        }
      ],
      "source": [
        "from collections import Counter\n",
        "\n",
        "def find_duplicates_counter(lst):\n",
        "    counts = Counter(lst)\n",
        "    return [item for item, count in counts.items() if count > 1]\n",
        "\n",
        "# Example\n",
        "lst = [1, 2, 3, 4, 5, 3, 2, 6, 7]\n",
        "print(find_duplicates_counter(lst))  # Output: [2, 3]\n"
      ]
    },
    {
      "cell_type": "code",
      "execution_count": null,
      "id": "cbba56c5",
      "metadata": {
        "id": "cbba56c5",
        "outputId": "76a502d2-bee1-44e3-8056-a89f17b3d8c5"
      },
      "outputs": [
        {
          "name": "stdout",
          "output_type": "stream",
          "text": [
            "[2, 3]\n"
          ]
        }
      ],
      "source": [
        "def find_duplicates_dict(lst):\n",
        "    counts = {}\n",
        "    duplicates = []\n",
        "    for item in lst:\n",
        "        if item in counts:\n",
        "            counts[item] += 1\n",
        "        else:\n",
        "            counts[item] = 1\n",
        "    for item, count in counts.items():\n",
        "        if count > 1:\n",
        "            duplicates.append(item)\n",
        "    return duplicates\n",
        "\n",
        "# Example\n",
        "lst = [1, 2, 3, 4, 5, 3, 2, 6, 7]\n",
        "print(find_duplicates_dict(lst))  # Output: [2, 3]\n"
      ]
    },
    {
      "cell_type": "code",
      "execution_count": null,
      "id": "40ca92bb",
      "metadata": {
        "id": "40ca92bb"
      },
      "outputs": [],
      "source": []
    }
  ],
  "metadata": {
    "kernelspec": {
      "display_name": "Python 3 (ipykernel)",
      "language": "python",
      "name": "python3"
    },
    "language_info": {
      "codemirror_mode": {
        "name": "ipython",
        "version": 3
      },
      "file_extension": ".py",
      "mimetype": "text/x-python",
      "name": "python",
      "nbconvert_exporter": "python",
      "pygments_lexer": "ipython3",
      "version": "3.9.13"
    },
    "colab": {
      "provenance": []
    }
  },
  "nbformat": 4,
  "nbformat_minor": 5
}