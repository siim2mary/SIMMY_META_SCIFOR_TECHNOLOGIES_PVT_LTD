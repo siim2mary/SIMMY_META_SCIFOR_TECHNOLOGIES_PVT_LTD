{
  "nbformat": 4,
  "nbformat_minor": 0,
  "metadata": {
    "colab": {
      "provenance": []
    },
    "kernelspec": {
      "name": "python3",
      "display_name": "Python 3"
    },
    "language_info": {
      "name": "python"
    }
  },
  "cells": [
    {
      "cell_type": "code",
      "execution_count": 130,
      "metadata": {
        "id": "DqhaoKIMIbqN"
      },
      "outputs": [],
      "source": [
        "\n",
        "#Sentiment Analysis and Text Processing\n",
        "\n",
        "#Task: Perform sentiment analysis and text processing on this text."
      ]
    },
    {
      "cell_type": "markdown",
      "source": [
        "A BIG PARAGRAPH \"text\" IS PROCESSED\n",
        "\n",
        "---\n",
        "\n"
      ],
      "metadata": {
        "id": "TkZMd-LQRwfi"
      }
    },
    {
      "cell_type": "code",
      "source": [
        "text = \"The new restaurant in town is a game-changer! The food is absolutely delicious, and the service is top-notch. The atmosphere is modern and sleek, making it a perfect spot for a night out with friends. However, the prices are a bit steep, and the portions could be larger. Overall, I would highly recommend this restaurant to anyone looking for a great dining experience. The chef's attention to detail is impressive, and the menu offers a wide range of options to suit every taste. From the appetizers to the desserts, every dish is a masterpiece. The staff is friendly and knowledgeable, and they're always happy to make recommendations. The restaurant's commitment to using only the freshest ingredients is evident in every bite. Whether you're a foodie or just looking for a new spot to try, this restaurant is a must-visit. The ambiance is lively and vibrant, with a great selection of music and a cozy outdoor seating area. The restaurant's location is convenient, with plenty of parking and easy access to public transportation. The prices may be a bit higher than some other restaurants in the area, but the quality of the food and service makes it well worth the extra cost. In short, this restaurant is a gem that is sure to impress even the most discerning diners.\""
      ],
      "metadata": {
        "id": "bmHWXA7cRiAf"
      },
      "execution_count": 131,
      "outputs": []
    },
    {
      "cell_type": "code",
      "source": [
        "text"
      ],
      "metadata": {
        "colab": {
          "base_uri": "https://localhost:8080/",
          "height": 123
        },
        "id": "wk6oxDq3Rkq8",
        "outputId": "2b8a5dfd-379c-4397-92c9-f689236b606d"
      },
      "execution_count": 132,
      "outputs": [
        {
          "output_type": "execute_result",
          "data": {
            "text/plain": [
              "\"The new restaurant in town is a game-changer! The food is absolutely delicious, and the service is top-notch. The atmosphere is modern and sleek, making it a perfect spot for a night out with friends. However, the prices are a bit steep, and the portions could be larger. Overall, I would highly recommend this restaurant to anyone looking for a great dining experience. The chef's attention to detail is impressive, and the menu offers a wide range of options to suit every taste. From the appetizers to the desserts, every dish is a masterpiece. The staff is friendly and knowledgeable, and they're always happy to make recommendations. The restaurant's commitment to using only the freshest ingredients is evident in every bite. Whether you're a foodie or just looking for a new spot to try, this restaurant is a must-visit. The ambiance is lively and vibrant, with a great selection of music and a cozy outdoor seating area. The restaurant's location is convenient, with plenty of parking and easy access to public transportation. The prices may be a bit higher than some other restaurants in the area, but the quality of the food and service makes it well worth the extra cost. In short, this restaurant is a gem that is sure to impress even the most discerning diners.\""
            ],
            "application/vnd.google.colaboratory.intrinsic+json": {
              "type": "string"
            }
          },
          "metadata": {},
          "execution_count": 132
        }
      ]
    },
    {
      "cell_type": "code",
      "source": [
        "import nltk\n",
        "nltk.download('punkt')\n",
        "nltk.download('stopwords')\n",
        "nltk.download('wordnet')\n",
        "nltk.download('averaged_perceptron_tagger')\n"
      ],
      "metadata": {
        "colab": {
          "base_uri": "https://localhost:8080/"
        },
        "id": "a5UbXXfuJK_i",
        "outputId": "e3b1717f-3828-42f1-8190-7baca32d0307"
      },
      "execution_count": 133,
      "outputs": [
        {
          "output_type": "stream",
          "name": "stderr",
          "text": [
            "[nltk_data] Downloading package punkt to /root/nltk_data...\n",
            "[nltk_data]   Package punkt is already up-to-date!\n",
            "[nltk_data] Downloading package stopwords to /root/nltk_data...\n",
            "[nltk_data]   Package stopwords is already up-to-date!\n",
            "[nltk_data] Downloading package wordnet to /root/nltk_data...\n",
            "[nltk_data]   Package wordnet is already up-to-date!\n",
            "[nltk_data] Downloading package averaged_perceptron_tagger to\n",
            "[nltk_data]     /root/nltk_data...\n",
            "[nltk_data]   Package averaged_perceptron_tagger is already up-to-\n",
            "[nltk_data]       date!\n"
          ]
        },
        {
          "output_type": "execute_result",
          "data": {
            "text/plain": [
              "True"
            ]
          },
          "metadata": {},
          "execution_count": 133
        }
      ]
    },
    {
      "cell_type": "code",
      "source": [
        "# Import necessary libraries\n",
        "import nltk\n",
        "from nltk.sentiment import SentimentIntensityAnalyzer\n",
        "from nltk.tokenize import word_tokenize\n",
        "from nltk.stem import WordNetLemmatizer, PorterStemmer\n",
        "from nltk import pos_tag, ne_chunk, chunk\n",
        "import string"
      ],
      "metadata": {
        "id": "Pp8Fi2T9LQoy"
      },
      "execution_count": 134,
      "outputs": []
    },
    {
      "cell_type": "code",
      "source": [
        "nltk.download('maxent_ne_chunker')\n",
        "nltk.download('chunking')"
      ],
      "metadata": {
        "colab": {
          "base_uri": "https://localhost:8080/"
        },
        "id": "d3xA0eBMLJ0S",
        "outputId": "d74ff6d4-7639-46eb-83c9-d129e485f387"
      },
      "execution_count": 135,
      "outputs": [
        {
          "output_type": "stream",
          "name": "stderr",
          "text": [
            "[nltk_data] Downloading package maxent_ne_chunker to\n",
            "[nltk_data]     /root/nltk_data...\n",
            "[nltk_data]   Package maxent_ne_chunker is already up-to-date!\n",
            "[nltk_data] Error loading chunking: Package 'chunking' not found in\n",
            "[nltk_data]     index\n"
          ]
        },
        {
          "output_type": "execute_result",
          "data": {
            "text/plain": [
              "False"
            ]
          },
          "metadata": {},
          "execution_count": 135
        }
      ]
    },
    {
      "cell_type": "markdown",
      "source": [
        "# TOKENIZE TEXT\n",
        "\n",
        "---\n",
        "\n"
      ],
      "metadata": {
        "id": "SvJPvET7LV5K"
      }
    },
    {
      "cell_type": "code",
      "source": [
        "tokens = nltk.word_tokenize(text)\n",
        "tokens"
      ],
      "metadata": {
        "colab": {
          "base_uri": "https://localhost:8080/"
        },
        "id": "Fn6vQXGLK_mR",
        "outputId": "9341bae4-a119-42c2-dd6e-244b2ad31119"
      },
      "execution_count": 136,
      "outputs": [
        {
          "output_type": "execute_result",
          "data": {
            "text/plain": [
              "['The',\n",
              " 'new',\n",
              " 'restaurant',\n",
              " 'in',\n",
              " 'town',\n",
              " 'is',\n",
              " 'a',\n",
              " 'game-changer',\n",
              " '!',\n",
              " 'The',\n",
              " 'food',\n",
              " 'is',\n",
              " 'absolutely',\n",
              " 'delicious',\n",
              " ',',\n",
              " 'and',\n",
              " 'the',\n",
              " 'service',\n",
              " 'is',\n",
              " 'top-notch',\n",
              " '.',\n",
              " 'The',\n",
              " 'atmosphere',\n",
              " 'is',\n",
              " 'modern',\n",
              " 'and',\n",
              " 'sleek',\n",
              " ',',\n",
              " 'making',\n",
              " 'it',\n",
              " 'a',\n",
              " 'perfect',\n",
              " 'spot',\n",
              " 'for',\n",
              " 'a',\n",
              " 'night',\n",
              " 'out',\n",
              " 'with',\n",
              " 'friends',\n",
              " '.',\n",
              " 'However',\n",
              " ',',\n",
              " 'the',\n",
              " 'prices',\n",
              " 'are',\n",
              " 'a',\n",
              " 'bit',\n",
              " 'steep',\n",
              " ',',\n",
              " 'and',\n",
              " 'the',\n",
              " 'portions',\n",
              " 'could',\n",
              " 'be',\n",
              " 'larger',\n",
              " '.',\n",
              " 'Overall',\n",
              " ',',\n",
              " 'I',\n",
              " 'would',\n",
              " 'highly',\n",
              " 'recommend',\n",
              " 'this',\n",
              " 'restaurant',\n",
              " 'to',\n",
              " 'anyone',\n",
              " 'looking',\n",
              " 'for',\n",
              " 'a',\n",
              " 'great',\n",
              " 'dining',\n",
              " 'experience',\n",
              " '.',\n",
              " 'The',\n",
              " 'chef',\n",
              " \"'s\",\n",
              " 'attention',\n",
              " 'to',\n",
              " 'detail',\n",
              " 'is',\n",
              " 'impressive',\n",
              " ',',\n",
              " 'and',\n",
              " 'the',\n",
              " 'menu',\n",
              " 'offers',\n",
              " 'a',\n",
              " 'wide',\n",
              " 'range',\n",
              " 'of',\n",
              " 'options',\n",
              " 'to',\n",
              " 'suit',\n",
              " 'every',\n",
              " 'taste',\n",
              " '.',\n",
              " 'From',\n",
              " 'the',\n",
              " 'appetizers',\n",
              " 'to',\n",
              " 'the',\n",
              " 'desserts',\n",
              " ',',\n",
              " 'every',\n",
              " 'dish',\n",
              " 'is',\n",
              " 'a',\n",
              " 'masterpiece',\n",
              " '.',\n",
              " 'The',\n",
              " 'staff',\n",
              " 'is',\n",
              " 'friendly',\n",
              " 'and',\n",
              " 'knowledgeable',\n",
              " ',',\n",
              " 'and',\n",
              " 'they',\n",
              " \"'re\",\n",
              " 'always',\n",
              " 'happy',\n",
              " 'to',\n",
              " 'make',\n",
              " 'recommendations',\n",
              " '.',\n",
              " 'The',\n",
              " 'restaurant',\n",
              " \"'s\",\n",
              " 'commitment',\n",
              " 'to',\n",
              " 'using',\n",
              " 'only',\n",
              " 'the',\n",
              " 'freshest',\n",
              " 'ingredients',\n",
              " 'is',\n",
              " 'evident',\n",
              " 'in',\n",
              " 'every',\n",
              " 'bite',\n",
              " '.',\n",
              " 'Whether',\n",
              " 'you',\n",
              " \"'re\",\n",
              " 'a',\n",
              " 'foodie',\n",
              " 'or',\n",
              " 'just',\n",
              " 'looking',\n",
              " 'for',\n",
              " 'a',\n",
              " 'new',\n",
              " 'spot',\n",
              " 'to',\n",
              " 'try',\n",
              " ',',\n",
              " 'this',\n",
              " 'restaurant',\n",
              " 'is',\n",
              " 'a',\n",
              " 'must-visit',\n",
              " '.',\n",
              " 'The',\n",
              " 'ambiance',\n",
              " 'is',\n",
              " 'lively',\n",
              " 'and',\n",
              " 'vibrant',\n",
              " ',',\n",
              " 'with',\n",
              " 'a',\n",
              " 'great',\n",
              " 'selection',\n",
              " 'of',\n",
              " 'music',\n",
              " 'and',\n",
              " 'a',\n",
              " 'cozy',\n",
              " 'outdoor',\n",
              " 'seating',\n",
              " 'area',\n",
              " '.',\n",
              " 'The',\n",
              " 'restaurant',\n",
              " \"'s\",\n",
              " 'location',\n",
              " 'is',\n",
              " 'convenient',\n",
              " ',',\n",
              " 'with',\n",
              " 'plenty',\n",
              " 'of',\n",
              " 'parking',\n",
              " 'and',\n",
              " 'easy',\n",
              " 'access',\n",
              " 'to',\n",
              " 'public',\n",
              " 'transportation',\n",
              " '.',\n",
              " 'The',\n",
              " 'prices',\n",
              " 'may',\n",
              " 'be',\n",
              " 'a',\n",
              " 'bit',\n",
              " 'higher',\n",
              " 'than',\n",
              " 'some',\n",
              " 'other',\n",
              " 'restaurants',\n",
              " 'in',\n",
              " 'the',\n",
              " 'area',\n",
              " ',',\n",
              " 'but',\n",
              " 'the',\n",
              " 'quality',\n",
              " 'of',\n",
              " 'the',\n",
              " 'food',\n",
              " 'and',\n",
              " 'service',\n",
              " 'makes',\n",
              " 'it',\n",
              " 'well',\n",
              " 'worth',\n",
              " 'the',\n",
              " 'extra',\n",
              " 'cost',\n",
              " '.',\n",
              " 'In',\n",
              " 'short',\n",
              " ',',\n",
              " 'this',\n",
              " 'restaurant',\n",
              " 'is',\n",
              " 'a',\n",
              " 'gem',\n",
              " 'that',\n",
              " 'is',\n",
              " 'sure',\n",
              " 'to',\n",
              " 'impress',\n",
              " 'even',\n",
              " 'the',\n",
              " 'most',\n",
              " 'discerning',\n",
              " 'diners',\n",
              " '.']"
            ]
          },
          "metadata": {},
          "execution_count": 136
        }
      ]
    },
    {
      "cell_type": "code",
      "source": [
        "#print word in tokens\n",
        "for token in tokens:\n",
        "  print(token)"
      ],
      "metadata": {
        "colab": {
          "base_uri": "https://localhost:8080/"
        },
        "id": "T_oW86A_Smlb",
        "outputId": "a5d050fc-8519-448a-a045-a4e4b092c4e5"
      },
      "execution_count": 137,
      "outputs": [
        {
          "output_type": "stream",
          "name": "stdout",
          "text": [
            "The\n",
            "new\n",
            "restaurant\n",
            "in\n",
            "town\n",
            "is\n",
            "a\n",
            "game-changer\n",
            "!\n",
            "The\n",
            "food\n",
            "is\n",
            "absolutely\n",
            "delicious\n",
            ",\n",
            "and\n",
            "the\n",
            "service\n",
            "is\n",
            "top-notch\n",
            ".\n",
            "The\n",
            "atmosphere\n",
            "is\n",
            "modern\n",
            "and\n",
            "sleek\n",
            ",\n",
            "making\n",
            "it\n",
            "a\n",
            "perfect\n",
            "spot\n",
            "for\n",
            "a\n",
            "night\n",
            "out\n",
            "with\n",
            "friends\n",
            ".\n",
            "However\n",
            ",\n",
            "the\n",
            "prices\n",
            "are\n",
            "a\n",
            "bit\n",
            "steep\n",
            ",\n",
            "and\n",
            "the\n",
            "portions\n",
            "could\n",
            "be\n",
            "larger\n",
            ".\n",
            "Overall\n",
            ",\n",
            "I\n",
            "would\n",
            "highly\n",
            "recommend\n",
            "this\n",
            "restaurant\n",
            "to\n",
            "anyone\n",
            "looking\n",
            "for\n",
            "a\n",
            "great\n",
            "dining\n",
            "experience\n",
            ".\n",
            "The\n",
            "chef\n",
            "'s\n",
            "attention\n",
            "to\n",
            "detail\n",
            "is\n",
            "impressive\n",
            ",\n",
            "and\n",
            "the\n",
            "menu\n",
            "offers\n",
            "a\n",
            "wide\n",
            "range\n",
            "of\n",
            "options\n",
            "to\n",
            "suit\n",
            "every\n",
            "taste\n",
            ".\n",
            "From\n",
            "the\n",
            "appetizers\n",
            "to\n",
            "the\n",
            "desserts\n",
            ",\n",
            "every\n",
            "dish\n",
            "is\n",
            "a\n",
            "masterpiece\n",
            ".\n",
            "The\n",
            "staff\n",
            "is\n",
            "friendly\n",
            "and\n",
            "knowledgeable\n",
            ",\n",
            "and\n",
            "they\n",
            "'re\n",
            "always\n",
            "happy\n",
            "to\n",
            "make\n",
            "recommendations\n",
            ".\n",
            "The\n",
            "restaurant\n",
            "'s\n",
            "commitment\n",
            "to\n",
            "using\n",
            "only\n",
            "the\n",
            "freshest\n",
            "ingredients\n",
            "is\n",
            "evident\n",
            "in\n",
            "every\n",
            "bite\n",
            ".\n",
            "Whether\n",
            "you\n",
            "'re\n",
            "a\n",
            "foodie\n",
            "or\n",
            "just\n",
            "looking\n",
            "for\n",
            "a\n",
            "new\n",
            "spot\n",
            "to\n",
            "try\n",
            ",\n",
            "this\n",
            "restaurant\n",
            "is\n",
            "a\n",
            "must-visit\n",
            ".\n",
            "The\n",
            "ambiance\n",
            "is\n",
            "lively\n",
            "and\n",
            "vibrant\n",
            ",\n",
            "with\n",
            "a\n",
            "great\n",
            "selection\n",
            "of\n",
            "music\n",
            "and\n",
            "a\n",
            "cozy\n",
            "outdoor\n",
            "seating\n",
            "area\n",
            ".\n",
            "The\n",
            "restaurant\n",
            "'s\n",
            "location\n",
            "is\n",
            "convenient\n",
            ",\n",
            "with\n",
            "plenty\n",
            "of\n",
            "parking\n",
            "and\n",
            "easy\n",
            "access\n",
            "to\n",
            "public\n",
            "transportation\n",
            ".\n",
            "The\n",
            "prices\n",
            "may\n",
            "be\n",
            "a\n",
            "bit\n",
            "higher\n",
            "than\n",
            "some\n",
            "other\n",
            "restaurants\n",
            "in\n",
            "the\n",
            "area\n",
            ",\n",
            "but\n",
            "the\n",
            "quality\n",
            "of\n",
            "the\n",
            "food\n",
            "and\n",
            "service\n",
            "makes\n",
            "it\n",
            "well\n",
            "worth\n",
            "the\n",
            "extra\n",
            "cost\n",
            ".\n",
            "In\n",
            "short\n",
            ",\n",
            "this\n",
            "restaurant\n",
            "is\n",
            "a\n",
            "gem\n",
            "that\n",
            "is\n",
            "sure\n",
            "to\n",
            "impress\n",
            "even\n",
            "the\n",
            "most\n",
            "discerning\n",
            "diners\n",
            ".\n"
          ]
        }
      ]
    },
    {
      "cell_type": "markdown",
      "source": [
        "# Remove punctuation and digits\n",
        "\n",
        "---\n",
        "\n"
      ],
      "metadata": {
        "id": "A11xGK7UNIry"
      }
    },
    {
      "cell_type": "code",
      "source": [
        "#remove punctuation and digits\n",
        "import string\n",
        "tokens = [token for token in tokens if token not in string.punctuation and not token.isdigit()]\n",
        "print(tokens)\n",
        "\n"
      ],
      "metadata": {
        "colab": {
          "base_uri": "https://localhost:8080/"
        },
        "id": "1z-2dCU8JfuT",
        "outputId": "c1a7b53b-2b32-4984-f641-3135a3b1ec00"
      },
      "execution_count": 138,
      "outputs": [
        {
          "output_type": "stream",
          "name": "stdout",
          "text": [
            "['The', 'new', 'restaurant', 'in', 'town', 'is', 'a', 'game-changer', 'The', 'food', 'is', 'absolutely', 'delicious', 'and', 'the', 'service', 'is', 'top-notch', 'The', 'atmosphere', 'is', 'modern', 'and', 'sleek', 'making', 'it', 'a', 'perfect', 'spot', 'for', 'a', 'night', 'out', 'with', 'friends', 'However', 'the', 'prices', 'are', 'a', 'bit', 'steep', 'and', 'the', 'portions', 'could', 'be', 'larger', 'Overall', 'I', 'would', 'highly', 'recommend', 'this', 'restaurant', 'to', 'anyone', 'looking', 'for', 'a', 'great', 'dining', 'experience', 'The', 'chef', \"'s\", 'attention', 'to', 'detail', 'is', 'impressive', 'and', 'the', 'menu', 'offers', 'a', 'wide', 'range', 'of', 'options', 'to', 'suit', 'every', 'taste', 'From', 'the', 'appetizers', 'to', 'the', 'desserts', 'every', 'dish', 'is', 'a', 'masterpiece', 'The', 'staff', 'is', 'friendly', 'and', 'knowledgeable', 'and', 'they', \"'re\", 'always', 'happy', 'to', 'make', 'recommendations', 'The', 'restaurant', \"'s\", 'commitment', 'to', 'using', 'only', 'the', 'freshest', 'ingredients', 'is', 'evident', 'in', 'every', 'bite', 'Whether', 'you', \"'re\", 'a', 'foodie', 'or', 'just', 'looking', 'for', 'a', 'new', 'spot', 'to', 'try', 'this', 'restaurant', 'is', 'a', 'must-visit', 'The', 'ambiance', 'is', 'lively', 'and', 'vibrant', 'with', 'a', 'great', 'selection', 'of', 'music', 'and', 'a', 'cozy', 'outdoor', 'seating', 'area', 'The', 'restaurant', \"'s\", 'location', 'is', 'convenient', 'with', 'plenty', 'of', 'parking', 'and', 'easy', 'access', 'to', 'public', 'transportation', 'The', 'prices', 'may', 'be', 'a', 'bit', 'higher', 'than', 'some', 'other', 'restaurants', 'in', 'the', 'area', 'but', 'the', 'quality', 'of', 'the', 'food', 'and', 'service', 'makes', 'it', 'well', 'worth', 'the', 'extra', 'cost', 'In', 'short', 'this', 'restaurant', 'is', 'a', 'gem', 'that', 'is', 'sure', 'to', 'impress', 'even', 'the', 'most', 'discerning', 'diners']\n"
          ]
        }
      ]
    },
    {
      "cell_type": "markdown",
      "source": [
        "# Remove **stopwords**\n",
        "\n",
        "---\n",
        "\n"
      ],
      "metadata": {
        "id": "FwbEU403MWPE"
      }
    },
    {
      "cell_type": "code",
      "source": [
        "stopwords = nltk.corpus.stopwords.words('english')\n",
        "tokens = [token for token in tokens if token.lower() not in stopwords]\n",
        "print(tokens)"
      ],
      "metadata": {
        "colab": {
          "base_uri": "https://localhost:8080/"
        },
        "id": "_z7ILvQxMXLi",
        "outputId": "a162dce6-3b47-4198-8a4f-ac5094a22439"
      },
      "execution_count": 139,
      "outputs": [
        {
          "output_type": "stream",
          "name": "stdout",
          "text": [
            "['new', 'restaurant', 'town', 'game-changer', 'food', 'absolutely', 'delicious', 'service', 'top-notch', 'atmosphere', 'modern', 'sleek', 'making', 'perfect', 'spot', 'night', 'friends', 'However', 'prices', 'bit', 'steep', 'portions', 'could', 'larger', 'Overall', 'would', 'highly', 'recommend', 'restaurant', 'anyone', 'looking', 'great', 'dining', 'experience', 'chef', \"'s\", 'attention', 'detail', 'impressive', 'menu', 'offers', 'wide', 'range', 'options', 'suit', 'every', 'taste', 'appetizers', 'desserts', 'every', 'dish', 'masterpiece', 'staff', 'friendly', 'knowledgeable', \"'re\", 'always', 'happy', 'make', 'recommendations', 'restaurant', \"'s\", 'commitment', 'using', 'freshest', 'ingredients', 'evident', 'every', 'bite', 'Whether', \"'re\", 'foodie', 'looking', 'new', 'spot', 'try', 'restaurant', 'must-visit', 'ambiance', 'lively', 'vibrant', 'great', 'selection', 'music', 'cozy', 'outdoor', 'seating', 'area', 'restaurant', \"'s\", 'location', 'convenient', 'plenty', 'parking', 'easy', 'access', 'public', 'transportation', 'prices', 'may', 'bit', 'higher', 'restaurants', 'area', 'quality', 'food', 'service', 'makes', 'well', 'worth', 'extra', 'cost', 'short', 'restaurant', 'gem', 'sure', 'impress', 'even', 'discerning', 'diners']\n"
          ]
        }
      ]
    },
    {
      "cell_type": "markdown",
      "source": [
        "# **Lemmatise**\n",
        "\n",
        "---\n",
        "\n"
      ],
      "metadata": {
        "id": "Rz_U74f4L5Gi"
      }
    },
    {
      "cell_type": "code",
      "source": [
        "lemmatise = WordNetLemmatizer()\n",
        "lemmatised_tokens = [lemmatise.lemmatize(token) for token in tokens]\n",
        "print(lemmatised_tokens)"
      ],
      "metadata": {
        "colab": {
          "base_uri": "https://localhost:8080/"
        },
        "id": "X6NmJMYSL7JQ",
        "outputId": "50cdb91e-ab8d-4d91-e38b-19f61671ffcc"
      },
      "execution_count": 140,
      "outputs": [
        {
          "output_type": "stream",
          "name": "stdout",
          "text": [
            "['new', 'restaurant', 'town', 'game-changer', 'food', 'absolutely', 'delicious', 'service', 'top-notch', 'atmosphere', 'modern', 'sleek', 'making', 'perfect', 'spot', 'night', 'friend', 'However', 'price', 'bit', 'steep', 'portion', 'could', 'larger', 'Overall', 'would', 'highly', 'recommend', 'restaurant', 'anyone', 'looking', 'great', 'dining', 'experience', 'chef', \"'s\", 'attention', 'detail', 'impressive', 'menu', 'offer', 'wide', 'range', 'option', 'suit', 'every', 'taste', 'appetizer', 'dessert', 'every', 'dish', 'masterpiece', 'staff', 'friendly', 'knowledgeable', \"'re\", 'always', 'happy', 'make', 'recommendation', 'restaurant', \"'s\", 'commitment', 'using', 'freshest', 'ingredient', 'evident', 'every', 'bite', 'Whether', \"'re\", 'foodie', 'looking', 'new', 'spot', 'try', 'restaurant', 'must-visit', 'ambiance', 'lively', 'vibrant', 'great', 'selection', 'music', 'cozy', 'outdoor', 'seating', 'area', 'restaurant', \"'s\", 'location', 'convenient', 'plenty', 'parking', 'easy', 'access', 'public', 'transportation', 'price', 'may', 'bit', 'higher', 'restaurant', 'area', 'quality', 'food', 'service', 'make', 'well', 'worth', 'extra', 'cost', 'short', 'restaurant', 'gem', 'sure', 'impress', 'even', 'discerning', 'diner']\n"
          ]
        }
      ]
    },
    {
      "cell_type": "markdown",
      "source": [
        "# **stemming**\n",
        "\n",
        "---\n",
        "\n"
      ],
      "metadata": {
        "id": "pJWGc7unMF5i"
      }
    },
    {
      "cell_type": "code",
      "source": [
        "stemmer = PorterStemmer()\n",
        "stemmed_tokens = [stemmer.stem(token) for token in tokens]\n",
        "print(stemmed_tokens)"
      ],
      "metadata": {
        "colab": {
          "base_uri": "https://localhost:8080/"
        },
        "id": "_jcowcGwMFSZ",
        "outputId": "669145ef-af18-454b-aa0d-a3fce2c638cc"
      },
      "execution_count": 141,
      "outputs": [
        {
          "output_type": "stream",
          "name": "stdout",
          "text": [
            "['new', 'restaur', 'town', 'game-chang', 'food', 'absolut', 'delici', 'servic', 'top-notch', 'atmospher', 'modern', 'sleek', 'make', 'perfect', 'spot', 'night', 'friend', 'howev', 'price', 'bit', 'steep', 'portion', 'could', 'larger', 'overal', 'would', 'highli', 'recommend', 'restaur', 'anyon', 'look', 'great', 'dine', 'experi', 'chef', \"'s\", 'attent', 'detail', 'impress', 'menu', 'offer', 'wide', 'rang', 'option', 'suit', 'everi', 'tast', 'appet', 'dessert', 'everi', 'dish', 'masterpiec', 'staff', 'friendli', 'knowledg', \"'re\", 'alway', 'happi', 'make', 'recommend', 'restaur', \"'s\", 'commit', 'use', 'freshest', 'ingredi', 'evid', 'everi', 'bite', 'whether', \"'re\", 'foodi', 'look', 'new', 'spot', 'tri', 'restaur', 'must-visit', 'ambianc', 'live', 'vibrant', 'great', 'select', 'music', 'cozi', 'outdoor', 'seat', 'area', 'restaur', \"'s\", 'locat', 'conveni', 'plenti', 'park', 'easi', 'access', 'public', 'transport', 'price', 'may', 'bit', 'higher', 'restaur', 'area', 'qualiti', 'food', 'servic', 'make', 'well', 'worth', 'extra', 'cost', 'short', 'restaur', 'gem', 'sure', 'impress', 'even', 'discern', 'diner']\n"
          ]
        }
      ]
    },
    {
      "cell_type": "markdown",
      "source": [
        "# POS TAGS\n",
        "\n",
        "---\n",
        "\n"
      ],
      "metadata": {
        "id": "twDKVDleNN6O"
      }
    },
    {
      "cell_type": "code",
      "source": [
        "pos_tags = nltk.pos_tag(lemmatised_tokens)\n",
        "print(pos_tags)"
      ],
      "metadata": {
        "colab": {
          "base_uri": "https://localhost:8080/"
        },
        "id": "bOZnJfpDMOcq",
        "outputId": "785cce0c-c769-4c0a-cbc7-0a6f8ae178f5"
      },
      "execution_count": 142,
      "outputs": [
        {
          "output_type": "stream",
          "name": "stdout",
          "text": [
            "[('new', 'JJ'), ('restaurant', 'JJ'), ('town', 'NN'), ('game-changer', 'NN'), ('food', 'NN'), ('absolutely', 'RB'), ('delicious', 'JJ'), ('service', 'NN'), ('top-notch', 'NN'), ('atmosphere', 'JJ'), ('modern', 'JJ'), ('sleek', 'NN'), ('making', 'NN'), ('perfect', 'JJ'), ('spot', 'NN'), ('night', 'NN'), ('friend', 'NN'), ('However', 'RB'), ('price', 'NN'), ('bit', 'NN'), ('steep', 'JJ'), ('portion', 'NN'), ('could', 'MD'), ('larger', 'JJR'), ('Overall', 'NNP'), ('would', 'MD'), ('highly', 'RB'), ('recommend', 'VB'), ('restaurant', 'NN'), ('anyone', 'NN'), ('looking', 'VBG'), ('great', 'JJ'), ('dining', 'VBG'), ('experience', 'NN'), ('chef', 'NN'), (\"'s\", 'POS'), ('attention', 'NN'), ('detail', 'NN'), ('impressive', 'JJ'), ('menu', 'NN'), ('offer', 'NN'), ('wide', 'JJ'), ('range', 'NN'), ('option', 'NN'), ('suit', 'NN'), ('every', 'DT'), ('taste', 'NN'), ('appetizer', 'NN'), ('dessert', 'NN'), ('every', 'DT'), ('dish', 'JJ'), ('masterpiece', 'NN'), ('staff', 'NN'), ('friendly', 'RB'), ('knowledgeable', 'JJ'), (\"'re\", 'VBP'), ('always', 'RB'), ('happy', 'JJ'), ('make', 'VBP'), ('recommendation', 'NN'), ('restaurant', 'NN'), (\"'s\", 'POS'), ('commitment', 'NN'), ('using', 'VBG'), ('freshest', 'JJS'), ('ingredient', 'NN'), ('evident', 'JJ'), ('every', 'DT'), ('bite', 'NN'), ('Whether', 'NNP'), (\"'re\", 'VBP'), ('foodie', 'JJ'), ('looking', 'VBG'), ('new', 'JJ'), ('spot', 'NN'), ('try', 'NN'), ('restaurant', 'NN'), ('must-visit', 'JJ'), ('ambiance', 'NN'), ('lively', 'RB'), ('vibrant', 'JJ'), ('great', 'JJ'), ('selection', 'NN'), ('music', 'NN'), ('cozy', 'NN'), ('outdoor', 'IN'), ('seating', 'VBG'), ('area', 'NN'), ('restaurant', 'NN'), (\"'s\", 'POS'), ('location', 'NN'), ('convenient', 'NN'), ('plenty', 'NN'), ('parking', 'VBG'), ('easy', 'JJ'), ('access', 'NN'), ('public', 'JJ'), ('transportation', 'NN'), ('price', 'NN'), ('may', 'MD'), ('bit', 'VB'), ('higher', 'JJR'), ('restaurant', 'NN'), ('area', 'NN'), ('quality', 'NN'), ('food', 'NN'), ('service', 'NN'), ('make', 'VBP'), ('well', 'RB'), ('worth', 'JJ'), ('extra', 'JJ'), ('cost', 'NN'), ('short', 'JJ'), ('restaurant', 'NN'), ('gem', 'NN'), ('sure', 'JJ'), ('impress', 'JJ'), ('even', 'RB'), ('discerning', 'VBG'), ('diner', 'NN')]\n"
          ]
        }
      ]
    },
    {
      "cell_type": "markdown",
      "source": [
        "# NER\n",
        "\n",
        "---\n",
        "\n"
      ],
      "metadata": {
        "id": "VHLt_KXuNc06"
      }
    },
    {
      "cell_type": "code",
      "source": [
        "nltk.download('words')"
      ],
      "metadata": {
        "colab": {
          "base_uri": "https://localhost:8080/"
        },
        "id": "pdB9OceONnzK",
        "outputId": "d88b9e80-ebfd-4c09-b0cc-16fc1b1f5fab"
      },
      "execution_count": 143,
      "outputs": [
        {
          "output_type": "stream",
          "name": "stderr",
          "text": [
            "[nltk_data] Downloading package words to /root/nltk_data...\n",
            "[nltk_data]   Package words is already up-to-date!\n"
          ]
        },
        {
          "output_type": "execute_result",
          "data": {
            "text/plain": [
              "True"
            ]
          },
          "metadata": {},
          "execution_count": 143
        }
      ]
    },
    {
      "cell_type": "code",
      "source": [
        "ner_tags = nltk.ne_chunk(pos_tags)\n",
        "print(ner_tags)"
      ],
      "metadata": {
        "colab": {
          "base_uri": "https://localhost:8080/"
        },
        "id": "KXCX12EWNcUs",
        "outputId": "82155709-3e96-4232-98d7-47c8cdda31d6"
      },
      "execution_count": 144,
      "outputs": [
        {
          "output_type": "stream",
          "name": "stdout",
          "text": [
            "(S\n",
            "  new/JJ\n",
            "  restaurant/JJ\n",
            "  town/NN\n",
            "  game-changer/NN\n",
            "  food/NN\n",
            "  absolutely/RB\n",
            "  delicious/JJ\n",
            "  service/NN\n",
            "  top-notch/NN\n",
            "  atmosphere/JJ\n",
            "  modern/JJ\n",
            "  sleek/NN\n",
            "  making/NN\n",
            "  perfect/JJ\n",
            "  spot/NN\n",
            "  night/NN\n",
            "  friend/NN\n",
            "  However/RB\n",
            "  price/NN\n",
            "  bit/NN\n",
            "  steep/JJ\n",
            "  portion/NN\n",
            "  could/MD\n",
            "  larger/JJR\n",
            "  Overall/NNP\n",
            "  would/MD\n",
            "  highly/RB\n",
            "  recommend/VB\n",
            "  restaurant/NN\n",
            "  anyone/NN\n",
            "  looking/VBG\n",
            "  great/JJ\n",
            "  dining/VBG\n",
            "  experience/NN\n",
            "  chef/NN\n",
            "  's/POS\n",
            "  attention/NN\n",
            "  detail/NN\n",
            "  impressive/JJ\n",
            "  menu/NN\n",
            "  offer/NN\n",
            "  wide/JJ\n",
            "  range/NN\n",
            "  option/NN\n",
            "  suit/NN\n",
            "  every/DT\n",
            "  taste/NN\n",
            "  appetizer/NN\n",
            "  dessert/NN\n",
            "  every/DT\n",
            "  dish/JJ\n",
            "  masterpiece/NN\n",
            "  staff/NN\n",
            "  friendly/RB\n",
            "  knowledgeable/JJ\n",
            "  're/VBP\n",
            "  always/RB\n",
            "  happy/JJ\n",
            "  make/VBP\n",
            "  recommendation/NN\n",
            "  restaurant/NN\n",
            "  's/POS\n",
            "  commitment/NN\n",
            "  using/VBG\n",
            "  freshest/JJS\n",
            "  ingredient/NN\n",
            "  evident/JJ\n",
            "  every/DT\n",
            "  bite/NN\n",
            "  Whether/NNP\n",
            "  're/VBP\n",
            "  foodie/JJ\n",
            "  looking/VBG\n",
            "  new/JJ\n",
            "  spot/NN\n",
            "  try/NN\n",
            "  restaurant/NN\n",
            "  must-visit/JJ\n",
            "  ambiance/NN\n",
            "  lively/RB\n",
            "  vibrant/JJ\n",
            "  great/JJ\n",
            "  selection/NN\n",
            "  music/NN\n",
            "  cozy/NN\n",
            "  outdoor/IN\n",
            "  seating/VBG\n",
            "  area/NN\n",
            "  restaurant/NN\n",
            "  's/POS\n",
            "  location/NN\n",
            "  convenient/NN\n",
            "  plenty/NN\n",
            "  parking/VBG\n",
            "  easy/JJ\n",
            "  access/NN\n",
            "  public/JJ\n",
            "  transportation/NN\n",
            "  price/NN\n",
            "  may/MD\n",
            "  bit/VB\n",
            "  higher/JJR\n",
            "  restaurant/NN\n",
            "  area/NN\n",
            "  quality/NN\n",
            "  food/NN\n",
            "  service/NN\n",
            "  make/VBP\n",
            "  well/RB\n",
            "  worth/JJ\n",
            "  extra/JJ\n",
            "  cost/NN\n",
            "  short/JJ\n",
            "  restaurant/NN\n",
            "  gem/NN\n",
            "  sure/JJ\n",
            "  impress/JJ\n",
            "  even/RB\n",
            "  discerning/VBG\n",
            "  diner/NN)\n"
          ]
        }
      ]
    },
    {
      "cell_type": "markdown",
      "source": [
        "# chunking\n",
        "\n",
        "---\n",
        "\n",
        "\n"
      ],
      "metadata": {
        "id": "DiWxPH2hN9F6"
      }
    },
    {
      "cell_type": "code",
      "source": [
        "import spacy\n",
        "nlp = spacy.load('en_core_web_sm')\n",
        "doc = nlp(text)\n",
        "for chunk in doc.noun_chunks:\n",
        "    print(chunk.text)"
      ],
      "metadata": {
        "colab": {
          "base_uri": "https://localhost:8080/"
        },
        "id": "5IGNRIFnOlz0",
        "outputId": "cf10cf25-4b7c-4ffc-ec45-5e91988c6186"
      },
      "execution_count": 145,
      "outputs": [
        {
          "output_type": "stream",
          "name": "stdout",
          "text": [
            "The new restaurant\n",
            "town\n",
            "a game-changer\n",
            "The food\n",
            "the service\n",
            "The atmosphere\n",
            "it\n",
            "a night\n",
            "friends\n",
            "the prices\n",
            "the portions\n",
            "I\n",
            "this restaurant\n",
            "anyone\n",
            "a great dining experience\n",
            "The chef's attention\n",
            "detail\n",
            "the menu\n",
            "a wide range\n",
            "options\n",
            "every taste\n",
            "the appetizers\n",
            "the desserts\n",
            "every dish\n",
            "a masterpiece\n",
            "The staff\n",
            "they\n",
            "recommendations\n",
            "The restaurant's commitment\n",
            "only the freshest ingredients\n",
            "every bite\n",
            "you\n",
            "a foodie\n",
            "a new spot\n",
            "this restaurant\n",
            "The ambiance\n",
            "a great selection\n",
            "music\n",
            "a cozy outdoor seating area\n",
            "The restaurant's location\n",
            "plenty\n",
            "parking\n",
            "easy access\n",
            "public transportation\n",
            "The prices\n",
            "some other restaurants\n",
            "the area\n",
            "the quality\n",
            "the food\n",
            "service\n",
            "it\n",
            "the extra cost\n",
            "this restaurant\n",
            "a gem\n",
            "that\n",
            "even the most discerning diners\n"
          ]
        }
      ]
    },
    {
      "cell_type": "code",
      "source": [
        "#chunking\n",
        "chunk_grammar = \"NP: {<DT>?<JJ>*<NN>}\"\n",
        "chunk_parser = nltk.RegexpParser(chunk_grammar)\n",
        "chunked_tokens = chunk_parser.parse(pos_tags)\n",
        "print(chunked_tokens)"
      ],
      "metadata": {
        "colab": {
          "base_uri": "https://localhost:8080/"
        },
        "id": "cEgwwGE4PEwC",
        "outputId": "4ce84da6-024c-48a9-8efd-2b2d0fe93bda"
      },
      "execution_count": 146,
      "outputs": [
        {
          "output_type": "stream",
          "name": "stdout",
          "text": [
            "(S\n",
            "  (NP new/JJ restaurant/JJ town/NN)\n",
            "  (NP game-changer/NN)\n",
            "  (NP food/NN)\n",
            "  absolutely/RB\n",
            "  (NP delicious/JJ service/NN)\n",
            "  (NP top-notch/NN)\n",
            "  (NP atmosphere/JJ modern/JJ sleek/NN)\n",
            "  (NP making/NN)\n",
            "  (NP perfect/JJ spot/NN)\n",
            "  (NP night/NN)\n",
            "  (NP friend/NN)\n",
            "  However/RB\n",
            "  (NP price/NN)\n",
            "  (NP bit/NN)\n",
            "  (NP steep/JJ portion/NN)\n",
            "  could/MD\n",
            "  larger/JJR\n",
            "  Overall/NNP\n",
            "  would/MD\n",
            "  highly/RB\n",
            "  recommend/VB\n",
            "  (NP restaurant/NN)\n",
            "  (NP anyone/NN)\n",
            "  looking/VBG\n",
            "  great/JJ\n",
            "  dining/VBG\n",
            "  (NP experience/NN)\n",
            "  (NP chef/NN)\n",
            "  's/POS\n",
            "  (NP attention/NN)\n",
            "  (NP detail/NN)\n",
            "  (NP impressive/JJ menu/NN)\n",
            "  (NP offer/NN)\n",
            "  (NP wide/JJ range/NN)\n",
            "  (NP option/NN)\n",
            "  (NP suit/NN)\n",
            "  (NP every/DT taste/NN)\n",
            "  (NP appetizer/NN)\n",
            "  (NP dessert/NN)\n",
            "  (NP every/DT dish/JJ masterpiece/NN)\n",
            "  (NP staff/NN)\n",
            "  friendly/RB\n",
            "  knowledgeable/JJ\n",
            "  're/VBP\n",
            "  always/RB\n",
            "  happy/JJ\n",
            "  make/VBP\n",
            "  (NP recommendation/NN)\n",
            "  (NP restaurant/NN)\n",
            "  's/POS\n",
            "  (NP commitment/NN)\n",
            "  using/VBG\n",
            "  freshest/JJS\n",
            "  (NP ingredient/NN)\n",
            "  evident/JJ\n",
            "  (NP every/DT bite/NN)\n",
            "  Whether/NNP\n",
            "  're/VBP\n",
            "  foodie/JJ\n",
            "  looking/VBG\n",
            "  (NP new/JJ spot/NN)\n",
            "  (NP try/NN)\n",
            "  (NP restaurant/NN)\n",
            "  (NP must-visit/JJ ambiance/NN)\n",
            "  lively/RB\n",
            "  (NP vibrant/JJ great/JJ selection/NN)\n",
            "  (NP music/NN)\n",
            "  (NP cozy/NN)\n",
            "  outdoor/IN\n",
            "  seating/VBG\n",
            "  (NP area/NN)\n",
            "  (NP restaurant/NN)\n",
            "  's/POS\n",
            "  (NP location/NN)\n",
            "  (NP convenient/NN)\n",
            "  (NP plenty/NN)\n",
            "  parking/VBG\n",
            "  (NP easy/JJ access/NN)\n",
            "  (NP public/JJ transportation/NN)\n",
            "  (NP price/NN)\n",
            "  may/MD\n",
            "  bit/VB\n",
            "  higher/JJR\n",
            "  (NP restaurant/NN)\n",
            "  (NP area/NN)\n",
            "  (NP quality/NN)\n",
            "  (NP food/NN)\n",
            "  (NP service/NN)\n",
            "  make/VBP\n",
            "  well/RB\n",
            "  (NP worth/JJ extra/JJ cost/NN)\n",
            "  (NP short/JJ restaurant/NN)\n",
            "  (NP gem/NN)\n",
            "  sure/JJ\n",
            "  impress/JJ\n",
            "  even/RB\n",
            "  discerning/VBG\n",
            "  (NP diner/NN))\n"
          ]
        }
      ]
    },
    {
      "cell_type": "code",
      "source": [
        "#chinking\n",
        "chink_grammar = \"NP: {<.*>+}\"\n",
        "chink_parser = nltk.RegexpParser(chink_grammar)\n",
        "chinked_tokens = chink_parser.parse(pos_tags)\n",
        "print(chinked_tokens)"
      ],
      "metadata": {
        "colab": {
          "base_uri": "https://localhost:8080/"
        },
        "id": "0hw1wgeOPP2x",
        "outputId": "810766d8-0cbb-4a2b-a801-470ddc89ae03"
      },
      "execution_count": 147,
      "outputs": [
        {
          "output_type": "stream",
          "name": "stdout",
          "text": [
            "(S\n",
            "  (NP\n",
            "    new/JJ\n",
            "    restaurant/JJ\n",
            "    town/NN\n",
            "    game-changer/NN\n",
            "    food/NN\n",
            "    absolutely/RB\n",
            "    delicious/JJ\n",
            "    service/NN\n",
            "    top-notch/NN\n",
            "    atmosphere/JJ\n",
            "    modern/JJ\n",
            "    sleek/NN\n",
            "    making/NN\n",
            "    perfect/JJ\n",
            "    spot/NN\n",
            "    night/NN\n",
            "    friend/NN\n",
            "    However/RB\n",
            "    price/NN\n",
            "    bit/NN\n",
            "    steep/JJ\n",
            "    portion/NN\n",
            "    could/MD\n",
            "    larger/JJR\n",
            "    Overall/NNP\n",
            "    would/MD\n",
            "    highly/RB\n",
            "    recommend/VB\n",
            "    restaurant/NN\n",
            "    anyone/NN\n",
            "    looking/VBG\n",
            "    great/JJ\n",
            "    dining/VBG\n",
            "    experience/NN\n",
            "    chef/NN\n",
            "    's/POS\n",
            "    attention/NN\n",
            "    detail/NN\n",
            "    impressive/JJ\n",
            "    menu/NN\n",
            "    offer/NN\n",
            "    wide/JJ\n",
            "    range/NN\n",
            "    option/NN\n",
            "    suit/NN\n",
            "    every/DT\n",
            "    taste/NN\n",
            "    appetizer/NN\n",
            "    dessert/NN\n",
            "    every/DT\n",
            "    dish/JJ\n",
            "    masterpiece/NN\n",
            "    staff/NN\n",
            "    friendly/RB\n",
            "    knowledgeable/JJ\n",
            "    're/VBP\n",
            "    always/RB\n",
            "    happy/JJ\n",
            "    make/VBP\n",
            "    recommendation/NN\n",
            "    restaurant/NN\n",
            "    's/POS\n",
            "    commitment/NN\n",
            "    using/VBG\n",
            "    freshest/JJS\n",
            "    ingredient/NN\n",
            "    evident/JJ\n",
            "    every/DT\n",
            "    bite/NN\n",
            "    Whether/NNP\n",
            "    're/VBP\n",
            "    foodie/JJ\n",
            "    looking/VBG\n",
            "    new/JJ\n",
            "    spot/NN\n",
            "    try/NN\n",
            "    restaurant/NN\n",
            "    must-visit/JJ\n",
            "    ambiance/NN\n",
            "    lively/RB\n",
            "    vibrant/JJ\n",
            "    great/JJ\n",
            "    selection/NN\n",
            "    music/NN\n",
            "    cozy/NN\n",
            "    outdoor/IN\n",
            "    seating/VBG\n",
            "    area/NN\n",
            "    restaurant/NN\n",
            "    's/POS\n",
            "    location/NN\n",
            "    convenient/NN\n",
            "    plenty/NN\n",
            "    parking/VBG\n",
            "    easy/JJ\n",
            "    access/NN\n",
            "    public/JJ\n",
            "    transportation/NN\n",
            "    price/NN\n",
            "    may/MD\n",
            "    bit/VB\n",
            "    higher/JJR\n",
            "    restaurant/NN\n",
            "    area/NN\n",
            "    quality/NN\n",
            "    food/NN\n",
            "    service/NN\n",
            "    make/VBP\n",
            "    well/RB\n",
            "    worth/JJ\n",
            "    extra/JJ\n",
            "    cost/NN\n",
            "    short/JJ\n",
            "    restaurant/NN\n",
            "    gem/NN\n",
            "    sure/JJ\n",
            "    impress/JJ\n",
            "    even/RB\n",
            "    discerning/VBG\n",
            "    diner/NN))\n"
          ]
        }
      ]
    },
    {
      "cell_type": "code",
      "source": [
        "chink_grammar = \"NP: {<.*>+}\"\n",
        "chink_parser = nltk.RegexpParser(chink_grammar)\n",
        "chinked_tokens = chink_parser.parse(pos_tags)\n",
        "print(chinked_tokens)"
      ],
      "metadata": {
        "colab": {
          "base_uri": "https://localhost:8080/"
        },
        "id": "ILhLary2PX-B",
        "outputId": "5cb87bd0-4d3f-4942-e725-bbd9c8b10016"
      },
      "execution_count": 148,
      "outputs": [
        {
          "output_type": "stream",
          "name": "stdout",
          "text": [
            "(S\n",
            "  (NP\n",
            "    new/JJ\n",
            "    restaurant/JJ\n",
            "    town/NN\n",
            "    game-changer/NN\n",
            "    food/NN\n",
            "    absolutely/RB\n",
            "    delicious/JJ\n",
            "    service/NN\n",
            "    top-notch/NN\n",
            "    atmosphere/JJ\n",
            "    modern/JJ\n",
            "    sleek/NN\n",
            "    making/NN\n",
            "    perfect/JJ\n",
            "    spot/NN\n",
            "    night/NN\n",
            "    friend/NN\n",
            "    However/RB\n",
            "    price/NN\n",
            "    bit/NN\n",
            "    steep/JJ\n",
            "    portion/NN\n",
            "    could/MD\n",
            "    larger/JJR\n",
            "    Overall/NNP\n",
            "    would/MD\n",
            "    highly/RB\n",
            "    recommend/VB\n",
            "    restaurant/NN\n",
            "    anyone/NN\n",
            "    looking/VBG\n",
            "    great/JJ\n",
            "    dining/VBG\n",
            "    experience/NN\n",
            "    chef/NN\n",
            "    's/POS\n",
            "    attention/NN\n",
            "    detail/NN\n",
            "    impressive/JJ\n",
            "    menu/NN\n",
            "    offer/NN\n",
            "    wide/JJ\n",
            "    range/NN\n",
            "    option/NN\n",
            "    suit/NN\n",
            "    every/DT\n",
            "    taste/NN\n",
            "    appetizer/NN\n",
            "    dessert/NN\n",
            "    every/DT\n",
            "    dish/JJ\n",
            "    masterpiece/NN\n",
            "    staff/NN\n",
            "    friendly/RB\n",
            "    knowledgeable/JJ\n",
            "    're/VBP\n",
            "    always/RB\n",
            "    happy/JJ\n",
            "    make/VBP\n",
            "    recommendation/NN\n",
            "    restaurant/NN\n",
            "    's/POS\n",
            "    commitment/NN\n",
            "    using/VBG\n",
            "    freshest/JJS\n",
            "    ingredient/NN\n",
            "    evident/JJ\n",
            "    every/DT\n",
            "    bite/NN\n",
            "    Whether/NNP\n",
            "    're/VBP\n",
            "    foodie/JJ\n",
            "    looking/VBG\n",
            "    new/JJ\n",
            "    spot/NN\n",
            "    try/NN\n",
            "    restaurant/NN\n",
            "    must-visit/JJ\n",
            "    ambiance/NN\n",
            "    lively/RB\n",
            "    vibrant/JJ\n",
            "    great/JJ\n",
            "    selection/NN\n",
            "    music/NN\n",
            "    cozy/NN\n",
            "    outdoor/IN\n",
            "    seating/VBG\n",
            "    area/NN\n",
            "    restaurant/NN\n",
            "    's/POS\n",
            "    location/NN\n",
            "    convenient/NN\n",
            "    plenty/NN\n",
            "    parking/VBG\n",
            "    easy/JJ\n",
            "    access/NN\n",
            "    public/JJ\n",
            "    transportation/NN\n",
            "    price/NN\n",
            "    may/MD\n",
            "    bit/VB\n",
            "    higher/JJR\n",
            "    restaurant/NN\n",
            "    area/NN\n",
            "    quality/NN\n",
            "    food/NN\n",
            "    service/NN\n",
            "    make/VBP\n",
            "    well/RB\n",
            "    worth/JJ\n",
            "    extra/JJ\n",
            "    cost/NN\n",
            "    short/JJ\n",
            "    restaurant/NN\n",
            "    gem/NN\n",
            "    sure/JJ\n",
            "    impress/JJ\n",
            "    even/RB\n",
            "    discerning/VBG\n",
            "    diner/NN))\n"
          ]
        }
      ]
    },
    {
      "cell_type": "code",
      "source": [
        "# Chinking\n",
        "chink_grammar = \"NP: {<DT>?<JJ>*<NN>}\"\n",
        "chink_parser = nltk.RegexpParser(chink_grammar)\n",
        "chinked = chink_parser.parse(pos_tags)\n",
        "print(\"\\nChinked:\")\n",
        "print(chinked)"
      ],
      "metadata": {
        "colab": {
          "base_uri": "https://localhost:8080/"
        },
        "id": "jlpDXPBkP3Hq",
        "outputId": "afd9acd3-ddac-42fb-ac89-490e4787d298"
      },
      "execution_count": 149,
      "outputs": [
        {
          "output_type": "stream",
          "name": "stdout",
          "text": [
            "\n",
            "Chinked:\n",
            "(S\n",
            "  (NP new/JJ restaurant/JJ town/NN)\n",
            "  (NP game-changer/NN)\n",
            "  (NP food/NN)\n",
            "  absolutely/RB\n",
            "  (NP delicious/JJ service/NN)\n",
            "  (NP top-notch/NN)\n",
            "  (NP atmosphere/JJ modern/JJ sleek/NN)\n",
            "  (NP making/NN)\n",
            "  (NP perfect/JJ spot/NN)\n",
            "  (NP night/NN)\n",
            "  (NP friend/NN)\n",
            "  However/RB\n",
            "  (NP price/NN)\n",
            "  (NP bit/NN)\n",
            "  (NP steep/JJ portion/NN)\n",
            "  could/MD\n",
            "  larger/JJR\n",
            "  Overall/NNP\n",
            "  would/MD\n",
            "  highly/RB\n",
            "  recommend/VB\n",
            "  (NP restaurant/NN)\n",
            "  (NP anyone/NN)\n",
            "  looking/VBG\n",
            "  great/JJ\n",
            "  dining/VBG\n",
            "  (NP experience/NN)\n",
            "  (NP chef/NN)\n",
            "  's/POS\n",
            "  (NP attention/NN)\n",
            "  (NP detail/NN)\n",
            "  (NP impressive/JJ menu/NN)\n",
            "  (NP offer/NN)\n",
            "  (NP wide/JJ range/NN)\n",
            "  (NP option/NN)\n",
            "  (NP suit/NN)\n",
            "  (NP every/DT taste/NN)\n",
            "  (NP appetizer/NN)\n",
            "  (NP dessert/NN)\n",
            "  (NP every/DT dish/JJ masterpiece/NN)\n",
            "  (NP staff/NN)\n",
            "  friendly/RB\n",
            "  knowledgeable/JJ\n",
            "  're/VBP\n",
            "  always/RB\n",
            "  happy/JJ\n",
            "  make/VBP\n",
            "  (NP recommendation/NN)\n",
            "  (NP restaurant/NN)\n",
            "  's/POS\n",
            "  (NP commitment/NN)\n",
            "  using/VBG\n",
            "  freshest/JJS\n",
            "  (NP ingredient/NN)\n",
            "  evident/JJ\n",
            "  (NP every/DT bite/NN)\n",
            "  Whether/NNP\n",
            "  're/VBP\n",
            "  foodie/JJ\n",
            "  looking/VBG\n",
            "  (NP new/JJ spot/NN)\n",
            "  (NP try/NN)\n",
            "  (NP restaurant/NN)\n",
            "  (NP must-visit/JJ ambiance/NN)\n",
            "  lively/RB\n",
            "  (NP vibrant/JJ great/JJ selection/NN)\n",
            "  (NP music/NN)\n",
            "  (NP cozy/NN)\n",
            "  outdoor/IN\n",
            "  seating/VBG\n",
            "  (NP area/NN)\n",
            "  (NP restaurant/NN)\n",
            "  's/POS\n",
            "  (NP location/NN)\n",
            "  (NP convenient/NN)\n",
            "  (NP plenty/NN)\n",
            "  parking/VBG\n",
            "  (NP easy/JJ access/NN)\n",
            "  (NP public/JJ transportation/NN)\n",
            "  (NP price/NN)\n",
            "  may/MD\n",
            "  bit/VB\n",
            "  higher/JJR\n",
            "  (NP restaurant/NN)\n",
            "  (NP area/NN)\n",
            "  (NP quality/NN)\n",
            "  (NP food/NN)\n",
            "  (NP service/NN)\n",
            "  make/VBP\n",
            "  well/RB\n",
            "  (NP worth/JJ extra/JJ cost/NN)\n",
            "  (NP short/JJ restaurant/NN)\n",
            "  (NP gem/NN)\n",
            "  sure/JJ\n",
            "  impress/JJ\n",
            "  even/RB\n",
            "  discerning/VBG\n",
            "  (NP diner/NN))\n"
          ]
        }
      ]
    },
    {
      "cell_type": "markdown",
      "source": [
        "# SENTIMENT ANALYSIS\n",
        "\n",
        "---\n",
        "\n"
      ],
      "metadata": {
        "id": "6xMpKcWOQEvh"
      }
    },
    {
      "cell_type": "code",
      "source": [
        "from nltk.sentiment import SentimentIntensityAnalyzer\n",
        "import nltk\n",
        "nltk.download('vader_lexicon')"
      ],
      "metadata": {
        "colab": {
          "base_uri": "https://localhost:8080/"
        },
        "id": "CfVmhDWGQVOK",
        "outputId": "59eb770c-d149-48ae-b35d-49f3f1c53279"
      },
      "execution_count": 150,
      "outputs": [
        {
          "output_type": "stream",
          "name": "stderr",
          "text": [
            "[nltk_data] Downloading package vader_lexicon to /root/nltk_data...\n",
            "[nltk_data]   Package vader_lexicon is already up-to-date!\n"
          ]
        },
        {
          "output_type": "execute_result",
          "data": {
            "text/plain": [
              "True"
            ]
          },
          "metadata": {},
          "execution_count": 150
        }
      ]
    },
    {
      "cell_type": "code",
      "source": [
        "# Sentiment Analysis\n",
        "sia = SentimentIntensityAnalyzer()\n",
        "sentiment_scores = sia.polarity_scores(text)\n",
        "print(\"\\nSentiment Scores:\")\n",
        "print(sentiment_scores)\n",
        "\n",
        "# Determine overall sentiment\n",
        "if sentiment_scores['compound'] >= 0.05:\n",
        "    print(\"\\nOverall Sentiment: Positive\")\n",
        "elif sentiment_scores['compound'] <= -0.05:\n",
        "    print(\"\\nOverall Sentiment: Negative\")\n",
        "else:\n",
        "    print(\"\\nOverall Sentiment: Neutral\")"
      ],
      "metadata": {
        "colab": {
          "base_uri": "https://localhost:8080/"
        },
        "id": "GhdRj8jeQHJ5",
        "outputId": "44b764b6-382c-4e79-e220-26a3f9abe1f3"
      },
      "execution_count": 151,
      "outputs": [
        {
          "output_type": "stream",
          "name": "stdout",
          "text": [
            "\n",
            "Sentiment Scores:\n",
            "{'neg': 0.0, 'neu': 0.811, 'pos': 0.189, 'compound': 0.9882}\n",
            "\n",
            "Overall Sentiment: Positive\n"
          ]
        }
      ]
    }
  ]
}