{
  "cells": [
    {
      "cell_type": "markdown",
      "metadata": {
        "id": "5fCEDCU_qrC0"
      },
      "source": [
        "<div class=\"markdown-google-sans\">\n",
        "  <h1>About NLTK</h1>\n",
        "</div>\n",
        "\n",
        "\n",
        "NLTK is a free, open-source library for advanced Natural Language Processing (NLP) in Python. It can help simplify textual data and gain in-depth information from input messages. Because of its powerful features, NLTK has been called “a wonderful tool for teaching and working in, computational linguistics using Python,” and “an amazing library to play with natural language.”\n",
        "\n",
        "\n",
        "\n",
        "It is often the case that your input data is unstructured. Therefore, you will first need to preprocess it before doing any analysis. In this tutorial, we will be going over basic text preprocessing techniques that NLTK supports. Then, we will also be introducing some of the advanced features of NLKT:\n",
        "\n",
        "\n",
        "\n",
        "- **Sentence detection and Tokenization**: NLTK can break the input text into linguistically meaningful or basic units for future analyses.\n",
        "\n",
        "- **Stop word removal**: NLTK can remove the common words in English so that they would not distort tasks such as word frequency analysis.\n",
        "\n",
        "- **Part-of-speech tagging**: NLTK analyzes the grammatical role each word plays in a sentence.\n",
        "\n",
        "- **Word frequencies**: NLTK can give insights into word patterns in the text.\n",
        "\n",
        "- **Lemmatization**: NLTK can reduce inflected forms of a word into root words called a lemma.\n",
        "\n",
        "- **Chunking and Chinking**: NLTK allows you to identify or exclude phrases with specific patterns in a textual input.\n",
        "\n",
        "\n",
        "\n"
      ]
    },
    {
      "cell_type": "markdown",
      "metadata": {
        "id": "GJBs_flRovLc"
      },
      "source": [
        "<div class=\"markdown-google-sans\">\n",
        "\n",
        "# **Using NLTK**\n",
        "</div>\n",
        "\n"
      ]
    },
    {
      "cell_type": "markdown",
      "source": [
        "### **Installation**\n"
      ],
      "metadata": {
        "id": "Ans8WJUUj8qI"
      }
    },
    {
      "cell_type": "markdown",
      "source": [
        "NLTK requires Python versions 3.7, 3.8, 3.9 or 3.10.\n",
        "\n",
        "NLTK can be installed using the python package index and setup tools. Please Use the following command to install spacy using pip install on your machine:\n"
      ],
      "metadata": {
        "id": "JEq-dwpxj_aP"
      }
    },
    {
      "cell_type": "code",
      "source": [
        "# [Mac Terminal]\n",
        "# pip3 install nltk\n",
        "\n",
        "# [Jupyter Notebook]\n",
        "import sys\n",
        "!{sys.executable} -m pip install nltk\n",
        "\n",
        "# [Conda install]\n",
        "# conda install -c anaconda nltk"
      ],
      "metadata": {
        "id": "s8aj7OGAkCcx"
      },
      "execution_count": null,
      "outputs": []
    },
    {
      "cell_type": "markdown",
      "source": [
        "(Optional) NumPy, Matplotlib, and svgling are also needed in order to create visualizations for named entity recognition, you can install those two packages by executing the following code in your local machine:"
      ],
      "metadata": {
        "id": "lBTEAWsn2ORn"
      }
    },
    {
      "cell_type": "code",
      "source": [
        "# [Mac Terminal]\n",
        "\n",
        "# pip3 install numpy\n",
        "# pip3 install matplotlib\n",
        "# pip3 install svgling\n",
        "\n",
        "# [Jupyter Notebook]\n",
        "\n",
        "import sys\n",
        "!{sys.executable} -m pip install numpy matplotlib\n",
        "!{sys.executable} -m pip install svgling\n",
        "\n",
        "# [Conda install]\n",
        "\n",
        "# conda install -c anaconda numpy\n",
        "# conda install -c anaconda matplotlib\n",
        "# conda install -c anaconda svgling"
      ],
      "metadata": {
        "id": "A91CY8HC2Tsv"
      },
      "execution_count": null,
      "outputs": []
    },
    {
      "cell_type": "markdown",
      "source": [
        "### **Read Strings**\n",
        "\n",
        "If you would like to analyze a given text, you can use simply store this message by creating a string object. Unlike spaCy, you do not need to create a processed object for accessing linguistic annotations in NLTK."
      ],
      "metadata": {
        "id": "taT51lE9copz"
      }
    },
    {
      "cell_type": "code",
      "execution_count": null,
      "metadata": {
        "id": "-gE-Ez1qtyIA"
      },
      "outputs": [],
      "source": [
        "text = ('For a given input string, you can use spaCy to create a processed object for accessing linguistic annotations.')"
      ]
    },
    {
      "cell_type": "markdown",
      "source": [
        "The input text string is something that NLTK functions can understand. You are now ready to use this string for future analysis."
      ],
      "metadata": {
        "id": "HMKk9ePLcsOD"
      }
    },
    {
      "cell_type": "markdown",
      "source": [
        "### **Read Text File**\n",
        "\n",
        "You can also access information stored in a .txt file. Notice that the .txt file needs to be in the current working directory, or you will have to specify its full path. A quick reminder that you can get the current working directory with os.getcwd() and change it with os.chdir() after importing os. Notice that you  do not have to convert the file into a processed object for future analysis.\n"
      ],
      "metadata": {
        "id": "iFPkM3QLc9qf"
      }
    },
    {
      "cell_type": "code",
      "source": [
        "import os\n",
        "\n",
        "from google.colab import drive\n",
        "\n",
        "drive.mount('/content/drive') # Change the working directory on your own machine as needed with os.chdir('Path to directory')\n",
        "# Tutorials are also available\n",
        "\n",
        "file = 'text.txt'\n",
        "file_text = open(file).read()"
      ],
      "metadata": {
        "id": "nh9VDOhCdFaV",
        "colab": {
          "base_uri": "https://localhost:8080/"
        },
        "outputId": "1a573a23-d12b-4a40-8538-ec47c96639c3"
      },
      "execution_count": null,
      "outputs": [
        {
          "output_type": "stream",
          "name": "stdout",
          "text": [
            "Drive already mounted at /content/drive; to attempt to forcibly remount, call drive.mount(\"/content/drive\", force_remount=True).\n"
          ]
        }
      ]
    },
    {
      "cell_type": "markdown",
      "source": [
        "<div class=\"markdown-google-sans\">\n",
        "\n",
        "# **Features**\n",
        "</div>"
      ],
      "metadata": {
        "id": "zjlHdA7LgUcg"
      }
    },
    {
      "cell_type": "markdown",
      "source": [
        "### **Sentence Detection (Sentence Boundary Detection)**\n",
        "\n",
        "Sentence Boundary Detection locates the start and end of sentences in a given text. You can divide a text into linguistically meaningful units to perform tasks such as part of speech tagging and entity extraction.\n",
        "In NLTK, you can use the sent_tokenize() to split up the given input text into sentences.\n",
        "\n",
        "\n"
      ],
      "metadata": {
        "id": "WmQzEdtxgPc8"
      }
    },
    {
      "cell_type": "code",
      "source": [
        "import nltk\n",
        "from nltk.tokenize import sent_tokenize, word_tokenize\n",
        "# nltk.download('punkt') # Use nltk downloader to download resource \"punkt\"\n",
        "\n",
        "output = (\"Apple's name was inspired by Steve Jobs' visit. His visit was to an apple farm while on a fruitarian diet.\")\n",
        "# Create a string object. By default, the function breaks sentences by periods.\n",
        "# Customize text or read files as needed\n",
        "\n",
        "# Tokenize output (sentence-level)\n",
        "sentences = sent_tokenize(output)\n",
        "\n",
        "for sentence in sentences:\n",
        "    # Print each sentence in the output with one sentence a line\n",
        "     print(sentence)"
      ],
      "metadata": {
        "colab": {
          "base_uri": "https://localhost:8080/"
        },
        "id": "FHCMD5rMgdz1",
        "outputId": "7272ee0a-3424-4ab7-e76c-367683ddd185"
      },
      "execution_count": null,
      "outputs": [
        {
          "output_type": "stream",
          "name": "stdout",
          "text": [
            "Apple's name was inspired by Steve Jobs' visit.\n",
            "His visit was to an apple farm while on a fruitarian diet.\n"
          ]
        }
      ]
    },
    {
      "cell_type": "markdown",
      "source": [
        "### **Tokenization**\n",
        "\n",
        "Tokenization refers to a process of segmenting input text into words, punctuation, etc. It allows you to identify the basic units in your text that are called tokens. You can use the following code to achieve this purpose:\n"
      ],
      "metadata": {
        "id": "dE5Nakp7gy0i"
      }
    },
    {
      "cell_type": "code",
      "source": [
        "import nltk\n",
        "from nltk.tokenize import sent_tokenize, word_tokenize\n",
        "# nltk.download('punkt') # Use nltk downloader to download resource \"punkt\"\n",
        "\n",
        "output = (\"Apple's name was inspired by Steve Jobs' visit. His visit was to an apple farm while on a fruitarian diet.\")\n",
        "# Create a string object. By default, the function breaks sentences by periods.\n",
        "# Customize text or read files as needed\n",
        "\n",
        "# Tokenize output (word-level)\n",
        "sentences = word_tokenize(output)\n",
        "\n",
        "for sentence in sentences:\n",
        "    # Print each sentence in the output with one sentence a line\n",
        "     print(sentence)\n"
      ],
      "metadata": {
        "colab": {
          "base_uri": "https://localhost:8080/"
        },
        "id": "k1PnAw9fhG3Y",
        "outputId": "6f6e9696-fd6b-4e52-bf82-4d938199646f"
      },
      "execution_count": null,
      "outputs": [
        {
          "output_type": "stream",
          "name": "stdout",
          "text": [
            "Apple\n",
            "'s\n",
            "name\n",
            "was\n",
            "inspired\n",
            "by\n",
            "Steve\n",
            "Jobs\n",
            "'\n",
            "visit\n",
            ".\n",
            "His\n",
            "visit\n",
            "was\n",
            "to\n",
            "an\n",
            "apple\n",
            "farm\n",
            "while\n",
            "on\n",
            "a\n",
            "fruitarian\n",
            "diet\n",
            ".\n"
          ]
        }
      ]
    },
    {
      "cell_type": "markdown",
      "source": [
        "### **Stop Words Removal**\n",
        "\n",
        "Stop words are the most common words in a language. Examples of stop words are the, who, too, and is. We usually remove the stop words because they are not significant in many text mining tasks such as word frequency analysis. You can identify and remove stop words by using NLTK's list of stop words after tokenizing the text."
      ],
      "metadata": {
        "id": "O0jp7_RAhaLq"
      }
    },
    {
      "cell_type": "code",
      "source": [
        "nltk.download(\"stopwords\")\n",
        "from nltk.corpus import stopwords\n",
        "from nltk.tokenize import word_tokenize\n",
        "# nltk.download('punkt') # Use nltk downloader to download resource \"punkt\"\n",
        "\n",
        "output = (\"Apple's name was inspired by Steve Jobs' visit. His visit was to an apple farm while on a fruitarian diet.\")\n",
        "# Create a string object. By default, the function breaks sentences by periods.\n",
        "# Customize text or read files as needed\n",
        "\n",
        "# Get a list of stop words in English\n",
        "stop_words = set(stopwords.words(\"english\"))\n",
        "\n",
        "# Print non-stop words\n",
        "sentences = word_tokenize(output)\n",
        "for token in sentences:\n",
        "    if token not in stop_words:\n",
        "        print(token)"
      ],
      "metadata": {
        "colab": {
          "base_uri": "https://localhost:8080/"
        },
        "id": "lsdE2y76hgJG",
        "outputId": "667c87bf-e994-4b85-ab87-72ab0bf27bfd"
      },
      "execution_count": null,
      "outputs": [
        {
          "output_type": "stream",
          "name": "stdout",
          "text": [
            "Apple\n",
            "'s\n",
            "name\n",
            "inspired\n",
            "Steve\n",
            "Jobs\n",
            "'\n",
            "visit\n",
            ".\n",
            "His\n",
            "visit\n",
            "apple\n",
            "farm\n",
            "fruitarian\n",
            "diet\n",
            ".\n"
          ]
        },
        {
          "output_type": "stream",
          "name": "stderr",
          "text": [
            "[nltk_data] Downloading package stopwords to /root/nltk_data...\n",
            "[nltk_data]   Unzipping corpora/stopwords.zip.\n"
          ]
        }
      ]
    },
    {
      "cell_type": "markdown",
      "source": [
        "### **Stemming**\n",
        "\n",
        "Stemming refers to a text processing task that reduces words to their root. For example, the words \"adventure\", \"adventurer\", and \"adventurous\" share the root adventur.” Stemming allows us to reduce the complexity of the textual data so that we do not have to worry about the details of how each word was used."
      ],
      "metadata": {
        "id": "oyeQt4pGhknn"
      }
    },
    {
      "cell_type": "code",
      "source": [
        "from nltk.stem import PorterStemmer\n",
        "from nltk.tokenize import word_tokenize\n",
        "# nltk.download('punkt') # Use nltk downloader to download resource \"punkt\"\n",
        "\n",
        "output = (\"Please share with us the adventurous adventures of adventurer Tom\")\n",
        "# Create a string object. By default, the function breaks sentences by periods.\n",
        "# Customize text or read files as needed\n",
        "\n",
        "# Create a stemmer object using PorterStemmer()\n",
        "stemmer = PorterStemmer()\n",
        "\n",
        "# Tokenize the text\n",
        "words = word_tokenize(output)\n",
        "\n",
        "# Print stemmed words\n",
        "for word in words:\n",
        "  print(stemmer.stem(word))\n"
      ],
      "metadata": {
        "colab": {
          "base_uri": "https://localhost:8080/"
        },
        "id": "DkmFuyoAhryM",
        "outputId": "b32571c5-7073-4770-e5f0-21c241c42b91"
      },
      "execution_count": null,
      "outputs": [
        {
          "output_type": "stream",
          "name": "stdout",
          "text": [
            "pleas\n",
            "share\n",
            "with\n",
            "us\n",
            "the\n",
            "adventur\n",
            "adventur\n",
            "of\n",
            "adventur\n",
            "tom\n"
          ]
        }
      ]
    },
    {
      "cell_type": "markdown",
      "source": [
        "Take a look at this [example](https://realpython.com/nltk-nlp-python/#stemming) as introduced by [Real Python](https://realpython.com/nltk-nlp-python/#stemming):\n",
        "\n"
      ],
      "metadata": {
        "id": "s1_P3abRMze7"
      }
    },
    {
      "cell_type": "code",
      "source": [
        "from nltk.stem import PorterStemmer\n",
        "from nltk.tokenize import word_tokenize\n",
        "# nltk.download('punkt') # Use nltk downloader to download resource \"punkt\"\n",
        "\n",
        "output = (\"The crew of the USS Discovery discovered many discoveries. Discovering is what explorers do\")\n",
        "# Create a string object. By default, the function breaks sentences by periods.\n",
        "# Customize text or read files as needed\n",
        "\n",
        "# Create a stemmer object using PorterStemmer()\n",
        "stemmer = PorterStemmer()\n",
        "\n",
        "# Tokenize the text\n",
        "words = word_tokenize(output)\n",
        "\n",
        "# Print stemmed words\n",
        "for word in words:\n",
        "  print(stemmer.stem(word))"
      ],
      "metadata": {
        "colab": {
          "base_uri": "https://localhost:8080/"
        },
        "id": "OIWNGYoFNC5Y",
        "outputId": "3ab801bf-7b22-4e3f-ba76-9975ddc8567a"
      },
      "execution_count": null,
      "outputs": [
        {
          "output_type": "stream",
          "name": "stdout",
          "text": [
            "the\n",
            "crew\n",
            "of\n",
            "the\n",
            "uss\n",
            "discoveri\n",
            "discov\n",
            "mani\n",
            "discoveri\n",
            ".\n",
            "discov\n",
            "is\n",
            "what\n",
            "explor\n",
            "do\n"
          ]
        }
      ]
    },
    {
      "cell_type": "markdown",
      "source": [
        "Note that the 'discovery' was stemmed to 'discoveri' when 'discovering' was stemmed to 'discov.' Why would it happen? Well, there are two major flaws of stemming: understemming and overstemming:\n",
        "\n",
        "- Understemming: understemming happens when two related words that should be reduced to the same root are not stemmed to the same root.\n",
        "\n",
        "- Overstemming: overstemming happens when two unrelated words were reduced to the same stem when they should not be.\n",
        "\n",
        "We need to be more careful when analyzing the stem words."
      ],
      "metadata": {
        "id": "anNbVNh_NCMw"
      }
    },
    {
      "cell_type": "markdown",
      "source": [
        "### **Word Frequency**\n",
        "\n",
        "Word frequency is an analysis that gives you insights into word patterns, such as common words or unique words in the text. With NLTK's frequency distribution feature, you can check which words show up most frequently in your text.\n",
        "\n",
        "\n"
      ],
      "metadata": {
        "id": "x2cqTCb0hvsa"
      }
    },
    {
      "cell_type": "code",
      "source": [
        "from nltk import FreqDist\n",
        "\n",
        "output = (\"The crew of the USS Discovery discovered many discoveries. Discovering is what explorers do\")\n",
        "# Create a string object. By default, the function breaks sentences by periods.\n",
        "# Customize text or read files as needed\n",
        "\n",
        "# Tokenize the text\n",
        "words = word_tokenize(output)\n",
        "\n",
        "# Find the frequency distribution in the given text\n",
        "frequency_distribution = FreqDist(words)\n",
        "print(frequency_distribution)\n",
        "\n",
        "# Print the most common 10 words\n",
        "print(frequency_distribution.most_common(10))\n",
        "\n",
        "# Visualize word frequencies\n",
        "frequency_distribution.plot(10, cumulative=True)"
      ],
      "metadata": {
        "colab": {
          "base_uri": "https://localhost:8080/",
          "height": 378
        },
        "id": "3v_Y-Hnch3je",
        "outputId": "e90b09eb-6a05-47b5-c662-a7ed2710aef7"
      },
      "execution_count": null,
      "outputs": [
        {
          "output_type": "stream",
          "name": "stdout",
          "text": [
            "<FreqDist with 15 samples and 15 outcomes>\n",
            "[('The', 1), ('crew', 1), ('of', 1), ('the', 1), ('USS', 1), ('Discovery', 1), ('discovered', 1), ('many', 1), ('discoveries', 1), ('.', 1)]\n"
          ]
        },
        {
          "output_type": "display_data",
          "data": {
            "text/plain": [
              "<Figure size 432x288 with 1 Axes>"
            ],
            "image/png": "[encoded data removed]"
          },
          "metadata": {
            "needs_background": "light"
          }
        },
        {
          "output_type": "execute_result",
          "data": {
            "text/plain": [
              "<matplotlib.axes._subplots.AxesSubplot at 0x7f6e8c7746d0>"
            ]
          },
          "metadata": {},
          "execution_count": 88
        }
      ]
    },
    {
      "cell_type": "markdown",
      "source": [
        "### **Part-Of-Speech (POS) Tagging**\n",
        "\n",
        "Part of speech (POS) analyzes the grammatical role each word plays in a sentence. In other words, it determines to which category each word (Noun, Pronoun, Adjective, Verb, Adverb, Preposition, Conjunction, and interjection) belongs. POS tags are useful when you want to assign a syntactic category to each word of the text for future analysis.\n"
      ],
      "metadata": {
        "id": "uYBh0E-Uh74U"
      }
    },
    {
      "cell_type": "code",
      "source": [
        "import nltk\n",
        "from nltk.stem import PorterStemmer\n",
        "from nltk.tokenize import word_tokenize\n",
        "# nltk.download('averaged_perceptron_tagger') # Use nltk downloader to download resource \"averaged_perceptron_tagger\"\n",
        "\n",
        "output = (\"Please share with us the adventurous adventures of adventurer Tom\")\n",
        "# Create a string object. By default, the function breaks sentences by periods.\n",
        "# Customize text or read files as needed\n",
        "\n",
        "# Tokenize the text\n",
        "words = word_tokenize(output)\n",
        "\n",
        "# Print word and tag pairs\n",
        "nltk.pos_tag(words)"
      ],
      "metadata": {
        "colab": {
          "base_uri": "https://localhost:8080/"
        },
        "id": "1aN5_arGh_Ul",
        "outputId": "7bdad7d5-bcee-4551-f2ea-660f2366fd65"
      },
      "execution_count": null,
      "outputs": [
        {
          "output_type": "execute_result",
          "data": {
            "text/plain": [
              "[('Please', 'NNP'),\n",
              " ('share', 'NN'),\n",
              " ('with', 'IN'),\n",
              " ('us', 'PRP'),\n",
              " ('the', 'DT'),\n",
              " ('adventurous', 'JJ'),\n",
              " ('adventures', 'NNS'),\n",
              " ('of', 'IN'),\n",
              " ('adventurer', 'NN'),\n",
              " ('Tom', 'NNP')]"
            ]
          },
          "metadata": {},
          "execution_count": 25
        }
      ]
    },
    {
      "cell_type": "markdown",
      "source": [
        "where JJ is the tag for adjectives, NN is the tag for nouns, RB is the tag for adverbs, PRP is the tag for pronouns, and VB is the tag for verbs."
      ],
      "metadata": {
        "id": "KRqGF04EOmfA"
      }
    },
    {
      "cell_type": "markdown",
      "source": [
        "### **Lemmatization**\n",
        "\n",
        "Lemmatization is the process of reducing inflected forms of a word while ensuring that the reduced form belongs to a language. This reduced form or root word is called a lemma. For example, “visits”, “visiting”, and “visited” are all forms of “visit” (lemma). Here, \"visit\" is the lemma. The inflection of a word also reduces numbers (car vs cars).\n",
        "\n",
        "Lemmatization is an important step because it helps you reduce the inflected forms of a word so that they can be analyzed in the text more efficiently.\n",
        "\n",
        "To perform lemmatization, use the NLTK function WordNetLemmatizer() on the tokenized object:\n"
      ],
      "metadata": {
        "id": "3CCrlfhai73o"
      }
    },
    {
      "cell_type": "code",
      "source": [
        "import nltk\n",
        "from nltk.stem import WordNetLemmatizer\n",
        "# nltk.download('wordnet') # Use nltk downloader to download resource \"wordnet\"\n",
        "# nltk.download('omw-1.4') # Use nltk downloader to download resource \"omw-1.4\"\n",
        "\n",
        "output = (\"Apple's name was inspired by Steve Jobs' visits. His visits was to an apple farm while on a fruitarian diet.\")\n",
        "# Create a string object. By default, the function breaks sentences by periods.\n",
        "# Customize text or read files as needed\n",
        "\n",
        "# Create lemmatizer\n",
        "lemmatizer = WordNetLemmatizer()\n",
        "\n",
        "# Tokenize the text\n",
        "words = word_tokenize(output)\n",
        "\n",
        "# Print lemmatized words\n",
        "for word in words:\n",
        "  print(lemmatizer.lemmatize(word))\n"
      ],
      "metadata": {
        "colab": {
          "base_uri": "https://localhost:8080/"
        },
        "id": "He8z6wtSjC8f",
        "outputId": "860784e8-70f8-4585-8f2e-39ef90b37f74"
      },
      "execution_count": null,
      "outputs": [
        {
          "output_type": "stream",
          "name": "stdout",
          "text": [
            "Apple\n",
            "'s\n",
            "name\n",
            "wa\n",
            "inspired\n",
            "by\n",
            "Steve\n",
            "Jobs\n",
            "'\n",
            "visit\n",
            ".\n",
            "His\n",
            "visit\n",
            "wa\n",
            "to\n",
            "an\n",
            "apple\n",
            "farm\n",
            "while\n",
            "on\n",
            "a\n",
            "fruitarian\n",
            "diet\n",
            ".\n"
          ]
        }
      ]
    },
    {
      "cell_type": "markdown",
      "source": [
        "### **Chunking**"
      ],
      "metadata": {
        "id": "0pwbJQ6uREi8"
      }
    },
    {
      "cell_type": "markdown",
      "source": [
        "Unlike tokenization, which allows you to identify every single word and sentence, chunking allows you to identify phrases in a textual input.\n",
        "\n",
        "Chunking allows you to extract a word or group of words that work as a unit to perform a grammatical function.\n",
        "\n",
        "The following examples are all examples of phrases:\n",
        "\n",
        "“A diet\"\n",
        "\n",
        "“A fruitarian diet\"\n",
        "\n",
        "“A meaningful fruitarian diet”"
      ],
      "metadata": {
        "id": "h0fdKYXiRGXt"
      }
    },
    {
      "cell_type": "code",
      "source": [
        "import nltk\n",
        "from nltk.tokenize import word_tokenize\n",
        "from nltk.tree import Tree\n",
        "from IPython.display import display\n",
        "import svgling\n",
        "\n",
        "\n",
        "# nltk.download(\"averaged_perceptron_tagger\")  # Use nltk downloader to download resource \"averaged_perceptron_tagger\"\n",
        "\n",
        "output = (\"Apple's name was inspired by Steve Jobs' visits. His visits was to an apple farm while on a fruitarian diet.\")\n",
        "# Create a string object. By default, the function breaks sentences by periods.\n",
        "# Customize text or read files as needed\n",
        "\n",
        "# Tokenize the text\n",
        "words = word_tokenize(output)\n",
        "\n",
        "# POS tag the text\n",
        "tag = nltk.pos_tag(words)\n"
      ],
      "metadata": {
        "id": "r4vrXVcGR2yg"
      },
      "execution_count": null,
      "outputs": []
    },
    {
      "cell_type": "markdown",
      "source": [
        "To perform chunking, you will have to first define a chunk grammar that tells Python which format of grammatical unit you would like to extract."
      ],
      "metadata": {
        "id": "nWQ0GfiPTVuK"
      }
    },
    {
      "cell_type": "code",
      "source": [
        "# Define grammar\n",
        "grammar = \"NP: {<DT>?<JJ>*<NN>}\""
      ],
      "metadata": {
        "id": "vUeBDIC3SQ6i"
      },
      "execution_count": null,
      "outputs": []
    },
    {
      "cell_type": "markdown",
      "source": [
        "The rule we defined means that, the pattern we are extracting is a noun phrase:\n",
        "\n",
        "- starts with an optional (?) determiner (\\<DT>)\n",
        "- can have any number (*) of adjectives (\\<JJ>)\n",
        "- ends with a noun (\\<NN>)\n",
        "\n",
        "Likewise, the rule \"NP: {\\<DT>*\\<JJ>*\\<NN>}\" means that the phrase is a noun phrase where:\n",
        "\n",
        "- starts with any number of (*) determiner (\\<DT>)\n",
        "- can have any number (*) of adjectives (\\<JJ>)\n",
        "- ends with a noun (\\<NN>)\n",
        "\n",
        "Please refer to this [diagram](https://www.nltk.org/book/ch07.html#noun-phrase-chunking) for more information:\n"
      ],
      "metadata": {
        "id": "GO1lzfhqTbJB"
      }
    },
    {
      "cell_type": "markdown",
      "source": [
        "![ch07-tree-1.png](data:image/png;base64,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)"
      ],
      "metadata": {
        "id": "45Tvs-rVSQpM"
      }
    },
    {
      "cell_type": "code",
      "source": [
        "# Create chunk parser object\n",
        "chunk_parser = nltk.RegexpParser(grammar)\n",
        "\n",
        "# Create a tree diagram for the chunking\n",
        "tree = chunk_parser.parse(tag)\n",
        "display(tree)"
      ],
      "metadata": {
        "colab": {
          "base_uri": "https://localhost:8080/",
          "height": 189
        },
        "id": "uhMUgyCETTh0",
        "outputId": "49a6a2bf-80f6-4e48-8049-9b5156dbf973"
      },
      "execution_count": null,
      "outputs": [
        {
          "output_type": "display_data",
          "data": {
            "text/plain": [
              "Tree('S', [('Apple', 'NNP'), (\"'s\", 'POS'), Tree('NP', [('name', 'NN')]), ('was', 'VBD'), ('inspired', 'VBN'), ('by', 'IN'), ('Steve', 'NNP'), ('Jobs', 'NNP'), (\"'\", 'POS'), ('visits', 'NNS'), ('.', '.'), ('His', 'PRP$'), ('visits', 'NNS'), ('was', 'VBD'), ('to', 'TO'), Tree('NP', [('an', 'DT'), ('apple', 'NN')]), Tree('NP', [('farm', 'NN')]), ('while', 'IN'), ('on', 'IN'), Tree('NP', [('a', 'DT'), ('fruitarian', 'JJ'), ('diet', 'NN')]), ('.', '.')])"
            ],
            "image/svg+xml": "<svg baseProfile=\"full\" height=\"168px\" preserveAspectRatio=\"xMidYMid meet\" style=\"font-family: times, serif; font-weight:normal; font-style: normal; font-size: 16px;\" version=\"1.1\" viewBox=\"0,0,1136.0,168.0\" width=\"1136px\" xmlns=\"http://www.w3.org/2000/svg\" xmlns:ev=\"http://www.w3.org/2001/xml-events\" xmlns:xlink=\"http://www.w3.org/1999/xlink\"><defs /><svg width=\"100%\" x=\"0\" y=\"0em\"><defs /><text text-anchor=\"middle\" x=\"50%\" y=\"1em\">S</text></svg><svg width=\"4.92958%\" x=\"0%\" y=\"3em\"><defs /><svg width=\"100%\" x=\"0\" y=\"0em\"><defs /><text text-anchor=\"middle\" x=\"50%\" y=\"1em\">Apple</text></svg><svg width=\"100%\" x=\"0%\" y=\"3em\"><defs /><svg width=\"100%\" x=\"0\" y=\"0em\"><defs /><text text-anchor=\"middle\" x=\"50%\" y=\"1em\">NNP</text></svg></svg><line stroke=\"black\" x1=\"50%\" x2=\"50%\" y1=\"1.2em\" y2=\"3em\" /></svg><line stroke=\"black\" x1=\"50%\" x2=\"2.46479%\" y1=\"1.2em\" y2=\"3em\" /><svg width=\"3.52113%\" x=\"4.92958%\" y=\"3em\"><defs /><svg width=\"100%\" x=\"0\" y=\"0em\"><defs /><text text-anchor=\"middle\" x=\"50%\" y=\"1em\">'s</text></svg><svg width=\"100%\" x=\"0%\" y=\"3em\"><defs /><svg width=\"100%\" x=\"0\" y=\"0em\"><defs /><text text-anchor=\"middle\" x=\"50%\" y=\"1em\">POS</text></svg></svg><line stroke=\"black\" x1=\"50%\" x2=\"50%\" y1=\"1.2em\" y2=\"3em\" /></svg><line stroke=\"black\" x1=\"50%\" x2=\"6.69014%\" y1=\"1.2em\" y2=\"3em\" /><svg width=\"4.22535%\" x=\"8.4507%\" y=\"3em\"><defs /><svg width=\"100%\" x=\"0\" y=\"0em\"><defs /><text text-anchor=\"middle\" x=\"50%\" y=\"1em\">NP</text></svg><svg width=\"100%\" x=\"0%\" y=\"3em\"><defs /><svg width=\"100%\" x=\"0\" y=\"0em\"><defs /><text text-anchor=\"middle\" x=\"50%\" y=\"1em\">name</text></svg><svg width=\"100%\" x=\"0%\" y=\"3em\"><defs /><svg width=\"100%\" x=\"0\" y=\"0em\"><defs /><text text-anchor=\"middle\" x=\"50%\" y=\"1em\">NN</text></svg></svg><line stroke=\"black\" x1=\"50%\" x2=\"50%\" y1=\"1.2em\" y2=\"3em\" /></svg><line stroke=\"black\" x1=\"50%\" x2=\"50%\" y1=\"1.2em\" y2=\"3em\" /></svg><line stroke=\"black\" x1=\"50%\" x2=\"10.5634%\" y1=\"1.2em\" y2=\"3em\" /><svg width=\"3.52113%\" x=\"12.6761%\" y=\"3em\"><defs /><svg width=\"100%\" x=\"0\" y=\"0em\"><defs /><text text-anchor=\"middle\" x=\"50%\" y=\"1em\">was</text></svg><svg width=\"100%\" x=\"0%\" y=\"3em\"><defs /><svg width=\"100%\" x=\"0\" y=\"0em\"><defs /><text text-anchor=\"middle\" x=\"50%\" y=\"1em\">VBD</text></svg></svg><line stroke=\"black\" x1=\"50%\" x2=\"50%\" y1=\"1.2em\" y2=\"3em\" /></svg><line stroke=\"black\" x1=\"50%\" x2=\"14.4366%\" y1=\"1.2em\" y2=\"3em\" /><svg width=\"7.04225%\" x=\"16.1972%\" y=\"3em\"><defs /><svg width=\"100%\" x=\"0\" y=\"0em\"><defs /><text text-anchor=\"middle\" x=\"50%\" y=\"1em\">inspired</text></svg><svg width=\"100%\" x=\"0%\" y=\"3em\"><defs /><svg width=\"100%\" x=\"0\" y=\"0em\"><defs /><text text-anchor=\"middle\" x=\"50%\" y=\"1em\">VBN</text></svg></svg><line stroke=\"black\" x1=\"50%\" x2=\"50%\" y1=\"1.2em\" y2=\"3em\" /></svg><line stroke=\"black\" x1=\"50%\" x2=\"19.7183%\" y1=\"1.2em\" y2=\"3em\" /><svg width=\"2.8169%\" x=\"23.2394%\" y=\"3em\"><defs /><svg width=\"100%\" x=\"0\" y=\"0em\"><defs /><text text-anchor=\"middle\" x=\"50%\" y=\"1em\">by</text></svg><svg width=\"100%\" x=\"0%\" y=\"3em\"><defs /><svg width=\"100%\" x=\"0\" y=\"0em\"><defs /><text text-anchor=\"middle\" x=\"50%\" y=\"1em\">IN</text></svg></svg><line stroke=\"black\" x1=\"50%\" x2=\"50%\" y1=\"1.2em\" y2=\"3em\" /></svg><line stroke=\"black\" x1=\"50%\" x2=\"24.6479%\" y1=\"1.2em\" y2=\"3em\" /><svg width=\"4.92958%\" x=\"26.0563%\" y=\"3em\"><defs /><svg width=\"100%\" x=\"0\" y=\"0em\"><defs /><text text-anchor=\"middle\" x=\"50%\" y=\"1em\">Steve</text></svg><svg width=\"100%\" x=\"0%\" y=\"3em\"><defs /><svg width=\"100%\" x=\"0\" y=\"0em\"><defs /><text text-anchor=\"middle\" x=\"50%\" y=\"1em\">NNP</text></svg></svg><line stroke=\"black\" x1=\"50%\" x2=\"50%\" y1=\"1.2em\" y2=\"3em\" /></svg><line stroke=\"black\" x1=\"50%\" x2=\"28.5211%\" y1=\"1.2em\" y2=\"3em\" /><svg width=\"4.22535%\" x=\"30.9859%\" y=\"3em\"><defs /><svg width=\"100%\" x=\"0\" y=\"0em\"><defs /><text text-anchor=\"middle\" x=\"50%\" y=\"1em\">Jobs</text></svg><svg width=\"100%\" x=\"0%\" y=\"3em\"><defs /><svg width=\"100%\" x=\"0\" y=\"0em\"><defs /><text text-anchor=\"middle\" x=\"50%\" y=\"1em\">NNP</text></svg></svg><line stroke=\"black\" x1=\"50%\" x2=\"50%\" y1=\"1.2em\" y2=\"3em\" /></svg><line stroke=\"black\" x1=\"50%\" x2=\"33.0986%\" y1=\"1.2em\" y2=\"3em\" /><svg width=\"3.52113%\" x=\"35.2113%\" y=\"3em\"><defs /><svg width=\"100%\" x=\"0\" y=\"0em\"><defs /><text text-anchor=\"middle\" x=\"50%\" y=\"1em\">'</text></svg><svg width=\"100%\" x=\"0%\" y=\"3em\"><defs /><svg width=\"100%\" x=\"0\" y=\"0em\"><defs /><text text-anchor=\"middle\" x=\"50%\" y=\"1em\">POS</text></svg></svg><line stroke=\"black\" x1=\"50%\" x2=\"50%\" y1=\"1.2em\" y2=\"3em\" /></svg><line stroke=\"black\" x1=\"50%\" x2=\"36.9718%\" y1=\"1.2em\" y2=\"3em\" /><svg width=\"5.6338%\" x=\"38.7324%\" y=\"3em\"><defs /><svg width=\"100%\" x=\"0\" y=\"0em\"><defs /><text text-anchor=\"middle\" x=\"50%\" y=\"1em\">visits</text></svg><svg width=\"100%\" x=\"0%\" y=\"3em\"><defs /><svg width=\"100%\" x=\"0\" y=\"0em\"><defs /><text text-anchor=\"middle\" x=\"50%\" y=\"1em\">NNS</text></svg></svg><line stroke=\"black\" x1=\"50%\" x2=\"50%\" y1=\"1.2em\" y2=\"3em\" /></svg><line stroke=\"black\" x1=\"50%\" x2=\"41.5493%\" y1=\"1.2em\" y2=\"3em\" /><svg width=\"2.11268%\" x=\"44.3662%\" y=\"3em\"><defs /><svg width=\"100%\" x=\"0\" y=\"0em\"><defs /><text text-anchor=\"middle\" x=\"50%\" y=\"1em\">.</text></svg><svg width=\"100%\" x=\"0%\" y=\"3em\"><defs /><svg width=\"100%\" x=\"0\" y=\"0em\"><defs /><text text-anchor=\"middle\" x=\"50%\" y=\"1em\">.</text></svg></svg><line stroke=\"black\" x1=\"50%\" x2=\"50%\" y1=\"1.2em\" y2=\"3em\" /></svg><line stroke=\"black\" x1=\"50%\" x2=\"45.4225%\" y1=\"1.2em\" y2=\"3em\" /><svg width=\"4.22535%\" x=\"46.4789%\" y=\"3em\"><defs /><svg width=\"100%\" x=\"0\" y=\"0em\"><defs /><text text-anchor=\"middle\" x=\"50%\" y=\"1em\">His</text></svg><svg width=\"100%\" x=\"0%\" y=\"3em\"><defs /><svg width=\"100%\" x=\"0\" y=\"0em\"><defs /><text text-anchor=\"middle\" x=\"50%\" y=\"1em\">PRP$</text></svg></svg><line stroke=\"black\" x1=\"50%\" x2=\"50%\" y1=\"1.2em\" y2=\"3em\" /></svg><line stroke=\"black\" x1=\"50%\" x2=\"48.5915%\" y1=\"1.2em\" y2=\"3em\" /><svg width=\"5.6338%\" x=\"50.7042%\" y=\"3em\"><defs /><svg width=\"100%\" x=\"0\" y=\"0em\"><defs /><text text-anchor=\"middle\" x=\"50%\" y=\"1em\">visits</text></svg><svg width=\"100%\" x=\"0%\" y=\"3em\"><defs /><svg width=\"100%\" x=\"0\" y=\"0em\"><defs /><text text-anchor=\"middle\" x=\"50%\" y=\"1em\">NNS</text></svg></svg><line stroke=\"black\" x1=\"50%\" x2=\"50%\" y1=\"1.2em\" y2=\"3em\" /></svg><line stroke=\"black\" x1=\"50%\" x2=\"53.5211%\" y1=\"1.2em\" y2=\"3em\" /><svg width=\"3.52113%\" x=\"56.338%\" y=\"3em\"><defs /><svg width=\"100%\" x=\"0\" y=\"0em\"><defs /><text text-anchor=\"middle\" x=\"50%\" y=\"1em\">was</text></svg><svg width=\"100%\" x=\"0%\" y=\"3em\"><defs /><svg width=\"100%\" x=\"0\" y=\"0em\"><defs /><text text-anchor=\"middle\" x=\"50%\" y=\"1em\">VBD</text></svg></svg><line stroke=\"black\" x1=\"50%\" x2=\"50%\" y1=\"1.2em\" y2=\"3em\" /></svg><line stroke=\"black\" x1=\"50%\" x2=\"58.0986%\" y1=\"1.2em\" y2=\"3em\" /><svg width=\"2.8169%\" x=\"59.8592%\" y=\"3em\"><defs /><svg width=\"100%\" x=\"0\" y=\"0em\"><defs /><text text-anchor=\"middle\" x=\"50%\" y=\"1em\">to</text></svg><svg width=\"100%\" x=\"0%\" y=\"3em\"><defs /><svg width=\"100%\" x=\"0\" y=\"0em\"><defs /><text text-anchor=\"middle\" x=\"50%\" y=\"1em\">TO</text></svg></svg><line stroke=\"black\" x1=\"50%\" x2=\"50%\" y1=\"1.2em\" y2=\"3em\" /></svg><line stroke=\"black\" x1=\"50%\" x2=\"61.2676%\" y1=\"1.2em\" y2=\"3em\" /><svg width=\"7.74648%\" x=\"62.6761%\" y=\"3em\"><defs /><svg width=\"100%\" x=\"0\" y=\"0em\"><defs /><text text-anchor=\"middle\" x=\"50%\" y=\"1em\">NP</text></svg><svg width=\"36.3636%\" x=\"0%\" y=\"3em\"><defs /><svg width=\"100%\" x=\"0\" y=\"0em\"><defs /><text text-anchor=\"middle\" x=\"50%\" y=\"1em\">an</text></svg><svg width=\"100%\" x=\"0%\" y=\"3em\"><defs /><svg width=\"100%\" x=\"0\" y=\"0em\"><defs /><text text-anchor=\"middle\" x=\"50%\" y=\"1em\">DT</text></svg></svg><line stroke=\"black\" x1=\"50%\" x2=\"50%\" y1=\"1.2em\" y2=\"3em\" /></svg><line stroke=\"black\" x1=\"50%\" x2=\"18.1818%\" y1=\"1.2em\" y2=\"3em\" /><svg width=\"63.6364%\" x=\"36.3636%\" y=\"3em\"><defs /><svg width=\"100%\" x=\"0\" y=\"0em\"><defs /><text text-anchor=\"middle\" x=\"50%\" y=\"1em\">apple</text></svg><svg width=\"100%\" x=\"0%\" y=\"3em\"><defs /><svg width=\"100%\" x=\"0\" y=\"0em\"><defs /><text text-anchor=\"middle\" x=\"50%\" y=\"1em\">NN</text></svg></svg><line stroke=\"black\" x1=\"50%\" x2=\"50%\" y1=\"1.2em\" y2=\"3em\" /></svg><line stroke=\"black\" x1=\"50%\" x2=\"68.1818%\" y1=\"1.2em\" y2=\"3em\" /></svg><line stroke=\"black\" x1=\"50%\" x2=\"66.5493%\" y1=\"1.2em\" y2=\"3em\" /><svg width=\"4.22535%\" x=\"70.4225%\" y=\"3em\"><defs /><svg width=\"100%\" x=\"0\" y=\"0em\"><defs /><text text-anchor=\"middle\" x=\"50%\" y=\"1em\">NP</text></svg><svg width=\"100%\" x=\"0%\" y=\"3em\"><defs /><svg width=\"100%\" x=\"0\" y=\"0em\"><defs /><text text-anchor=\"middle\" x=\"50%\" y=\"1em\">farm</text></svg><svg width=\"100%\" x=\"0%\" y=\"3em\"><defs /><svg width=\"100%\" x=\"0\" y=\"0em\"><defs /><text text-anchor=\"middle\" x=\"50%\" y=\"1em\">NN</text></svg></svg><line stroke=\"black\" x1=\"50%\" x2=\"50%\" y1=\"1.2em\" y2=\"3em\" /></svg><line stroke=\"black\" x1=\"50%\" x2=\"50%\" y1=\"1.2em\" y2=\"3em\" /></svg><line stroke=\"black\" x1=\"50%\" x2=\"72.5352%\" y1=\"1.2em\" y2=\"3em\" /><svg width=\"4.92958%\" x=\"74.6479%\" y=\"3em\"><defs /><svg width=\"100%\" x=\"0\" y=\"0em\"><defs /><text text-anchor=\"middle\" x=\"50%\" y=\"1em\">while</text></svg><svg width=\"100%\" x=\"0%\" y=\"3em\"><defs /><svg width=\"100%\" x=\"0\" y=\"0em\"><defs /><text text-anchor=\"middle\" x=\"50%\" y=\"1em\">IN</text></svg></svg><line stroke=\"black\" x1=\"50%\" x2=\"50%\" y1=\"1.2em\" y2=\"3em\" /></svg><line stroke=\"black\" x1=\"50%\" x2=\"77.1127%\" y1=\"1.2em\" y2=\"3em\" /><svg width=\"2.8169%\" x=\"79.5775%\" y=\"3em\"><defs /><svg width=\"100%\" x=\"0\" y=\"0em\"><defs /><text text-anchor=\"middle\" x=\"50%\" y=\"1em\">on</text></svg><svg width=\"100%\" x=\"0%\" y=\"3em\"><defs /><svg width=\"100%\" x=\"0\" y=\"0em\"><defs /><text text-anchor=\"middle\" x=\"50%\" y=\"1em\">IN</text></svg></svg><line stroke=\"black\" x1=\"50%\" x2=\"50%\" y1=\"1.2em\" y2=\"3em\" /></svg><line stroke=\"black\" x1=\"50%\" x2=\"80.9859%\" y1=\"1.2em\" y2=\"3em\" /><svg width=\"15.493%\" x=\"82.3944%\" y=\"3em\"><defs /><svg width=\"100%\" x=\"0\" y=\"0em\"><defs /><text text-anchor=\"middle\" x=\"50%\" y=\"1em\">NP</text></svg><svg width=\"18.1818%\" x=\"0%\" y=\"3em\"><defs /><svg width=\"100%\" x=\"0\" y=\"0em\"><defs /><text text-anchor=\"middle\" x=\"50%\" y=\"1em\">a</text></svg><svg width=\"100%\" x=\"0%\" y=\"3em\"><defs /><svg width=\"100%\" x=\"0\" y=\"0em\"><defs /><text text-anchor=\"middle\" x=\"50%\" y=\"1em\">DT</text></svg></svg><line stroke=\"black\" x1=\"50%\" x2=\"50%\" y1=\"1.2em\" y2=\"3em\" /></svg><line stroke=\"black\" x1=\"50%\" x2=\"9.09091%\" y1=\"1.2em\" y2=\"3em\" /><svg width=\"54.5455%\" x=\"18.1818%\" y=\"3em\"><defs /><svg width=\"100%\" x=\"0\" y=\"0em\"><defs /><text text-anchor=\"middle\" x=\"50%\" y=\"1em\">fruitarian</text></svg><svg width=\"100%\" x=\"0%\" y=\"3em\"><defs /><svg width=\"100%\" x=\"0\" y=\"0em\"><defs /><text text-anchor=\"middle\" x=\"50%\" y=\"1em\">JJ</text></svg></svg><line stroke=\"black\" x1=\"50%\" x2=\"50%\" y1=\"1.2em\" y2=\"3em\" /></svg><line stroke=\"black\" x1=\"50%\" x2=\"45.4545%\" y1=\"1.2em\" y2=\"3em\" /><svg width=\"27.2727%\" x=\"72.7273%\" y=\"3em\"><defs /><svg width=\"100%\" x=\"0\" y=\"0em\"><defs /><text text-anchor=\"middle\" x=\"50%\" y=\"1em\">diet</text></svg><svg width=\"100%\" x=\"0%\" y=\"3em\"><defs /><svg width=\"100%\" x=\"0\" y=\"0em\"><defs /><text text-anchor=\"middle\" x=\"50%\" y=\"1em\">NN</text></svg></svg><line stroke=\"black\" x1=\"50%\" x2=\"50%\" y1=\"1.2em\" y2=\"3em\" /></svg><line stroke=\"black\" x1=\"50%\" x2=\"86.3636%\" y1=\"1.2em\" y2=\"3em\" /></svg><line stroke=\"black\" x1=\"50%\" x2=\"90.1408%\" y1=\"1.2em\" y2=\"3em\" /><svg width=\"2.11268%\" x=\"97.8873%\" y=\"3em\"><defs /><svg width=\"100%\" x=\"0\" y=\"0em\"><defs /><text text-anchor=\"middle\" x=\"50%\" y=\"1em\">.</text></svg><svg width=\"100%\" x=\"0%\" y=\"3em\"><defs /><svg width=\"100%\" x=\"0\" y=\"0em\"><defs /><text text-anchor=\"middle\" x=\"50%\" y=\"1em\">.</text></svg></svg><line stroke=\"black\" x1=\"50%\" x2=\"50%\" y1=\"1.2em\" y2=\"3em\" /></svg><line stroke=\"black\" x1=\"50%\" x2=\"98.9437%\" y1=\"1.2em\" y2=\"3em\" /></svg>"
          },
          "metadata": {}
        }
      ]
    },
    {
      "cell_type": "markdown",
      "source": [
        "### **Chinking**"
      ],
      "metadata": {
        "id": "HGyyQZl_YvIl"
      }
    },
    {
      "cell_type": "markdown",
      "source": [
        "Chinking is often used together with chunking. While chunking is used to identify and find a pattern, chinking is used to exclude a pattern."
      ],
      "metadata": {
        "id": "JhJxJT09YyRN"
      }
    },
    {
      "cell_type": "code",
      "source": [
        "import nltk\n",
        "from nltk.tokenize import word_tokenize\n",
        "from nltk.tree import Tree\n",
        "from IPython.display import display\n",
        "import svgling\n",
        "\n",
        "\n",
        "# nltk.download(\"averaged_perceptron_tagger\")  # Use nltk downloader to download resource \"averaged_perceptron_tagger\"\n",
        "\n",
        "output = (\"Apple's name was inspired by Steve Jobs' visits. His visits was to an apple farm while on a fruitarian diet.\")\n",
        "# Create a string object. By default, the function breaks sentences by periods.\n",
        "# Customize text or read files as needed\n",
        "\n",
        "# Tokenize the text\n",
        "words = word_tokenize(output)\n",
        "\n",
        "# POS tag the text\n",
        "tag = nltk.pos_tag(words)"
      ],
      "metadata": {
        "id": "cpk3D7a_Y-mf"
      },
      "execution_count": null,
      "outputs": []
    },
    {
      "cell_type": "markdown",
      "source": [
        "The only difference is how we define grammar rules. We use the curly braces facing outward to tell Python what patterns we want to exclude. In the following example, }\\<JJ>{ has curly braces facing outward, so we want to exclude adjectives: \\<JJ>."
      ],
      "metadata": {
        "id": "yqwMeMrXZOfH"
      }
    },
    {
      "cell_type": "code",
      "source": [
        "# Define grammar\n",
        "grammar = \"\"\"Chunk: }<JJ>{\"\"\""
      ],
      "metadata": {
        "id": "pJLL-KKkZOuH"
      },
      "execution_count": null,
      "outputs": []
    },
    {
      "cell_type": "code",
      "source": [
        "# Create a chunk parser object\n",
        "chunk_parser = nltk.RegexpParser(grammar)\n",
        "\n",
        "# Create a tree diagram for the chunking\n",
        "tree = chunk_parser.parse(tag)\n",
        "display(tree)"
      ],
      "metadata": {
        "colab": {
          "base_uri": "https://localhost:8080/",
          "height": 141
        },
        "id": "Np4mlrOxZNVp",
        "outputId": "1970545e-f0bd-491b-81fe-c49116eec3f7"
      },
      "execution_count": null,
      "outputs": [
        {
          "output_type": "display_data",
          "data": {
            "text/plain": [
              "Tree('S', [('Apple', 'NNP'), (\"'s\", 'POS'), ('name', 'NN'), ('was', 'VBD'), ('inspired', 'VBN'), ('by', 'IN'), ('Steve', 'NNP'), ('Jobs', 'NNP'), (\"'\", 'POS'), ('visits', 'NNS'), ('.', '.'), ('His', 'PRP$'), ('visits', 'NNS'), ('was', 'VBD'), ('to', 'TO'), ('an', 'DT'), ('apple', 'NN'), ('farm', 'NN'), ('while', 'IN'), ('on', 'IN'), ('a', 'DT'), ('fruitarian', 'JJ'), ('diet', 'NN'), ('.', '.')])"
            ],
            "image/svg+xml": "<svg baseProfile=\"full\" height=\"120px\" preserveAspectRatio=\"xMidYMid meet\" style=\"font-family: times, serif; font-weight:normal; font-style: normal; font-size: 16px;\" version=\"1.1\" viewBox=\"0,0,1136.0,120.0\" width=\"1136px\" xmlns=\"http://www.w3.org/2000/svg\" xmlns:ev=\"http://www.w3.org/2001/xml-events\" xmlns:xlink=\"http://www.w3.org/1999/xlink\"><defs /><svg width=\"100%\" x=\"0\" y=\"0em\"><defs /><text text-anchor=\"middle\" x=\"50%\" y=\"1em\">S</text></svg><svg width=\"4.92958%\" x=\"0%\" y=\"3em\"><defs /><svg width=\"100%\" x=\"0\" y=\"0em\"><defs /><text text-anchor=\"middle\" x=\"50%\" y=\"1em\">Apple</text></svg><svg width=\"100%\" x=\"0%\" y=\"3em\"><defs /><svg width=\"100%\" x=\"0\" y=\"0em\"><defs /><text text-anchor=\"middle\" x=\"50%\" y=\"1em\">NNP</text></svg></svg><line stroke=\"black\" x1=\"50%\" x2=\"50%\" y1=\"1.2em\" y2=\"3em\" /></svg><line stroke=\"black\" x1=\"50%\" x2=\"2.46479%\" y1=\"1.2em\" y2=\"3em\" /><svg width=\"3.52113%\" x=\"4.92958%\" y=\"3em\"><defs /><svg width=\"100%\" x=\"0\" y=\"0em\"><defs /><text text-anchor=\"middle\" x=\"50%\" y=\"1em\">'s</text></svg><svg width=\"100%\" x=\"0%\" y=\"3em\"><defs /><svg width=\"100%\" x=\"0\" y=\"0em\"><defs /><text text-anchor=\"middle\" x=\"50%\" y=\"1em\">POS</text></svg></svg><line stroke=\"black\" x1=\"50%\" x2=\"50%\" y1=\"1.2em\" y2=\"3em\" /></svg><line stroke=\"black\" x1=\"50%\" x2=\"6.69014%\" y1=\"1.2em\" y2=\"3em\" /><svg width=\"4.22535%\" x=\"8.4507%\" y=\"3em\"><defs /><svg width=\"100%\" x=\"0\" y=\"0em\"><defs /><text text-anchor=\"middle\" x=\"50%\" y=\"1em\">name</text></svg><svg width=\"100%\" x=\"0%\" y=\"3em\"><defs /><svg width=\"100%\" x=\"0\" y=\"0em\"><defs /><text text-anchor=\"middle\" x=\"50%\" y=\"1em\">NN</text></svg></svg><line stroke=\"black\" x1=\"50%\" x2=\"50%\" y1=\"1.2em\" y2=\"3em\" /></svg><line stroke=\"black\" x1=\"50%\" x2=\"10.5634%\" y1=\"1.2em\" y2=\"3em\" /><svg width=\"3.52113%\" x=\"12.6761%\" y=\"3em\"><defs /><svg width=\"100%\" x=\"0\" y=\"0em\"><defs /><text text-anchor=\"middle\" x=\"50%\" y=\"1em\">was</text></svg><svg width=\"100%\" x=\"0%\" y=\"3em\"><defs /><svg width=\"100%\" x=\"0\" y=\"0em\"><defs /><text text-anchor=\"middle\" x=\"50%\" y=\"1em\">VBD</text></svg></svg><line stroke=\"black\" x1=\"50%\" x2=\"50%\" y1=\"1.2em\" y2=\"3em\" /></svg><line stroke=\"black\" x1=\"50%\" x2=\"14.4366%\" y1=\"1.2em\" y2=\"3em\" /><svg width=\"7.04225%\" x=\"16.1972%\" y=\"3em\"><defs /><svg width=\"100%\" x=\"0\" y=\"0em\"><defs /><text text-anchor=\"middle\" x=\"50%\" y=\"1em\">inspired</text></svg><svg width=\"100%\" x=\"0%\" y=\"3em\"><defs /><svg width=\"100%\" x=\"0\" y=\"0em\"><defs /><text text-anchor=\"middle\" x=\"50%\" y=\"1em\">VBN</text></svg></svg><line stroke=\"black\" x1=\"50%\" x2=\"50%\" y1=\"1.2em\" y2=\"3em\" /></svg><line stroke=\"black\" x1=\"50%\" x2=\"19.7183%\" y1=\"1.2em\" y2=\"3em\" /><svg width=\"2.8169%\" x=\"23.2394%\" y=\"3em\"><defs /><svg width=\"100%\" x=\"0\" y=\"0em\"><defs /><text text-anchor=\"middle\" x=\"50%\" y=\"1em\">by</text></svg><svg width=\"100%\" x=\"0%\" y=\"3em\"><defs /><svg width=\"100%\" x=\"0\" y=\"0em\"><defs /><text text-anchor=\"middle\" x=\"50%\" y=\"1em\">IN</text></svg></svg><line stroke=\"black\" x1=\"50%\" x2=\"50%\" y1=\"1.2em\" y2=\"3em\" /></svg><line stroke=\"black\" x1=\"50%\" x2=\"24.6479%\" y1=\"1.2em\" y2=\"3em\" /><svg width=\"4.92958%\" x=\"26.0563%\" y=\"3em\"><defs /><svg width=\"100%\" x=\"0\" y=\"0em\"><defs /><text text-anchor=\"middle\" x=\"50%\" y=\"1em\">Steve</text></svg><svg width=\"100%\" x=\"0%\" y=\"3em\"><defs /><svg width=\"100%\" x=\"0\" y=\"0em\"><defs /><text text-anchor=\"middle\" x=\"50%\" y=\"1em\">NNP</text></svg></svg><line stroke=\"black\" x1=\"50%\" x2=\"50%\" y1=\"1.2em\" y2=\"3em\" /></svg><line stroke=\"black\" x1=\"50%\" x2=\"28.5211%\" y1=\"1.2em\" y2=\"3em\" /><svg width=\"4.22535%\" x=\"30.9859%\" y=\"3em\"><defs /><svg width=\"100%\" x=\"0\" y=\"0em\"><defs /><text text-anchor=\"middle\" x=\"50%\" y=\"1em\">Jobs</text></svg><svg width=\"100%\" x=\"0%\" y=\"3em\"><defs /><svg width=\"100%\" x=\"0\" y=\"0em\"><defs /><text text-anchor=\"middle\" x=\"50%\" y=\"1em\">NNP</text></svg></svg><line stroke=\"black\" x1=\"50%\" x2=\"50%\" y1=\"1.2em\" y2=\"3em\" /></svg><line stroke=\"black\" x1=\"50%\" x2=\"33.0986%\" y1=\"1.2em\" y2=\"3em\" /><svg width=\"3.52113%\" x=\"35.2113%\" y=\"3em\"><defs /><svg width=\"100%\" x=\"0\" y=\"0em\"><defs /><text text-anchor=\"middle\" x=\"50%\" y=\"1em\">'</text></svg><svg width=\"100%\" x=\"0%\" y=\"3em\"><defs /><svg width=\"100%\" x=\"0\" y=\"0em\"><defs /><text text-anchor=\"middle\" x=\"50%\" y=\"1em\">POS</text></svg></svg><line stroke=\"black\" x1=\"50%\" x2=\"50%\" y1=\"1.2em\" y2=\"3em\" /></svg><line stroke=\"black\" x1=\"50%\" x2=\"36.9718%\" y1=\"1.2em\" y2=\"3em\" /><svg width=\"5.6338%\" x=\"38.7324%\" y=\"3em\"><defs /><svg width=\"100%\" x=\"0\" y=\"0em\"><defs /><text text-anchor=\"middle\" x=\"50%\" y=\"1em\">visits</text></svg><svg width=\"100%\" x=\"0%\" y=\"3em\"><defs /><svg width=\"100%\" x=\"0\" y=\"0em\"><defs /><text text-anchor=\"middle\" x=\"50%\" y=\"1em\">NNS</text></svg></svg><line stroke=\"black\" x1=\"50%\" x2=\"50%\" y1=\"1.2em\" y2=\"3em\" /></svg><line stroke=\"black\" x1=\"50%\" x2=\"41.5493%\" y1=\"1.2em\" y2=\"3em\" /><svg width=\"2.11268%\" x=\"44.3662%\" y=\"3em\"><defs /><svg width=\"100%\" x=\"0\" y=\"0em\"><defs /><text text-anchor=\"middle\" x=\"50%\" y=\"1em\">.</text></svg><svg width=\"100%\" x=\"0%\" y=\"3em\"><defs /><svg width=\"100%\" x=\"0\" y=\"0em\"><defs /><text text-anchor=\"middle\" x=\"50%\" y=\"1em\">.</text></svg></svg><line stroke=\"black\" x1=\"50%\" x2=\"50%\" y1=\"1.2em\" y2=\"3em\" /></svg><line stroke=\"black\" x1=\"50%\" x2=\"45.4225%\" y1=\"1.2em\" y2=\"3em\" /><svg width=\"4.22535%\" x=\"46.4789%\" y=\"3em\"><defs /><svg width=\"100%\" x=\"0\" y=\"0em\"><defs /><text text-anchor=\"middle\" x=\"50%\" y=\"1em\">His</text></svg><svg width=\"100%\" x=\"0%\" y=\"3em\"><defs /><svg width=\"100%\" x=\"0\" y=\"0em\"><defs /><text text-anchor=\"middle\" x=\"50%\" y=\"1em\">PRP$</text></svg></svg><line stroke=\"black\" x1=\"50%\" x2=\"50%\" y1=\"1.2em\" y2=\"3em\" /></svg><line stroke=\"black\" x1=\"50%\" x2=\"48.5915%\" y1=\"1.2em\" y2=\"3em\" /><svg width=\"5.6338%\" x=\"50.7042%\" y=\"3em\"><defs /><svg width=\"100%\" x=\"0\" y=\"0em\"><defs /><text text-anchor=\"middle\" x=\"50%\" y=\"1em\">visits</text></svg><svg width=\"100%\" x=\"0%\" y=\"3em\"><defs /><svg width=\"100%\" x=\"0\" y=\"0em\"><defs /><text text-anchor=\"middle\" x=\"50%\" y=\"1em\">NNS</text></svg></svg><line stroke=\"black\" x1=\"50%\" x2=\"50%\" y1=\"1.2em\" y2=\"3em\" /></svg><line stroke=\"black\" x1=\"50%\" x2=\"53.5211%\" y1=\"1.2em\" y2=\"3em\" /><svg width=\"3.52113%\" x=\"56.338%\" y=\"3em\"><defs /><svg width=\"100%\" x=\"0\" y=\"0em\"><defs /><text text-anchor=\"middle\" x=\"50%\" y=\"1em\">was</text></svg><svg width=\"100%\" x=\"0%\" y=\"3em\"><defs /><svg width=\"100%\" x=\"0\" y=\"0em\"><defs /><text text-anchor=\"middle\" x=\"50%\" y=\"1em\">VBD</text></svg></svg><line stroke=\"black\" x1=\"50%\" x2=\"50%\" y1=\"1.2em\" y2=\"3em\" /></svg><line stroke=\"black\" x1=\"50%\" x2=\"58.0986%\" y1=\"1.2em\" y2=\"3em\" /><svg width=\"2.8169%\" x=\"59.8592%\" y=\"3em\"><defs /><svg width=\"100%\" x=\"0\" y=\"0em\"><defs /><text text-anchor=\"middle\" x=\"50%\" y=\"1em\">to</text></svg><svg width=\"100%\" x=\"0%\" y=\"3em\"><defs /><svg width=\"100%\" x=\"0\" y=\"0em\"><defs /><text text-anchor=\"middle\" x=\"50%\" y=\"1em\">TO</text></svg></svg><line stroke=\"black\" x1=\"50%\" x2=\"50%\" y1=\"1.2em\" y2=\"3em\" /></svg><line stroke=\"black\" x1=\"50%\" x2=\"61.2676%\" y1=\"1.2em\" y2=\"3em\" /><svg width=\"2.8169%\" x=\"62.6761%\" y=\"3em\"><defs /><svg width=\"100%\" x=\"0\" y=\"0em\"><defs /><text text-anchor=\"middle\" x=\"50%\" y=\"1em\">an</text></svg><svg width=\"100%\" x=\"0%\" y=\"3em\"><defs /><svg width=\"100%\" x=\"0\" y=\"0em\"><defs /><text text-anchor=\"middle\" x=\"50%\" y=\"1em\">DT</text></svg></svg><line stroke=\"black\" x1=\"50%\" x2=\"50%\" y1=\"1.2em\" y2=\"3em\" /></svg><line stroke=\"black\" x1=\"50%\" x2=\"64.0845%\" y1=\"1.2em\" y2=\"3em\" /><svg width=\"4.92958%\" x=\"65.493%\" y=\"3em\"><defs /><svg width=\"100%\" x=\"0\" y=\"0em\"><defs /><text text-anchor=\"middle\" x=\"50%\" y=\"1em\">apple</text></svg><svg width=\"100%\" x=\"0%\" y=\"3em\"><defs /><svg width=\"100%\" x=\"0\" y=\"0em\"><defs /><text text-anchor=\"middle\" x=\"50%\" y=\"1em\">NN</text></svg></svg><line stroke=\"black\" x1=\"50%\" x2=\"50%\" y1=\"1.2em\" y2=\"3em\" /></svg><line stroke=\"black\" x1=\"50%\" x2=\"67.9577%\" y1=\"1.2em\" y2=\"3em\" /><svg width=\"4.22535%\" x=\"70.4225%\" y=\"3em\"><defs /><svg width=\"100%\" x=\"0\" y=\"0em\"><defs /><text text-anchor=\"middle\" x=\"50%\" y=\"1em\">farm</text></svg><svg width=\"100%\" x=\"0%\" y=\"3em\"><defs /><svg width=\"100%\" x=\"0\" y=\"0em\"><defs /><text text-anchor=\"middle\" x=\"50%\" y=\"1em\">NN</text></svg></svg><line stroke=\"black\" x1=\"50%\" x2=\"50%\" y1=\"1.2em\" y2=\"3em\" /></svg><line stroke=\"black\" x1=\"50%\" x2=\"72.5352%\" y1=\"1.2em\" y2=\"3em\" /><svg width=\"4.92958%\" x=\"74.6479%\" y=\"3em\"><defs /><svg width=\"100%\" x=\"0\" y=\"0em\"><defs /><text text-anchor=\"middle\" x=\"50%\" y=\"1em\">while</text></svg><svg width=\"100%\" x=\"0%\" y=\"3em\"><defs /><svg width=\"100%\" x=\"0\" y=\"0em\"><defs /><text text-anchor=\"middle\" x=\"50%\" y=\"1em\">IN</text></svg></svg><line stroke=\"black\" x1=\"50%\" x2=\"50%\" y1=\"1.2em\" y2=\"3em\" /></svg><line stroke=\"black\" x1=\"50%\" x2=\"77.1127%\" y1=\"1.2em\" y2=\"3em\" /><svg width=\"2.8169%\" x=\"79.5775%\" y=\"3em\"><defs /><svg width=\"100%\" x=\"0\" y=\"0em\"><defs /><text text-anchor=\"middle\" x=\"50%\" y=\"1em\">on</text></svg><svg width=\"100%\" x=\"0%\" y=\"3em\"><defs /><svg width=\"100%\" x=\"0\" y=\"0em\"><defs /><text text-anchor=\"middle\" x=\"50%\" y=\"1em\">IN</text></svg></svg><line stroke=\"black\" x1=\"50%\" x2=\"50%\" y1=\"1.2em\" y2=\"3em\" /></svg><line stroke=\"black\" x1=\"50%\" x2=\"80.9859%\" y1=\"1.2em\" y2=\"3em\" /><svg width=\"2.8169%\" x=\"82.3944%\" y=\"3em\"><defs /><svg width=\"100%\" x=\"0\" y=\"0em\"><defs /><text text-anchor=\"middle\" x=\"50%\" y=\"1em\">a</text></svg><svg width=\"100%\" x=\"0%\" y=\"3em\"><defs /><svg width=\"100%\" x=\"0\" y=\"0em\"><defs /><text text-anchor=\"middle\" x=\"50%\" y=\"1em\">DT</text></svg></svg><line stroke=\"black\" x1=\"50%\" x2=\"50%\" y1=\"1.2em\" y2=\"3em\" /></svg><line stroke=\"black\" x1=\"50%\" x2=\"83.8028%\" y1=\"1.2em\" y2=\"3em\" /><svg width=\"8.4507%\" x=\"85.2113%\" y=\"3em\"><defs /><svg width=\"100%\" x=\"0\" y=\"0em\"><defs /><text text-anchor=\"middle\" x=\"50%\" y=\"1em\">fruitarian</text></svg><svg width=\"100%\" x=\"0%\" y=\"3em\"><defs /><svg width=\"100%\" x=\"0\" y=\"0em\"><defs /><text text-anchor=\"middle\" x=\"50%\" y=\"1em\">JJ</text></svg></svg><line stroke=\"black\" x1=\"50%\" x2=\"50%\" y1=\"1.2em\" y2=\"3em\" /></svg><line stroke=\"black\" x1=\"50%\" x2=\"89.4366%\" y1=\"1.2em\" y2=\"3em\" /><svg width=\"4.22535%\" x=\"93.662%\" y=\"3em\"><defs /><svg width=\"100%\" x=\"0\" y=\"0em\"><defs /><text text-anchor=\"middle\" x=\"50%\" y=\"1em\">diet</text></svg><svg width=\"100%\" x=\"0%\" y=\"3em\"><defs /><svg width=\"100%\" x=\"0\" y=\"0em\"><defs /><text text-anchor=\"middle\" x=\"50%\" y=\"1em\">NN</text></svg></svg><line stroke=\"black\" x1=\"50%\" x2=\"50%\" y1=\"1.2em\" y2=\"3em\" /></svg><line stroke=\"black\" x1=\"50%\" x2=\"95.7746%\" y1=\"1.2em\" y2=\"3em\" /><svg width=\"2.11268%\" x=\"97.8873%\" y=\"3em\"><defs /><svg width=\"100%\" x=\"0\" y=\"0em\"><defs /><text text-anchor=\"middle\" x=\"50%\" y=\"1em\">.</text></svg><svg width=\"100%\" x=\"0%\" y=\"3em\"><defs /><svg width=\"100%\" x=\"0\" y=\"0em\"><defs /><text text-anchor=\"middle\" x=\"50%\" y=\"1em\">.</text></svg></svg><line stroke=\"black\" x1=\"50%\" x2=\"50%\" y1=\"1.2em\" y2=\"3em\" /></svg><line stroke=\"black\" x1=\"50%\" x2=\"98.9437%\" y1=\"1.2em\" y2=\"3em\" /></svg>"
          },
          "metadata": {}
        }
      ]
    },
    {
      "cell_type": "markdown",
      "source": [
        "### **Named Entity Recognition (NER)**\n",
        "\n",
        "A named entity is an object’s assigned name, for example, a person’s name, a film, a book title, or a song’s name. NLTK can recognize these named entities in a document by asking the model for a prediction. Because the performance of the models depends on the examples they were trained on, NEF might not always work perfectly and you might need to adjust the tuning based on your case.\n",
        "\n",
        "Named entity recognition can be accomplished when you apply the ents property to an output:\n"
      ],
      "metadata": {
        "id": "exe29dKGjGir"
      }
    },
    {
      "cell_type": "code",
      "source": [
        "import nltk\n",
        "from nltk.stem import WordNetLemmatizer\n",
        "# nltk.download('maxent_ne_chunker') # Use nltk downloader to download resource \"maxent_ne_chunker\"\n",
        "# nltk.download('words') # Use nltk downloader to download resource \"words\"\n",
        "\n",
        "output = (\"Apple's name was inspired by Steve Jobs' visits. His visits was to an apple farm while on a fruitarian diet.\")\n",
        "# Create a string object. By default, the function breaks sentences by periods.\n",
        "# Customize text or read files as needed\n",
        "\n",
        "# Tokenize the text\n",
        "words = word_tokenize(output)\n",
        "\n",
        "# POS tag the text\n",
        "tag = nltk.pos_tag(words)\n",
        "\n",
        "# Create a tree diagram for chunking\n",
        "tree = nltk.ne_chunk(tag)\n",
        "display(tree)"
      ],
      "metadata": {
        "colab": {
          "base_uri": "https://localhost:8080/",
          "height": 189
        },
        "id": "_5etHS43jL0g",
        "outputId": "6efdcc5b-7211-4673-988e-40b78169d724"
      },
      "execution_count": null,
      "outputs": [
        {
          "output_type": "display_data",
          "data": {
            "text/plain": [
              "Tree('S', [Tree('GPE', [('Apple', 'NNP')]), (\"'s\", 'POS'), ('name', 'NN'), ('was', 'VBD'), ('inspired', 'VBN'), ('by', 'IN'), Tree('PERSON', [('Steve', 'NNP'), ('Jobs', 'NNP')]), (\"'\", 'POS'), ('visits', 'NNS'), ('.', '.'), ('His', 'PRP$'), ('visits', 'NNS'), ('was', 'VBD'), ('to', 'TO'), ('an', 'DT'), ('apple', 'NN'), ('farm', 'NN'), ('while', 'IN'), ('on', 'IN'), ('a', 'DT'), ('fruitarian', 'JJ'), ('diet', 'NN'), ('.', '.')])"
            ],
            "image/svg+xml": "<svg baseProfile=\"full\" height=\"168px\" preserveAspectRatio=\"xMidYMid meet\" style=\"font-family: times, serif; font-weight:normal; font-style: normal; font-size: 16px;\" version=\"1.1\" viewBox=\"0,0,1136.0,168.0\" width=\"1136px\" xmlns=\"http://www.w3.org/2000/svg\" xmlns:ev=\"http://www.w3.org/2001/xml-events\" xmlns:xlink=\"http://www.w3.org/1999/xlink\"><defs /><svg width=\"100%\" x=\"0\" y=\"0em\"><defs /><text text-anchor=\"middle\" x=\"50%\" y=\"1em\">S</text></svg><svg width=\"4.92958%\" x=\"0%\" y=\"3em\"><defs /><svg width=\"100%\" x=\"0\" y=\"0em\"><defs /><text text-anchor=\"middle\" x=\"50%\" y=\"1em\">GPE</text></svg><svg width=\"100%\" x=\"0%\" y=\"3em\"><defs /><svg width=\"100%\" x=\"0\" y=\"0em\"><defs /><text text-anchor=\"middle\" x=\"50%\" y=\"1em\">Apple</text></svg><svg width=\"100%\" x=\"0%\" y=\"3em\"><defs /><svg width=\"100%\" x=\"0\" y=\"0em\"><defs /><text text-anchor=\"middle\" x=\"50%\" y=\"1em\">NNP</text></svg></svg><line stroke=\"black\" x1=\"50%\" x2=\"50%\" y1=\"1.2em\" y2=\"3em\" /></svg><line stroke=\"black\" x1=\"50%\" x2=\"50%\" y1=\"1.2em\" y2=\"3em\" /></svg><line stroke=\"black\" x1=\"50%\" x2=\"2.46479%\" y1=\"1.2em\" y2=\"3em\" /><svg width=\"3.52113%\" x=\"4.92958%\" y=\"3em\"><defs /><svg width=\"100%\" x=\"0\" y=\"0em\"><defs /><text text-anchor=\"middle\" x=\"50%\" y=\"1em\">'s</text></svg><svg width=\"100%\" x=\"0%\" y=\"3em\"><defs /><svg width=\"100%\" x=\"0\" y=\"0em\"><defs /><text text-anchor=\"middle\" x=\"50%\" y=\"1em\">POS</text></svg></svg><line stroke=\"black\" x1=\"50%\" x2=\"50%\" y1=\"1.2em\" y2=\"3em\" /></svg><line stroke=\"black\" x1=\"50%\" x2=\"6.69014%\" y1=\"1.2em\" y2=\"3em\" /><svg width=\"4.22535%\" x=\"8.4507%\" y=\"3em\"><defs /><svg width=\"100%\" x=\"0\" y=\"0em\"><defs /><text text-anchor=\"middle\" x=\"50%\" y=\"1em\">name</text></svg><svg width=\"100%\" x=\"0%\" y=\"3em\"><defs /><svg width=\"100%\" x=\"0\" y=\"0em\"><defs /><text text-anchor=\"middle\" x=\"50%\" y=\"1em\">NN</text></svg></svg><line stroke=\"black\" x1=\"50%\" x2=\"50%\" y1=\"1.2em\" y2=\"3em\" /></svg><line stroke=\"black\" x1=\"50%\" x2=\"10.5634%\" y1=\"1.2em\" y2=\"3em\" /><svg width=\"3.52113%\" x=\"12.6761%\" y=\"3em\"><defs /><svg width=\"100%\" x=\"0\" y=\"0em\"><defs /><text text-anchor=\"middle\" x=\"50%\" y=\"1em\">was</text></svg><svg width=\"100%\" x=\"0%\" y=\"3em\"><defs /><svg width=\"100%\" x=\"0\" y=\"0em\"><defs /><text text-anchor=\"middle\" x=\"50%\" y=\"1em\">VBD</text></svg></svg><line stroke=\"black\" x1=\"50%\" x2=\"50%\" y1=\"1.2em\" y2=\"3em\" /></svg><line stroke=\"black\" x1=\"50%\" x2=\"14.4366%\" y1=\"1.2em\" y2=\"3em\" /><svg width=\"7.04225%\" x=\"16.1972%\" y=\"3em\"><defs /><svg width=\"100%\" x=\"0\" y=\"0em\"><defs /><text text-anchor=\"middle\" x=\"50%\" y=\"1em\">inspired</text></svg><svg width=\"100%\" x=\"0%\" y=\"3em\"><defs /><svg width=\"100%\" x=\"0\" y=\"0em\"><defs /><text text-anchor=\"middle\" x=\"50%\" y=\"1em\">VBN</text></svg></svg><line stroke=\"black\" x1=\"50%\" x2=\"50%\" y1=\"1.2em\" y2=\"3em\" /></svg><line stroke=\"black\" x1=\"50%\" x2=\"19.7183%\" y1=\"1.2em\" y2=\"3em\" /><svg width=\"2.8169%\" x=\"23.2394%\" y=\"3em\"><defs /><svg width=\"100%\" x=\"0\" y=\"0em\"><defs /><text text-anchor=\"middle\" x=\"50%\" y=\"1em\">by</text></svg><svg width=\"100%\" x=\"0%\" y=\"3em\"><defs /><svg width=\"100%\" x=\"0\" y=\"0em\"><defs /><text text-anchor=\"middle\" x=\"50%\" y=\"1em\">IN</text></svg></svg><line stroke=\"black\" x1=\"50%\" x2=\"50%\" y1=\"1.2em\" y2=\"3em\" /></svg><line stroke=\"black\" x1=\"50%\" x2=\"24.6479%\" y1=\"1.2em\" y2=\"3em\" /><svg width=\"9.15493%\" x=\"26.0563%\" y=\"3em\"><defs /><svg width=\"100%\" x=\"0\" y=\"0em\"><defs /><text text-anchor=\"middle\" x=\"50%\" y=\"1em\">PERSON</text></svg><svg width=\"53.8462%\" x=\"0%\" y=\"3em\"><defs /><svg width=\"100%\" x=\"0\" y=\"0em\"><defs /><text text-anchor=\"middle\" x=\"50%\" y=\"1em\">Steve</text></svg><svg width=\"100%\" x=\"0%\" y=\"3em\"><defs /><svg width=\"100%\" x=\"0\" y=\"0em\"><defs /><text text-anchor=\"middle\" x=\"50%\" y=\"1em\">NNP</text></svg></svg><line stroke=\"black\" x1=\"50%\" x2=\"50%\" y1=\"1.2em\" y2=\"3em\" /></svg><line stroke=\"black\" x1=\"50%\" x2=\"26.9231%\" y1=\"1.2em\" y2=\"3em\" /><svg width=\"46.1538%\" x=\"53.8462%\" y=\"3em\"><defs /><svg width=\"100%\" x=\"0\" y=\"0em\"><defs /><text text-anchor=\"middle\" x=\"50%\" y=\"1em\">Jobs</text></svg><svg width=\"100%\" x=\"0%\" y=\"3em\"><defs /><svg width=\"100%\" x=\"0\" y=\"0em\"><defs /><text text-anchor=\"middle\" x=\"50%\" y=\"1em\">NNP</text></svg></svg><line stroke=\"black\" x1=\"50%\" x2=\"50%\" y1=\"1.2em\" y2=\"3em\" /></svg><line stroke=\"black\" x1=\"50%\" x2=\"76.9231%\" y1=\"1.2em\" y2=\"3em\" /></svg><line stroke=\"black\" x1=\"50%\" x2=\"30.6338%\" y1=\"1.2em\" y2=\"3em\" /><svg width=\"3.52113%\" x=\"35.2113%\" y=\"3em\"><defs /><svg width=\"100%\" x=\"0\" y=\"0em\"><defs /><text text-anchor=\"middle\" x=\"50%\" y=\"1em\">'</text></svg><svg width=\"100%\" x=\"0%\" y=\"3em\"><defs /><svg width=\"100%\" x=\"0\" y=\"0em\"><defs /><text text-anchor=\"middle\" x=\"50%\" y=\"1em\">POS</text></svg></svg><line stroke=\"black\" x1=\"50%\" x2=\"50%\" y1=\"1.2em\" y2=\"3em\" /></svg><line stroke=\"black\" x1=\"50%\" x2=\"36.9718%\" y1=\"1.2em\" y2=\"3em\" /><svg width=\"5.6338%\" x=\"38.7324%\" y=\"3em\"><defs /><svg width=\"100%\" x=\"0\" y=\"0em\"><defs /><text text-anchor=\"middle\" x=\"50%\" y=\"1em\">visits</text></svg><svg width=\"100%\" x=\"0%\" y=\"3em\"><defs /><svg width=\"100%\" x=\"0\" y=\"0em\"><defs /><text text-anchor=\"middle\" x=\"50%\" y=\"1em\">NNS</text></svg></svg><line stroke=\"black\" x1=\"50%\" x2=\"50%\" y1=\"1.2em\" y2=\"3em\" /></svg><line stroke=\"black\" x1=\"50%\" x2=\"41.5493%\" y1=\"1.2em\" y2=\"3em\" /><svg width=\"2.11268%\" x=\"44.3662%\" y=\"3em\"><defs /><svg width=\"100%\" x=\"0\" y=\"0em\"><defs /><text text-anchor=\"middle\" x=\"50%\" y=\"1em\">.</text></svg><svg width=\"100%\" x=\"0%\" y=\"3em\"><defs /><svg width=\"100%\" x=\"0\" y=\"0em\"><defs /><text text-anchor=\"middle\" x=\"50%\" y=\"1em\">.</text></svg></svg><line stroke=\"black\" x1=\"50%\" x2=\"50%\" y1=\"1.2em\" y2=\"3em\" /></svg><line stroke=\"black\" x1=\"50%\" x2=\"45.4225%\" y1=\"1.2em\" y2=\"3em\" /><svg width=\"4.22535%\" x=\"46.4789%\" y=\"3em\"><defs /><svg width=\"100%\" x=\"0\" y=\"0em\"><defs /><text text-anchor=\"middle\" x=\"50%\" y=\"1em\">His</text></svg><svg width=\"100%\" x=\"0%\" y=\"3em\"><defs /><svg width=\"100%\" x=\"0\" y=\"0em\"><defs /><text text-anchor=\"middle\" x=\"50%\" y=\"1em\">PRP$</text></svg></svg><line stroke=\"black\" x1=\"50%\" x2=\"50%\" y1=\"1.2em\" y2=\"3em\" /></svg><line stroke=\"black\" x1=\"50%\" x2=\"48.5915%\" y1=\"1.2em\" y2=\"3em\" /><svg width=\"5.6338%\" x=\"50.7042%\" y=\"3em\"><defs /><svg width=\"100%\" x=\"0\" y=\"0em\"><defs /><text text-anchor=\"middle\" x=\"50%\" y=\"1em\">visits</text></svg><svg width=\"100%\" x=\"0%\" y=\"3em\"><defs /><svg width=\"100%\" x=\"0\" y=\"0em\"><defs /><text text-anchor=\"middle\" x=\"50%\" y=\"1em\">NNS</text></svg></svg><line stroke=\"black\" x1=\"50%\" x2=\"50%\" y1=\"1.2em\" y2=\"3em\" /></svg><line stroke=\"black\" x1=\"50%\" x2=\"53.5211%\" y1=\"1.2em\" y2=\"3em\" /><svg width=\"3.52113%\" x=\"56.338%\" y=\"3em\"><defs /><svg width=\"100%\" x=\"0\" y=\"0em\"><defs /><text text-anchor=\"middle\" x=\"50%\" y=\"1em\">was</text></svg><svg width=\"100%\" x=\"0%\" y=\"3em\"><defs /><svg width=\"100%\" x=\"0\" y=\"0em\"><defs /><text text-anchor=\"middle\" x=\"50%\" y=\"1em\">VBD</text></svg></svg><line stroke=\"black\" x1=\"50%\" x2=\"50%\" y1=\"1.2em\" y2=\"3em\" /></svg><line stroke=\"black\" x1=\"50%\" x2=\"58.0986%\" y1=\"1.2em\" y2=\"3em\" /><svg width=\"2.8169%\" x=\"59.8592%\" y=\"3em\"><defs /><svg width=\"100%\" x=\"0\" y=\"0em\"><defs /><text text-anchor=\"middle\" x=\"50%\" y=\"1em\">to</text></svg><svg width=\"100%\" x=\"0%\" y=\"3em\"><defs /><svg width=\"100%\" x=\"0\" y=\"0em\"><defs /><text text-anchor=\"middle\" x=\"50%\" y=\"1em\">TO</text></svg></svg><line stroke=\"black\" x1=\"50%\" x2=\"50%\" y1=\"1.2em\" y2=\"3em\" /></svg><line stroke=\"black\" x1=\"50%\" x2=\"61.2676%\" y1=\"1.2em\" y2=\"3em\" /><svg width=\"2.8169%\" x=\"62.6761%\" y=\"3em\"><defs /><svg width=\"100%\" x=\"0\" y=\"0em\"><defs /><text text-anchor=\"middle\" x=\"50%\" y=\"1em\">an</text></svg><svg width=\"100%\" x=\"0%\" y=\"3em\"><defs /><svg width=\"100%\" x=\"0\" y=\"0em\"><defs /><text text-anchor=\"middle\" x=\"50%\" y=\"1em\">DT</text></svg></svg><line stroke=\"black\" x1=\"50%\" x2=\"50%\" y1=\"1.2em\" y2=\"3em\" /></svg><line stroke=\"black\" x1=\"50%\" x2=\"64.0845%\" y1=\"1.2em\" y2=\"3em\" /><svg width=\"4.92958%\" x=\"65.493%\" y=\"3em\"><defs /><svg width=\"100%\" x=\"0\" y=\"0em\"><defs /><text text-anchor=\"middle\" x=\"50%\" y=\"1em\">apple</text></svg><svg width=\"100%\" x=\"0%\" y=\"3em\"><defs /><svg width=\"100%\" x=\"0\" y=\"0em\"><defs /><text text-anchor=\"middle\" x=\"50%\" y=\"1em\">NN</text></svg></svg><line stroke=\"black\" x1=\"50%\" x2=\"50%\" y1=\"1.2em\" y2=\"3em\" /></svg><line stroke=\"black\" x1=\"50%\" x2=\"67.9577%\" y1=\"1.2em\" y2=\"3em\" /><svg width=\"4.22535%\" x=\"70.4225%\" y=\"3em\"><defs /><svg width=\"100%\" x=\"0\" y=\"0em\"><defs /><text text-anchor=\"middle\" x=\"50%\" y=\"1em\">farm</text></svg><svg width=\"100%\" x=\"0%\" y=\"3em\"><defs /><svg width=\"100%\" x=\"0\" y=\"0em\"><defs /><text text-anchor=\"middle\" x=\"50%\" y=\"1em\">NN</text></svg></svg><line stroke=\"black\" x1=\"50%\" x2=\"50%\" y1=\"1.2em\" y2=\"3em\" /></svg><line stroke=\"black\" x1=\"50%\" x2=\"72.5352%\" y1=\"1.2em\" y2=\"3em\" /><svg width=\"4.92958%\" x=\"74.6479%\" y=\"3em\"><defs /><svg width=\"100%\" x=\"0\" y=\"0em\"><defs /><text text-anchor=\"middle\" x=\"50%\" y=\"1em\">while</text></svg><svg width=\"100%\" x=\"0%\" y=\"3em\"><defs /><svg width=\"100%\" x=\"0\" y=\"0em\"><defs /><text text-anchor=\"middle\" x=\"50%\" y=\"1em\">IN</text></svg></svg><line stroke=\"black\" x1=\"50%\" x2=\"50%\" y1=\"1.2em\" y2=\"3em\" /></svg><line stroke=\"black\" x1=\"50%\" x2=\"77.1127%\" y1=\"1.2em\" y2=\"3em\" /><svg width=\"2.8169%\" x=\"79.5775%\" y=\"3em\"><defs /><svg width=\"100%\" x=\"0\" y=\"0em\"><defs /><text text-anchor=\"middle\" x=\"50%\" y=\"1em\">on</text></svg><svg width=\"100%\" x=\"0%\" y=\"3em\"><defs /><svg width=\"100%\" x=\"0\" y=\"0em\"><defs /><text text-anchor=\"middle\" x=\"50%\" y=\"1em\">IN</text></svg></svg><line stroke=\"black\" x1=\"50%\" x2=\"50%\" y1=\"1.2em\" y2=\"3em\" /></svg><line stroke=\"black\" x1=\"50%\" x2=\"80.9859%\" y1=\"1.2em\" y2=\"3em\" /><svg width=\"2.8169%\" x=\"82.3944%\" y=\"3em\"><defs /><svg width=\"100%\" x=\"0\" y=\"0em\"><defs /><text text-anchor=\"middle\" x=\"50%\" y=\"1em\">a</text></svg><svg width=\"100%\" x=\"0%\" y=\"3em\"><defs /><svg width=\"100%\" x=\"0\" y=\"0em\"><defs /><text text-anchor=\"middle\" x=\"50%\" y=\"1em\">DT</text></svg></svg><line stroke=\"black\" x1=\"50%\" x2=\"50%\" y1=\"1.2em\" y2=\"3em\" /></svg><line stroke=\"black\" x1=\"50%\" x2=\"83.8028%\" y1=\"1.2em\" y2=\"3em\" /><svg width=\"8.4507%\" x=\"85.2113%\" y=\"3em\"><defs /><svg width=\"100%\" x=\"0\" y=\"0em\"><defs /><text text-anchor=\"middle\" x=\"50%\" y=\"1em\">fruitarian</text></svg><svg width=\"100%\" x=\"0%\" y=\"3em\"><defs /><svg width=\"100%\" x=\"0\" y=\"0em\"><defs /><text text-anchor=\"middle\" x=\"50%\" y=\"1em\">JJ</text></svg></svg><line stroke=\"black\" x1=\"50%\" x2=\"50%\" y1=\"1.2em\" y2=\"3em\" /></svg><line stroke=\"black\" x1=\"50%\" x2=\"89.4366%\" y1=\"1.2em\" y2=\"3em\" /><svg width=\"4.22535%\" x=\"93.662%\" y=\"3em\"><defs /><svg width=\"100%\" x=\"0\" y=\"0em\"><defs /><text text-anchor=\"middle\" x=\"50%\" y=\"1em\">diet</text></svg><svg width=\"100%\" x=\"0%\" y=\"3em\"><defs /><svg width=\"100%\" x=\"0\" y=\"0em\"><defs /><text text-anchor=\"middle\" x=\"50%\" y=\"1em\">NN</text></svg></svg><line stroke=\"black\" x1=\"50%\" x2=\"50%\" y1=\"1.2em\" y2=\"3em\" /></svg><line stroke=\"black\" x1=\"50%\" x2=\"95.7746%\" y1=\"1.2em\" y2=\"3em\" /><svg width=\"2.11268%\" x=\"97.8873%\" y=\"3em\"><defs /><svg width=\"100%\" x=\"0\" y=\"0em\"><defs /><text text-anchor=\"middle\" x=\"50%\" y=\"1em\">.</text></svg><svg width=\"100%\" x=\"0%\" y=\"3em\"><defs /><svg width=\"100%\" x=\"0\" y=\"0em\"><defs /><text text-anchor=\"middle\" x=\"50%\" y=\"1em\">.</text></svg></svg><line stroke=\"black\" x1=\"50%\" x2=\"50%\" y1=\"1.2em\" y2=\"3em\" /></svg><line stroke=\"black\" x1=\"50%\" x2=\"98.9437%\" y1=\"1.2em\" y2=\"3em\" /></svg>"
          },
          "metadata": {}
        }
      ]
    },
    {
      "cell_type": "markdown",
      "source": [
        "<div class=\"markdown-google-sans\">\n",
        "\n",
        "# **References (Additional Resources)**\n",
        "</div>\n",
        "\n",
        "[Real Python](https://realpython.com/nltk-nlp-python/#chunking)\n",
        "\n",
        "[nltk.org](https://www.nltk.org/)\n",
        "\n",
        "[nltk book chapter 7](https://www.nltk.org/book/ch07.html#noun-phrase-chunking)\n",
        "\n",
        "\n",
        "\n"
      ],
      "metadata": {
        "id": "iGRBN617mMYS"
      }
    }
  ],
  "metadata": {
    "colab": {
      "provenance": []
    },
    "kernelspec": {
      "display_name": "Python 3",
      "name": "python3"
    }
  },
  "nbformat": 4,
  "nbformat_minor": 0
}