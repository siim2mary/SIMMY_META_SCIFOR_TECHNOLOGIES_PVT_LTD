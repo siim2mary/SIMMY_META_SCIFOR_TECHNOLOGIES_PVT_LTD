{
 "cells": [
  {
   "cell_type": "markdown",
   "id": "6e409d03",
   "metadata": {},
   "source": [
    "# Write a program to chek if the number is positive ,negative or not"
   ]
  },
  {
   "cell_type": "markdown",
   "id": "99c82fe5",
   "metadata": {},
   "source": [
    "IF-ELSE"
   ]
  },
  {
   "cell_type": "code",
   "execution_count": 9,
   "id": "be2bb915",
   "metadata": {},
   "outputs": [
    {
     "name": "stdout",
     "output_type": "stream",
     "text": [
      "negative\n",
      "False\n"
     ]
    }
   ],
   "source": [
    "def check(num):\n",
    "    if num > 0:\n",
    "        print(\"positive\")\n",
    "        return True\n",
    "    else:\n",
    "        if num < 0:\n",
    "            print(\"negative\")\n",
    "        else:\n",
    "            print(\"Not positive or negative\")\n",
    "    return False\n",
    "\n",
    "no = -35\n",
    "res = check(no)\n",
    "print(res)\n"
   ]
  },
  {
   "cell_type": "markdown",
   "id": "857dd2ad",
   "metadata": {},
   "source": [
    "# Write a program to find the Grade of Scores"
   ]
  },
  {
   "cell_type": "code",
   "execution_count": 12,
   "id": "1bdbd17f",
   "metadata": {},
   "outputs": [
    {
     "name": "stdout",
     "output_type": "stream",
     "text": [
      "The grade of 92 is A\n"
     ]
    }
   ],
   "source": [
    "def gradeof(score):\n",
    "    if score >= 90:\n",
    "        grade = 'A'\n",
    "    elif score >=80:\n",
    "        grade = 'B'\n",
    "    elif score >=70:\n",
    "        grade = 'C'\n",
    "    elif score >=60:\n",
    "        grade = 'D'\n",
    "    else:\n",
    "        grade = 'F'\n",
    "        \n",
    "    return grade\n",
    "\n",
    "a = 92\n",
    "\n",
    "res = gradeof(a)\n",
    "\n",
    "print(f'The grade of {a} is {res}')"
   ]
  },
  {
   "cell_type": "markdown",
   "id": "e7676c4c",
   "metadata": {},
   "source": [
    "# Write a program to find the numer is odd or even"
   ]
  },
  {
   "cell_type": "code",
   "execution_count": 30,
   "id": "0226dcf5",
   "metadata": {},
   "outputs": [
    {
     "name": "stdout",
     "output_type": "stream",
     "text": [
      "f{n} is an odd number\n",
      "True\n"
     ]
    }
   ],
   "source": [
    "def oddeve(num):\n",
    "    if num%2!=0:\n",
    "        print('f{n} is an odd number')\n",
    "        return True\n",
    "    else:\n",
    "        print(n, \"It's an Even number\")\n",
    "        return True\n",
    "l = 33\n",
    "res = oddeve(l)\n",
    "print(res)\n",
    "              \n"
   ]
  },
  {
   "cell_type": "code",
   "execution_count": 36,
   "id": "ab6f6c70",
   "metadata": {},
   "outputs": [
    {
     "name": "stdout",
     "output_type": "stream",
     "text": [
      "Enter the num5\n",
      "5 is odd\n",
      "True\n"
     ]
    }
   ],
   "source": [
    "def oddeve(num):\n",
    "    if num%2!=0:\n",
    "        print(num,\"is odd\")\n",
    "    else:\n",
    "        print(num,\"is even\")\n",
    "    return True\n",
    "a = int(input(\"Enter the num\"))\n",
    "res = oddeve(a)\n",
    "print(res)"
   ]
  },
  {
   "cell_type": "code",
   "execution_count": null,
   "id": "a69dc300",
   "metadata": {},
   "outputs": [],
   "source": []
  }
 ],
 "metadata": {
  "kernelspec": {
   "display_name": "Python 3 (ipykernel)",
   "language": "python",
   "name": "python3"
  },
  "language_info": {
   "codemirror_mode": {
    "name": "ipython",
    "version": 3
   },
   "file_extension": ".py",
   "mimetype": "text/x-python",
   "name": "python",
   "nbconvert_exporter": "python",
   "pygments_lexer": "ipython3",
   "version": "3.9.13"
  }
 },
 "nbformat": 4,
 "nbformat_minor": 5
}
