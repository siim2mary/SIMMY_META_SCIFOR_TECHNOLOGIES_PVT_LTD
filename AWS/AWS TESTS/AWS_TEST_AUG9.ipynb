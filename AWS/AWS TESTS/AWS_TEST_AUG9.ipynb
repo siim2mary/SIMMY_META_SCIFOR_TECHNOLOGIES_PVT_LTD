{
  "nbformat": 4,
  "nbformat_minor": 0,
  "metadata": {
    "colab": {
      "provenance": []
    },
    "kernelspec": {
      "name": "python3",
      "display_name": "Python 3"
    },
    "language_info": {
      "name": "python"
    }
  },
  "cells": [
    {
      "cell_type": "markdown",
      "source": [
        "# **AWS TEST**\n",
        "\n",
        "---\n",
        "\n"
      ],
      "metadata": {
        "id": "vUjZe6r_npNQ"
      }
    },
    {
      "cell_type": "code",
      "execution_count": 12,
      "metadata": {
        "id": "iSnO12KBRshG"
      },
      "outputs": [],
      "source": [
        "#1.What is AWS?"
      ]
    },
    {
      "cell_type": "markdown",
      "source": [
        "AWS is a cloud computing service offered by Amazon\n",
        "\n",
        "used for:\n",
        "\n",
        "computing\n",
        "store databases\n",
        "used in business for computational efficiency Manage infrastructure"
      ],
      "metadata": {
        "id": "PW_iIJ-TTA4W"
      }
    },
    {
      "cell_type": "code",
      "source": [
        "#2.Describe what AWS is and its significance in cloud computing.\n"
      ],
      "metadata": {
        "id": "sLJfP7HTTj8I"
      },
      "execution_count": 1,
      "outputs": []
    },
    {
      "cell_type": "markdown",
      "source": [
        "AWS is a cloud computing platform of Amazon .Its full form is Amazon Web Servies.\n",
        "\n",
        "It provides platform for computing,storage, handle Databases, servers, Analytics, Machine Learning etc.\n",
        "\n",
        "It has the ability to provide services that are\n",
        "\n",
        "\n",
        "*   Scalalble\n",
        "*   cost effective\n",
        "*   Flexible computing resources irrespective of the business type.\n",
        "*   secure\n",
        "\n",
        "\n"
      ],
      "metadata": {
        "id": "ScBislzTUAZl"
      }
    },
    {
      "cell_type": "code",
      "source": [
        "#3.Explain the key components of AWS architecture."
      ],
      "metadata": {
        "id": "4HbB1PlHVALY"
      },
      "execution_count": 2,
      "outputs": []
    },
    {
      "cell_type": "markdown",
      "source": [
        "The key components of AWS are\n",
        "\n",
        "1. VPC-VIRTUAL PRIVATE CLOUD:\n",
        "    Provides virtual platform (secure environment)or cloud to deploy resources\n",
        "\n",
        "2. EC2 instances- ELASTIC CLOUD COMPUTE:\n",
        "        Virtual servers for running Application.\n",
        "\n",
        "3. s3 -STORAGE DEVICES(EBS):\n",
        "        For storing objects or any kind of datatypes\n",
        "\n",
        "4.RDS- RELATIONAL DATABASE SERVICE:\n",
        "        For Manging different Databases(eg:SQL,DynamoDB)\n",
        "\n",
        "5. IAM -IDENTITY AUTHORISATION AND MANAGEMENT:\n",
        "        Access control and user management.\n",
        "\n",
        "REGIONS AND ZONES:\n",
        "\n",
        "It provide services based on regions also.\n",
        "\n",
        "\n",
        "\n"
      ],
      "metadata": {
        "id": "THy8wOpwUvI9"
      }
    },
    {
      "cell_type": "code",
      "source": [
        "#4.Discuss services like EC2, S3, RDS, and IAM."
      ],
      "metadata": {
        "id": "j0h0YrZyWoOk"
      },
      "execution_count": 3,
      "outputs": []
    },
    {
      "cell_type": "markdown",
      "source": [
        "EC2(ELASTIC CLOUD COMPUTE):\n",
        "      It is a virtual server for computing resources.Its Resizable.\n",
        "\n",
        "s3(SIMPLE STORAGE DEVICE):\n",
        "      It is used to store different objects .It is scalable.\n",
        "\n",
        "RDS(RELATIONAL DATABASE SERVICE):\n",
        "      It is used to manage services for Relational databases.\n",
        "\n",
        "IAM(IDENTITY ACCESS MANAGEMENT):\n",
        "      Manages access and permissions.It provides high Security and Identity Management.\n",
        "\n"
      ],
      "metadata": {
        "id": "k9-9CSNwWfJe"
      }
    },
    {
      "cell_type": "code",
      "source": [
        "#5.What are the benefits of using cloud computing with AWS?"
      ],
      "metadata": {
        "id": "bYgLLgAyYvuc"
      },
      "execution_count": 5,
      "outputs": []
    },
    {
      "cell_type": "markdown",
      "source": [
        "The benefits of cloud computing with AWS include:\n",
        "\n",
        "1:  cost effective:-\n",
        "      Pay only for what you use.\n",
        "\n",
        "2:  Scalability:-\n",
        "      Adjust resources based on demand.\n",
        "\n",
        "3:  Flexibility:-\n",
        "      Wide range of services and configurations\n",
        "\n",
        "4:  security:-\n",
        "      Advanced security features."
      ],
      "metadata": {
        "id": "dowqYu1UY0mV"
      }
    },
    {
      "cell_type": "code",
      "source": [
        "#6.Focus on scalability, flexibility, cost-efficiency, and security."
      ],
      "metadata": {
        "id": "iS1rG3iFZpVn"
      },
      "execution_count": 4,
      "outputs": []
    },
    {
      "cell_type": "markdown",
      "source": [
        "Scalability:\n",
        "      Automatic adjustment of resources on demand.\n",
        "\n",
        "      eg: AMAZON EC2(ELASTIC COMPUTING CLOUD) - ALLOWS BUSINESS TO SCALE COMPUTING SERVICES UP AND DOWN AS NEEDED.\n",
        "      AMAZON RDS(RELATIONAL DATABASE SERVICE) - AUTOMATICALLY SCALES DATABASE STORAGE AND COMPUTING RESOURCES.\n",
        "      AMAZON DYNAMODB: SCALES TO HANDLE LARGE DATA AND TRAFFIC.\n",
        "\n",
        "Flexibility:\n",
        "      Extensive flexibility with wide range of service and computations.\n",
        "\n",
        "      eg: AWS LAMBDA - SUPPORTS MULTIPLE PROGRAMMING LANGUAGES INCLUDING NODE,PYTHON,JAVA.\n",
        "      AMAZON EC2 - SUPPORTS WIDE RANGE OF INSTANCES OR OBJECTS AND OPERATING SYSTEMS.\n",
        "      AMAZON S3 - SUPPORTS WIDE RANGE OF DATA FORMATS AND STORAGE CLASSES.\n",
        "\n",
        "Cost Effeciency:\n",
        "      Eliminates Upfront costs.\n",
        "\n",
        "      eg: AMAZON EC2 RESESRVED INSTANCE - PROVIDE DISCOUNT RATES FOR COMMITTED USAGE.\n",
        "      AMAZON S3 - PROVIDE STORAGE PRICICNG IN TIER AND LIFECYCLE\n",
        "      AWS COST EXPLORER - TO TRACK AWS COST.\n",
        "\n",
        "Security:\n",
        "      Provide data encryption,network firewall\n",
        "\n",
        "      eg: AWS IDENTITY AND ACCESS MANAGEMENT(IAM) - PROVIDES SECURE ACCESS AND IDENTITY MANAGEMENT.\n",
        "\n",
        "      AWS VPC(VIRTUAL PRIVATE CLOUD) - CREATE ISOLATED NETWORK FOR DIFFERENT BUSINESS.\n",
        "\n",
        "      AWS KEY MANAGEMENT(KWM) - PROVIDE SEPARATE KEYS FOR ENCRYPTION.\n",
        "\n"
      ],
      "metadata": {
        "id": "ZelLU8vaZ26T"
      }
    },
    {
      "cell_type": "code",
      "source": [
        "#7.How does AWS pricing work?"
      ],
      "metadata": {
        "id": "9A8svOfodwpM"
      },
      "execution_count": 6,
      "outputs": []
    },
    {
      "cell_type": "markdown",
      "source": [
        "AWS PRICING IS BASED ON:\n",
        "\n",
        "Pay as you go Model:\n",
        "          Pay only for the resources you use.\n",
        "\n",
        "ON demand pricing:\n",
        "          pay for hour or second without any committments.\n",
        "\n",
        "Reserved Instances:\n",
        "          Discounted Rates for committed usage.\n",
        "\n",
        "Free Tier:\n",
        "          Limited free access to new users.\n",
        "\n",
        "          "
      ],
      "metadata": {
        "id": "H7X9-YxQd0Qr"
      }
    },
    {
      "cell_type": "code",
      "source": [
        "#8.Explain the pay-as-you-go model, reserved instances, and free tier."
      ],
      "metadata": {
        "id": "OwZmIQmKeof8"
      },
      "execution_count": null,
      "outputs": []
    },
    {
      "cell_type": "markdown",
      "source": [
        "PAY-AS-YOU-GO-MODEL:\n",
        "          Pay only for the resources you use.\n",
        "          Charges based on usuage of resources such as hours used,data transfered, storage used.\n",
        "          eg: AMAZON EC2 - pay for hour for compute instances\n",
        "              AMAZON S3 - Pay for GB for storage and data transfer.\n",
        "              Amazon dynamoDB - Pay per hour for database capacity,data transfered.\n",
        "\n",
        "RESERVED INSTANCES:\n",
        "        Dicounted rates for committed instances.\n",
        "        It may be for 1 or 3 year term.\n",
        "        cost saving\n",
        "        eg: AMAZON EC2 - Reserve compute instances for 1 or 3 year term\n",
        "            Amazon RDS- Reserve database for 1 or 3 -year term\n",
        "            AMAZON REDSHIFT - Reserve datawarehouse for 1 or 3 - year term.\n",
        "\n",
        "FREE TIER TERM:\n",
        "      Free usage for new users.\n",
        "      No committments\n",
        "      eg: AMASON S3 - 5GB FREE STORAGE, Limited data transfer,requests\n",
        "          AMAZON EC2 - 750 HOUR per month free compute time,limited instances\n",
        "          AMAOZON DynamoDB - 25gb free storage,limited read and write.\n",
        "\n",
        "          "
      ],
      "metadata": {
        "id": "iGSUaiQlesmf"
      }
    },
    {
      "cell_type": "code",
      "source": [
        "#9. Explain cloud computing models."
      ],
      "metadata": {
        "id": "zm6-ridOhaWU"
      },
      "execution_count": 7,
      "outputs": []
    },
    {
      "cell_type": "markdown",
      "source": [
        "Different CLOUD COMPUTING MODELS include:\n",
        "\n",
        "IaaS(INFRASTRUCTURE AS SERVICE):\n",
        "      Virtualised computing resources.\n",
        "      eg: EC2,S3\n",
        "\n",
        "PaaS(PLATFORM AS SERVICE):\n",
        "      Platform for management and development.\n",
        "      eg: Elastic Beanstalk.\n",
        "\n",
        "SaaS(SOFTWARE AS A SERVICE):\n",
        "      Software application over internet.\n",
        "      eg: AWS WORKSPACES."
      ],
      "metadata": {
        "id": "Y9o2gJAthepk"
      }
    },
    {
      "cell_type": "code",
      "source": [
        "#10. Explain AWS Snowball"
      ],
      "metadata": {
        "id": "8j-WWcYviZdU"
      },
      "execution_count": 8,
      "outputs": []
    },
    {
      "cell_type": "markdown",
      "source": [
        "AWS Snowball:\n",
        "\n",
        "    used for data transfer services\n",
        "    For moving large amount of data to and from AWS.\n",
        "    using Physical storage devices.\n",
        "    Ideal for terabyte or petabyte data transfer\n",
        "    Secured data transfer it offers."
      ],
      "metadata": {
        "id": "Ftibz8I7idmL"
      }
    },
    {
      "cell_type": "code",
      "source": [
        "#11. Explain Load Balancing"
      ],
      "metadata": {
        "id": "9adQ9OryjI5O"
      },
      "execution_count": 9,
      "outputs": []
    },
    {
      "cell_type": "markdown",
      "source": [
        "LOAD BALANCING:\n",
        "\n",
        "    Used for distributing or managing Traffic\n",
        "    There will be multiple targets or resources.\n",
        "    Offers high relaibility and availability.\n",
        "    High scalability also.\n",
        "    eg: AWS ELASTIC LOAD BALANCING(ELB) - Automatically distributes traffic\n",
        "    scales based on demand.\n"
      ],
      "metadata": {
        "id": "RIKEba4DjTQc"
      }
    },
    {
      "cell_type": "code",
      "source": [
        "#12. Explain Auto Scaling"
      ],
      "metadata": {
        "id": "bXrPXr2rkRDc"
      },
      "execution_count": 10,
      "outputs": []
    },
    {
      "cell_type": "markdown",
      "source": [
        "AUTO SCALING IS A SERVICE:\n",
        "\n",
        "        That automatically adjust resource capacity.\n",
        "        Ensures application Scalability,availability.\n",
        "        Automatically adjust EC2 instances based on demand.\n",
        "        Scales resources up and down.\n",
        "        cost effective.\n",
        "        Ensures Optimal performance.\n",
        "\n"
      ],
      "metadata": {
        "id": "YFkZLP0-kWiM"
      }
    },
    {
      "cell_type": "code",
      "source": [
        "#13. Explain AWS Lambda Service"
      ],
      "metadata": {
        "id": "4a-eoDp9kVRS"
      },
      "execution_count": 11,
      "outputs": []
    },
    {
      "cell_type": "markdown",
      "source": [
        "AWS LAMBDA:\n",
        "\n",
        "      Serverless computing service.\n",
        "      Runs code in response to events.\n",
        "      No management of servers.\n",
        "      Automatically scales based on request volume.\n",
        "      Charges only for compute time.\n",
        "      Can handle large work loads.\n",
        "\n",
        "SERVICES THAT PROVIDE AWS LAMBDA:\n",
        "\n",
        "      COMPUTE SERVICES:\n",
        "            AWS LAMBDA: - RUNS CODE\n",
        "            AWS FARGATE: - RUNS CONTAINERS\n",
        "\n",
        "      EVENT SOURCES:\n",
        "            AMASON S3: - TRIGGER LAMBDA FN BASED ON  OBJECTS\n",
        "            AMAZON DYNAMO DB: - TRIGGER LAMBDA FN BASED ON TABLE UPDATES.\n",
        "            AMAZON KINESIS: - TRIGGER LAMBDA FN BASED ON DATA.\n",
        "\n",
        "    FUNCTION TRIGGERS:\n",
        "            API GATEWAY: - TRIGGER LAMDA FN BASED ON API CALLS.\n",
        "            AMAZON CLOUDWATCH: - TRIGGER LAMBDAS FN BASED ON EVENTS OR METRICS.\n",
        "            AMAZON SNS: - TRIGGERS LAMBDA FN BASED ON NOTIFICATIONS.\n",
        "\n",
        "    USE CASES:\n",
        "\n",
        "    IMAGE PREPROCESSING\n",
        "    REAL TIME DATA PROCESSING\n",
        "    API BACKEND.\n"
      ],
      "metadata": {
        "id": "rKY1XdBzlHIY"
      }
    }
  ]
}